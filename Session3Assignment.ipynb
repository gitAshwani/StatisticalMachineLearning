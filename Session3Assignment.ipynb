{
 "cells": [
  {
   "cell_type": "code",
   "execution_count": 124,
   "id": "dc53f722",
   "metadata": {},
   "outputs": [],
   "source": [
    "#Session 3 Assignment"
   ]
  },
  {
   "cell_type": "code",
   "execution_count": 125,
   "id": "ca4cdc4d",
   "metadata": {},
   "outputs": [],
   "source": [
    "#Exercise 3 (p.198, Chap.5)"
   ]
  },
  {
   "cell_type": "code",
   "execution_count": 126,
   "id": "81924a48",
   "metadata": {},
   "outputs": [],
   "source": [
    "#a.\n",
    "#The k-fold cross validation has a single parameter called k that refers to the number of groups that a given \n",
    "#data sample is to be split into.When a specific value for k is chosen, \n",
    "#it may be used in place of k in the reference to the model, such as k=10 becoming 10-fold cross-validation. \n",
    "#each time 1 fold is considered as a validation set and mean square is computed on the rest all. "
   ]
  },
  {
   "cell_type": "code",
   "execution_count": 127,
   "id": "d6377fa1",
   "metadata": {},
   "outputs": [],
   "source": [
    "#b. i.\n",
    "#K- fold is complex and more slower. So, for slower data, k-fold is better than validation set.\n",
    "#b. ii.\n",
    "#LOOCV should not be used when we have a very large dataset or a computationally expensive model to evaluate. \n",
    "#It is good for smaller data."
   ]
  },
  {
   "cell_type": "code",
   "execution_count": 128,
   "id": "50704089",
   "metadata": {},
   "outputs": [],
   "source": [
    "#Exercise 8 (p.200, Chap.5)"
   ]
  },
  {
   "cell_type": "code",
   "execution_count": 129,
   "id": "57b7c264",
   "metadata": {},
   "outputs": [],
   "source": [
    "#a.\n",
    "set.seed(1)\n",
    "x <- rnorm(100)\n",
    "y <- x - 2*x^2 + rnorm(100)"
   ]
  },
  {
   "cell_type": "code",
   "execution_count": 130,
   "id": "6f4045e0",
   "metadata": {},
   "outputs": [
    {
     "data": {
      "image/png": "[encoded data removed]",
      "text/plain": [
       "plot without title"
      ]
     },
     "metadata": {
      "image/png": {
       "height": 420,
       "width": 420
      }
     },
     "output_type": "display_data"
    }
   ],
   "source": [
    "#b.\n",
    "plot(x, y)"
   ]
  },
  {
   "cell_type": "code",
   "execution_count": 131,
   "id": "3ad01799",
   "metadata": {},
   "outputs": [
    {
     "data": {
      "text/html": [
       "<ol>\n",
       "\t<li>7.28816160667281</li>\n",
       "\t<li>0.937423637615551</li>\n",
       "\t<li>0.95662183010894</li>\n",
       "\t<li>0.953904892744804</li>\n",
       "</ol>\n"
      ],
      "text/latex": [
       "\\begin{enumerate}\n",
       "\\item 7.28816160667281\n",
       "\\item 0.937423637615551\n",
       "\\item 0.95662183010894\n",
       "\\item 0.953904892744804\n",
       "\\end{enumerate}\n"
      ],
      "text/markdown": [
       "1. 7.28816160667281\n",
       "2. 0.937423637615551\n",
       "3. 0.95662183010894\n",
       "4. 0.953904892744804\n",
       "\n",
       "\n"
      ],
      "text/plain": [
       "[[1]]\n",
       "[1] 7.288162\n",
       "\n",
       "[[2]]\n",
       "[1] 0.9374236\n",
       "\n",
       "[[3]]\n",
       "[1] 0.9566218\n",
       "\n",
       "[[4]]\n",
       "[1] 0.9539049\n"
      ]
     },
     "metadata": {},
     "output_type": "display_data"
    }
   ],
   "source": [
    "#part c\n",
    "library(boot) \n",
    "data<-data.frame(x,y)\n",
    "loocvError<-list()\n",
    "\n",
    "set.seed(613)\n",
    "for (i in 1:4) {\n",
    "    model<- glm(y ∼ poly(x, i), data=data)\n",
    "    result<- cv.glm(data, model)\n",
    "    loocvError[i]<-result$delta[1]\n",
    "}\n",
    "\n",
    "loocv_error"
   ]
  },
  {
   "cell_type": "code",
   "execution_count": 132,
   "id": "7a679702",
   "metadata": {},
   "outputs": [
    {
     "data": {
      "text/html": [
       "<ol>\n",
       "\t<li>7.28816160667281</li>\n",
       "\t<li>0.937423637615551</li>\n",
       "\t<li>0.95662183010894</li>\n",
       "\t<li>0.953904892744804</li>\n",
       "</ol>\n"
      ],
      "text/latex": [
       "\\begin{enumerate}\n",
       "\\item 7.28816160667281\n",
       "\\item 0.937423637615551\n",
       "\\item 0.95662183010894\n",
       "\\item 0.953904892744804\n",
       "\\end{enumerate}\n"
      ],
      "text/markdown": [
       "1. 7.28816160667281\n",
       "2. 0.937423637615551\n",
       "3. 0.95662183010894\n",
       "4. 0.953904892744804\n",
       "\n",
       "\n"
      ],
      "text/plain": [
       "[[1]]\n",
       "[1] 7.288162\n",
       "\n",
       "[[2]]\n",
       "[1] 0.9374236\n",
       "\n",
       "[[3]]\n",
       "[1] 0.9566218\n",
       "\n",
       "[[4]]\n",
       "[1] 0.9539049\n"
      ]
     },
     "metadata": {},
     "output_type": "display_data"
    }
   ],
   "source": [
    "#part d\n",
    "data<-data.frame(x,y)\n",
    "loocvError<-list()\n",
    "\n",
    "set.seed(123)\n",
    "for (i in 1:4) {\n",
    "    model<- glm(y ∼ poly(x, i), data=data)\n",
    "    result<- cv.glm(data, model)\n",
    "    loocvError[i]<-result$delta[1]\n",
    "}\n",
    "\n",
    "loocv_error"
   ]
  },
  {
   "cell_type": "code",
   "execution_count": 133,
   "id": "3e6e895f",
   "metadata": {},
   "outputs": [
    {
     "name": "stdout",
     "output_type": "stream",
     "text": [
      "\n",
      "Call:\n",
      "glm(formula = y ~ poly(x, i), data = data)\n",
      "\n",
      "Deviance Residuals: \n",
      "    Min       1Q   Median       3Q      Max  \n",
      "-9.5161  -0.6800   0.6812   1.5491   3.8183  \n",
      "\n",
      "Coefficients:\n",
      "            Estimate Std. Error t value Pr(>|t|)    \n",
      "(Intercept)   -1.550      0.260  -5.961 3.95e-08 ***\n",
      "poly(x, i)     6.189      2.600   2.380   0.0192 *  \n",
      "---\n",
      "Signif. codes:  0 '***' 0.001 '**' 0.01 '*' 0.05 '.' 0.1 ' ' 1\n",
      "\n",
      "(Dispersion parameter for gaussian family taken to be 6.760719)\n",
      "\n",
      "    Null deviance: 700.85  on 99  degrees of freedom\n",
      "Residual deviance: 662.55  on 98  degrees of freedom\n",
      "AIC: 478.88\n",
      "\n",
      "Number of Fisher Scoring iterations: 2\n",
      "\n",
      "\n",
      "Call:\n",
      "glm(formula = y ~ poly(x, i), data = data)\n",
      "\n",
      "Deviance Residuals: \n",
      "    Min       1Q   Median       3Q      Max  \n",
      "-1.9650  -0.6254  -0.1288   0.5803   2.2700  \n",
      "\n",
      "Coefficients:\n",
      "            Estimate Std. Error t value Pr(>|t|)    \n",
      "(Intercept)  -1.5500     0.0958  -16.18  < 2e-16 ***\n",
      "poly(x, i)1   6.1888     0.9580    6.46 4.18e-09 ***\n",
      "poly(x, i)2 -23.9483     0.9580  -25.00  < 2e-16 ***\n",
      "---\n",
      "Signif. codes:  0 '***' 0.001 '**' 0.01 '*' 0.05 '.' 0.1 ' ' 1\n",
      "\n",
      "(Dispersion parameter for gaussian family taken to be 0.9178258)\n",
      "\n",
      "    Null deviance: 700.852  on 99  degrees of freedom\n",
      "Residual deviance:  89.029  on 97  degrees of freedom\n",
      "AIC: 280.17\n",
      "\n",
      "Number of Fisher Scoring iterations: 2\n",
      "\n",
      "\n",
      "Call:\n",
      "glm(formula = y ~ poly(x, i), data = data)\n",
      "\n",
      "Deviance Residuals: \n",
      "    Min       1Q   Median       3Q      Max  \n",
      "-1.9765  -0.6302  -0.1227   0.5545   2.2843  \n",
      "\n",
      "Coefficients:\n",
      "             Estimate Std. Error t value Pr(>|t|)    \n",
      "(Intercept)  -1.55002    0.09626 -16.102  < 2e-16 ***\n",
      "poly(x, i)1   6.18883    0.96263   6.429 4.97e-09 ***\n",
      "poly(x, i)2 -23.94830    0.96263 -24.878  < 2e-16 ***\n",
      "poly(x, i)3   0.26411    0.96263   0.274    0.784    \n",
      "---\n",
      "Signif. codes:  0 '***' 0.001 '**' 0.01 '*' 0.05 '.' 0.1 ' ' 1\n",
      "\n",
      "(Dispersion parameter for gaussian family taken to be 0.9266599)\n",
      "\n",
      "    Null deviance: 700.852  on 99  degrees of freedom\n",
      "Residual deviance:  88.959  on 96  degrees of freedom\n",
      "AIC: 282.09\n",
      "\n",
      "Number of Fisher Scoring iterations: 2\n",
      "\n",
      "\n",
      "Call:\n",
      "glm(formula = y ~ poly(x, i), data = data)\n",
      "\n",
      "Deviance Residuals: \n",
      "    Min       1Q   Median       3Q      Max  \n",
      "-2.0550  -0.6212  -0.1567   0.5952   2.2267  \n",
      "\n",
      "Coefficients:\n",
      "             Estimate Std. Error t value Pr(>|t|)    \n",
      "(Intercept)  -1.55002    0.09591 -16.162  < 2e-16 ***\n",
      "poly(x, i)1   6.18883    0.95905   6.453 4.59e-09 ***\n",
      "poly(x, i)2 -23.94830    0.95905 -24.971  < 2e-16 ***\n",
      "poly(x, i)3   0.26411    0.95905   0.275    0.784    \n",
      "poly(x, i)4   1.25710    0.95905   1.311    0.193    \n",
      "---\n",
      "Signif. codes:  0 '***' 0.001 '**' 0.01 '*' 0.05 '.' 0.1 ' ' 1\n",
      "\n",
      "(Dispersion parameter for gaussian family taken to be 0.9197797)\n",
      "\n",
      "    Null deviance: 700.852  on 99  degrees of freedom\n",
      "Residual deviance:  87.379  on 95  degrees of freedom\n",
      "AIC: 282.3\n",
      "\n",
      "Number of Fisher Scoring iterations: 2\n",
      "\n"
     ]
    }
   ],
   "source": [
    "#part f\n",
    "\n",
    "data<-data.frame(x,y)\n",
    "loocvError<-list()\n",
    "\n",
    "set.seed(613)\n",
    "for (i in 1:4) {\n",
    "    model<- glm(y ∼ poly(x, i), data=data)\n",
    "    print(summary(model))\n",
    "    result<- cv.glm(data, model)\n",
    "    \n",
    "    loocvError[i]<-result$delta[1]\n",
    "}\n"
   ]
  },
  {
   "cell_type": "code",
   "execution_count": 134,
   "id": "be6b6018",
   "metadata": {},
   "outputs": [
    {
     "data": {
      "text/html": [
       "<ol>\n",
       "\t<li>7.28816160667281</li>\n",
       "\t<li>0.937423637615551</li>\n",
       "\t<li>0.95662183010894</li>\n",
       "\t<li>0.953904892744804</li>\n",
       "</ol>\n"
      ],
      "text/latex": [
       "\\begin{enumerate}\n",
       "\\item 7.28816160667281\n",
       "\\item 0.937423637615551\n",
       "\\item 0.95662183010894\n",
       "\\item 0.953904892744804\n",
       "\\end{enumerate}\n"
      ],
      "text/markdown": [
       "1. 7.28816160667281\n",
       "2. 0.937423637615551\n",
       "3. 0.95662183010894\n",
       "4. 0.953904892744804\n",
       "\n",
       "\n"
      ],
      "text/plain": [
       "[[1]]\n",
       "[1] 7.288162\n",
       "\n",
       "[[2]]\n",
       "[1] 0.9374236\n",
       "\n",
       "[[3]]\n",
       "[1] 0.9566218\n",
       "\n",
       "[[4]]\n",
       "[1] 0.9539049\n"
      ]
     },
     "metadata": {},
     "output_type": "display_data"
    }
   ],
   "source": [
    "loocvError"
   ]
  },
  {
   "cell_type": "code",
   "execution_count": 135,
   "id": "47fed965",
   "metadata": {},
   "outputs": [],
   "source": [
    "#the results are exact same as in above parts"
   ]
  },
  {
   "cell_type": "code",
   "execution_count": null,
   "id": "d9c4254d",
   "metadata": {},
   "outputs": [],
   "source": []
  },
  {
   "cell_type": "code",
   "execution_count": 136,
   "id": "66cb195d",
   "metadata": {},
   "outputs": [],
   "source": [
    "#Exercise 1 (p.259, Chap.6)\n",
    "#a. the model that have K = p will have the smallest RSS\n",
    "\n",
    "#b. subset selection seems to be better because it considers more combination of factors\n",
    "\n",
    "#c. i.TRUE , ii. TRUE , iii. FALSE , iv. FALSE , v. FALSE"
   ]
  },
  {
   "cell_type": "code",
   "execution_count": 137,
   "id": "a9e4b918",
   "metadata": {},
   "outputs": [],
   "source": [
    "#Exercise 9 (p.263, Chap.6)"
   ]
  },
  {
   "cell_type": "code",
   "execution_count": 138,
   "id": "3cbf3281",
   "metadata": {},
   "outputs": [
    {
     "name": "stdout",
     "output_type": "stream",
     "text": [
      " Factor w/ 2 levels \"No\",\"Yes\": 2 2 2 2 2 2 2 2 2 2 ...\n"
     ]
    }
   ],
   "source": [
    "library(ISLR)\n",
    "str(College$Private)"
   ]
  },
  {
   "cell_type": "code",
   "execution_count": 139,
   "id": "719bd656",
   "metadata": {},
   "outputs": [
    {
     "name": "stdout",
     "output_type": "stream",
     "text": [
      " num [1:777] 1 1 1 1 1 1 1 1 1 1 ...\n"
     ]
    }
   ],
   "source": [
    "college<-College\n",
    "college$Private <- as.numeric(college$Private=='Yes')\n",
    "str(college$Private)"
   ]
  },
  {
   "cell_type": "code",
   "execution_count": 140,
   "id": "a7d8fdfd",
   "metadata": {},
   "outputs": [],
   "source": [
    "#a.\n",
    "set.seed(123)\n",
    "#seting the row index\n",
    "index <- sample(1:nrow(college), round(0.5 * nrow(college), 0))\n",
    "#spliting data based on the index\n",
    "train <- college[index, ]\n",
    "test <- college[-index, ]"
   ]
  },
  {
   "cell_type": "code",
   "execution_count": 141,
   "id": "766a0f8c",
   "metadata": {},
   "outputs": [
    {
     "name": "stdout",
     "output_type": "stream",
     "text": [
      "[1] 1373995\n"
     ]
    }
   ],
   "source": [
    "#b.\n",
    "linear <- lm(Apps ~ ., data=train)\n",
    "predict_lr <- predict(linear, newdata=test)\n",
    "mse <- mean((predict_lr - test$Apps)^2)\n",
    "print(mse)"
   ]
  },
  {
   "cell_type": "code",
   "execution_count": 142,
   "id": "1d582499",
   "metadata": {},
   "outputs": [
    {
     "ename": "ERROR",
     "evalue": "Error in select(., -Apps): unused argument (-Apps)\n",
     "output_type": "error",
     "traceback": [
      "Error in select(., -Apps): unused argument (-Apps)\nTraceback:\n",
      "1. colnames(train %>% select(-Apps))",
      "2. is.data.frame(x)",
      "3. train %>% select(-Apps)"
     ]
    }
   ],
   "source": [
    "library(dplyr)\n",
    "selected_columns=colnames(train%>%select(-Apps))\n",
    "selected_columns"
   ]
  },
  {
   "cell_type": "code",
   "execution_count": 144,
   "id": "5323186a",
   "metadata": {},
   "outputs": [
    {
     "name": "stdout",
     "output_type": "stream",
     "text": [
      "[1] \"optimum lambda = 324.923105399109\"\n"
     ]
    },
    {
     "data": {
      "image/png": "[encoded data removed]",
      "text/plain": [
       "plot without title"
      ]
     },
     "metadata": {
      "image/png": {
       "height": 420,
       "width": 420
      }
     },
     "output_type": "display_data"
    }
   ],
   "source": [
    "library(glmnet)\n",
    "#part c\n",
    "#finding lambda\n",
    "model_lambda <- cv.glmnet(as.matrix(train[, selected_columns]), train$Apps, alpha=0)\n",
    "plot(model_lambda)\n",
    "print(paste('optimum lambda =', model_lambda$lambda.min))"
   ]
  },
  {
   "cell_type": "code",
   "execution_count": 147,
   "id": "d9631bca",
   "metadata": {},
   "outputs": [],
   "source": [
    "best_lambda <- model_lambda$lambda.min\n",
    "optimum_lambda <- glmnet(as.matrix(train[, selected_columns]), train$Apps, alpha=0)\n",
    "predict_ol <- predict(best_lambda, s=model_lambda$lambda.min, newx=as.matrix(test[, selected_columns]))\n",
    "MSE_lambda <- mean((predict_ol - test$Apps)^2)\n",
    "MSE_lambda"
   ]
  },
  {
   "cell_type": "code",
   "execution_count": 148,
   "id": "7450bdd7",
   "metadata": {},
   "outputs": [
    {
     "name": "stdout",
     "output_type": "stream",
     "text": [
      "[1] \"optimum lambda = 94.7168088570262\"\n"
     ]
    },
    {
     "data": {
      "image/png": "[encoded data removed]",
      "text/plain": [
       "plot without title"
      ]
     },
     "metadata": {
      "image/png": {
       "height": 420,
       "width": 420
      }
     },
     "output_type": "display_data"
    }
   ],
   "source": [
    "#part d\n",
    "model_lambda_2 <- cv.glmnet(as.matrix(train[, selected_columns]), train$Apps, alpha=1)\n",
    "plot(model_lambda_2) \n",
    "print(paste('optimum lambda =', model_lambda_2$lambda.min))"
   ]
  },
  {
   "cell_type": "code",
   "execution_count": 149,
   "id": "d758a96e",
   "metadata": {},
   "outputs": [
    {
     "data": {
      "text/html": [
       "16459.3230828426"
      ],
      "text/latex": [
       "16459.3230828426"
      ],
      "text/markdown": [
       "16459.3230828426"
      ],
      "text/plain": [
       "[1] 16459.32"
      ]
     },
     "metadata": {},
     "output_type": "display_data"
    }
   ],
   "source": [
    "optimum_lambda_2 <- glmnet(as.matrix(train[, selected_columns]), train$Apps, alpha=1)\n",
    "predict_ol_2 <- predict(optimum_lambda_2, s=model_lambda_2$lambda.min, newx=as.matrix(test[, selected_columns]))\n",
    "MSE_lambda_2 <- mean((predict_ol_2 - test$Apps)^2)\n",
    "MSE_lambda_2"
   ]
  },
  {
   "cell_type": "code",
   "execution_count": 150,
   "id": "ae77cbe6",
   "metadata": {},
   "outputs": [
    {
     "data": {
      "text/plain": [
       "19 x 1 sparse Matrix of class \"dgCMatrix\"\n",
       "                    s1\n",
       "(Intercept) 84.5837960\n",
       "Private      .        \n",
       "Apps         0.9708495\n",
       "Accept       .        \n",
       "Enroll       .        \n",
       "Top10perc    .        \n",
       "Top25perc    .        \n",
       "F.Undergrad  .        \n",
       "P.Undergrad  .        \n",
       "Outstate     .        \n",
       "Room.Board   .        \n",
       "Books        .        \n",
       "Personal     .        \n",
       "PhD          .        \n",
       "Terminal     .        \n",
       "S.F.Ratio    .        \n",
       "perc.alumni  .        \n",
       "Expend       .        \n",
       "Grad.Rate    .        "
      ]
     },
     "metadata": {},
     "output_type": "display_data"
    }
   ],
   "source": [
    "predict(optimum_lambda_2, type='coefficients', s=model_lambda_2$lambda.min)"
   ]
  },
  {
   "cell_type": "code",
   "execution_count": 151,
   "id": "488d1296",
   "metadata": {},
   "outputs": [
    {
     "data": {
      "text/html": [
       "1373994.68331753"
      ],
      "text/latex": [
       "1373994.68331753"
      ],
      "text/markdown": [
       "1373994.68331753"
      ],
      "text/plain": [
       "[1] 1373995"
      ]
     },
     "metadata": {},
     "output_type": "display_data"
    },
    {
     "data": {
      "image/png": "[encoded data removed]",
      "text/plain": [
       "Plot with title \"Apps\""
      ]
     },
     "metadata": {
      "image/png": {
       "height": 420,
       "width": 420
      }
     },
     "output_type": "display_data"
    }
   ],
   "source": [
    "#part e\n",
    "library(pls) \n",
    "model_pcr <- pcr(Apps ~ ., data=train, scale=TRUE, validation='CV')\n",
    "validationplot(model_pcr, val.type='MSEP')\n",
    "pred_pcr <- predict(model_pcr, newdata=test, ncomp=17)\n",
    "MSE_pcr <- mean((pred_pcr - test$Apps)^2)\n",
    "MSE_pcr"
   ]
  },
  {
   "cell_type": "code",
   "execution_count": 152,
   "id": "ebe45513",
   "metadata": {},
   "outputs": [
    {
     "data": {
      "text/html": [
       "1458480.62734582"
      ],
      "text/latex": [
       "1458480.62734582"
      ],
      "text/markdown": [
       "1458480.62734582"
      ],
      "text/plain": [
       "[1] 1458481"
      ]
     },
     "metadata": {},
     "output_type": "display_data"
    },
    {
     "data": {
      "image/png": "[encoded data removed]",
      "text/plain": [
       "Plot with title \"Apps\""
      ]
     },
     "metadata": {
      "image/png": {
       "height": 420,
       "width": 420
      }
     },
     "output_type": "display_data"
    }
   ],
   "source": [
    "#part f\n",
    "model_pls <- plsr(Apps ~ ., data=train, scale=TRUE, validation='CV')\n",
    "validationplot(model_pls, val.type='MSEP')\n",
    "pred_pls <- predict(model_pls, newdata=test, ncomp=6)\n",
    "MSE_pls <- mean((pred_pls - test$Apps)^2)\n",
    "MSE_pls"
   ]
  },
  {
   "cell_type": "code",
   "execution_count": null,
   "id": "96730fed",
   "metadata": {},
   "outputs": [],
   "source": [
    "#part g\n",
    "#based on linear regresion we can predict number of application to collage with MSE of 1373995\n",
    "#the best model is pcr because the MSE is the lowest,"
   ]
  },
  {
   "cell_type": "code",
   "execution_count": null,
   "id": "50f6542f",
   "metadata": {},
   "outputs": [],
   "source": [
    "# Exercise 9 (p.299, Chap.7)"
   ]
  },
  {
   "cell_type": "code",
   "execution_count": 179,
   "id": "5aa00656",
   "metadata": {},
   "outputs": [
    {
     "data": {
      "text/plain": [
       "\n",
       "Call:\n",
       "lm(formula = nox ~ poly(dis, d = 3), data = Boston)\n",
       "\n",
       "Residuals:\n",
       "      Min        1Q    Median        3Q       Max \n",
       "-0.121130 -0.040619 -0.009738  0.023385  0.194904 \n",
       "\n",
       "Coefficients:\n",
       "                   Estimate Std. Error t value Pr(>|t|)    \n",
       "(Intercept)        0.554695   0.002759 201.021  < 2e-16 ***\n",
       "poly(dis, d = 3)1 -2.003096   0.062071 -32.271  < 2e-16 ***\n",
       "poly(dis, d = 3)2  0.856330   0.062071  13.796  < 2e-16 ***\n",
       "poly(dis, d = 3)3 -0.318049   0.062071  -5.124 4.27e-07 ***\n",
       "---\n",
       "Signif. codes:  0 '***' 0.001 '**' 0.01 '*' 0.05 '.' 0.1 ' ' 1\n",
       "\n",
       "Residual standard error: 0.06207 on 502 degrees of freedom\n",
       "Multiple R-squared:  0.7148,\tAdjusted R-squared:  0.7131 \n",
       "F-statistic: 419.3 on 3 and 502 DF,  p-value: < 2.2e-16\n"
      ]
     },
     "metadata": {},
     "output_type": "display_data"
    }
   ],
   "source": [
    "#part a\n",
    "library(MASS)\n",
    "lr_cube <- lm(nox ~ poly(dis, d=3), data=Boston)\n",
    "summary(lr_model_cube)"
   ]
  },
  {
   "cell_type": "code",
   "execution_count": 180,
   "id": "245d8fd7",
   "metadata": {},
   "outputs": [
    {
     "data": {
      "image/png": "[encoded data removed]",
      "text/plain": [
       "plot without title"
      ]
     },
     "metadata": {
      "image/png": {
       "height": 420,
       "width": 420
      }
     },
     "output_type": "display_data"
    }
   ],
   "source": [
    "plot(Boston$nox ~ Boston$dis, xlab='dis', ylab='nox')\n",
    "lines(sort(Boston$dis), fitted(lr_cube)[order(Boston$dis)], col='blue', type='l',lw=3)"
   ]
  },
  {
   "cell_type": "code",
   "execution_count": 181,
   "id": "6cb23861",
   "metadata": {},
   "outputs": [
    {
     "data": {
      "image/png": "[encoded data removed]",
      "text/plain": [
       "Plot with title \"\""
      ]
     },
     "metadata": {
      "image/png": {
       "height": 420,
       "width": 420
      }
     },
     "output_type": "display_data"
    },
    {
     "data": {
      "image/png": "[encoded data removed]",
      "text/plain": [
       "Plot with title \"\""
      ]
     },
     "metadata": {
      "image/png": {
       "height": 420,
       "width": 420
      }
     },
     "output_type": "display_data"
    },
    {
     "data": {
      "image/png": "[encoded data removed]",
      "text/plain": [
       "Plot with title \"\""
      ]
     },
     "metadata": {
      "image/png": {
       "height": 420,
       "width": 420
      }
     },
     "output_type": "display_data"
    },
    {
     "data": {
      "image/png": "[encoded data removed]",
      "text/plain": [
       "Plot with title \"\""
      ]
     },
     "metadata": {
      "image/png": {
       "height": 420,
       "width": 420
      }
     },
     "output_type": "display_data"
    }
   ],
   "source": [
    "plot(lr_cube)"
   ]
  },
  {
   "cell_type": "code",
   "execution_count": 156,
   "id": "bc793f7e",
   "metadata": {},
   "outputs": [
    {
     "data": {
      "text/html": [
       "<table class=\"dataframe\">\n",
       "<caption>A data.frame: 10 × 2</caption>\n",
       "<thead>\n",
       "\t<tr><th scope=col>degrees</th><th scope=col>RSSs</th></tr>\n",
       "\t<tr><th scope=col>&lt;int&gt;</th><th scope=col>&lt;dbl&gt;</th></tr>\n",
       "</thead>\n",
       "<tbody>\n",
       "\t<tr><td> 1</td><td>2.768563</td></tr>\n",
       "\t<tr><td> 2</td><td>2.035262</td></tr>\n",
       "\t<tr><td> 3</td><td>1.934107</td></tr>\n",
       "\t<tr><td> 4</td><td>1.932981</td></tr>\n",
       "\t<tr><td> 5</td><td>1.915290</td></tr>\n",
       "\t<tr><td> 6</td><td>1.878257</td></tr>\n",
       "\t<tr><td> 7</td><td>1.849484</td></tr>\n",
       "\t<tr><td> 8</td><td>1.835630</td></tr>\n",
       "\t<tr><td> 9</td><td>1.833331</td></tr>\n",
       "\t<tr><td>10</td><td>1.832171</td></tr>\n",
       "</tbody>\n",
       "</table>\n"
      ],
      "text/latex": [
       "A data.frame: 10 × 2\n",
       "\\begin{tabular}{ll}\n",
       " degrees & RSSs\\\\\n",
       " <int> & <dbl>\\\\\n",
       "\\hline\n",
       "\t  1 & 2.768563\\\\\n",
       "\t  2 & 2.035262\\\\\n",
       "\t  3 & 1.934107\\\\\n",
       "\t  4 & 1.932981\\\\\n",
       "\t  5 & 1.915290\\\\\n",
       "\t  6 & 1.878257\\\\\n",
       "\t  7 & 1.849484\\\\\n",
       "\t  8 & 1.835630\\\\\n",
       "\t  9 & 1.833331\\\\\n",
       "\t 10 & 1.832171\\\\\n",
       "\\end{tabular}\n"
      ],
      "text/markdown": [
       "\n",
       "A data.frame: 10 × 2\n",
       "\n",
       "| degrees &lt;int&gt; | RSSs &lt;dbl&gt; |\n",
       "|---|---|\n",
       "|  1 | 2.768563 |\n",
       "|  2 | 2.035262 |\n",
       "|  3 | 1.934107 |\n",
       "|  4 | 1.932981 |\n",
       "|  5 | 1.915290 |\n",
       "|  6 | 1.878257 |\n",
       "|  7 | 1.849484 |\n",
       "|  8 | 1.835630 |\n",
       "|  9 | 1.833331 |\n",
       "| 10 | 1.832171 |\n",
       "\n"
      ],
      "text/plain": [
       "   degrees RSSs    \n",
       "1   1      2.768563\n",
       "2   2      2.035262\n",
       "3   3      1.934107\n",
       "4   4      1.932981\n",
       "5   5      1.915290\n",
       "6   6      1.878257\n",
       "7   7      1.849484\n",
       "8   8      1.835630\n",
       "9   9      1.833331\n",
       "10 10      1.832171"
      ]
     },
     "metadata": {},
     "output_type": "display_data"
    }
   ],
   "source": [
    "#part b\n",
    "\n",
    "rss_results <- NULL\n",
    "for (d in 1:10) {\n",
    "    LR_for <- lm(nox ~ poly(dis, d=d), data=Boston)\n",
    "    rss <- sum((predict(LR_for, newdata=Boston) - Boston$nox)^2)\n",
    "    rss_results$degrees[d] <-  d\n",
    "    rss_results$RSSs[d] <-  rss\n",
    "}\n",
    "\n",
    "rss_results <- data.frame(rss_results)\n",
    "rss_results"
   ]
  },
  {
   "cell_type": "code",
   "execution_count": 157,
   "id": "0496d8e3",
   "metadata": {},
   "outputs": [
    {
     "data": {
      "image/png": "[encoded data removed]",
      "text/plain": [
       "plot without title"
      ]
     },
     "metadata": {
      "image/png": {
       "height": 420,
       "width": 420
      }
     },
     "output_type": "display_data"
    }
   ],
   "source": [
    "plot(Boston$nox ~ Boston$dis, xlab='dis', ylab='nox')\n",
    "for (d in 1:10) {\n",
    "    LR_for <- lm(nox ~ poly(dis, d=d), data=Boston)    \n",
    "    lines(sort(Boston$dis), fitted(LR_for)[order(Boston$dis)],\n",
    "          col=rainbow(20)[d+d], type='l') \n",
    "}"
   ]
  },
  {
   "cell_type": "code",
   "execution_count": 158,
   "id": "4f86a7b0",
   "metadata": {},
   "outputs": [
    {
     "data": {
      "text/html": [
       "<table class=\"dataframe\">\n",
       "<caption>A data.frame: 10 × 2</caption>\n",
       "<thead>\n",
       "\t<tr><th scope=col>Degrees</th><th scope=col>MSE</th></tr>\n",
       "\t<tr><th scope=col>&lt;int&gt;</th><th scope=col>&lt;dbl&gt;</th></tr>\n",
       "</thead>\n",
       "<tbody>\n",
       "\t<tr><td> 1</td><td>0.005530913</td></tr>\n",
       "\t<tr><td> 2</td><td>0.004075204</td></tr>\n",
       "\t<tr><td> 3</td><td>0.003861502</td></tr>\n",
       "\t<tr><td> 4</td><td>0.003883657</td></tr>\n",
       "\t<tr><td> 5</td><td>0.004081549</td></tr>\n",
       "\t<tr><td> 6</td><td>0.004881712</td></tr>\n",
       "\t<tr><td> 7</td><td>0.007391917</td></tr>\n",
       "\t<tr><td> 8</td><td>0.004582410</td></tr>\n",
       "\t<tr><td> 9</td><td>0.024055149</td></tr>\n",
       "\t<tr><td>10</td><td>0.035535122</td></tr>\n",
       "</tbody>\n",
       "</table>\n"
      ],
      "text/latex": [
       "A data.frame: 10 × 2\n",
       "\\begin{tabular}{ll}\n",
       " Degrees & MSE\\\\\n",
       " <int> & <dbl>\\\\\n",
       "\\hline\n",
       "\t  1 & 0.005530913\\\\\n",
       "\t  2 & 0.004075204\\\\\n",
       "\t  3 & 0.003861502\\\\\n",
       "\t  4 & 0.003883657\\\\\n",
       "\t  5 & 0.004081549\\\\\n",
       "\t  6 & 0.004881712\\\\\n",
       "\t  7 & 0.007391917\\\\\n",
       "\t  8 & 0.004582410\\\\\n",
       "\t  9 & 0.024055149\\\\\n",
       "\t 10 & 0.035535122\\\\\n",
       "\\end{tabular}\n"
      ],
      "text/markdown": [
       "\n",
       "A data.frame: 10 × 2\n",
       "\n",
       "| Degrees &lt;int&gt; | MSE &lt;dbl&gt; |\n",
       "|---|---|\n",
       "|  1 | 0.005530913 |\n",
       "|  2 | 0.004075204 |\n",
       "|  3 | 0.003861502 |\n",
       "|  4 | 0.003883657 |\n",
       "|  5 | 0.004081549 |\n",
       "|  6 | 0.004881712 |\n",
       "|  7 | 0.007391917 |\n",
       "|  8 | 0.004582410 |\n",
       "|  9 | 0.024055149 |\n",
       "| 10 | 0.035535122 |\n",
       "\n"
      ],
      "text/plain": [
       "   Degrees MSE        \n",
       "1   1      0.005530913\n",
       "2   2      0.004075204\n",
       "3   3      0.003861502\n",
       "4   4      0.003883657\n",
       "5   5      0.004081549\n",
       "6   6      0.004881712\n",
       "7   7      0.007391917\n",
       "8   8      0.004582410\n",
       "9   9      0.024055149\n",
       "10 10      0.035535122"
      ]
     },
     "metadata": {},
     "output_type": "display_data"
    }
   ],
   "source": [
    "#part c\n",
    "#install.packages('lmvar')\n",
    "library('lmvar')\n",
    "cross_validation <- NULL\n",
    "\n",
    "for (d in 1:10) {\n",
    "    LR_for <- lm(nox ~ poly(dis, d=d), data=Boston, x=TRUE, y=TRUE)\n",
    "    CV_for <- cv.lm(LR_for, k=5, seed=123)\n",
    "    cross_validation$Degrees[d] <- d\n",
    "    cross_validation$MSE[d] <- CV_for$MSE$mean\n",
    "    \n",
    "}\n",
    "\n",
    "cross_validation <- data.frame(cross_validation)\n",
    "cross_validation"
   ]
  },
  {
   "cell_type": "code",
   "execution_count": 159,
   "id": "4bab4dfd",
   "metadata": {},
   "outputs": [
    {
     "data": {
      "text/html": [
       "<table class=\"dataframe\">\n",
       "<caption>A data.frame: 1 × 2</caption>\n",
       "<thead>\n",
       "\t<tr><th></th><th scope=col>Degrees</th><th scope=col>MSE</th></tr>\n",
       "\t<tr><th></th><th scope=col>&lt;int&gt;</th><th scope=col>&lt;dbl&gt;</th></tr>\n",
       "</thead>\n",
       "<tbody>\n",
       "\t<tr><th scope=row>3</th><td>3</td><td>0.003861502</td></tr>\n",
       "</tbody>\n",
       "</table>\n"
      ],
      "text/latex": [
       "A data.frame: 1 × 2\n",
       "\\begin{tabular}{r|ll}\n",
       "  & Degrees & MSE\\\\\n",
       "  & <int> & <dbl>\\\\\n",
       "\\hline\n",
       "\t3 & 3 & 0.003861502\\\\\n",
       "\\end{tabular}\n"
      ],
      "text/markdown": [
       "\n",
       "A data.frame: 1 × 2\n",
       "\n",
       "| <!--/--> | Degrees &lt;int&gt; | MSE &lt;dbl&gt; |\n",
       "|---|---|---|\n",
       "| 3 | 3 | 0.003861502 |\n",
       "\n"
      ],
      "text/plain": [
       "  Degrees MSE        \n",
       "3 3       0.003861502"
      ]
     },
     "metadata": {},
     "output_type": "display_data"
    }
   ],
   "source": [
    "cross_validation[cross_validation$MSE == min(cross_validation$MSE), ]"
   ]
  },
  {
   "cell_type": "code",
   "execution_count": 160,
   "id": "3b3083f9",
   "metadata": {},
   "outputs": [
    {
     "data": {
      "text/plain": [
       "\n",
       "Call:\n",
       "lm(formula = nox ~ bs(dis, df = 4), data = Boston)\n",
       "\n",
       "Residuals:\n",
       "      Min        1Q    Median        3Q       Max \n",
       "-0.124622 -0.039259 -0.008514  0.020850  0.193891 \n",
       "\n",
       "Coefficients:\n",
       "                 Estimate Std. Error t value Pr(>|t|)    \n",
       "(Intercept)       0.73447    0.01460  50.306  < 2e-16 ***\n",
       "bs(dis, df = 4)1 -0.05810    0.02186  -2.658  0.00812 ** \n",
       "bs(dis, df = 4)2 -0.46356    0.02366 -19.596  < 2e-16 ***\n",
       "bs(dis, df = 4)3 -0.19979    0.04311  -4.634 4.58e-06 ***\n",
       "bs(dis, df = 4)4 -0.38881    0.04551  -8.544  < 2e-16 ***\n",
       "---\n",
       "Signif. codes:  0 '***' 0.001 '**' 0.01 '*' 0.05 '.' 0.1 ' ' 1\n",
       "\n",
       "Residual standard error: 0.06195 on 501 degrees of freedom\n",
       "Multiple R-squared:  0.7164,\tAdjusted R-squared:  0.7142 \n",
       "F-statistic: 316.5 on 4 and 501 DF,  p-value: < 2.2e-16\n"
      ]
     },
     "metadata": {},
     "output_type": "display_data"
    },
    {
     "data": {
      "image/png": "[encoded data removed]",
      "text/plain": [
       "Plot with title \"\""
      ]
     },
     "metadata": {
      "image/png": {
       "height": 420,
       "width": 420
      }
     },
     "output_type": "display_data"
    },
    {
     "data": {
      "image/png": "[encoded data removed]",
      "text/plain": [
       "Plot with title \"\""
      ]
     },
     "metadata": {
      "image/png": {
       "height": 420,
       "width": 420
      }
     },
     "output_type": "display_data"
    },
    {
     "data": {
      "image/png": "[encoded data removed]",
      "text/plain": [
       "Plot with title \"\""
      ]
     },
     "metadata": {
      "image/png": {
       "height": 420,
       "width": 420
      }
     },
     "output_type": "display_data"
    },
    {
     "data": {
      "image/png": "[encoded data removed]",
      "text/plain": [
       "Plot with title \"\""
      ]
     },
     "metadata": {
      "image/png": {
       "height": 420,
       "width": 420
      }
     },
     "output_type": "display_data"
    }
   ],
   "source": [
    "#part d\n",
    "library(splines)\n",
    "LR_splines <- lm(nox ~ bs(dis, df=4), data=Boston)\n",
    "summary(LR_splines)\n",
    "plot(LR_splines)"
   ]
  },
  {
   "cell_type": "code",
   "execution_count": 162,
   "id": "52c44874",
   "metadata": {},
   "outputs": [
    {
     "name": "stderr",
     "output_type": "stream",
     "text": [
      "Warning message in bs(dis, df = d):\n",
      "\"'df' was too small; have used 3\"\n",
      "Warning message in bs(dis, df = d):\n",
      "\"'df' was too small; have used 3\"\n"
     ]
    },
    {
     "data": {
      "text/html": [
       "<table class=\"dataframe\">\n",
       "<caption>A data.frame: 6 × 2</caption>\n",
       "<thead>\n",
       "\t<tr><th></th><th scope=col>Dgrees</th><th scope=col>RSS</th></tr>\n",
       "\t<tr><th></th><th scope=col>&lt;int&gt;</th><th scope=col>&lt;dbl&gt;</th></tr>\n",
       "</thead>\n",
       "<tbody>\n",
       "\t<tr><th scope=row>1</th><td>1</td><td>1.934107</td></tr>\n",
       "\t<tr><th scope=row>2</th><td>2</td><td>1.934107</td></tr>\n",
       "\t<tr><th scope=row>3</th><td>3</td><td>1.934107</td></tr>\n",
       "\t<tr><th scope=row>4</th><td>4</td><td>1.922775</td></tr>\n",
       "\t<tr><th scope=row>5</th><td>5</td><td>1.840173</td></tr>\n",
       "\t<tr><th scope=row>6</th><td>6</td><td>1.833966</td></tr>\n",
       "</tbody>\n",
       "</table>\n"
      ],
      "text/latex": [
       "A data.frame: 6 × 2\n",
       "\\begin{tabular}{r|ll}\n",
       "  & Dgrees & RSS\\\\\n",
       "  & <int> & <dbl>\\\\\n",
       "\\hline\n",
       "\t1 & 1 & 1.934107\\\\\n",
       "\t2 & 2 & 1.934107\\\\\n",
       "\t3 & 3 & 1.934107\\\\\n",
       "\t4 & 4 & 1.922775\\\\\n",
       "\t5 & 5 & 1.840173\\\\\n",
       "\t6 & 6 & 1.833966\\\\\n",
       "\\end{tabular}\n"
      ],
      "text/markdown": [
       "\n",
       "A data.frame: 6 × 2\n",
       "\n",
       "| <!--/--> | Dgrees &lt;int&gt; | RSS &lt;dbl&gt; |\n",
       "|---|---|---|\n",
       "| 1 | 1 | 1.934107 |\n",
       "| 2 | 2 | 1.934107 |\n",
       "| 3 | 3 | 1.934107 |\n",
       "| 4 | 4 | 1.922775 |\n",
       "| 5 | 5 | 1.840173 |\n",
       "| 6 | 6 | 1.833966 |\n",
       "\n"
      ],
      "text/plain": [
       "  Dgrees RSS     \n",
       "1 1      1.934107\n",
       "2 2      1.934107\n",
       "3 3      1.934107\n",
       "4 4      1.922775\n",
       "5 5      1.840173\n",
       "6 6      1.833966"
      ]
     },
     "metadata": {},
     "output_type": "display_data"
    }
   ],
   "source": [
    "Spline_df <- NULL\n",
    "for (d in 1:20) {\n",
    "    spline_for <- lm(nox ~ bs(dis, df=d), data=Boston)\n",
    "    RSS <- sum((predict(spline_for, newdata=Boston) - Boston$nox)^2)\n",
    "    Spline_df$Dgrees[d]<-d\n",
    "    Spline_df$RSS[d] <- RSS\n",
    "    \n",
    "}\n",
    "\n",
    "Spline_df <- data.frame(Spline_df)\n",
    "head(Spline_df)"
   ]
  },
  {
   "cell_type": "code",
   "execution_count": 165,
   "id": "8628d161",
   "metadata": {},
   "outputs": [
    {
     "name": "stderr",
     "output_type": "stream",
     "text": [
      "Warning message in bs(dis, df = d):\n",
      "\"'df' was too small; have used 3\"\n",
      "Warning message in bs(dis, df = d):\n",
      "\"'df' was too small; have used 3\"\n"
     ]
    },
    {
     "data": {
      "text/html": [
       "<table class=\"dataframe\">\n",
       "<caption>A data.frame: 6 × 2</caption>\n",
       "<thead>\n",
       "\t<tr><th></th><th scope=col>Degrees</th><th scope=col>MSE</th></tr>\n",
       "\t<tr><th></th><th scope=col>&lt;int&gt;</th><th scope=col>&lt;dbl&gt;</th></tr>\n",
       "</thead>\n",
       "<tbody>\n",
       "\t<tr><th scope=row>1</th><td>1</td><td>0.003926306</td></tr>\n",
       "\t<tr><th scope=row>2</th><td>2</td><td>0.003926306</td></tr>\n",
       "\t<tr><th scope=row>3</th><td>3</td><td>0.003926306</td></tr>\n",
       "\t<tr><th scope=row>4</th><td>4</td><td>0.003934043</td></tr>\n",
       "\t<tr><th scope=row>5</th><td>5</td><td>0.003742853</td></tr>\n",
       "\t<tr><th scope=row>6</th><td>6</td><td>0.003745685</td></tr>\n",
       "</tbody>\n",
       "</table>\n"
      ],
      "text/latex": [
       "A data.frame: 6 × 2\n",
       "\\begin{tabular}{r|ll}\n",
       "  & Degrees & MSE\\\\\n",
       "  & <int> & <dbl>\\\\\n",
       "\\hline\n",
       "\t1 & 1 & 0.003926306\\\\\n",
       "\t2 & 2 & 0.003926306\\\\\n",
       "\t3 & 3 & 0.003926306\\\\\n",
       "\t4 & 4 & 0.003934043\\\\\n",
       "\t5 & 5 & 0.003742853\\\\\n",
       "\t6 & 6 & 0.003745685\\\\\n",
       "\\end{tabular}\n"
      ],
      "text/markdown": [
       "\n",
       "A data.frame: 6 × 2\n",
       "\n",
       "| <!--/--> | Degrees &lt;int&gt; | MSE &lt;dbl&gt; |\n",
       "|---|---|---|\n",
       "| 1 | 1 | 0.003926306 |\n",
       "| 2 | 2 | 0.003926306 |\n",
       "| 3 | 3 | 0.003926306 |\n",
       "| 4 | 4 | 0.003934043 |\n",
       "| 5 | 5 | 0.003742853 |\n",
       "| 6 | 6 | 0.003745685 |\n",
       "\n"
      ],
      "text/plain": [
       "  Degrees MSE        \n",
       "1 1       0.003926306\n",
       "2 2       0.003926306\n",
       "3 3       0.003926306\n",
       "4 4       0.003934043\n",
       "5 5       0.003742853\n",
       "6 6       0.003745685"
      ]
     },
     "metadata": {},
     "output_type": "display_data"
    }
   ],
   "source": [
    "#part f\n",
    "\n",
    "cross_validation_splines <- NULL\n",
    "\n",
    "for (d in 1:20) {\n",
    "    spline_for <- lm(nox ~ bs(dis, df=d), data=Boston, x=TRUE, y=TRUE)\n",
    "    CV_for <- cv.lm(spline_for, k=3, seed=123)\n",
    "    cross_validation_splines$Degrees[d] <- d\n",
    "    cross_validation_splines$MSE[d] <- CV_for$MSE$mean\n",
    "    \n",
    "}\n",
    "\n",
    "cross_validation_splines <- data.frame(cross_validation_splines)\n",
    "head(cross_validation_splines)"
   ]
  },
  {
   "cell_type": "code",
   "execution_count": 166,
   "id": "e7b39642",
   "metadata": {},
   "outputs": [
    {
     "data": {
      "text/html": [
       "<table class=\"dataframe\">\n",
       "<caption>A data.frame: 1 × 2</caption>\n",
       "<thead>\n",
       "\t<tr><th></th><th scope=col>Degrees</th><th scope=col>MSE</th></tr>\n",
       "\t<tr><th></th><th scope=col>&lt;int&gt;</th><th scope=col>&lt;dbl&gt;</th></tr>\n",
       "</thead>\n",
       "<tbody>\n",
       "\t<tr><th scope=row>5</th><td>5</td><td>0.003742853</td></tr>\n",
       "</tbody>\n",
       "</table>\n"
      ],
      "text/latex": [
       "A data.frame: 1 × 2\n",
       "\\begin{tabular}{r|ll}\n",
       "  & Degrees & MSE\\\\\n",
       "  & <int> & <dbl>\\\\\n",
       "\\hline\n",
       "\t5 & 5 & 0.003742853\\\\\n",
       "\\end{tabular}\n"
      ],
      "text/markdown": [
       "\n",
       "A data.frame: 1 × 2\n",
       "\n",
       "| <!--/--> | Degrees &lt;int&gt; | MSE &lt;dbl&gt; |\n",
       "|---|---|---|\n",
       "| 5 | 5 | 0.003742853 |\n",
       "\n"
      ],
      "text/plain": [
       "  Degrees MSE        \n",
       "5 5       0.003742853"
      ]
     },
     "metadata": {},
     "output_type": "display_data"
    }
   ],
   "source": [
    "cross_validation_splines[cross_validation_splines$MSE == min(cross_validation_splines$MSE), ]"
   ]
  },
  {
   "cell_type": "code",
   "execution_count": null,
   "id": "a65d05e1",
   "metadata": {},
   "outputs": [],
   "source": [
    "# Exercise 10 (p.300, Chap.7)"
   ]
  },
  {
   "cell_type": "code",
   "execution_count": null,
   "id": "519b83c0",
   "metadata": {},
   "outputs": [],
   "source": [
    "library(ISLR)\n",
    "str(College)\n",
    "college$Private <- as.numeric(college$Private=='Yes')"
   ]
  },
  {
   "cell_type": "code",
   "execution_count": null,
   "id": "76b85052",
   "metadata": {},
   "outputs": [],
   "source": [
    "set.seed(123)\n",
    "#seting the row indexes\n",
    "index <- sample(1:nrow(college), round(0.5 * nrow(college), 0))\n",
    "#spliting data based on the index\n",
    "train <- college[index, ]\n",
    "test <- college[-index, ]"
   ]
  },
  {
   "cell_type": "code",
   "execution_count": 167,
   "id": "3fe87ec1",
   "metadata": {},
   "outputs": [
    {
     "name": "stdout",
     "output_type": "stream",
     "text": [
      "'data.frame':\t388 obs. of  18 variables:\n",
      " $ Private    : num  1 1 1 1 1 1 1 1 1 1 ...\n",
      " $ Apps       : num  1127 516 379 1016 560 ...\n",
      " $ Accept     : num  884 392 341 872 454 ...\n",
      " $ Enroll     : num  308 154 265 300 113 557 622 282 328 385 ...\n",
      " $ Top10perc  : num  30 32 10 27 36 35 20 25 34 44 ...\n",
      " $ Top25perc  : num  64 62 36 57 56 68 56 54 73 73 ...\n",
      " $ F.Undergrad: num  1310 630 1050 1116 484 ...\n",
      " $ P.Undergrad: num  766 549 151 602 16 ...\n",
      " $ Outstate   : num  11718 11020 4950 11250 10955 ...\n",
      " $ Room.Board : num  7398 4970 2780 4980 3450 ...\n",
      " $ Books      : num  450 610 530 550 330 700 450 400 450 400 ...\n",
      " $ Personal   : num  1800 1900 1500 1400 670 1300 3160 1200 550 400 ...\n",
      " $ PhD        : num  73 73 62 66 62 95 90 73 89 79 ...\n",
      " $ Terminal   : num  87 75 62 73 87 95 90 82 93 87 ...\n",
      " $ S.F.Ratio  : num  16.4 14 15.7 15.8 10.6 15.8 15.1 14.2 13 15.3 ...\n",
      " $ perc.alumni: num  33 36 7 36 31 32 9 32 33 32 ...\n",
      " $ Expend     : num  8871 9315 5619 7411 9552 ...\n",
      " $ Grad.Rate  : num  76 58 38 70 53 77 84 66 65 68 ...\n"
     ]
    }
   ],
   "source": [
    "str(train)"
   ]
  },
  {
   "cell_type": "code",
   "execution_count": 168,
   "id": "2daba6dc",
   "metadata": {},
   "outputs": [
    {
     "data": {
      "text/html": [
       "17"
      ],
      "text/latex": [
       "17"
      ],
      "text/markdown": [
       "17"
      ],
      "text/plain": [
       "[1] 17"
      ]
     },
     "metadata": {},
     "output_type": "display_data"
    }
   ],
   "source": [
    "#install.packages('dplyr')\n",
    "library('dplyr')\n",
    "selected_columns=colnames(train)\n",
    "length(selected_columns)-1"
   ]
  },
  {
   "cell_type": "code",
   "execution_count": 170,
   "id": "4c129a23",
   "metadata": {},
   "outputs": [],
   "source": [
    "#install.packages('leaps')\n",
    "#forward selection\n",
    "library(leaps)\n",
    "set.seed(123)\n",
    "nvar <- 17\n",
    "\n",
    "folds <- sample(1:5, nrow(train), replace=TRUE)\n",
    "cv_mat <- matrix(NA, 5, nvar, dimnames=list(NULL, paste(1:nvar)))\n",
    "\n",
    "for (j in 1:5) {\n",
    "    LR_for <- regsubsets(Outstate ∼ ., data=train[folds != j, ], nvmax=17, method='forward')\n",
    "    for(i in 1:nvar) {\n",
    "        prediction <- predict(LR_for, train[folds == j, ], id=i)\n",
    "        cv_mat[j, i] <- mean((train$Outstate[folds == j] - prediction)^2)\n",
    "    }\n",
    "}\n",
    "mean_error <- apply(cv_mat, 2, mean)"
   ]
  },
  {
   "cell_type": "code",
   "execution_count": 174,
   "id": "2e24e15c",
   "metadata": {},
   "outputs": [],
   "source": [
    "plot(mean_error, type='l')\n",
    "abline(v=10, col='blue', lty=4)"
   ]
  },
  {
   "cell_type": "code",
   "execution_count": 175,
   "id": "8802bc96",
   "metadata": {},
   "outputs": [
    {
     "data": {
      "text/html": [
       "<table class=\"dataframe\">\n",
       "<caption>A data.frame: 11 × 1</caption>\n",
       "<thead>\n",
       "\t<tr><th></th><th scope=col>coef_LR_forward</th></tr>\n",
       "\t<tr><th></th><th scope=col>&lt;dbl&gt;</th></tr>\n",
       "</thead>\n",
       "<tbody>\n",
       "\t<tr><th scope=row>(Intercept)</th><td>-2155.8778329</td></tr>\n",
       "\t<tr><th scope=row>Private</th><td> 3061.1503498</td></tr>\n",
       "\t<tr><th scope=row>Accept</th><td>    0.5724405</td></tr>\n",
       "\t<tr><th scope=row>Enroll</th><td>   -1.3130825</td></tr>\n",
       "\t<tr><th scope=row>Top25perc</th><td>   16.1356242</td></tr>\n",
       "\t<tr><th scope=row>Room.Board</th><td>    0.5417038</td></tr>\n",
       "\t<tr><th scope=row>Personal</th><td>   -0.3678476</td></tr>\n",
       "\t<tr><th scope=row>Terminal</th><td>   37.4214386</td></tr>\n",
       "\t<tr><th scope=row>perc.alumni</th><td>   42.5761978</td></tr>\n",
       "\t<tr><th scope=row>Expend</th><td>    0.2461476</td></tr>\n",
       "\t<tr><th scope=row>Grad.Rate</th><td>   18.0215879</td></tr>\n",
       "</tbody>\n",
       "</table>\n"
      ],
      "text/latex": [
       "A data.frame: 11 × 1\n",
       "\\begin{tabular}{r|l}\n",
       "  & coef\\_LR\\_forward\\\\\n",
       "  & <dbl>\\\\\n",
       "\\hline\n",
       "\t(Intercept) & -2155.8778329\\\\\n",
       "\tPrivate &  3061.1503498\\\\\n",
       "\tAccept &     0.5724405\\\\\n",
       "\tEnroll &    -1.3130825\\\\\n",
       "\tTop25perc &    16.1356242\\\\\n",
       "\tRoom.Board &     0.5417038\\\\\n",
       "\tPersonal &    -0.3678476\\\\\n",
       "\tTerminal &    37.4214386\\\\\n",
       "\tperc.alumni &    42.5761978\\\\\n",
       "\tExpend &     0.2461476\\\\\n",
       "\tGrad.Rate &    18.0215879\\\\\n",
       "\\end{tabular}\n"
      ],
      "text/markdown": [
       "\n",
       "A data.frame: 11 × 1\n",
       "\n",
       "| <!--/--> | coef_LR_forward &lt;dbl&gt; |\n",
       "|---|---|\n",
       "| (Intercept) | -2155.8778329 |\n",
       "| Private |  3061.1503498 |\n",
       "| Accept |     0.5724405 |\n",
       "| Enroll |    -1.3130825 |\n",
       "| Top25perc |    16.1356242 |\n",
       "| Room.Board |     0.5417038 |\n",
       "| Personal |    -0.3678476 |\n",
       "| Terminal |    37.4214386 |\n",
       "| perc.alumni |    42.5761978 |\n",
       "| Expend |     0.2461476 |\n",
       "| Grad.Rate |    18.0215879 |\n",
       "\n"
      ],
      "text/plain": [
       "            coef_LR_forward\n",
       "(Intercept) -2155.8778329  \n",
       "Private      3061.1503498  \n",
       "Accept          0.5724405  \n",
       "Enroll         -1.3130825  \n",
       "Top25perc      16.1356242  \n",
       "Room.Board      0.5417038  \n",
       "Personal       -0.3678476  \n",
       "Terminal       37.4214386  \n",
       "perc.alumni    42.5761978  \n",
       "Expend          0.2461476  \n",
       "Grad.Rate      18.0215879  "
      ]
     },
     "metadata": {},
     "output_type": "display_data"
    }
   ],
   "source": [
    "LR_forward <- regsubsets(Outstate ~ ., data=train, nvmax=17, method='forward')\n",
    "coef_LR_forward<-coef(LR_forward, 10)\n",
    "coef_LR_forward<-data.frame(coef_LR_forward)\n",
    "coef_LR_forward"
   ]
  },
  {
   "cell_type": "code",
   "execution_count": 176,
   "id": "64b5347b",
   "metadata": {},
   "outputs": [
    {
     "data": {
      "text/html": [
       "<style>\n",
       ".list-inline {list-style: none; margin:0; padding: 0}\n",
       ".list-inline>li {display: inline-block}\n",
       ".list-inline>li:not(:last-child)::after {content: \"\\00b7\"; padding: 0 .5ex}\n",
       "</style>\n",
       "<ol class=list-inline><li>'Private'</li><li>'Accept'</li><li>'Enroll'</li><li>'Top25perc'</li><li>'Room.Board'</li><li>'Personal'</li><li>'Terminal'</li><li>'perc.alumni'</li><li>'Expend'</li><li>'Grad.Rate'</li></ol>\n"
      ],
      "text/latex": [
       "\\begin{enumerate*}\n",
       "\\item 'Private'\n",
       "\\item 'Accept'\n",
       "\\item 'Enroll'\n",
       "\\item 'Top25perc'\n",
       "\\item 'Room.Board'\n",
       "\\item 'Personal'\n",
       "\\item 'Terminal'\n",
       "\\item 'perc.alumni'\n",
       "\\item 'Expend'\n",
       "\\item 'Grad.Rate'\n",
       "\\end{enumerate*}\n"
      ],
      "text/markdown": [
       "1. 'Private'\n",
       "2. 'Accept'\n",
       "3. 'Enroll'\n",
       "4. 'Top25perc'\n",
       "5. 'Room.Board'\n",
       "6. 'Personal'\n",
       "7. 'Terminal'\n",
       "8. 'perc.alumni'\n",
       "9. 'Expend'\n",
       "10. 'Grad.Rate'\n",
       "\n",
       "\n"
      ],
      "text/plain": [
       " [1] \"Private\"     \"Accept\"      \"Enroll\"      \"Top25perc\"   \"Room.Board\" \n",
       " [6] \"Personal\"    \"Terminal\"    \"perc.alumni\" \"Expend\"      \"Grad.Rate\"  "
      ]
     },
     "metadata": {},
     "output_type": "display_data"
    }
   ],
   "source": [
    "forward_selection<-rownames(coef_LR_forward)\n",
    "forward_selection<-forward_selection[2:length(forward_selection)]\n",
    "forward_selection"
   ]
  },
  {
   "cell_type": "code",
   "execution_count": 177,
   "id": "373076b9",
   "metadata": {},
   "outputs": [
    {
     "data": {
      "image/png": "[encoded data removed]",
      "text/plain": [
       "plot without title"
      ]
     },
     "metadata": {
      "image/png": {
       "height": 420,
       "width": 420
      }
     },
     "output_type": "display_data"
    },
    {
     "data": {
      "image/png": "[encoded data removed]",
      "text/plain": [
       "plot without title"
      ]
     },
     "metadata": {
      "image/png": {
       "height": 420,
       "width": 420
      }
     },
     "output_type": "display_data"
    },
    {
     "data": {
      "image/png": "[encoded data removed]",
      "text/plain": [
       "plot without title"
      ]
     },
     "metadata": {
      "image/png": {
       "height": 420,
       "width": 420
      }
     },
     "output_type": "display_data"
    },
    {
     "data": {
      "image/png": "[encoded data removed]",
      "text/plain": [
       "plot without title"
      ]
     },
     "metadata": {
      "image/png": {
       "height": 420,
       "width": 420
      }
     },
     "output_type": "display_data"
    },
    {
     "data": {
      "image/png": "[encoded data removed]",
      "text/plain": [
       "plot without title"
      ]
     },
     "metadata": {
      "image/png": {
       "height": 420,
       "width": 420
      }
     },
     "output_type": "display_data"
    },
    {
     "data": {
      "image/png": "[encoded data removed]",
      "text/plain": [
       "plot without title"
      ]
     },
     "metadata": {
      "image/png": {
       "height": 420,
       "width": 420
      }
     },
     "output_type": "display_data"
    },
    {
     "data": {
      "image/png": "[encoded data removed]",
      "text/plain": [
       "plot without title"
      ]
     },
     "metadata": {
      "image/png": {
       "height": 420,
       "width": 420
      }
     },
     "output_type": "display_data"
    },
    {
     "data": {
      "image/png": "[encoded data removed]",
      "text/plain": [
       "plot without title"
      ]
     },
     "metadata": {
      "image/png": {
       "height": 420,
       "width": 420
      }
     },
     "output_type": "display_data"
    },
    {
     "data": {
      "image/png": "[encoded data removed]",
      "text/plain": [
       "plot without title"
      ]
     },
     "metadata": {
      "image/png": {
       "height": 420,
       "width": 420
      }
     },
     "output_type": "display_data"
    },
    {
     "data": {
      "image/png": "[encoded data removed]",
      "text/plain": [
       "plot without title"
      ]
     },
     "metadata": {
      "image/png": {
       "height": 420,
       "width": 420
      }
     },
     "output_type": "display_data"
    }
   ],
   "source": [
    "#install.packages('gam')\n",
    "library(gam) \n",
    "GAM <- gam(Outstate ~ s(Accept, df=6) + s(Enroll, df=6) + s(Top25perc, df=6) +\n",
    "                             s(Room.Board, df=6) + s(Personal, df=6) + s(Terminal, df=6) +\n",
    "                             s(perc.alumni, df=6) + s(Expend, df=6) + s(Grad.Rate, df=6) +\n",
    "                             Private,\n",
    "                 data=train[, c(forward_selection, 'Outstate')])\n",
    "plot(GAM, se=TRUE, col='red')"
   ]
  }
 ],
 "metadata": {
  "kernelspec": {
   "display_name": "R",
   "language": "R",
   "name": "ir"
  },
  "language_info": {
   "codemirror_mode": "r",
   "file_extension": ".r",
   "mimetype": "text/x-r-source",
   "name": "R",
   "pygments_lexer": "r",
   "version": "4.0.5"
  }
 },
 "nbformat": 4,
 "nbformat_minor": 5
}
