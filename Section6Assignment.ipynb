{
 "cells": [
  {
   "cell_type": "code",
   "execution_count": 56,
   "id": "c73d1c82",
   "metadata": {},
   "outputs": [],
   "source": [
    "# Import libraries\n",
    "library(data.table)  # Data manipulate\n",
    "library(mlr)         # ML toolkit\n",
    "library(caret)       # ML toolkit\n",
    "library(ggplot2)     # Visualization\n",
    "library(pROC)        # AUC, ROC\n",
    "library(e1071)       # SVM\n",
    "\n",
    "# Import data\n",
    "library(ISLR)      # Data from the course book\n",
    "library(MASS)      # Boston housing dataset\n",
    "library(datasets)  # US crime dataset\n",
    "\n",
    "# Resize plot\n",
    "library(repr)  # String and binary representations\n",
    "#options(repr.plot.width=4, repr.plot.height=4)\n",
    "#par(cex.lab=0.8, cex.axis=0.8, cex.main=0.8, cex.sub=0.8)\n",
    "library(ggplot2)\n",
    "library(data.table)\n",
    "library(tidyverse)\n",
    "library(dplyr)\n",
    "\n",
    "#install.packages()\n",
    "#resource https://blog.princehonest.com/stat-learning/"
   ]
  },
  {
   "cell_type": "code",
   "execution_count": 57,
   "id": "d57ee527",
   "metadata": {},
   "outputs": [
    {
     "data": {
      "text/html": [
       "<table class=\"dataframe\">\n",
       "<caption>A matrix: 6 × 2 of type dbl</caption>\n",
       "<tbody>\n",
       "\t<tr><td>1</td><td>4</td></tr>\n",
       "\t<tr><td>1</td><td>3</td></tr>\n",
       "\t<tr><td>0</td><td>4</td></tr>\n",
       "\t<tr><td>5</td><td>1</td></tr>\n",
       "\t<tr><td>6</td><td>2</td></tr>\n",
       "\t<tr><td>4</td><td>0</td></tr>\n",
       "</tbody>\n",
       "</table>\n"
      ],
      "text/latex": [
       "A matrix: 6 × 2 of type dbl\n",
       "\\begin{tabular}{ll}\n",
       "\t 1 & 4\\\\\n",
       "\t 1 & 3\\\\\n",
       "\t 0 & 4\\\\\n",
       "\t 5 & 1\\\\\n",
       "\t 6 & 2\\\\\n",
       "\t 4 & 0\\\\\n",
       "\\end{tabular}\n"
      ],
      "text/markdown": [
       "\n",
       "A matrix: 6 × 2 of type dbl\n",
       "\n",
       "| 1 | 4 |\n",
       "| 1 | 3 |\n",
       "| 0 | 4 |\n",
       "| 5 | 1 |\n",
       "| 6 | 2 |\n",
       "| 4 | 0 |\n",
       "\n"
      ],
      "text/plain": [
       "     [,1] [,2]\n",
       "[1,] 1    4   \n",
       "[2,] 1    3   \n",
       "[3,] 0    4   \n",
       "[4,] 5    1   \n",
       "[5,] 6    2   \n",
       "[6,] 4    0   "
      ]
     },
     "metadata": {},
     "output_type": "display_data"
    }
   ],
   "source": [
    "#Exercise 3 (p.414, Chap.10),\n",
    "set.seed(123)\n",
    "x = cbind(c(1, 1, 0, 5, 6, 4), c(4, 3, 4, 1, 2, 0))\n",
    "x"
   ]
  },
  {
   "cell_type": "code",
   "execution_count": 58,
   "id": "d184eeaa",
   "metadata": {},
   "outputs": [
    {
     "data": {
      "image/png": "[encoded data removed]",
      "text/plain": [
       "plot without title"
      ]
     },
     "metadata": {
      "image/png": {
       "height": 420,
       "width": 420
      }
     },
     "output_type": "display_data"
    }
   ],
   "source": [
    "#a.\n",
    "plot(x[,1], x[,2])"
   ]
  },
  {
   "cell_type": "code",
   "execution_count": 59,
   "id": "f4aa3470",
   "metadata": {},
   "outputs": [
    {
     "data": {
      "text/html": [
       "<style>\n",
       ".list-inline {list-style: none; margin:0; padding: 0}\n",
       ".list-inline>li {display: inline-block}\n",
       ".list-inline>li:not(:last-child)::after {content: \"\\00b7\"; padding: 0 .5ex}\n",
       "</style>\n",
       "<ol class=list-inline><li>1</li><li>1</li><li>1</li><li>2</li><li>1</li><li>2</li></ol>\n"
      ],
      "text/latex": [
       "\\begin{enumerate*}\n",
       "\\item 1\n",
       "\\item 1\n",
       "\\item 1\n",
       "\\item 2\n",
       "\\item 1\n",
       "\\item 2\n",
       "\\end{enumerate*}\n"
      ],
      "text/markdown": [
       "1. 1\n",
       "2. 1\n",
       "3. 1\n",
       "4. 2\n",
       "5. 1\n",
       "6. 2\n",
       "\n",
       "\n"
      ],
      "text/plain": [
       "[1] 1 1 1 2 1 2"
      ]
     },
     "metadata": {},
     "output_type": "display_data"
    }
   ],
   "source": [
    "#b.\n",
    "set.seed(123)\n",
    "cluster_label = sample(2, nrow(x), replace=T)\n",
    "cluster_label"
   ]
  },
  {
   "cell_type": "code",
   "execution_count": 60,
   "id": "3194d358",
   "metadata": {},
   "outputs": [
    {
     "data": {
      "text/html": [
       "<style>\n",
       ".list-inline {list-style: none; margin:0; padding: 0}\n",
       ".list-inline>li {display: inline-block}\n",
       ".list-inline>li:not(:last-child)::after {content: \"\\00b7\"; padding: 0 .5ex}\n",
       "</style>\n",
       "<ol class=list-inline><li>4.5</li><li>0.5</li></ol>\n"
      ],
      "text/latex": [
       "\\begin{enumerate*}\n",
       "\\item 4.5\n",
       "\\item 0.5\n",
       "\\end{enumerate*}\n"
      ],
      "text/markdown": [
       "1. 4.5\n",
       "2. 0.5\n",
       "\n",
       "\n"
      ],
      "text/plain": [
       "[1] 4.5 0.5"
      ]
     },
     "metadata": {},
     "output_type": "display_data"
    }
   ],
   "source": [
    "#c.\n",
    "centroid1 = c(mean(x[cluster_label==1, 1]), mean(x[cluster_label==1, 2]))\n",
    "centroid2 = c(mean(x[cluster_label==2, 1]), mean(x[cluster_label==2, 2]))\n",
    "centroid2"
   ]
  },
  {
   "cell_type": "code",
   "execution_count": 61,
   "id": "3aec5902",
   "metadata": {},
   "outputs": [
    {
     "data": {
      "image/png": "[encoded data removed]",
      "text/plain": [
       "plot without title"
      ]
     },
     "metadata": {
      "image/png": {
       "height": 420,
       "width": 420
      }
     },
     "output_type": "display_data"
    }
   ],
   "source": [
    "plot(x[,1], x[,2], col=(labels+1), pch=20, cex=2)\n",
    "points(centroid1[1], centroid1[2], col=2, pch=4)\n",
    "points(centroid2[1], centroid2[2], col=3, pch=4)"
   ]
  },
  {
   "cell_type": "code",
   "execution_count": 62,
   "id": "e9016bd2",
   "metadata": {},
   "outputs": [],
   "source": [
    "euclid = function(a, b) {\n",
    "  return(sqrt((a[1] - b[1])^2 + (a[2]-b[2])^2))\n",
    "}\n",
    "assign_labels = function(x, centroid1, centroid2) {\n",
    "  labels = rep(NA, nrow(x))\n",
    "  for (i in 1:nrow(x)) {\n",
    "    if (euclid(x[i,], centroid1) < euclid(x[i,], centroid2)) {\n",
    "      labels[i] = 1\n",
    "    } else {\n",
    "      labels[i] = 2\n",
    "    }\n",
    "  }\n",
    "  return(labels)\n",
    "}"
   ]
  },
  {
   "cell_type": "code",
   "execution_count": 63,
   "id": "6cb54b52",
   "metadata": {},
   "outputs": [
    {
     "data": {
      "text/html": [
       "<style>\n",
       ".list-inline {list-style: none; margin:0; padding: 0}\n",
       ".list-inline>li {display: inline-block}\n",
       ".list-inline>li:not(:last-child)::after {content: \"\\00b7\"; padding: 0 .5ex}\n",
       "</style>\n",
       "<ol class=list-inline><li>1</li><li>1</li><li>1</li><li>2</li><li>2</li><li>2</li></ol>\n"
      ],
      "text/latex": [
       "\\begin{enumerate*}\n",
       "\\item 1\n",
       "\\item 1\n",
       "\\item 1\n",
       "\\item 2\n",
       "\\item 2\n",
       "\\item 2\n",
       "\\end{enumerate*}\n"
      ],
      "text/markdown": [
       "1. 1\n",
       "2. 1\n",
       "3. 1\n",
       "4. 2\n",
       "5. 2\n",
       "6. 2\n",
       "\n",
       "\n"
      ],
      "text/plain": [
       "[1] 1 1 1 2 2 2"
      ]
     },
     "metadata": {},
     "output_type": "display_data"
    }
   ],
   "source": [
    "labels = assign_labels(x, centroid1, centroid2)\n",
    "labels"
   ]
  },
  {
   "cell_type": "code",
   "execution_count": 64,
   "id": "39a9f982",
   "metadata": {},
   "outputs": [
    {
     "name": "stdout",
     "output_type": "stream",
     "text": [
      "[1] 0.6666667 3.6666667\n",
      "[1] 5 1\n"
     ]
    },
    {
     "data": {
      "text/html": [
       "<style>\n",
       ".list-inline {list-style: none; margin:0; padding: 0}\n",
       ".list-inline>li {display: inline-block}\n",
       ".list-inline>li:not(:last-child)::after {content: \"\\00b7\"; padding: 0 .5ex}\n",
       "</style>\n",
       "<ol class=list-inline><li>1</li><li>1</li><li>1</li><li>2</li><li>2</li><li>2</li></ol>\n"
      ],
      "text/latex": [
       "\\begin{enumerate*}\n",
       "\\item 1\n",
       "\\item 1\n",
       "\\item 1\n",
       "\\item 2\n",
       "\\item 2\n",
       "\\item 2\n",
       "\\end{enumerate*}\n"
      ],
      "text/markdown": [
       "1. 1\n",
       "2. 1\n",
       "3. 1\n",
       "4. 2\n",
       "5. 2\n",
       "6. 2\n",
       "\n",
       "\n"
      ],
      "text/plain": [
       "[1] 1 1 1 2 2 2"
      ]
     },
     "metadata": {},
     "output_type": "display_data"
    }
   ],
   "source": [
    "#e.\n",
    "last_labels = rep(-1, 6)\n",
    "while (!all(last_labels == labels)) {\n",
    "  last_labels = labels\n",
    "  centroid1 = c(mean(x[labels==1, 1]), mean(x[labels==1, 2]))\n",
    "  centroid2 = c(mean(x[labels==2, 1]), mean(x[labels==2, 2]))\n",
    "  print(centroid1)\n",
    "  print(centroid2)\n",
    "  labels = assign_labels(x, centroid1, centroid2)\n",
    "}\n",
    "labels"
   ]
  },
  {
   "cell_type": "code",
   "execution_count": 65,
   "id": "fd5cf095",
   "metadata": {},
   "outputs": [
    {
     "data": {
      "image/png": "[encoded data removed]",
      "text/plain": [
       "plot without title"
      ]
     },
     "metadata": {
      "image/png": {
       "height": 420,
       "width": 420
      }
     },
     "output_type": "display_data"
    }
   ],
   "source": [
    "#f.\n",
    "plot(x[,1], x[,2], col=(labels+1), pch=20, cex=2)\n",
    "points(centroid1[1], centroid1[2], col=2, pch=4)\n",
    "points(centroid2[1], centroid2[2], col=3, pch=4)"
   ]
  },
  {
   "cell_type": "code",
   "execution_count": 66,
   "id": "279c241e",
   "metadata": {},
   "outputs": [
    {
     "data": {
      "text/html": [
       "<style>\n",
       ".list-inline {list-style: none; margin:0; padding: 0}\n",
       ".list-inline>li {display: inline-block}\n",
       ".list-inline>li:not(:last-child)::after {content: \"\\00b7\"; padding: 0 .5ex}\n",
       "</style>\n",
       "<ol class=list-inline><li>0.620060394787374</li><li>0.24744128813496</li><li>0.0891407951452074</li><li>0.0433575219324588</li></ol>\n"
      ],
      "text/latex": [
       "\\begin{enumerate*}\n",
       "\\item 0.620060394787374\n",
       "\\item 0.24744128813496\n",
       "\\item 0.0891407951452074\n",
       "\\item 0.0433575219324588\n",
       "\\end{enumerate*}\n"
      ],
      "text/markdown": [
       "1. 0.620060394787374\n",
       "2. 0.24744128813496\n",
       "3. 0.0891407951452074\n",
       "4. 0.0433575219324588\n",
       "\n",
       "\n"
      ],
      "text/plain": [
       "[1] 0.62006039 0.24744129 0.08914080 0.04335752"
      ]
     },
     "metadata": {},
     "output_type": "display_data"
    }
   ],
   "source": [
    "#Exercise 8 (p.416, Chap.10),\n",
    "#a.\n",
    "set.seed(123)\n",
    "pr.out = prcomp(USArrests, center=T, scale=T)\n",
    "pr.var = pr.out$sdev^2\n",
    "pve = pr.var / sum(pr.var)\n",
    "pve"
   ]
  },
  {
   "cell_type": "code",
   "execution_count": 67,
   "id": "e012ff5d",
   "metadata": {},
   "outputs": [
    {
     "data": {
      "text/html": [
       "<style>\n",
       ".list-inline {list-style: none; margin:0; padding: 0}\n",
       ".list-inline>li {display: inline-block}\n",
       ".list-inline>li:not(:last-child)::after {content: \"\\00b7\"; padding: 0 .5ex}\n",
       "</style>\n",
       "<ol class=list-inline><li>0.620060394787374</li><li>0.24744128813496</li><li>0.0891407951452075</li><li>0.0433575219324588</li></ol>\n"
      ],
      "text/latex": [
       "\\begin{enumerate*}\n",
       "\\item 0.620060394787374\n",
       "\\item 0.24744128813496\n",
       "\\item 0.0891407951452075\n",
       "\\item 0.0433575219324588\n",
       "\\end{enumerate*}\n"
      ],
      "text/markdown": [
       "1. 0.620060394787374\n",
       "2. 0.24744128813496\n",
       "3. 0.0891407951452075\n",
       "4. 0.0433575219324588\n",
       "\n",
       "\n"
      ],
      "text/plain": [
       "[1] 0.62006039 0.24744129 0.08914080 0.04335752"
      ]
     },
     "metadata": {},
     "output_type": "display_data"
    }
   ],
   "source": [
    "#b.\n",
    "loadings = pr.out$rotation\n",
    "pve2 = rep(NA, 4)\n",
    "dmean = apply(USArrests, 2, mean)\n",
    "dsdev = sqrt(apply(USArrests, 2, var))\n",
    "dsc = sweep(USArrests, MARGIN=2, dmean, \"-\")\n",
    "dsc = sweep(dsc, MARGIN=2, dsdev, \"/\")\n",
    "for (i in 1:4) {\n",
    "  proto_x = sweep(dsc, MARGIN=2, loadings[,i], \"*\")\n",
    "  pc_x = apply(proto_x, 1, sum)\n",
    "  pve2[i] = sum(pc_x^2)\n",
    "}\n",
    "pve2 = pve2/sum(dsc^2)\n",
    "pve2\n",
    "#same results in both the parts as expected by question"
   ]
  },
  {
   "cell_type": "code",
   "execution_count": 68,
   "id": "0c8a49e6",
   "metadata": {},
   "outputs": [
    {
     "data": {
      "image/png": "[encoded data removed]",
      "text/plain": [
       "Plot with title \"Cluster Dendrogram\""
      ]
     },
     "metadata": {
      "image/png": {
       "height": 420,
       "width": 420
      }
     },
     "output_type": "display_data"
    }
   ],
   "source": [
    "#Exercise 9 (p.416, Chap.10)\n",
    "#a.\n",
    "set.seed(123)\n",
    "hc.complete = hclust(dist(USArrests), method=\"complete\")\n",
    "plot(hc.complete)"
   ]
  },
  {
   "cell_type": "code",
   "execution_count": 69,
   "id": "5d99fd46",
   "metadata": {},
   "outputs": [
    {
     "data": {
      "text/html": [
       "<table class=\"dataframe\">\n",
       "<caption>A data.frame: 6 × 1</caption>\n",
       "<thead>\n",
       "\t<tr><th></th><th scope=col>cutree.hc.complete..3.</th></tr>\n",
       "\t<tr><th></th><th scope=col>&lt;int&gt;</th></tr>\n",
       "</thead>\n",
       "<tbody>\n",
       "\t<tr><th scope=row>Alabama</th><td>1</td></tr>\n",
       "\t<tr><th scope=row>Alaska</th><td>1</td></tr>\n",
       "\t<tr><th scope=row>Arizona</th><td>1</td></tr>\n",
       "\t<tr><th scope=row>Arkansas</th><td>2</td></tr>\n",
       "\t<tr><th scope=row>California</th><td>1</td></tr>\n",
       "\t<tr><th scope=row>Colorado</th><td>2</td></tr>\n",
       "</tbody>\n",
       "</table>\n"
      ],
      "text/latex": [
       "A data.frame: 6 × 1\n",
       "\\begin{tabular}{r|l}\n",
       "  & cutree.hc.complete..3.\\\\\n",
       "  & <int>\\\\\n",
       "\\hline\n",
       "\tAlabama & 1\\\\\n",
       "\tAlaska & 1\\\\\n",
       "\tArizona & 1\\\\\n",
       "\tArkansas & 2\\\\\n",
       "\tCalifornia & 1\\\\\n",
       "\tColorado & 2\\\\\n",
       "\\end{tabular}\n"
      ],
      "text/markdown": [
       "\n",
       "A data.frame: 6 × 1\n",
       "\n",
       "| <!--/--> | cutree.hc.complete..3. &lt;int&gt; |\n",
       "|---|---|\n",
       "| Alabama | 1 |\n",
       "| Alaska | 1 |\n",
       "| Arizona | 1 |\n",
       "| Arkansas | 2 |\n",
       "| California | 1 |\n",
       "| Colorado | 2 |\n",
       "\n"
      ],
      "text/plain": [
       "           cutree.hc.complete..3.\n",
       "Alabama    1                     \n",
       "Alaska     1                     \n",
       "Arizona    1                     \n",
       "Arkansas   2                     \n",
       "California 1                     \n",
       "Colorado   2                     "
      ]
     },
     "metadata": {},
     "output_type": "display_data"
    }
   ],
   "source": [
    "#b.\n",
    "head(data.frame(cutree(hc.complete, 3)))"
   ]
  },
  {
   "cell_type": "code",
   "execution_count": 70,
   "id": "806a74fc",
   "metadata": {},
   "outputs": [
    {
     "data": {
      "text/html": [
       "<table class=\"dataframe\">\n",
       "<caption>A data.frame: 3 × 2</caption>\n",
       "<thead>\n",
       "\t<tr><th scope=col>Var1</th><th scope=col>Freq</th></tr>\n",
       "\t<tr><th scope=col>&lt;fct&gt;</th><th scope=col>&lt;int&gt;</th></tr>\n",
       "</thead>\n",
       "<tbody>\n",
       "\t<tr><td>1</td><td>16</td></tr>\n",
       "\t<tr><td>2</td><td>14</td></tr>\n",
       "\t<tr><td>3</td><td>20</td></tr>\n",
       "</tbody>\n",
       "</table>\n"
      ],
      "text/latex": [
       "A data.frame: 3 × 2\n",
       "\\begin{tabular}{ll}\n",
       " Var1 & Freq\\\\\n",
       " <fct> & <int>\\\\\n",
       "\\hline\n",
       "\t 1 & 16\\\\\n",
       "\t 2 & 14\\\\\n",
       "\t 3 & 20\\\\\n",
       "\\end{tabular}\n"
      ],
      "text/markdown": [
       "\n",
       "A data.frame: 3 × 2\n",
       "\n",
       "| Var1 &lt;fct&gt; | Freq &lt;int&gt; |\n",
       "|---|---|\n",
       "| 1 | 16 |\n",
       "| 2 | 14 |\n",
       "| 3 | 20 |\n",
       "\n"
      ],
      "text/plain": [
       "  Var1 Freq\n",
       "1 1    16  \n",
       "2 2    14  \n",
       "3 3    20  "
      ]
     },
     "metadata": {},
     "output_type": "display_data"
    }
   ],
   "source": [
    "data.frame(table(cutree(hc.complete, 3)))"
   ]
  },
  {
   "cell_type": "code",
   "execution_count": 71,
   "id": "280dd3db",
   "metadata": {},
   "outputs": [
    {
     "data": {
      "image/png": "[encoded data removed]",
      "text/plain": [
       "Plot with title \"Cluster Dendrogram\""
      ]
     },
     "metadata": {
      "image/png": {
       "height": 420,
       "width": 420
      }
     },
     "output_type": "display_data"
    }
   ],
   "source": [
    "#c.\n",
    "dsc = scale(USArrests)\n",
    "hc.s.complete = hclust(dist(dsc), method=\"complete\")\n",
    "plot(hc.s.complete)"
   ]
  },
  {
   "cell_type": "code",
   "execution_count": 72,
   "id": "b2f1860b",
   "metadata": {},
   "outputs": [
    {
     "data": {
      "text/html": [
       "<table class=\"dataframe\">\n",
       "<caption>A data.frame: 6 × 1</caption>\n",
       "<thead>\n",
       "\t<tr><th></th><th scope=col>cutree.hc.s.complete..3.</th></tr>\n",
       "\t<tr><th></th><th scope=col>&lt;int&gt;</th></tr>\n",
       "</thead>\n",
       "<tbody>\n",
       "\t<tr><th scope=row>Alabama</th><td>1</td></tr>\n",
       "\t<tr><th scope=row>Alaska</th><td>1</td></tr>\n",
       "\t<tr><th scope=row>Arizona</th><td>2</td></tr>\n",
       "\t<tr><th scope=row>Arkansas</th><td>3</td></tr>\n",
       "\t<tr><th scope=row>California</th><td>2</td></tr>\n",
       "\t<tr><th scope=row>Colorado</th><td>2</td></tr>\n",
       "</tbody>\n",
       "</table>\n"
      ],
      "text/latex": [
       "A data.frame: 6 × 1\n",
       "\\begin{tabular}{r|l}\n",
       "  & cutree.hc.s.complete..3.\\\\\n",
       "  & <int>\\\\\n",
       "\\hline\n",
       "\tAlabama & 1\\\\\n",
       "\tAlaska & 1\\\\\n",
       "\tArizona & 2\\\\\n",
       "\tArkansas & 3\\\\\n",
       "\tCalifornia & 2\\\\\n",
       "\tColorado & 2\\\\\n",
       "\\end{tabular}\n"
      ],
      "text/markdown": [
       "\n",
       "A data.frame: 6 × 1\n",
       "\n",
       "| <!--/--> | cutree.hc.s.complete..3. &lt;int&gt; |\n",
       "|---|---|\n",
       "| Alabama | 1 |\n",
       "| Alaska | 1 |\n",
       "| Arizona | 2 |\n",
       "| Arkansas | 3 |\n",
       "| California | 2 |\n",
       "| Colorado | 2 |\n",
       "\n"
      ],
      "text/plain": [
       "           cutree.hc.s.complete..3.\n",
       "Alabama    1                       \n",
       "Alaska     1                       \n",
       "Arizona    2                       \n",
       "Arkansas   3                       \n",
       "California 2                       \n",
       "Colorado   2                       "
      ]
     },
     "metadata": {},
     "output_type": "display_data"
    }
   ],
   "source": [
    "#d.\n",
    "head(data.frame(cutree(hc.s.complete, 3)))"
   ]
  },
  {
   "cell_type": "code",
   "execution_count": 73,
   "id": "3c9413d6",
   "metadata": {},
   "outputs": [
    {
     "data": {
      "text/html": [
       "<table class=\"dataframe\">\n",
       "<caption>A data.frame: 3 × 2</caption>\n",
       "<thead>\n",
       "\t<tr><th scope=col>Var1</th><th scope=col>Freq</th></tr>\n",
       "\t<tr><th scope=col>&lt;fct&gt;</th><th scope=col>&lt;int&gt;</th></tr>\n",
       "</thead>\n",
       "<tbody>\n",
       "\t<tr><td>1</td><td> 8</td></tr>\n",
       "\t<tr><td>2</td><td>11</td></tr>\n",
       "\t<tr><td>3</td><td>31</td></tr>\n",
       "</tbody>\n",
       "</table>\n"
      ],
      "text/latex": [
       "A data.frame: 3 × 2\n",
       "\\begin{tabular}{ll}\n",
       " Var1 & Freq\\\\\n",
       " <fct> & <int>\\\\\n",
       "\\hline\n",
       "\t 1 &  8\\\\\n",
       "\t 2 & 11\\\\\n",
       "\t 3 & 31\\\\\n",
       "\\end{tabular}\n"
      ],
      "text/markdown": [
       "\n",
       "A data.frame: 3 × 2\n",
       "\n",
       "| Var1 &lt;fct&gt; | Freq &lt;int&gt; |\n",
       "|---|---|\n",
       "| 1 |  8 |\n",
       "| 2 | 11 |\n",
       "| 3 | 31 |\n",
       "\n"
      ],
      "text/plain": [
       "  Var1 Freq\n",
       "1 1     8  \n",
       "2 2    11  \n",
       "3 3    31  "
      ]
     },
     "metadata": {},
     "output_type": "display_data"
    }
   ],
   "source": [
    "data.frame(table(cutree(hc.s.complete, 3)))"
   ]
  },
  {
   "cell_type": "code",
   "execution_count": 74,
   "id": "5fcfe0b0",
   "metadata": {},
   "outputs": [
    {
     "data": {
      "text/html": [
       "<table class=\"dataframe\">\n",
       "<caption>A data.frame: 9 × 3</caption>\n",
       "<thead>\n",
       "\t<tr><th scope=col>Var1</th><th scope=col>Var2</th><th scope=col>Freq</th></tr>\n",
       "\t<tr><th scope=col>&lt;fct&gt;</th><th scope=col>&lt;fct&gt;</th><th scope=col>&lt;int&gt;</th></tr>\n",
       "</thead>\n",
       "<tbody>\n",
       "\t<tr><td>1</td><td>1</td><td> 6</td></tr>\n",
       "\t<tr><td>2</td><td>1</td><td> 9</td></tr>\n",
       "\t<tr><td>3</td><td>1</td><td> 1</td></tr>\n",
       "\t<tr><td>1</td><td>2</td><td> 2</td></tr>\n",
       "\t<tr><td>2</td><td>2</td><td> 2</td></tr>\n",
       "\t<tr><td>3</td><td>2</td><td>10</td></tr>\n",
       "\t<tr><td>1</td><td>3</td><td> 0</td></tr>\n",
       "\t<tr><td>2</td><td>3</td><td> 0</td></tr>\n",
       "\t<tr><td>3</td><td>3</td><td>20</td></tr>\n",
       "</tbody>\n",
       "</table>\n"
      ],
      "text/latex": [
       "A data.frame: 9 × 3\n",
       "\\begin{tabular}{lll}\n",
       " Var1 & Var2 & Freq\\\\\n",
       " <fct> & <fct> & <int>\\\\\n",
       "\\hline\n",
       "\t 1 & 1 &  6\\\\\n",
       "\t 2 & 1 &  9\\\\\n",
       "\t 3 & 1 &  1\\\\\n",
       "\t 1 & 2 &  2\\\\\n",
       "\t 2 & 2 &  2\\\\\n",
       "\t 3 & 2 & 10\\\\\n",
       "\t 1 & 3 &  0\\\\\n",
       "\t 2 & 3 &  0\\\\\n",
       "\t 3 & 3 & 20\\\\\n",
       "\\end{tabular}\n"
      ],
      "text/markdown": [
       "\n",
       "A data.frame: 9 × 3\n",
       "\n",
       "| Var1 &lt;fct&gt; | Var2 &lt;fct&gt; | Freq &lt;int&gt; |\n",
       "|---|---|---|\n",
       "| 1 | 1 |  6 |\n",
       "| 2 | 1 |  9 |\n",
       "| 3 | 1 |  1 |\n",
       "| 1 | 2 |  2 |\n",
       "| 2 | 2 |  2 |\n",
       "| 3 | 2 | 10 |\n",
       "| 1 | 3 |  0 |\n",
       "| 2 | 3 |  0 |\n",
       "| 3 | 3 | 20 |\n",
       "\n"
      ],
      "text/plain": [
       "  Var1 Var2 Freq\n",
       "1 1    1     6  \n",
       "2 2    1     9  \n",
       "3 3    1     1  \n",
       "4 1    2     2  \n",
       "5 2    2     2  \n",
       "6 3    2    10  \n",
       "7 1    3     0  \n",
       "8 2    3     0  \n",
       "9 3    3    20  "
      ]
     },
     "metadata": {},
     "output_type": "display_data"
    }
   ],
   "source": [
    "data.frame(table(cutree(hc.s.complete, 3), cutree(hc.complete, 3)))"
   ]
  },
  {
   "cell_type": "code",
   "execution_count": 75,
   "id": "c54ef018",
   "metadata": {},
   "outputs": [],
   "source": [
    "#Exercise 10 (p.417, Chap.10),\n",
    "#a.\n",
    "set.seed(123)\n",
    "x = matrix(rnorm(20*3*50, mean=0, sd=0.001), ncol=50)\n",
    "x[1:20, 2] = 1\n",
    "x[21:40, 1] = 2\n",
    "x[21:40, 2] = 2\n",
    "x[41:60, 1] = 1"
   ]
  },
  {
   "cell_type": "code",
   "execution_count": 76,
   "id": "a45fef1a",
   "metadata": {},
   "outputs": [
    {
     "data": {
      "text/plain": [
       "Importance of components:\n",
       "                         PC1    PC2      PC3      PC4      PC5      PC6\n",
       "Standard deviation     1.008 0.5823 0.001858 0.001718 0.001669 0.001658\n",
       "Proportion of Variance 0.750 0.2500 0.000000 0.000000 0.000000 0.000000\n",
       "Cumulative Proportion  0.750 1.0000 0.999970 0.999970 0.999970 0.999970\n",
       "                            PC7      PC8      PC9     PC10     PC11     PC12\n",
       "Standard deviation     0.001627 0.001542 0.001463 0.001408 0.001356 0.001313\n",
       "Proportion of Variance 0.000000 0.000000 0.000000 0.000000 0.000000 0.000000\n",
       "Cumulative Proportion  0.999980 0.999980 0.999980 0.999980 0.999980 0.999980\n",
       "                           PC13     PC14     PC15     PC16     PC17     PC18\n",
       "Standard deviation     0.001284 0.001257 0.001202 0.001139 0.001129 0.001104\n",
       "Proportion of Variance 0.000000 0.000000 0.000000 0.000000 0.000000 0.000000\n",
       "Cumulative Proportion  0.999990 0.999990 0.999990 0.999990 0.999990 0.999990\n",
       "                           PC19     PC20     PC21      PC22      PC23      PC24\n",
       "Standard deviation     0.001079 0.001034 0.001004 0.0009466 0.0009253 0.0009016\n",
       "Proportion of Variance 0.000000 0.000000 0.000000 0.0000000 0.0000000 0.0000000\n",
       "Cumulative Proportion  0.999990 0.999990 0.999990 0.9999900 0.9999900 0.9999900\n",
       "                           PC25      PC26      PC27     PC28      PC29  PC30\n",
       "Standard deviation     0.000888 0.0008498 0.0007979 0.000785 0.0007489 7e-04\n",
       "Proportion of Variance 0.000000 0.0000000 0.0000000 0.000000 0.0000000 0e+00\n",
       "Cumulative Proportion  1.000000 1.0000000 1.0000000 1.000000 1.0000000 1e+00\n",
       "                            PC31      PC32      PC33     PC34      PC35\n",
       "Standard deviation     0.0006661 0.0006375 0.0006101 0.000573 0.0005366\n",
       "Proportion of Variance 0.0000000 0.0000000 0.0000000 0.000000 0.0000000\n",
       "Cumulative Proportion  1.0000000 1.0000000 1.0000000 1.000000 1.0000000\n",
       "                           PC36      PC37      PC38      PC39      PC40\n",
       "Standard deviation     0.000514 0.0005004 0.0004684 0.0004261 0.0003927\n",
       "Proportion of Variance 0.000000 0.0000000 0.0000000 0.0000000 0.0000000\n",
       "Cumulative Proportion  1.000000 1.0000000 1.0000000 1.0000000 1.0000000\n",
       "                            PC41      PC42      PC43      PC44     PC45\n",
       "Standard deviation     0.0003856 0.0003346 0.0003208 0.0002896 0.000284\n",
       "Proportion of Variance 0.0000000 0.0000000 0.0000000 0.0000000 0.000000\n",
       "Cumulative Proportion  1.0000000 1.0000000 1.0000000 1.0000000 1.000000\n",
       "                            PC46      PC47      PC48      PC49      PC50\n",
       "Standard deviation     0.0002562 0.0002035 0.0001649 0.0001437 0.0001089\n",
       "Proportion of Variance 0.0000000 0.0000000 0.0000000 0.0000000 0.0000000\n",
       "Cumulative Proportion  1.0000000 1.0000000 1.0000000 1.0000000 1.0000000"
      ]
     },
     "metadata": {},
     "output_type": "display_data"
    }
   ],
   "source": [
    "#b.\n",
    "pca.out = prcomp(x)\n",
    "summary(pca.out)"
   ]
  },
  {
   "cell_type": "code",
   "execution_count": 77,
   "id": "d11e3a23",
   "metadata": {},
   "outputs": [
    {
     "data": {
      "text/html": [
       "<table class=\"dataframe\">\n",
       "<caption>A matrix: 60 × 50 of type dbl</caption>\n",
       "<thead>\n",
       "\t<tr><th scope=col>PC1</th><th scope=col>PC2</th><th scope=col>PC3</th><th scope=col>PC4</th><th scope=col>PC5</th><th scope=col>PC6</th><th scope=col>PC7</th><th scope=col>PC8</th><th scope=col>PC9</th><th scope=col>PC10</th><th scope=col>⋯</th><th scope=col>PC41</th><th scope=col>PC42</th><th scope=col>PC43</th><th scope=col>PC44</th><th scope=col>PC45</th><th scope=col>PC46</th><th scope=col>PC47</th><th scope=col>PC48</th><th scope=col>PC49</th><th scope=col>PC50</th></tr>\n",
       "</thead>\n",
       "<tbody>\n",
       "\t<tr><td>-0.7072765</td><td>-0.7077973111</td><td> 1.073820e-03</td><td> 9.286418e-04</td><td> 3.788533e-04</td><td>-3.272551e-03</td><td> 1.931387e-04</td><td> 3.001716e-04</td><td>-0.0010222195</td><td>-6.837075e-04</td><td>⋯</td><td> 6.564052e-04</td><td>-2.481211e-04</td><td>-2.121890e-05</td><td>-1.835757e-04</td><td>-1.790601e-04</td><td> 8.260529e-05</td><td>-7.307455e-05</td><td> 6.568269e-05</td><td>-9.436681e-05</td><td>-1.859924e-04</td></tr>\n",
       "\t<tr><td>-0.7070423</td><td>-0.7075635227</td><td> 2.616540e-03</td><td> 6.078814e-04</td><td>-5.516618e-04</td><td>-2.790691e-03</td><td>-2.197537e-03</td><td> 1.312596e-04</td><td>-0.0010130438</td><td>-3.111630e-03</td><td>⋯</td><td> 1.957561e-04</td><td>-2.795378e-04</td><td> 2.868274e-04</td><td>-2.990738e-04</td><td>-2.040504e-04</td><td>-2.567564e-04</td><td> 8.718131e-05</td><td> 1.654917e-04</td><td> 1.058088e-04</td><td>-3.026212e-05</td></tr>\n",
       "\t<tr><td>-0.7057782</td><td>-0.7062989686</td><td> 1.270168e-03</td><td> 1.414063e-03</td><td>-3.455995e-03</td><td>-5.000372e-04</td><td> 1.809437e-03</td><td> 1.223335e-03</td><td> 0.0004421023</td><td> 7.528689e-05</td><td>⋯</td><td> 3.568500e-04</td><td> 1.327630e-04</td><td> 1.517588e-04</td><td>-4.668780e-05</td><td> 2.066690e-04</td><td> 1.944731e-04</td><td> 1.779595e-04</td><td> 2.597855e-04</td><td>-7.466150e-05</td><td> 2.348449e-05</td></tr>\n",
       "\t<tr><td>-0.7068289</td><td>-0.7073522551</td><td>-1.013248e-03</td><td> 7.904093e-04</td><td>-1.228239e-03</td><td> 1.028921e-04</td><td>-6.082778e-04</td><td> 3.576527e-03</td><td>-0.0008364986</td><td> 8.896895e-05</td><td>⋯</td><td> 4.837722e-05</td><td> 2.029646e-04</td><td>-3.796372e-05</td><td> 2.963058e-04</td><td> 1.806793e-04</td><td> 1.482938e-04</td><td> 6.491234e-05</td><td> 3.656872e-05</td><td> 2.790720e-05</td><td> 8.573952e-05</td></tr>\n",
       "\t<tr><td>-0.7067869</td><td>-0.7073106792</td><td> 1.959060e-03</td><td>-8.610101e-04</td><td> 2.664295e-04</td><td> 1.347226e-03</td><td>-5.572109e-04</td><td>-2.086358e-04</td><td> 0.0009536144</td><td> 1.960147e-03</td><td>⋯</td><td> 9.012757e-05</td><td> 2.822849e-04</td><td> 2.168647e-04</td><td>-3.114659e-04</td><td>-7.378118e-05</td><td> 3.724612e-04</td><td>-4.385685e-05</td><td> 1.976724e-04</td><td> 2.926599e-05</td><td>-2.350991e-05</td></tr>\n",
       "\t<tr><td>-0.7056648</td><td>-0.7061882344</td><td>-1.334355e-03</td><td> 9.128829e-04</td><td> 4.975109e-04</td><td> 5.059075e-04</td><td> 5.745936e-04</td><td>-4.643950e-04</td><td> 0.0045671959</td><td> 6.207230e-04</td><td>⋯</td><td> 6.649967e-05</td><td> 3.363141e-04</td><td>-6.901410e-04</td><td> 2.969470e-04</td><td>-2.729668e-05</td><td>-3.445206e-04</td><td> 2.932074e-04</td><td>-7.378392e-06</td><td>-7.440223e-05</td><td>-2.068140e-04</td></tr>\n",
       "\t<tr><td>-0.7065528</td><td>-0.7070769936</td><td>-8.433488e-04</td><td>-3.995280e-04</td><td> 9.012291e-04</td><td> 5.787085e-04</td><td> 2.268421e-03</td><td> 1.553814e-03</td><td>-0.0009830668</td><td>-1.547811e-03</td><td>⋯</td><td> 7.686873e-05</td><td>-4.322864e-04</td><td> 6.736434e-05</td><td>-1.390600e-04</td><td>-1.810279e-04</td><td>-4.572617e-05</td><td>-1.691294e-04</td><td>-3.263722e-04</td><td> 8.555209e-05</td><td> 1.489272e-05</td></tr>\n",
       "\t<tr><td>-0.7077727</td><td>-0.7082985534</td><td>-1.398747e-04</td><td>-1.226182e-03</td><td> 4.003060e-04</td><td> 4.661362e-04</td><td> 2.171016e-03</td><td> 1.388052e-03</td><td> 0.0011815174</td><td>-1.419475e-03</td><td>⋯</td><td> 6.471904e-04</td><td>-7.703763e-05</td><td>-4.467657e-04</td><td> 3.093093e-04</td><td> 3.102162e-04</td><td>-5.199040e-05</td><td> 1.731293e-04</td><td> 2.410885e-05</td><td> 1.832211e-04</td><td>-5.202283e-07</td></tr>\n",
       "\t<tr><td>-0.7073645</td><td>-0.7078895228</td><td>-1.067179e-03</td><td> 1.464265e-03</td><td> 1.260948e-03</td><td> 1.006357e-03</td><td>-8.175357e-04</td><td> 1.682717e-03</td><td> 0.0009934442</td><td>-7.636169e-05</td><td>⋯</td><td> 5.553009e-04</td><td>-5.775013e-04</td><td>-3.321971e-04</td><td>-1.726997e-04</td><td>-2.340077e-05</td><td>-8.202195e-05</td><td>-3.061642e-05</td><td>-5.007951e-06</td><td>-1.662971e-04</td><td> 9.596395e-05</td></tr>\n",
       "\t<tr><td>-0.7071933</td><td>-0.7077174737</td><td>-2.343243e-03</td><td>-1.557701e-04</td><td>-7.881484e-04</td><td> 5.673832e-04</td><td>-2.580313e-04</td><td>-3.230571e-03</td><td> 0.0028481293</td><td>-1.091285e-03</td><td>⋯</td><td>-4.876973e-04</td><td>-3.890131e-05</td><td> 1.447062e-04</td><td> 5.167895e-05</td><td> 1.879210e-04</td><td> 5.659791e-04</td><td>-3.195145e-04</td><td> 8.191019e-05</td><td> 6.876340e-05</td><td>-7.347719e-06</td></tr>\n",
       "\t<tr><td>-0.7060133</td><td>-0.7065385993</td><td> 5.846108e-04</td><td>-2.568159e-03</td><td>-1.835246e-03</td><td> 6.491967e-04</td><td>-3.539766e-03</td><td> 7.194627e-04</td><td>-0.0018535034</td><td> 6.443302e-04</td><td>⋯</td><td>-1.070596e-04</td><td> 1.616211e-04</td><td>-7.617671e-05</td><td> 1.270413e-04</td><td> 9.288942e-05</td><td>-6.867889e-05</td><td>-7.430139e-05</td><td> 1.689649e-04</td><td> 4.761071e-05</td><td> 9.480495e-05</td></tr>\n",
       "\t<tr><td>-0.7066247</td><td>-0.7071483080</td><td>-3.553334e-03</td><td>-4.133337e-04</td><td>-2.206244e-04</td><td>-1.372289e-04</td><td> 2.327712e-03</td><td> 1.456843e-03</td><td>-0.0004310189</td><td> 3.650126e-04</td><td>⋯</td><td>-5.640485e-04</td><td> 6.639366e-05</td><td> 1.601436e-04</td><td>-4.193349e-05</td><td>-3.448957e-04</td><td>-1.332503e-04</td><td>-1.743464e-04</td><td>-1.872179e-04</td><td> 2.005201e-05</td><td>-1.000038e-04</td></tr>\n",
       "\t<tr><td>-0.7065959</td><td>-0.7071185833</td><td> 3.526630e-03</td><td> 3.507284e-04</td><td> 2.362292e-03</td><td> 3.756594e-04</td><td> 1.051876e-04</td><td>-2.343545e-04</td><td>-0.0003238283</td><td>-3.584456e-06</td><td>⋯</td><td>-6.687565e-04</td><td> 8.064277e-05</td><td> 2.915855e-04</td><td> 1.809546e-04</td><td> 3.306779e-04</td><td>-1.655201e-04</td><td> 1.206049e-04</td><td> 7.854941e-05</td><td> 7.811666e-05</td><td> 1.558657e-04</td></tr>\n",
       "\t<tr><td>-0.7068000</td><td>-0.7073254996</td><td> 1.610531e-03</td><td>-5.363733e-05</td><td>-6.065996e-04</td><td>-1.152517e-03</td><td> 3.873523e-04</td><td>-3.310202e-03</td><td>-0.0009495149</td><td> 3.213836e-03</td><td>⋯</td><td> 3.104536e-04</td><td> 1.120909e-04</td><td> 2.658053e-04</td><td>-7.306959e-05</td><td> 9.738455e-05</td><td>-6.614209e-04</td><td>-2.645153e-04</td><td>-2.694360e-04</td><td>-3.155517e-05</td><td>-1.559934e-05</td></tr>\n",
       "\t<tr><td>-0.7072704</td><td>-0.7077967690</td><td> 2.335574e-03</td><td> 3.194603e-03</td><td>-5.689155e-04</td><td> 9.669144e-04</td><td>-1.045452e-03</td><td> 3.686634e-04</td><td>-0.0001605887</td><td>-5.613072e-06</td><td>⋯</td><td>-2.612009e-04</td><td> 9.355196e-05</td><td>-1.847349e-05</td><td>-3.304417e-04</td><td> 6.876730e-05</td><td> 8.904166e-05</td><td>-1.559756e-04</td><td>-1.702595e-04</td><td> 6.049723e-05</td><td> 9.661461e-05</td></tr>\n",
       "\t<tr><td>-0.7056147</td><td>-0.7061392451</td><td>-1.738410e-03</td><td>-3.270775e-03</td><td> 5.224189e-04</td><td>-5.372437e-04</td><td>-1.526235e-03</td><td>-3.105383e-03</td><td>-0.0012709897</td><td>-9.972802e-04</td><td>⋯</td><td>-2.582326e-04</td><td> 2.186712e-04</td><td> 4.150824e-06</td><td>-4.707370e-04</td><td>-1.914834e-04</td><td>-8.034423e-06</td><td>-1.535151e-04</td><td>-6.383921e-06</td><td> 4.359662e-05</td><td>-2.164349e-05</td></tr>\n",
       "\t<tr><td>-0.7065260</td><td>-0.7070512046</td><td>-2.448454e-03</td><td> 7.170245e-04</td><td> 9.528319e-04</td><td> 1.318033e-03</td><td> 1.078951e-03</td><td>-1.090305e-03</td><td>-0.0010764695</td><td>-2.443072e-04</td><td>⋯</td><td> 7.729009e-05</td><td> 7.714497e-04</td><td>-4.015735e-04</td><td> 3.415853e-06</td><td>-1.435480e-04</td><td>-1.030040e-07</td><td>-1.595113e-04</td><td> 1.859455e-04</td><td>-3.784868e-04</td><td>-5.418287e-05</td></tr>\n",
       "\t<tr><td>-0.7082690</td><td>-0.7087921434</td><td> 2.395599e-03</td><td> 3.588328e-04</td><td> 9.078043e-04</td><td>-4.257106e-04</td><td> 7.462215e-04</td><td>-2.344739e-04</td><td>-0.0002033831</td><td> 1.138648e-03</td><td>⋯</td><td>-5.395447e-04</td><td>-5.143914e-05</td><td>-1.195698e-04</td><td> 5.587979e-04</td><td> 3.631053e-04</td><td> 1.169448e-04</td><td> 3.649147e-04</td><td> 4.411608e-05</td><td>-6.113010e-05</td><td>-3.309283e-05</td></tr>\n",
       "\t<tr><td>-0.7063819</td><td>-0.7069072642</td><td>-1.639959e-03</td><td>-3.288117e-03</td><td> 1.355662e-03</td><td> 9.341376e-04</td><td>-9.430634e-04</td><td>-1.176016e-03</td><td> 0.0005112549</td><td> 1.268879e-03</td><td>⋯</td><td>-2.583036e-04</td><td>-7.213657e-04</td><td> 2.471280e-04</td><td>-9.568660e-05</td><td>-2.699465e-04</td><td> 2.156387e-04</td><td> 1.602875e-04</td><td>-3.988848e-04</td><td> 8.937685e-05</td><td> 1.710656e-04</td></tr>\n",
       "\t<tr><td>-0.7072127</td><td>-0.7077376550</td><td>-1.257821e-03</td><td> 1.488720e-03</td><td>-5.538106e-04</td><td> 8.624498e-07</td><td>-1.722982e-04</td><td> 6.498806e-04</td><td>-0.0013732223</td><td>-1.924118e-04</td><td>⋯</td><td> 6.286983e-05</td><td>-3.180515e-05</td><td> 3.081707e-04</td><td> 3.391593e-04</td><td>-2.009976e-04</td><td> 3.171925e-05</td><td> 1.760905e-04</td><td> 6.228064e-05</td><td> 4.107857e-05</td><td>-5.962636e-05</td></tr>\n",
       "\t<tr><td> 1.4142667</td><td> 0.0002373104</td><td> 1.490530e-03</td><td>-1.267672e-03</td><td> 3.755973e-04</td><td>-1.276636e-03</td><td>-2.464012e-03</td><td>-1.123152e-03</td><td>-0.0002020130</td><td>-5.071380e-04</td><td>⋯</td><td> 3.219704e-04</td><td>-2.541025e-04</td><td>-1.316452e-04</td><td>-3.357983e-04</td><td> 8.250531e-06</td><td>-8.136772e-05</td><td>-1.057496e-04</td><td> 1.442877e-04</td><td>-5.170771e-05</td><td> 4.379647e-05</td></tr>\n",
       "\t<tr><td> 1.4142645</td><td> 0.0002366385</td><td> 6.730440e-04</td><td>-2.312112e-03</td><td>-7.346101e-04</td><td> 7.910312e-04</td><td> 2.130838e-03</td><td> 1.707983e-03</td><td>-0.0013780940</td><td>-8.342095e-04</td><td>⋯</td><td>-7.978329e-04</td><td> 2.560154e-04</td><td>-4.100196e-04</td><td> 1.012541e-04</td><td>-4.528159e-04</td><td> 4.764902e-04</td><td>-2.459877e-05</td><td> 2.368707e-05</td><td> 1.333874e-04</td><td> 4.553071e-05</td></tr>\n",
       "\t<tr><td> 1.4142646</td><td> 0.0002334468</td><td>-8.822977e-04</td><td> 3.356227e-03</td><td> 3.305263e-04</td><td> 1.911008e-03</td><td> 1.939952e-03</td><td>-1.240572e-03</td><td>-0.0030253356</td><td> 1.403322e-03</td><td>⋯</td><td> 3.698436e-04</td><td>-1.371536e-04</td><td> 7.216166e-05</td><td>-2.000378e-04</td><td>-1.745100e-04</td><td> 5.981169e-04</td><td> 1.129080e-04</td><td> 1.006835e-05</td><td>-2.627405e-05</td><td> 1.090209e-05</td></tr>\n",
       "\t<tr><td> 1.4142646</td><td> 0.0002362316</td><td>-1.124532e-03</td><td>-5.715772e-06</td><td>-3.569842e-03</td><td>-8.892082e-04</td><td>-5.053735e-04</td><td>-1.376393e-03</td><td>-0.0014225854</td><td> 5.286538e-04</td><td>⋯</td><td>-3.114373e-04</td><td> 3.770140e-05</td><td>-2.612939e-04</td><td>-1.139142e-04</td><td>-1.107070e-04</td><td> 1.024922e-04</td><td>-3.002534e-04</td><td> 1.457530e-04</td><td> 1.133832e-04</td><td>-1.203932e-04</td></tr>\n",
       "\t<tr><td> 1.4142657</td><td> 0.0002370195</td><td> 4.260098e-04</td><td> 2.055249e-03</td><td>-3.123026e-03</td><td>-1.179207e-03</td><td>-1.034161e-03</td><td>-1.866745e-03</td><td> 0.0008491038</td><td> 6.242098e-04</td><td>⋯</td><td>-1.744137e-05</td><td>-3.410658e-04</td><td>-4.973116e-04</td><td> 2.169225e-04</td><td>-1.356303e-04</td><td>-1.153707e-04</td><td>-1.022696e-04</td><td> 1.389845e-04</td><td> 2.715901e-04</td><td> 4.579567e-05</td></tr>\n",
       "\t<tr><td> 1.4142657</td><td> 0.0002350949</td><td> 1.259175e-03</td><td> 1.364814e-03</td><td> 1.641407e-03</td><td> 2.094150e-03</td><td>-2.373886e-03</td><td> 9.216040e-04</td><td> 0.0016638671</td><td>-2.172680e-03</td><td>⋯</td><td> 2.017402e-04</td><td>-1.398129e-04</td><td>-5.985920e-05</td><td> 1.611856e-04</td><td>-8.742259e-05</td><td> 3.706852e-05</td><td>-4.673818e-06</td><td>-2.714444e-04</td><td>-7.879415e-05</td><td>-2.094552e-04</td></tr>\n",
       "\t<tr><td> 1.4142664</td><td> 0.0002355967</td><td>-1.320749e-03</td><td> 2.730860e-03</td><td> 3.137166e-03</td><td> 1.747146e-03</td><td> 7.162720e-04</td><td>-2.417996e-03</td><td>-0.0027353790</td><td> 1.076704e-03</td><td>⋯</td><td> 8.608089e-04</td><td>-1.193950e-05</td><td>-8.151157e-06</td><td> 3.427864e-04</td><td>-3.308367e-04</td><td> 1.286992e-04</td><td> 2.955685e-04</td><td>-4.831481e-05</td><td> 6.961325e-05</td><td> 1.622372e-04</td></tr>\n",
       "\t<tr><td> 1.4142657</td><td> 0.0002353294</td><td> 1.013569e-03</td><td>-2.107419e-03</td><td> 7.548405e-04</td><td>-1.145079e-03</td><td>-1.840438e-03</td><td> 1.163170e-03</td><td>-0.0021878360</td><td> 1.624039e-03</td><td>⋯</td><td>-6.250724e-05</td><td>-1.793417e-04</td><td>-3.115086e-04</td><td>-9.359010e-05</td><td> 4.029143e-04</td><td>-4.554147e-05</td><td>-1.362471e-04</td><td>-1.323935e-04</td><td>-1.956637e-04</td><td>-4.979125e-05</td></tr>\n",
       "\t<tr><td> 1.4142644</td><td> 0.0002359969</td><td>-2.913616e-03</td><td>-3.147444e-03</td><td>-3.775251e-03</td><td> 1.997934e-03</td><td>-1.423863e-05</td><td>-1.925594e-03</td><td>-0.0012116509</td><td>-3.534560e-03</td><td>⋯</td><td> 5.337148e-04</td><td>-2.457282e-05</td><td> 2.418555e-04</td><td> 2.736819e-04</td><td> 3.441078e-04</td><td>-4.443802e-04</td><td> 2.683270e-04</td><td>-5.017309e-05</td><td>-2.283566e-04</td><td> 2.140314e-05</td></tr>\n",
       "\t<tr><td> 1.4142662</td><td> 0.0002380780</td><td> 3.027297e-03</td><td> 5.988841e-04</td><td>-4.231335e-03</td><td> 4.048790e-04</td><td>-1.455169e-03</td><td> 1.513519e-03</td><td> 0.0018990874</td><td> 1.573160e-03</td><td>⋯</td><td>-6.754365e-05</td><td>-7.152854e-04</td><td> 2.044440e-05</td><td> 3.082529e-04</td><td>-3.593165e-04</td><td>-1.310320e-05</td><td>-4.541742e-05</td><td>-1.522700e-04</td><td>-1.068578e-04</td><td>-5.137612e-05</td></tr>\n",
       "\t<tr><td> 1.4142662</td><td> 0.0002346925</td><td>-2.116846e-03</td><td> 3.002838e-04</td><td> 2.810127e-03</td><td> 6.413359e-04</td><td> 3.494774e-04</td><td> 1.939383e-03</td><td> 0.0003715109</td><td> 2.515793e-03</td><td>⋯</td><td> 1.487785e-04</td><td>-2.211730e-05</td><td> 4.687078e-04</td><td>-6.612062e-05</td><td> 2.609707e-05</td><td>-2.038862e-04</td><td> 7.625883e-06</td><td> 1.870708e-04</td><td> 4.135978e-05</td><td>-1.083923e-04</td></tr>\n",
       "\t<tr><td> 1.4142647</td><td> 0.0002384790</td><td> 4.983762e-05</td><td>-3.793150e-04</td><td> 1.930794e-03</td><td>-3.236481e-03</td><td> 1.375383e-03</td><td>-1.598079e-03</td><td> 0.0032119916</td><td>-8.383572e-04</td><td>⋯</td><td> 8.351801e-05</td><td>-5.667314e-05</td><td> 5.381837e-04</td><td> 1.490277e-05</td><td>-3.732096e-04</td><td> 2.969432e-04</td><td>-1.196817e-04</td><td> 7.788726e-05</td><td>-1.021643e-04</td><td> 2.674175e-05</td></tr>\n",
       "\t<tr><td> 1.4142639</td><td> 0.0002370604</td><td>-9.311889e-04</td><td> 2.809301e-04</td><td>-1.852013e-04</td><td>-2.414945e-03</td><td> 1.988247e-03</td><td>-2.343046e-04</td><td>-0.0004538453</td><td>-2.669847e-03</td><td>⋯</td><td>-4.773560e-04</td><td> 2.321647e-04</td><td>-2.023376e-04</td><td>-7.595754e-05</td><td> 5.321853e-04</td><td>-6.689473e-05</td><td> 1.285911e-04</td><td>-3.419358e-04</td><td>-3.036353e-05</td><td> 3.104182e-05</td></tr>\n",
       "\t<tr><td> 1.4142658</td><td> 0.0002348066</td><td>-5.679929e-04</td><td> 1.629497e-03</td><td>-2.567559e-04</td><td> 1.339341e-03</td><td>-4.805959e-04</td><td> 7.995502e-04</td><td>-0.0006201568</td><td> 1.326930e-03</td><td>⋯</td><td>-3.657516e-04</td><td> 2.162258e-04</td><td> 8.950094e-05</td><td> 2.957048e-05</td><td> 5.422404e-04</td><td>-2.855012e-04</td><td>-2.737001e-04</td><td>-1.016201e-04</td><td>-1.730586e-04</td><td> 2.851668e-04</td></tr>\n",
       "\t<tr><td> 1.4142654</td><td> 0.0002359457</td><td>-5.186697e-04</td><td>-1.285951e-03</td><td> 6.184012e-04</td><td>-1.509371e-03</td><td> 5.474378e-04</td><td> 1.489701e-03</td><td> 0.0024956175</td><td> 4.678269e-04</td><td>⋯</td><td>-4.716418e-06</td><td>-3.766536e-05</td><td> 1.096783e-04</td><td>-3.046764e-04</td><td> 3.803866e-04</td><td> 7.810014e-05</td><td> 1.028708e-04</td><td> 1.349493e-04</td><td>-8.298832e-05</td><td> 1.112397e-04</td></tr>\n",
       "\t<tr><td> 1.4142664</td><td> 0.0002353647</td><td> 3.042939e-03</td><td>-1.965812e-03</td><td> 7.846029e-04</td><td> 1.301434e-03</td><td> 1.578558e-03</td><td>-1.985148e-03</td><td> 0.0021399900</td><td> 5.541992e-04</td><td>⋯</td><td> 1.003533e-04</td><td> 7.068677e-05</td><td> 8.003913e-05</td><td> 5.093607e-05</td><td>-1.807359e-04</td><td> 1.478561e-04</td><td>-4.090156e-05</td><td> 3.933783e-05</td><td>-5.720673e-05</td><td>-1.408828e-04</td></tr>\n",
       "\t<tr><td> 1.4142648</td><td> 0.0002379650</td><td> 7.447394e-04</td><td> 1.576046e-03</td><td> 2.184120e-03</td><td>-1.500082e-03</td><td>-1.639216e-04</td><td> 6.771356e-04</td><td>-0.0019220588</td><td>-1.940458e-05</td><td>⋯</td><td>-5.154353e-04</td><td>-2.784886e-04</td><td> 7.568122e-05</td><td>-3.172517e-05</td><td> 6.456340e-04</td><td>-3.873756e-05</td><td> 2.985754e-04</td><td> 9.860541e-05</td><td> 2.242471e-04</td><td>-1.956250e-04</td></tr>\n",
       "\t<tr><td> 1.4142661</td><td> 0.0002362209</td><td> 1.152821e-03</td><td>-1.067644e-03</td><td> 3.049795e-04</td><td> 2.619275e-03</td><td> 1.686853e-03</td><td> 6.166651e-04</td><td> 0.0001550234</td><td>-1.455620e-03</td><td>⋯</td><td>-8.186361e-05</td><td> 7.735304e-04</td><td> 7.263148e-04</td><td>-2.886236e-04</td><td>-1.487880e-04</td><td>-4.285765e-04</td><td> 1.294292e-04</td><td> 2.607621e-04</td><td> 1.676608e-04</td><td>-3.897217e-05</td></tr>\n",
       "\t<tr><td> 1.4142654</td><td> 0.0002357503</td><td> 4.627857e-04</td><td> 4.536787e-04</td><td> 6.947140e-04</td><td>-1.430902e-03</td><td>-1.183842e-03</td><td> 1.175491e-03</td><td> 0.0008438008</td><td>-1.520007e-03</td><td>⋯</td><td> 3.527394e-04</td><td> 3.161502e-04</td><td>-3.327730e-04</td><td>-1.151251e-04</td><td>-3.412931e-04</td><td> 2.204338e-06</td><td>-5.018772e-05</td><td> 5.205084e-05</td><td> 1.340083e-04</td><td> 1.373858e-04</td></tr>\n",
       "\t<tr><td> 1.4142647</td><td> 0.0002343127</td><td>-2.963969e-03</td><td>-8.051877e-04</td><td> 3.113560e-04</td><td>-2.650631e-04</td><td>-7.967552e-04</td><td> 1.765812e-03</td><td> 0.0015273229</td><td> 1.857084e-03</td><td>⋯</td><td>-2.717670e-04</td><td> 2.945480e-04</td><td>-2.072168e-04</td><td> 1.268035e-04</td><td>-1.864839e-04</td><td>-1.446827e-04</td><td>-1.398607e-04</td><td>-2.152093e-04</td><td>-2.166054e-05</td><td>-6.492359e-06</td></tr>\n",
       "\t<tr><td>-0.7077367</td><td> 0.7073119184</td><td>-1.693155e-03</td><td>-5.525716e-05</td><td>-1.934063e-03</td><td> 3.115214e-03</td><td>-1.173551e-03</td><td> 7.246030e-04</td><td>-0.0003426444</td><td> 6.575939e-04</td><td>⋯</td><td> 2.480593e-04</td><td> 5.243967e-04</td><td>-3.618282e-05</td><td>-2.355426e-04</td><td>-1.165932e-04</td><td>-1.184022e-04</td><td> 8.682137e-05</td><td>-1.733317e-04</td><td> 4.515616e-04</td><td>-1.370011e-04</td></tr>\n",
       "\t<tr><td>-0.7070506</td><td> 0.7066309591</td><td>-2.347992e-03</td><td>-1.460040e-03</td><td>-1.599751e-03</td><td>-2.602173e-03</td><td> 4.842380e-04</td><td> 8.383742e-04</td><td> 0.0009692790</td><td> 2.804358e-03</td><td>⋯</td><td> 8.960770e-04</td><td> 1.632106e-04</td><td>-2.834815e-04</td><td>-3.162787e-04</td><td> 5.215410e-04</td><td> 3.194968e-04</td><td>-5.909414e-06</td><td> 1.145586e-04</td><td> 2.266450e-04</td><td> 1.079102e-04</td></tr>\n",
       "\t<tr><td>-0.7074081</td><td> 0.7069864577</td><td>-1.214048e-03</td><td>-1.754880e-03</td><td>-1.896284e-03</td><td>-3.713106e-03</td><td> 1.051925e-03</td><td> 5.528142e-04</td><td> 0.0002034001</td><td> 1.341005e-03</td><td>⋯</td><td>-2.217076e-04</td><td> 3.625892e-04</td><td> 8.042774e-04</td><td> 5.562554e-04</td><td>-8.530460e-05</td><td> 2.384282e-04</td><td> 1.999072e-04</td><td>-4.207719e-05</td><td>-1.740948e-04</td><td> 5.880534e-05</td></tr>\n",
       "\t<tr><td>-0.7074770</td><td> 0.7070569866</td><td>-1.193354e-04</td><td>-2.341476e-03</td><td> 3.718166e-03</td><td> 2.880799e-03</td><td>-1.602854e-03</td><td> 2.004579e-03</td><td> 0.0011448754</td><td>-2.072327e-04</td><td>⋯</td><td> 1.472418e-04</td><td>-1.755092e-04</td><td> 1.186990e-04</td><td> 1.492236e-04</td><td> 1.469874e-04</td><td>-2.321268e-04</td><td>-4.504284e-04</td><td> 2.557555e-04</td><td> 8.095954e-05</td><td> 4.655718e-05</td></tr>\n",
       "\t<tr><td>-0.7079057</td><td> 0.7074812089</td><td>-3.057240e-04</td><td> 4.157069e-04</td><td> 2.207019e-04</td><td> 2.125143e-03</td><td>-8.826146e-05</td><td>-2.630333e-03</td><td> 0.0001692731</td><td> 1.988394e-03</td><td>⋯</td><td>-6.520961e-04</td><td>-2.694549e-04</td><td>-6.520501e-04</td><td>-2.442753e-04</td><td>-7.679601e-06</td><td>-3.392636e-04</td><td> 2.764351e-04</td><td> 2.554680e-04</td><td>-2.072312e-04</td><td>-2.756223e-05</td></tr>\n",
       "\t<tr><td>-0.7072647</td><td> 0.7068465757</td><td> 3.373940e-03</td><td> 9.163094e-04</td><td> 7.778088e-04</td><td>-1.369471e-03</td><td> 2.278801e-03</td><td> 2.059645e-03</td><td>-0.0001730863</td><td> 1.019944e-03</td><td>⋯</td><td>-3.168821e-04</td><td> 2.704744e-04</td><td>-3.026988e-04</td><td>-2.410060e-04</td><td>-2.389056e-04</td><td>-3.217953e-05</td><td>-1.561539e-04</td><td>-1.899904e-04</td><td>-1.054939e-05</td><td>-5.122827e-05</td></tr>\n",
       "\t<tr><td>-0.7077880</td><td> 0.7073689812</td><td>-7.876772e-04</td><td> 2.081292e-04</td><td>-1.714177e-05</td><td> 8.228268e-04</td><td> 1.464891e-03</td><td> 1.985747e-04</td><td>-0.0008707702</td><td>-1.281021e-03</td><td>⋯</td><td> 9.563143e-05</td><td>-4.564865e-04</td><td>-2.419595e-05</td><td> 3.872250e-04</td><td>-1.041919e-04</td><td> 5.693665e-05</td><td>-3.016858e-04</td><td> 1.113463e-04</td><td> 2.248188e-05</td><td> 4.679825e-05</td></tr>\n",
       "\t<tr><td>-0.7084134</td><td> 0.7079909255</td><td>-1.124931e-03</td><td> 2.492731e-03</td><td>-4.428474e-04</td><td>-5.692797e-04</td><td>-2.719166e-04</td><td> 1.861520e-03</td><td>-0.0002291520</td><td>-3.893666e-04</td><td>⋯</td><td>-3.373524e-04</td><td>-2.712496e-04</td><td> 6.776637e-04</td><td>-1.409218e-04</td><td>-3.598176e-04</td><td>-4.042577e-04</td><td>-1.308816e-04</td><td> 1.982491e-04</td><td>-1.661573e-04</td><td> 1.543929e-05</td></tr>\n",
       "\t<tr><td>-0.7075026</td><td> 0.7070842706</td><td> 1.691373e-03</td><td>-2.506553e-03</td><td>-5.405684e-04</td><td>-7.118455e-04</td><td> 2.475491e-03</td><td> 8.231588e-04</td><td> 0.0002331869</td><td>-1.127092e-03</td><td>⋯</td><td>-1.548997e-04</td><td>-1.916510e-04</td><td>-5.998937e-04</td><td>-4.196034e-04</td><td>-4.893747e-04</td><td>-3.832160e-04</td><td> 4.098054e-04</td><td>-7.709943e-06</td><td> 1.382104e-05</td><td> 1.877673e-04</td></tr>\n",
       "\t<tr><td>-0.7065831</td><td> 0.7061632066</td><td>-2.206117e-03</td><td> 1.771957e-03</td><td> 2.517390e-04</td><td> 1.606613e-04</td><td> 2.664754e-04</td><td> 3.675111e-04</td><td>-0.0009186744</td><td>-1.647105e-03</td><td>⋯</td><td>-5.000271e-04</td><td>-2.154202e-04</td><td>-3.611234e-04</td><td>-6.504572e-04</td><td> 9.097386e-05</td><td> 3.416429e-04</td><td>-8.187415e-06</td><td> 1.666622e-04</td><td>-2.445788e-04</td><td>-2.139031e-05</td></tr>\n",
       "\t<tr><td>-0.7076392</td><td> 0.7072183339</td><td>-2.976458e-03</td><td> 1.395644e-03</td><td> 3.699997e-03</td><td>-3.938687e-03</td><td>-3.352927e-03</td><td>-1.984929e-03</td><td> 0.0005357629</td><td>-1.021634e-03</td><td>⋯</td><td>-2.607929e-04</td><td> 2.111977e-04</td><td>-1.114714e-04</td><td> 1.857235e-04</td><td> 7.328122e-05</td><td>-3.171283e-05</td><td> 1.612671e-04</td><td>-6.145763e-05</td><td> 1.964547e-04</td><td> 3.180141e-05</td></tr>\n",
       "\t<tr><td>-0.7068029</td><td> 0.7063848634</td><td> 4.568354e-03</td><td> 1.494425e-03</td><td>-4.004524e-04</td><td> 2.499599e-04</td><td>-6.132632e-05</td><td>-1.957787e-03</td><td> 0.0003226336</td><td>-8.369470e-04</td><td>⋯</td><td> 2.777774e-04</td><td> 8.844751e-04</td><td> 2.367363e-05</td><td>-1.280806e-04</td><td> 2.359707e-04</td><td> 6.310550e-05</td><td>-1.835746e-04</td><td>-2.547537e-04</td><td>-4.871083e-05</td><td> 2.749939e-05</td></tr>\n",
       "\t<tr><td>-0.7083757</td><td> 0.7079550666</td><td> 1.614928e-03</td><td>-1.583995e-03</td><td>-2.744297e-04</td><td> 2.205387e-03</td><td> 1.320465e-03</td><td>-1.758306e-03</td><td> 0.0003164735</td><td> 1.007922e-03</td><td>⋯</td><td>-1.025483e-04</td><td>-5.643442e-04</td><td> 4.217580e-04</td><td>-4.140630e-04</td><td> 1.751274e-04</td><td> 1.580089e-04</td><td> 3.745336e-04</td><td>-6.287657e-05</td><td> 8.293452e-05</td><td>-3.841375e-05</td></tr>\n",
       "\t<tr><td>-0.7072706</td><td> 0.7068517854</td><td> 1.115709e-03</td><td>-2.118858e-03</td><td> 2.248036e-04</td><td> 6.426832e-04</td><td>-4.613869e-03</td><td> 1.086134e-03</td><td>-0.0005421176</td><td> 1.315821e-04</td><td>⋯</td><td> 3.022912e-04</td><td> 3.585364e-04</td><td> 1.578702e-05</td><td> 1.040349e-04</td><td>-3.274297e-04</td><td> 4.017519e-04</td><td> 3.792169e-04</td><td>-7.530062e-05</td><td>-2.791392e-04</td><td> 1.781404e-05</td></tr>\n",
       "\t<tr><td>-0.7068658</td><td> 0.7064450453</td><td> 5.601825e-04</td><td> 2.380263e-03</td><td>-1.154364e-03</td><td> 2.092242e-03</td><td> 4.270561e-04</td><td>-1.660274e-03</td><td> 0.0017421978</td><td>-1.714985e-03</td><td>⋯</td><td>-2.871229e-04</td><td>-2.476246e-04</td><td> 1.796437e-05</td><td> 5.675717e-04</td><td> 9.800116e-05</td><td> 2.307538e-05</td><td>-1.909847e-04</td><td> 1.070281e-04</td><td> 9.700500e-05</td><td> 2.087490e-04</td></tr>\n",
       "\t<tr><td>-0.7070201</td><td> 0.7065987689</td><td>-1.469032e-03</td><td> 1.149860e-03</td><td>-7.746266e-04</td><td>-2.140311e-03</td><td> 1.574156e-03</td><td>-1.134650e-03</td><td>-0.0003154135</td><td> 1.510704e-03</td><td>⋯</td><td> 2.215410e-04</td><td>-2.362203e-04</td><td> 1.079405e-04</td><td> 8.129640e-05</td><td>-2.268082e-04</td><td>-5.261484e-04</td><td>-8.099643e-06</td><td> 3.397043e-05</td><td> 2.707151e-05</td><td>-3.309248e-05</td></tr>\n",
       "\t<tr><td>-0.7071582</td><td> 0.7067391322</td><td>-9.143986e-04</td><td> 1.737261e-03</td><td>-8.931178e-04</td><td> 1.088357e-03</td><td> 5.650607e-04</td><td> 6.229631e-04</td><td> 0.0016810176</td><td>-1.144446e-03</td><td>⋯</td><td> 5.241355e-04</td><td>-5.681561e-05</td><td> 3.423016e-04</td><td>-5.025915e-04</td><td> 4.962341e-04</td><td> 1.650612e-04</td><td>-6.953831e-05</td><td>-2.934440e-04</td><td>-8.552909e-05</td><td>-3.691138e-05</td></tr>\n",
       "\t<tr><td>-0.7076857</td><td> 0.7072651837</td><td> 1.061490e-03</td><td>-3.248730e-03</td><td> 6.864840e-04</td><td> 1.346530e-04</td><td> 1.569630e-03</td><td>-1.868506e-05</td><td>-0.0020152837</td><td>-4.605226e-04</td><td>⋯</td><td> 1.472816e-04</td><td>-4.526003e-04</td><td>-1.387410e-04</td><td> 4.433937e-04</td><td> 4.968581e-04</td><td> 1.665975e-04</td><td>-3.466649e-04</td><td> 5.779903e-05</td><td>-3.848591e-06</td><td>-2.658123e-04</td></tr>\n",
       "\t<tr><td>-0.7078337</td><td> 0.7074123257</td><td> 2.146229e-03</td><td>-8.834530e-04</td><td> 1.635876e-03</td><td>-1.022449e-03</td><td> 1.059066e-03</td><td>-4.608572e-04</td><td>-0.0016724025</td><td>-3.204060e-04</td><td>⋯</td><td> 4.115150e-04</td><td> 2.689047e-04</td><td>-2.443501e-04</td><td> 6.245374e-04</td><td>-2.964654e-04</td><td> 1.829873e-05</td><td>-2.130193e-04</td><td>-4.154978e-05</td><td>-2.274360e-05</td><td> 4.164723e-05</td></tr>\n",
       "\t<tr><td>-0.7079568</td><td> 0.7075354503</td><td>-9.695288e-04</td><td> 1.997216e-03</td><td>-1.287586e-03</td><td> 5.454023e-04</td><td>-3.369800e-03</td><td> 4.675238e-04</td><td>-0.0002368269</td><td>-3.132076e-04</td><td>⋯</td><td>-4.370823e-04</td><td> 9.403522e-05</td><td> 2.232474e-04</td><td> 1.936523e-04</td><td>-8.129294e-05</td><td> 1.158408e-04</td><td> 1.768561e-04</td><td>-9.856468e-05</td><td> 4.354663e-05</td><td>-1.790741e-04</td></tr>\n",
       "</tbody>\n",
       "</table>\n"
      ],
      "text/latex": [
       "A matrix: 60 × 50 of type dbl\n",
       "\\begin{tabular}{lllllllllllllllllllll}\n",
       " PC1 & PC2 & PC3 & PC4 & PC5 & PC6 & PC7 & PC8 & PC9 & PC10 & ⋯ & PC41 & PC42 & PC43 & PC44 & PC45 & PC46 & PC47 & PC48 & PC49 & PC50\\\\\n",
       "\\hline\n",
       "\t -0.7072765 & -0.7077973111 &  1.073820e-03 &  9.286418e-04 &  3.788533e-04 & -3.272551e-03 &  1.931387e-04 &  3.001716e-04 & -0.0010222195 & -6.837075e-04 & ⋯ &  6.564052e-04 & -2.481211e-04 & -2.121890e-05 & -1.835757e-04 & -1.790601e-04 &  8.260529e-05 & -7.307455e-05 &  6.568269e-05 & -9.436681e-05 & -1.859924e-04\\\\\n",
       "\t -0.7070423 & -0.7075635227 &  2.616540e-03 &  6.078814e-04 & -5.516618e-04 & -2.790691e-03 & -2.197537e-03 &  1.312596e-04 & -0.0010130438 & -3.111630e-03 & ⋯ &  1.957561e-04 & -2.795378e-04 &  2.868274e-04 & -2.990738e-04 & -2.040504e-04 & -2.567564e-04 &  8.718131e-05 &  1.654917e-04 &  1.058088e-04 & -3.026212e-05\\\\\n",
       "\t -0.7057782 & -0.7062989686 &  1.270168e-03 &  1.414063e-03 & -3.455995e-03 & -5.000372e-04 &  1.809437e-03 &  1.223335e-03 &  0.0004421023 &  7.528689e-05 & ⋯ &  3.568500e-04 &  1.327630e-04 &  1.517588e-04 & -4.668780e-05 &  2.066690e-04 &  1.944731e-04 &  1.779595e-04 &  2.597855e-04 & -7.466150e-05 &  2.348449e-05\\\\\n",
       "\t -0.7068289 & -0.7073522551 & -1.013248e-03 &  7.904093e-04 & -1.228239e-03 &  1.028921e-04 & -6.082778e-04 &  3.576527e-03 & -0.0008364986 &  8.896895e-05 & ⋯ &  4.837722e-05 &  2.029646e-04 & -3.796372e-05 &  2.963058e-04 &  1.806793e-04 &  1.482938e-04 &  6.491234e-05 &  3.656872e-05 &  2.790720e-05 &  8.573952e-05\\\\\n",
       "\t -0.7067869 & -0.7073106792 &  1.959060e-03 & -8.610101e-04 &  2.664295e-04 &  1.347226e-03 & -5.572109e-04 & -2.086358e-04 &  0.0009536144 &  1.960147e-03 & ⋯ &  9.012757e-05 &  2.822849e-04 &  2.168647e-04 & -3.114659e-04 & -7.378118e-05 &  3.724612e-04 & -4.385685e-05 &  1.976724e-04 &  2.926599e-05 & -2.350991e-05\\\\\n",
       "\t -0.7056648 & -0.7061882344 & -1.334355e-03 &  9.128829e-04 &  4.975109e-04 &  5.059075e-04 &  5.745936e-04 & -4.643950e-04 &  0.0045671959 &  6.207230e-04 & ⋯ &  6.649967e-05 &  3.363141e-04 & -6.901410e-04 &  2.969470e-04 & -2.729668e-05 & -3.445206e-04 &  2.932074e-04 & -7.378392e-06 & -7.440223e-05 & -2.068140e-04\\\\\n",
       "\t -0.7065528 & -0.7070769936 & -8.433488e-04 & -3.995280e-04 &  9.012291e-04 &  5.787085e-04 &  2.268421e-03 &  1.553814e-03 & -0.0009830668 & -1.547811e-03 & ⋯ &  7.686873e-05 & -4.322864e-04 &  6.736434e-05 & -1.390600e-04 & -1.810279e-04 & -4.572617e-05 & -1.691294e-04 & -3.263722e-04 &  8.555209e-05 &  1.489272e-05\\\\\n",
       "\t -0.7077727 & -0.7082985534 & -1.398747e-04 & -1.226182e-03 &  4.003060e-04 &  4.661362e-04 &  2.171016e-03 &  1.388052e-03 &  0.0011815174 & -1.419475e-03 & ⋯ &  6.471904e-04 & -7.703763e-05 & -4.467657e-04 &  3.093093e-04 &  3.102162e-04 & -5.199040e-05 &  1.731293e-04 &  2.410885e-05 &  1.832211e-04 & -5.202283e-07\\\\\n",
       "\t -0.7073645 & -0.7078895228 & -1.067179e-03 &  1.464265e-03 &  1.260948e-03 &  1.006357e-03 & -8.175357e-04 &  1.682717e-03 &  0.0009934442 & -7.636169e-05 & ⋯ &  5.553009e-04 & -5.775013e-04 & -3.321971e-04 & -1.726997e-04 & -2.340077e-05 & -8.202195e-05 & -3.061642e-05 & -5.007951e-06 & -1.662971e-04 &  9.596395e-05\\\\\n",
       "\t -0.7071933 & -0.7077174737 & -2.343243e-03 & -1.557701e-04 & -7.881484e-04 &  5.673832e-04 & -2.580313e-04 & -3.230571e-03 &  0.0028481293 & -1.091285e-03 & ⋯ & -4.876973e-04 & -3.890131e-05 &  1.447062e-04 &  5.167895e-05 &  1.879210e-04 &  5.659791e-04 & -3.195145e-04 &  8.191019e-05 &  6.876340e-05 & -7.347719e-06\\\\\n",
       "\t -0.7060133 & -0.7065385993 &  5.846108e-04 & -2.568159e-03 & -1.835246e-03 &  6.491967e-04 & -3.539766e-03 &  7.194627e-04 & -0.0018535034 &  6.443302e-04 & ⋯ & -1.070596e-04 &  1.616211e-04 & -7.617671e-05 &  1.270413e-04 &  9.288942e-05 & -6.867889e-05 & -7.430139e-05 &  1.689649e-04 &  4.761071e-05 &  9.480495e-05\\\\\n",
       "\t -0.7066247 & -0.7071483080 & -3.553334e-03 & -4.133337e-04 & -2.206244e-04 & -1.372289e-04 &  2.327712e-03 &  1.456843e-03 & -0.0004310189 &  3.650126e-04 & ⋯ & -5.640485e-04 &  6.639366e-05 &  1.601436e-04 & -4.193349e-05 & -3.448957e-04 & -1.332503e-04 & -1.743464e-04 & -1.872179e-04 &  2.005201e-05 & -1.000038e-04\\\\\n",
       "\t -0.7065959 & -0.7071185833 &  3.526630e-03 &  3.507284e-04 &  2.362292e-03 &  3.756594e-04 &  1.051876e-04 & -2.343545e-04 & -0.0003238283 & -3.584456e-06 & ⋯ & -6.687565e-04 &  8.064277e-05 &  2.915855e-04 &  1.809546e-04 &  3.306779e-04 & -1.655201e-04 &  1.206049e-04 &  7.854941e-05 &  7.811666e-05 &  1.558657e-04\\\\\n",
       "\t -0.7068000 & -0.7073254996 &  1.610531e-03 & -5.363733e-05 & -6.065996e-04 & -1.152517e-03 &  3.873523e-04 & -3.310202e-03 & -0.0009495149 &  3.213836e-03 & ⋯ &  3.104536e-04 &  1.120909e-04 &  2.658053e-04 & -7.306959e-05 &  9.738455e-05 & -6.614209e-04 & -2.645153e-04 & -2.694360e-04 & -3.155517e-05 & -1.559934e-05\\\\\n",
       "\t -0.7072704 & -0.7077967690 &  2.335574e-03 &  3.194603e-03 & -5.689155e-04 &  9.669144e-04 & -1.045452e-03 &  3.686634e-04 & -0.0001605887 & -5.613072e-06 & ⋯ & -2.612009e-04 &  9.355196e-05 & -1.847349e-05 & -3.304417e-04 &  6.876730e-05 &  8.904166e-05 & -1.559756e-04 & -1.702595e-04 &  6.049723e-05 &  9.661461e-05\\\\\n",
       "\t -0.7056147 & -0.7061392451 & -1.738410e-03 & -3.270775e-03 &  5.224189e-04 & -5.372437e-04 & -1.526235e-03 & -3.105383e-03 & -0.0012709897 & -9.972802e-04 & ⋯ & -2.582326e-04 &  2.186712e-04 &  4.150824e-06 & -4.707370e-04 & -1.914834e-04 & -8.034423e-06 & -1.535151e-04 & -6.383921e-06 &  4.359662e-05 & -2.164349e-05\\\\\n",
       "\t -0.7065260 & -0.7070512046 & -2.448454e-03 &  7.170245e-04 &  9.528319e-04 &  1.318033e-03 &  1.078951e-03 & -1.090305e-03 & -0.0010764695 & -2.443072e-04 & ⋯ &  7.729009e-05 &  7.714497e-04 & -4.015735e-04 &  3.415853e-06 & -1.435480e-04 & -1.030040e-07 & -1.595113e-04 &  1.859455e-04 & -3.784868e-04 & -5.418287e-05\\\\\n",
       "\t -0.7082690 & -0.7087921434 &  2.395599e-03 &  3.588328e-04 &  9.078043e-04 & -4.257106e-04 &  7.462215e-04 & -2.344739e-04 & -0.0002033831 &  1.138648e-03 & ⋯ & -5.395447e-04 & -5.143914e-05 & -1.195698e-04 &  5.587979e-04 &  3.631053e-04 &  1.169448e-04 &  3.649147e-04 &  4.411608e-05 & -6.113010e-05 & -3.309283e-05\\\\\n",
       "\t -0.7063819 & -0.7069072642 & -1.639959e-03 & -3.288117e-03 &  1.355662e-03 &  9.341376e-04 & -9.430634e-04 & -1.176016e-03 &  0.0005112549 &  1.268879e-03 & ⋯ & -2.583036e-04 & -7.213657e-04 &  2.471280e-04 & -9.568660e-05 & -2.699465e-04 &  2.156387e-04 &  1.602875e-04 & -3.988848e-04 &  8.937685e-05 &  1.710656e-04\\\\\n",
       "\t -0.7072127 & -0.7077376550 & -1.257821e-03 &  1.488720e-03 & -5.538106e-04 &  8.624498e-07 & -1.722982e-04 &  6.498806e-04 & -0.0013732223 & -1.924118e-04 & ⋯ &  6.286983e-05 & -3.180515e-05 &  3.081707e-04 &  3.391593e-04 & -2.009976e-04 &  3.171925e-05 &  1.760905e-04 &  6.228064e-05 &  4.107857e-05 & -5.962636e-05\\\\\n",
       "\t  1.4142667 &  0.0002373104 &  1.490530e-03 & -1.267672e-03 &  3.755973e-04 & -1.276636e-03 & -2.464012e-03 & -1.123152e-03 & -0.0002020130 & -5.071380e-04 & ⋯ &  3.219704e-04 & -2.541025e-04 & -1.316452e-04 & -3.357983e-04 &  8.250531e-06 & -8.136772e-05 & -1.057496e-04 &  1.442877e-04 & -5.170771e-05 &  4.379647e-05\\\\\n",
       "\t  1.4142645 &  0.0002366385 &  6.730440e-04 & -2.312112e-03 & -7.346101e-04 &  7.910312e-04 &  2.130838e-03 &  1.707983e-03 & -0.0013780940 & -8.342095e-04 & ⋯ & -7.978329e-04 &  2.560154e-04 & -4.100196e-04 &  1.012541e-04 & -4.528159e-04 &  4.764902e-04 & -2.459877e-05 &  2.368707e-05 &  1.333874e-04 &  4.553071e-05\\\\\n",
       "\t  1.4142646 &  0.0002334468 & -8.822977e-04 &  3.356227e-03 &  3.305263e-04 &  1.911008e-03 &  1.939952e-03 & -1.240572e-03 & -0.0030253356 &  1.403322e-03 & ⋯ &  3.698436e-04 & -1.371536e-04 &  7.216166e-05 & -2.000378e-04 & -1.745100e-04 &  5.981169e-04 &  1.129080e-04 &  1.006835e-05 & -2.627405e-05 &  1.090209e-05\\\\\n",
       "\t  1.4142646 &  0.0002362316 & -1.124532e-03 & -5.715772e-06 & -3.569842e-03 & -8.892082e-04 & -5.053735e-04 & -1.376393e-03 & -0.0014225854 &  5.286538e-04 & ⋯ & -3.114373e-04 &  3.770140e-05 & -2.612939e-04 & -1.139142e-04 & -1.107070e-04 &  1.024922e-04 & -3.002534e-04 &  1.457530e-04 &  1.133832e-04 & -1.203932e-04\\\\\n",
       "\t  1.4142657 &  0.0002370195 &  4.260098e-04 &  2.055249e-03 & -3.123026e-03 & -1.179207e-03 & -1.034161e-03 & -1.866745e-03 &  0.0008491038 &  6.242098e-04 & ⋯ & -1.744137e-05 & -3.410658e-04 & -4.973116e-04 &  2.169225e-04 & -1.356303e-04 & -1.153707e-04 & -1.022696e-04 &  1.389845e-04 &  2.715901e-04 &  4.579567e-05\\\\\n",
       "\t  1.4142657 &  0.0002350949 &  1.259175e-03 &  1.364814e-03 &  1.641407e-03 &  2.094150e-03 & -2.373886e-03 &  9.216040e-04 &  0.0016638671 & -2.172680e-03 & ⋯ &  2.017402e-04 & -1.398129e-04 & -5.985920e-05 &  1.611856e-04 & -8.742259e-05 &  3.706852e-05 & -4.673818e-06 & -2.714444e-04 & -7.879415e-05 & -2.094552e-04\\\\\n",
       "\t  1.4142664 &  0.0002355967 & -1.320749e-03 &  2.730860e-03 &  3.137166e-03 &  1.747146e-03 &  7.162720e-04 & -2.417996e-03 & -0.0027353790 &  1.076704e-03 & ⋯ &  8.608089e-04 & -1.193950e-05 & -8.151157e-06 &  3.427864e-04 & -3.308367e-04 &  1.286992e-04 &  2.955685e-04 & -4.831481e-05 &  6.961325e-05 &  1.622372e-04\\\\\n",
       "\t  1.4142657 &  0.0002353294 &  1.013569e-03 & -2.107419e-03 &  7.548405e-04 & -1.145079e-03 & -1.840438e-03 &  1.163170e-03 & -0.0021878360 &  1.624039e-03 & ⋯ & -6.250724e-05 & -1.793417e-04 & -3.115086e-04 & -9.359010e-05 &  4.029143e-04 & -4.554147e-05 & -1.362471e-04 & -1.323935e-04 & -1.956637e-04 & -4.979125e-05\\\\\n",
       "\t  1.4142644 &  0.0002359969 & -2.913616e-03 & -3.147444e-03 & -3.775251e-03 &  1.997934e-03 & -1.423863e-05 & -1.925594e-03 & -0.0012116509 & -3.534560e-03 & ⋯ &  5.337148e-04 & -2.457282e-05 &  2.418555e-04 &  2.736819e-04 &  3.441078e-04 & -4.443802e-04 &  2.683270e-04 & -5.017309e-05 & -2.283566e-04 &  2.140314e-05\\\\\n",
       "\t  1.4142662 &  0.0002380780 &  3.027297e-03 &  5.988841e-04 & -4.231335e-03 &  4.048790e-04 & -1.455169e-03 &  1.513519e-03 &  0.0018990874 &  1.573160e-03 & ⋯ & -6.754365e-05 & -7.152854e-04 &  2.044440e-05 &  3.082529e-04 & -3.593165e-04 & -1.310320e-05 & -4.541742e-05 & -1.522700e-04 & -1.068578e-04 & -5.137612e-05\\\\\n",
       "\t  1.4142662 &  0.0002346925 & -2.116846e-03 &  3.002838e-04 &  2.810127e-03 &  6.413359e-04 &  3.494774e-04 &  1.939383e-03 &  0.0003715109 &  2.515793e-03 & ⋯ &  1.487785e-04 & -2.211730e-05 &  4.687078e-04 & -6.612062e-05 &  2.609707e-05 & -2.038862e-04 &  7.625883e-06 &  1.870708e-04 &  4.135978e-05 & -1.083923e-04\\\\\n",
       "\t  1.4142647 &  0.0002384790 &  4.983762e-05 & -3.793150e-04 &  1.930794e-03 & -3.236481e-03 &  1.375383e-03 & -1.598079e-03 &  0.0032119916 & -8.383572e-04 & ⋯ &  8.351801e-05 & -5.667314e-05 &  5.381837e-04 &  1.490277e-05 & -3.732096e-04 &  2.969432e-04 & -1.196817e-04 &  7.788726e-05 & -1.021643e-04 &  2.674175e-05\\\\\n",
       "\t  1.4142639 &  0.0002370604 & -9.311889e-04 &  2.809301e-04 & -1.852013e-04 & -2.414945e-03 &  1.988247e-03 & -2.343046e-04 & -0.0004538453 & -2.669847e-03 & ⋯ & -4.773560e-04 &  2.321647e-04 & -2.023376e-04 & -7.595754e-05 &  5.321853e-04 & -6.689473e-05 &  1.285911e-04 & -3.419358e-04 & -3.036353e-05 &  3.104182e-05\\\\\n",
       "\t  1.4142658 &  0.0002348066 & -5.679929e-04 &  1.629497e-03 & -2.567559e-04 &  1.339341e-03 & -4.805959e-04 &  7.995502e-04 & -0.0006201568 &  1.326930e-03 & ⋯ & -3.657516e-04 &  2.162258e-04 &  8.950094e-05 &  2.957048e-05 &  5.422404e-04 & -2.855012e-04 & -2.737001e-04 & -1.016201e-04 & -1.730586e-04 &  2.851668e-04\\\\\n",
       "\t  1.4142654 &  0.0002359457 & -5.186697e-04 & -1.285951e-03 &  6.184012e-04 & -1.509371e-03 &  5.474378e-04 &  1.489701e-03 &  0.0024956175 &  4.678269e-04 & ⋯ & -4.716418e-06 & -3.766536e-05 &  1.096783e-04 & -3.046764e-04 &  3.803866e-04 &  7.810014e-05 &  1.028708e-04 &  1.349493e-04 & -8.298832e-05 &  1.112397e-04\\\\\n",
       "\t  1.4142664 &  0.0002353647 &  3.042939e-03 & -1.965812e-03 &  7.846029e-04 &  1.301434e-03 &  1.578558e-03 & -1.985148e-03 &  0.0021399900 &  5.541992e-04 & ⋯ &  1.003533e-04 &  7.068677e-05 &  8.003913e-05 &  5.093607e-05 & -1.807359e-04 &  1.478561e-04 & -4.090156e-05 &  3.933783e-05 & -5.720673e-05 & -1.408828e-04\\\\\n",
       "\t  1.4142648 &  0.0002379650 &  7.447394e-04 &  1.576046e-03 &  2.184120e-03 & -1.500082e-03 & -1.639216e-04 &  6.771356e-04 & -0.0019220588 & -1.940458e-05 & ⋯ & -5.154353e-04 & -2.784886e-04 &  7.568122e-05 & -3.172517e-05 &  6.456340e-04 & -3.873756e-05 &  2.985754e-04 &  9.860541e-05 &  2.242471e-04 & -1.956250e-04\\\\\n",
       "\t  1.4142661 &  0.0002362209 &  1.152821e-03 & -1.067644e-03 &  3.049795e-04 &  2.619275e-03 &  1.686853e-03 &  6.166651e-04 &  0.0001550234 & -1.455620e-03 & ⋯ & -8.186361e-05 &  7.735304e-04 &  7.263148e-04 & -2.886236e-04 & -1.487880e-04 & -4.285765e-04 &  1.294292e-04 &  2.607621e-04 &  1.676608e-04 & -3.897217e-05\\\\\n",
       "\t  1.4142654 &  0.0002357503 &  4.627857e-04 &  4.536787e-04 &  6.947140e-04 & -1.430902e-03 & -1.183842e-03 &  1.175491e-03 &  0.0008438008 & -1.520007e-03 & ⋯ &  3.527394e-04 &  3.161502e-04 & -3.327730e-04 & -1.151251e-04 & -3.412931e-04 &  2.204338e-06 & -5.018772e-05 &  5.205084e-05 &  1.340083e-04 &  1.373858e-04\\\\\n",
       "\t  1.4142647 &  0.0002343127 & -2.963969e-03 & -8.051877e-04 &  3.113560e-04 & -2.650631e-04 & -7.967552e-04 &  1.765812e-03 &  0.0015273229 &  1.857084e-03 & ⋯ & -2.717670e-04 &  2.945480e-04 & -2.072168e-04 &  1.268035e-04 & -1.864839e-04 & -1.446827e-04 & -1.398607e-04 & -2.152093e-04 & -2.166054e-05 & -6.492359e-06\\\\\n",
       "\t -0.7077367 &  0.7073119184 & -1.693155e-03 & -5.525716e-05 & -1.934063e-03 &  3.115214e-03 & -1.173551e-03 &  7.246030e-04 & -0.0003426444 &  6.575939e-04 & ⋯ &  2.480593e-04 &  5.243967e-04 & -3.618282e-05 & -2.355426e-04 & -1.165932e-04 & -1.184022e-04 &  8.682137e-05 & -1.733317e-04 &  4.515616e-04 & -1.370011e-04\\\\\n",
       "\t -0.7070506 &  0.7066309591 & -2.347992e-03 & -1.460040e-03 & -1.599751e-03 & -2.602173e-03 &  4.842380e-04 &  8.383742e-04 &  0.0009692790 &  2.804358e-03 & ⋯ &  8.960770e-04 &  1.632106e-04 & -2.834815e-04 & -3.162787e-04 &  5.215410e-04 &  3.194968e-04 & -5.909414e-06 &  1.145586e-04 &  2.266450e-04 &  1.079102e-04\\\\\n",
       "\t -0.7074081 &  0.7069864577 & -1.214048e-03 & -1.754880e-03 & -1.896284e-03 & -3.713106e-03 &  1.051925e-03 &  5.528142e-04 &  0.0002034001 &  1.341005e-03 & ⋯ & -2.217076e-04 &  3.625892e-04 &  8.042774e-04 &  5.562554e-04 & -8.530460e-05 &  2.384282e-04 &  1.999072e-04 & -4.207719e-05 & -1.740948e-04 &  5.880534e-05\\\\\n",
       "\t -0.7074770 &  0.7070569866 & -1.193354e-04 & -2.341476e-03 &  3.718166e-03 &  2.880799e-03 & -1.602854e-03 &  2.004579e-03 &  0.0011448754 & -2.072327e-04 & ⋯ &  1.472418e-04 & -1.755092e-04 &  1.186990e-04 &  1.492236e-04 &  1.469874e-04 & -2.321268e-04 & -4.504284e-04 &  2.557555e-04 &  8.095954e-05 &  4.655718e-05\\\\\n",
       "\t -0.7079057 &  0.7074812089 & -3.057240e-04 &  4.157069e-04 &  2.207019e-04 &  2.125143e-03 & -8.826146e-05 & -2.630333e-03 &  0.0001692731 &  1.988394e-03 & ⋯ & -6.520961e-04 & -2.694549e-04 & -6.520501e-04 & -2.442753e-04 & -7.679601e-06 & -3.392636e-04 &  2.764351e-04 &  2.554680e-04 & -2.072312e-04 & -2.756223e-05\\\\\n",
       "\t -0.7072647 &  0.7068465757 &  3.373940e-03 &  9.163094e-04 &  7.778088e-04 & -1.369471e-03 &  2.278801e-03 &  2.059645e-03 & -0.0001730863 &  1.019944e-03 & ⋯ & -3.168821e-04 &  2.704744e-04 & -3.026988e-04 & -2.410060e-04 & -2.389056e-04 & -3.217953e-05 & -1.561539e-04 & -1.899904e-04 & -1.054939e-05 & -5.122827e-05\\\\\n",
       "\t -0.7077880 &  0.7073689812 & -7.876772e-04 &  2.081292e-04 & -1.714177e-05 &  8.228268e-04 &  1.464891e-03 &  1.985747e-04 & -0.0008707702 & -1.281021e-03 & ⋯ &  9.563143e-05 & -4.564865e-04 & -2.419595e-05 &  3.872250e-04 & -1.041919e-04 &  5.693665e-05 & -3.016858e-04 &  1.113463e-04 &  2.248188e-05 &  4.679825e-05\\\\\n",
       "\t -0.7084134 &  0.7079909255 & -1.124931e-03 &  2.492731e-03 & -4.428474e-04 & -5.692797e-04 & -2.719166e-04 &  1.861520e-03 & -0.0002291520 & -3.893666e-04 & ⋯ & -3.373524e-04 & -2.712496e-04 &  6.776637e-04 & -1.409218e-04 & -3.598176e-04 & -4.042577e-04 & -1.308816e-04 &  1.982491e-04 & -1.661573e-04 &  1.543929e-05\\\\\n",
       "\t -0.7075026 &  0.7070842706 &  1.691373e-03 & -2.506553e-03 & -5.405684e-04 & -7.118455e-04 &  2.475491e-03 &  8.231588e-04 &  0.0002331869 & -1.127092e-03 & ⋯ & -1.548997e-04 & -1.916510e-04 & -5.998937e-04 & -4.196034e-04 & -4.893747e-04 & -3.832160e-04 &  4.098054e-04 & -7.709943e-06 &  1.382104e-05 &  1.877673e-04\\\\\n",
       "\t -0.7065831 &  0.7061632066 & -2.206117e-03 &  1.771957e-03 &  2.517390e-04 &  1.606613e-04 &  2.664754e-04 &  3.675111e-04 & -0.0009186744 & -1.647105e-03 & ⋯ & -5.000271e-04 & -2.154202e-04 & -3.611234e-04 & -6.504572e-04 &  9.097386e-05 &  3.416429e-04 & -8.187415e-06 &  1.666622e-04 & -2.445788e-04 & -2.139031e-05\\\\\n",
       "\t -0.7076392 &  0.7072183339 & -2.976458e-03 &  1.395644e-03 &  3.699997e-03 & -3.938687e-03 & -3.352927e-03 & -1.984929e-03 &  0.0005357629 & -1.021634e-03 & ⋯ & -2.607929e-04 &  2.111977e-04 & -1.114714e-04 &  1.857235e-04 &  7.328122e-05 & -3.171283e-05 &  1.612671e-04 & -6.145763e-05 &  1.964547e-04 &  3.180141e-05\\\\\n",
       "\t -0.7068029 &  0.7063848634 &  4.568354e-03 &  1.494425e-03 & -4.004524e-04 &  2.499599e-04 & -6.132632e-05 & -1.957787e-03 &  0.0003226336 & -8.369470e-04 & ⋯ &  2.777774e-04 &  8.844751e-04 &  2.367363e-05 & -1.280806e-04 &  2.359707e-04 &  6.310550e-05 & -1.835746e-04 & -2.547537e-04 & -4.871083e-05 &  2.749939e-05\\\\\n",
       "\t -0.7083757 &  0.7079550666 &  1.614928e-03 & -1.583995e-03 & -2.744297e-04 &  2.205387e-03 &  1.320465e-03 & -1.758306e-03 &  0.0003164735 &  1.007922e-03 & ⋯ & -1.025483e-04 & -5.643442e-04 &  4.217580e-04 & -4.140630e-04 &  1.751274e-04 &  1.580089e-04 &  3.745336e-04 & -6.287657e-05 &  8.293452e-05 & -3.841375e-05\\\\\n",
       "\t -0.7072706 &  0.7068517854 &  1.115709e-03 & -2.118858e-03 &  2.248036e-04 &  6.426832e-04 & -4.613869e-03 &  1.086134e-03 & -0.0005421176 &  1.315821e-04 & ⋯ &  3.022912e-04 &  3.585364e-04 &  1.578702e-05 &  1.040349e-04 & -3.274297e-04 &  4.017519e-04 &  3.792169e-04 & -7.530062e-05 & -2.791392e-04 &  1.781404e-05\\\\\n",
       "\t -0.7068658 &  0.7064450453 &  5.601825e-04 &  2.380263e-03 & -1.154364e-03 &  2.092242e-03 &  4.270561e-04 & -1.660274e-03 &  0.0017421978 & -1.714985e-03 & ⋯ & -2.871229e-04 & -2.476246e-04 &  1.796437e-05 &  5.675717e-04 &  9.800116e-05 &  2.307538e-05 & -1.909847e-04 &  1.070281e-04 &  9.700500e-05 &  2.087490e-04\\\\\n",
       "\t -0.7070201 &  0.7065987689 & -1.469032e-03 &  1.149860e-03 & -7.746266e-04 & -2.140311e-03 &  1.574156e-03 & -1.134650e-03 & -0.0003154135 &  1.510704e-03 & ⋯ &  2.215410e-04 & -2.362203e-04 &  1.079405e-04 &  8.129640e-05 & -2.268082e-04 & -5.261484e-04 & -8.099643e-06 &  3.397043e-05 &  2.707151e-05 & -3.309248e-05\\\\\n",
       "\t -0.7071582 &  0.7067391322 & -9.143986e-04 &  1.737261e-03 & -8.931178e-04 &  1.088357e-03 &  5.650607e-04 &  6.229631e-04 &  0.0016810176 & -1.144446e-03 & ⋯ &  5.241355e-04 & -5.681561e-05 &  3.423016e-04 & -5.025915e-04 &  4.962341e-04 &  1.650612e-04 & -6.953831e-05 & -2.934440e-04 & -8.552909e-05 & -3.691138e-05\\\\\n",
       "\t -0.7076857 &  0.7072651837 &  1.061490e-03 & -3.248730e-03 &  6.864840e-04 &  1.346530e-04 &  1.569630e-03 & -1.868506e-05 & -0.0020152837 & -4.605226e-04 & ⋯ &  1.472816e-04 & -4.526003e-04 & -1.387410e-04 &  4.433937e-04 &  4.968581e-04 &  1.665975e-04 & -3.466649e-04 &  5.779903e-05 & -3.848591e-06 & -2.658123e-04\\\\\n",
       "\t -0.7078337 &  0.7074123257 &  2.146229e-03 & -8.834530e-04 &  1.635876e-03 & -1.022449e-03 &  1.059066e-03 & -4.608572e-04 & -0.0016724025 & -3.204060e-04 & ⋯ &  4.115150e-04 &  2.689047e-04 & -2.443501e-04 &  6.245374e-04 & -2.964654e-04 &  1.829873e-05 & -2.130193e-04 & -4.154978e-05 & -2.274360e-05 &  4.164723e-05\\\\\n",
       "\t -0.7079568 &  0.7075354503 & -9.695288e-04 &  1.997216e-03 & -1.287586e-03 &  5.454023e-04 & -3.369800e-03 &  4.675238e-04 & -0.0002368269 & -3.132076e-04 & ⋯ & -4.370823e-04 &  9.403522e-05 &  2.232474e-04 &  1.936523e-04 & -8.129294e-05 &  1.158408e-04 &  1.768561e-04 & -9.856468e-05 &  4.354663e-05 & -1.790741e-04\\\\\n",
       "\\end{tabular}\n"
      ],
      "text/markdown": [
       "\n",
       "A matrix: 60 × 50 of type dbl\n",
       "\n",
       "| PC1 | PC2 | PC3 | PC4 | PC5 | PC6 | PC7 | PC8 | PC9 | PC10 | ⋯ | PC41 | PC42 | PC43 | PC44 | PC45 | PC46 | PC47 | PC48 | PC49 | PC50 |\n",
       "|---|---|---|---|---|---|---|---|---|---|---|---|---|---|---|---|---|---|---|---|---|\n",
       "| -0.7072765 | -0.7077973111 |  1.073820e-03 |  9.286418e-04 |  3.788533e-04 | -3.272551e-03 |  1.931387e-04 |  3.001716e-04 | -0.0010222195 | -6.837075e-04 | ⋯ |  6.564052e-04 | -2.481211e-04 | -2.121890e-05 | -1.835757e-04 | -1.790601e-04 |  8.260529e-05 | -7.307455e-05 |  6.568269e-05 | -9.436681e-05 | -1.859924e-04 |\n",
       "| -0.7070423 | -0.7075635227 |  2.616540e-03 |  6.078814e-04 | -5.516618e-04 | -2.790691e-03 | -2.197537e-03 |  1.312596e-04 | -0.0010130438 | -3.111630e-03 | ⋯ |  1.957561e-04 | -2.795378e-04 |  2.868274e-04 | -2.990738e-04 | -2.040504e-04 | -2.567564e-04 |  8.718131e-05 |  1.654917e-04 |  1.058088e-04 | -3.026212e-05 |\n",
       "| -0.7057782 | -0.7062989686 |  1.270168e-03 |  1.414063e-03 | -3.455995e-03 | -5.000372e-04 |  1.809437e-03 |  1.223335e-03 |  0.0004421023 |  7.528689e-05 | ⋯ |  3.568500e-04 |  1.327630e-04 |  1.517588e-04 | -4.668780e-05 |  2.066690e-04 |  1.944731e-04 |  1.779595e-04 |  2.597855e-04 | -7.466150e-05 |  2.348449e-05 |\n",
       "| -0.7068289 | -0.7073522551 | -1.013248e-03 |  7.904093e-04 | -1.228239e-03 |  1.028921e-04 | -6.082778e-04 |  3.576527e-03 | -0.0008364986 |  8.896895e-05 | ⋯ |  4.837722e-05 |  2.029646e-04 | -3.796372e-05 |  2.963058e-04 |  1.806793e-04 |  1.482938e-04 |  6.491234e-05 |  3.656872e-05 |  2.790720e-05 |  8.573952e-05 |\n",
       "| -0.7067869 | -0.7073106792 |  1.959060e-03 | -8.610101e-04 |  2.664295e-04 |  1.347226e-03 | -5.572109e-04 | -2.086358e-04 |  0.0009536144 |  1.960147e-03 | ⋯ |  9.012757e-05 |  2.822849e-04 |  2.168647e-04 | -3.114659e-04 | -7.378118e-05 |  3.724612e-04 | -4.385685e-05 |  1.976724e-04 |  2.926599e-05 | -2.350991e-05 |\n",
       "| -0.7056648 | -0.7061882344 | -1.334355e-03 |  9.128829e-04 |  4.975109e-04 |  5.059075e-04 |  5.745936e-04 | -4.643950e-04 |  0.0045671959 |  6.207230e-04 | ⋯ |  6.649967e-05 |  3.363141e-04 | -6.901410e-04 |  2.969470e-04 | -2.729668e-05 | -3.445206e-04 |  2.932074e-04 | -7.378392e-06 | -7.440223e-05 | -2.068140e-04 |\n",
       "| -0.7065528 | -0.7070769936 | -8.433488e-04 | -3.995280e-04 |  9.012291e-04 |  5.787085e-04 |  2.268421e-03 |  1.553814e-03 | -0.0009830668 | -1.547811e-03 | ⋯ |  7.686873e-05 | -4.322864e-04 |  6.736434e-05 | -1.390600e-04 | -1.810279e-04 | -4.572617e-05 | -1.691294e-04 | -3.263722e-04 |  8.555209e-05 |  1.489272e-05 |\n",
       "| -0.7077727 | -0.7082985534 | -1.398747e-04 | -1.226182e-03 |  4.003060e-04 |  4.661362e-04 |  2.171016e-03 |  1.388052e-03 |  0.0011815174 | -1.419475e-03 | ⋯ |  6.471904e-04 | -7.703763e-05 | -4.467657e-04 |  3.093093e-04 |  3.102162e-04 | -5.199040e-05 |  1.731293e-04 |  2.410885e-05 |  1.832211e-04 | -5.202283e-07 |\n",
       "| -0.7073645 | -0.7078895228 | -1.067179e-03 |  1.464265e-03 |  1.260948e-03 |  1.006357e-03 | -8.175357e-04 |  1.682717e-03 |  0.0009934442 | -7.636169e-05 | ⋯ |  5.553009e-04 | -5.775013e-04 | -3.321971e-04 | -1.726997e-04 | -2.340077e-05 | -8.202195e-05 | -3.061642e-05 | -5.007951e-06 | -1.662971e-04 |  9.596395e-05 |\n",
       "| -0.7071933 | -0.7077174737 | -2.343243e-03 | -1.557701e-04 | -7.881484e-04 |  5.673832e-04 | -2.580313e-04 | -3.230571e-03 |  0.0028481293 | -1.091285e-03 | ⋯ | -4.876973e-04 | -3.890131e-05 |  1.447062e-04 |  5.167895e-05 |  1.879210e-04 |  5.659791e-04 | -3.195145e-04 |  8.191019e-05 |  6.876340e-05 | -7.347719e-06 |\n",
       "| -0.7060133 | -0.7065385993 |  5.846108e-04 | -2.568159e-03 | -1.835246e-03 |  6.491967e-04 | -3.539766e-03 |  7.194627e-04 | -0.0018535034 |  6.443302e-04 | ⋯ | -1.070596e-04 |  1.616211e-04 | -7.617671e-05 |  1.270413e-04 |  9.288942e-05 | -6.867889e-05 | -7.430139e-05 |  1.689649e-04 |  4.761071e-05 |  9.480495e-05 |\n",
       "| -0.7066247 | -0.7071483080 | -3.553334e-03 | -4.133337e-04 | -2.206244e-04 | -1.372289e-04 |  2.327712e-03 |  1.456843e-03 | -0.0004310189 |  3.650126e-04 | ⋯ | -5.640485e-04 |  6.639366e-05 |  1.601436e-04 | -4.193349e-05 | -3.448957e-04 | -1.332503e-04 | -1.743464e-04 | -1.872179e-04 |  2.005201e-05 | -1.000038e-04 |\n",
       "| -0.7065959 | -0.7071185833 |  3.526630e-03 |  3.507284e-04 |  2.362292e-03 |  3.756594e-04 |  1.051876e-04 | -2.343545e-04 | -0.0003238283 | -3.584456e-06 | ⋯ | -6.687565e-04 |  8.064277e-05 |  2.915855e-04 |  1.809546e-04 |  3.306779e-04 | -1.655201e-04 |  1.206049e-04 |  7.854941e-05 |  7.811666e-05 |  1.558657e-04 |\n",
       "| -0.7068000 | -0.7073254996 |  1.610531e-03 | -5.363733e-05 | -6.065996e-04 | -1.152517e-03 |  3.873523e-04 | -3.310202e-03 | -0.0009495149 |  3.213836e-03 | ⋯ |  3.104536e-04 |  1.120909e-04 |  2.658053e-04 | -7.306959e-05 |  9.738455e-05 | -6.614209e-04 | -2.645153e-04 | -2.694360e-04 | -3.155517e-05 | -1.559934e-05 |\n",
       "| -0.7072704 | -0.7077967690 |  2.335574e-03 |  3.194603e-03 | -5.689155e-04 |  9.669144e-04 | -1.045452e-03 |  3.686634e-04 | -0.0001605887 | -5.613072e-06 | ⋯ | -2.612009e-04 |  9.355196e-05 | -1.847349e-05 | -3.304417e-04 |  6.876730e-05 |  8.904166e-05 | -1.559756e-04 | -1.702595e-04 |  6.049723e-05 |  9.661461e-05 |\n",
       "| -0.7056147 | -0.7061392451 | -1.738410e-03 | -3.270775e-03 |  5.224189e-04 | -5.372437e-04 | -1.526235e-03 | -3.105383e-03 | -0.0012709897 | -9.972802e-04 | ⋯ | -2.582326e-04 |  2.186712e-04 |  4.150824e-06 | -4.707370e-04 | -1.914834e-04 | -8.034423e-06 | -1.535151e-04 | -6.383921e-06 |  4.359662e-05 | -2.164349e-05 |\n",
       "| -0.7065260 | -0.7070512046 | -2.448454e-03 |  7.170245e-04 |  9.528319e-04 |  1.318033e-03 |  1.078951e-03 | -1.090305e-03 | -0.0010764695 | -2.443072e-04 | ⋯ |  7.729009e-05 |  7.714497e-04 | -4.015735e-04 |  3.415853e-06 | -1.435480e-04 | -1.030040e-07 | -1.595113e-04 |  1.859455e-04 | -3.784868e-04 | -5.418287e-05 |\n",
       "| -0.7082690 | -0.7087921434 |  2.395599e-03 |  3.588328e-04 |  9.078043e-04 | -4.257106e-04 |  7.462215e-04 | -2.344739e-04 | -0.0002033831 |  1.138648e-03 | ⋯ | -5.395447e-04 | -5.143914e-05 | -1.195698e-04 |  5.587979e-04 |  3.631053e-04 |  1.169448e-04 |  3.649147e-04 |  4.411608e-05 | -6.113010e-05 | -3.309283e-05 |\n",
       "| -0.7063819 | -0.7069072642 | -1.639959e-03 | -3.288117e-03 |  1.355662e-03 |  9.341376e-04 | -9.430634e-04 | -1.176016e-03 |  0.0005112549 |  1.268879e-03 | ⋯ | -2.583036e-04 | -7.213657e-04 |  2.471280e-04 | -9.568660e-05 | -2.699465e-04 |  2.156387e-04 |  1.602875e-04 | -3.988848e-04 |  8.937685e-05 |  1.710656e-04 |\n",
       "| -0.7072127 | -0.7077376550 | -1.257821e-03 |  1.488720e-03 | -5.538106e-04 |  8.624498e-07 | -1.722982e-04 |  6.498806e-04 | -0.0013732223 | -1.924118e-04 | ⋯ |  6.286983e-05 | -3.180515e-05 |  3.081707e-04 |  3.391593e-04 | -2.009976e-04 |  3.171925e-05 |  1.760905e-04 |  6.228064e-05 |  4.107857e-05 | -5.962636e-05 |\n",
       "|  1.4142667 |  0.0002373104 |  1.490530e-03 | -1.267672e-03 |  3.755973e-04 | -1.276636e-03 | -2.464012e-03 | -1.123152e-03 | -0.0002020130 | -5.071380e-04 | ⋯ |  3.219704e-04 | -2.541025e-04 | -1.316452e-04 | -3.357983e-04 |  8.250531e-06 | -8.136772e-05 | -1.057496e-04 |  1.442877e-04 | -5.170771e-05 |  4.379647e-05 |\n",
       "|  1.4142645 |  0.0002366385 |  6.730440e-04 | -2.312112e-03 | -7.346101e-04 |  7.910312e-04 |  2.130838e-03 |  1.707983e-03 | -0.0013780940 | -8.342095e-04 | ⋯ | -7.978329e-04 |  2.560154e-04 | -4.100196e-04 |  1.012541e-04 | -4.528159e-04 |  4.764902e-04 | -2.459877e-05 |  2.368707e-05 |  1.333874e-04 |  4.553071e-05 |\n",
       "|  1.4142646 |  0.0002334468 | -8.822977e-04 |  3.356227e-03 |  3.305263e-04 |  1.911008e-03 |  1.939952e-03 | -1.240572e-03 | -0.0030253356 |  1.403322e-03 | ⋯ |  3.698436e-04 | -1.371536e-04 |  7.216166e-05 | -2.000378e-04 | -1.745100e-04 |  5.981169e-04 |  1.129080e-04 |  1.006835e-05 | -2.627405e-05 |  1.090209e-05 |\n",
       "|  1.4142646 |  0.0002362316 | -1.124532e-03 | -5.715772e-06 | -3.569842e-03 | -8.892082e-04 | -5.053735e-04 | -1.376393e-03 | -0.0014225854 |  5.286538e-04 | ⋯ | -3.114373e-04 |  3.770140e-05 | -2.612939e-04 | -1.139142e-04 | -1.107070e-04 |  1.024922e-04 | -3.002534e-04 |  1.457530e-04 |  1.133832e-04 | -1.203932e-04 |\n",
       "|  1.4142657 |  0.0002370195 |  4.260098e-04 |  2.055249e-03 | -3.123026e-03 | -1.179207e-03 | -1.034161e-03 | -1.866745e-03 |  0.0008491038 |  6.242098e-04 | ⋯ | -1.744137e-05 | -3.410658e-04 | -4.973116e-04 |  2.169225e-04 | -1.356303e-04 | -1.153707e-04 | -1.022696e-04 |  1.389845e-04 |  2.715901e-04 |  4.579567e-05 |\n",
       "|  1.4142657 |  0.0002350949 |  1.259175e-03 |  1.364814e-03 |  1.641407e-03 |  2.094150e-03 | -2.373886e-03 |  9.216040e-04 |  0.0016638671 | -2.172680e-03 | ⋯ |  2.017402e-04 | -1.398129e-04 | -5.985920e-05 |  1.611856e-04 | -8.742259e-05 |  3.706852e-05 | -4.673818e-06 | -2.714444e-04 | -7.879415e-05 | -2.094552e-04 |\n",
       "|  1.4142664 |  0.0002355967 | -1.320749e-03 |  2.730860e-03 |  3.137166e-03 |  1.747146e-03 |  7.162720e-04 | -2.417996e-03 | -0.0027353790 |  1.076704e-03 | ⋯ |  8.608089e-04 | -1.193950e-05 | -8.151157e-06 |  3.427864e-04 | -3.308367e-04 |  1.286992e-04 |  2.955685e-04 | -4.831481e-05 |  6.961325e-05 |  1.622372e-04 |\n",
       "|  1.4142657 |  0.0002353294 |  1.013569e-03 | -2.107419e-03 |  7.548405e-04 | -1.145079e-03 | -1.840438e-03 |  1.163170e-03 | -0.0021878360 |  1.624039e-03 | ⋯ | -6.250724e-05 | -1.793417e-04 | -3.115086e-04 | -9.359010e-05 |  4.029143e-04 | -4.554147e-05 | -1.362471e-04 | -1.323935e-04 | -1.956637e-04 | -4.979125e-05 |\n",
       "|  1.4142644 |  0.0002359969 | -2.913616e-03 | -3.147444e-03 | -3.775251e-03 |  1.997934e-03 | -1.423863e-05 | -1.925594e-03 | -0.0012116509 | -3.534560e-03 | ⋯ |  5.337148e-04 | -2.457282e-05 |  2.418555e-04 |  2.736819e-04 |  3.441078e-04 | -4.443802e-04 |  2.683270e-04 | -5.017309e-05 | -2.283566e-04 |  2.140314e-05 |\n",
       "|  1.4142662 |  0.0002380780 |  3.027297e-03 |  5.988841e-04 | -4.231335e-03 |  4.048790e-04 | -1.455169e-03 |  1.513519e-03 |  0.0018990874 |  1.573160e-03 | ⋯ | -6.754365e-05 | -7.152854e-04 |  2.044440e-05 |  3.082529e-04 | -3.593165e-04 | -1.310320e-05 | -4.541742e-05 | -1.522700e-04 | -1.068578e-04 | -5.137612e-05 |\n",
       "|  1.4142662 |  0.0002346925 | -2.116846e-03 |  3.002838e-04 |  2.810127e-03 |  6.413359e-04 |  3.494774e-04 |  1.939383e-03 |  0.0003715109 |  2.515793e-03 | ⋯ |  1.487785e-04 | -2.211730e-05 |  4.687078e-04 | -6.612062e-05 |  2.609707e-05 | -2.038862e-04 |  7.625883e-06 |  1.870708e-04 |  4.135978e-05 | -1.083923e-04 |\n",
       "|  1.4142647 |  0.0002384790 |  4.983762e-05 | -3.793150e-04 |  1.930794e-03 | -3.236481e-03 |  1.375383e-03 | -1.598079e-03 |  0.0032119916 | -8.383572e-04 | ⋯ |  8.351801e-05 | -5.667314e-05 |  5.381837e-04 |  1.490277e-05 | -3.732096e-04 |  2.969432e-04 | -1.196817e-04 |  7.788726e-05 | -1.021643e-04 |  2.674175e-05 |\n",
       "|  1.4142639 |  0.0002370604 | -9.311889e-04 |  2.809301e-04 | -1.852013e-04 | -2.414945e-03 |  1.988247e-03 | -2.343046e-04 | -0.0004538453 | -2.669847e-03 | ⋯ | -4.773560e-04 |  2.321647e-04 | -2.023376e-04 | -7.595754e-05 |  5.321853e-04 | -6.689473e-05 |  1.285911e-04 | -3.419358e-04 | -3.036353e-05 |  3.104182e-05 |\n",
       "|  1.4142658 |  0.0002348066 | -5.679929e-04 |  1.629497e-03 | -2.567559e-04 |  1.339341e-03 | -4.805959e-04 |  7.995502e-04 | -0.0006201568 |  1.326930e-03 | ⋯ | -3.657516e-04 |  2.162258e-04 |  8.950094e-05 |  2.957048e-05 |  5.422404e-04 | -2.855012e-04 | -2.737001e-04 | -1.016201e-04 | -1.730586e-04 |  2.851668e-04 |\n",
       "|  1.4142654 |  0.0002359457 | -5.186697e-04 | -1.285951e-03 |  6.184012e-04 | -1.509371e-03 |  5.474378e-04 |  1.489701e-03 |  0.0024956175 |  4.678269e-04 | ⋯ | -4.716418e-06 | -3.766536e-05 |  1.096783e-04 | -3.046764e-04 |  3.803866e-04 |  7.810014e-05 |  1.028708e-04 |  1.349493e-04 | -8.298832e-05 |  1.112397e-04 |\n",
       "|  1.4142664 |  0.0002353647 |  3.042939e-03 | -1.965812e-03 |  7.846029e-04 |  1.301434e-03 |  1.578558e-03 | -1.985148e-03 |  0.0021399900 |  5.541992e-04 | ⋯ |  1.003533e-04 |  7.068677e-05 |  8.003913e-05 |  5.093607e-05 | -1.807359e-04 |  1.478561e-04 | -4.090156e-05 |  3.933783e-05 | -5.720673e-05 | -1.408828e-04 |\n",
       "|  1.4142648 |  0.0002379650 |  7.447394e-04 |  1.576046e-03 |  2.184120e-03 | -1.500082e-03 | -1.639216e-04 |  6.771356e-04 | -0.0019220588 | -1.940458e-05 | ⋯ | -5.154353e-04 | -2.784886e-04 |  7.568122e-05 | -3.172517e-05 |  6.456340e-04 | -3.873756e-05 |  2.985754e-04 |  9.860541e-05 |  2.242471e-04 | -1.956250e-04 |\n",
       "|  1.4142661 |  0.0002362209 |  1.152821e-03 | -1.067644e-03 |  3.049795e-04 |  2.619275e-03 |  1.686853e-03 |  6.166651e-04 |  0.0001550234 | -1.455620e-03 | ⋯ | -8.186361e-05 |  7.735304e-04 |  7.263148e-04 | -2.886236e-04 | -1.487880e-04 | -4.285765e-04 |  1.294292e-04 |  2.607621e-04 |  1.676608e-04 | -3.897217e-05 |\n",
       "|  1.4142654 |  0.0002357503 |  4.627857e-04 |  4.536787e-04 |  6.947140e-04 | -1.430902e-03 | -1.183842e-03 |  1.175491e-03 |  0.0008438008 | -1.520007e-03 | ⋯ |  3.527394e-04 |  3.161502e-04 | -3.327730e-04 | -1.151251e-04 | -3.412931e-04 |  2.204338e-06 | -5.018772e-05 |  5.205084e-05 |  1.340083e-04 |  1.373858e-04 |\n",
       "|  1.4142647 |  0.0002343127 | -2.963969e-03 | -8.051877e-04 |  3.113560e-04 | -2.650631e-04 | -7.967552e-04 |  1.765812e-03 |  0.0015273229 |  1.857084e-03 | ⋯ | -2.717670e-04 |  2.945480e-04 | -2.072168e-04 |  1.268035e-04 | -1.864839e-04 | -1.446827e-04 | -1.398607e-04 | -2.152093e-04 | -2.166054e-05 | -6.492359e-06 |\n",
       "| -0.7077367 |  0.7073119184 | -1.693155e-03 | -5.525716e-05 | -1.934063e-03 |  3.115214e-03 | -1.173551e-03 |  7.246030e-04 | -0.0003426444 |  6.575939e-04 | ⋯ |  2.480593e-04 |  5.243967e-04 | -3.618282e-05 | -2.355426e-04 | -1.165932e-04 | -1.184022e-04 |  8.682137e-05 | -1.733317e-04 |  4.515616e-04 | -1.370011e-04 |\n",
       "| -0.7070506 |  0.7066309591 | -2.347992e-03 | -1.460040e-03 | -1.599751e-03 | -2.602173e-03 |  4.842380e-04 |  8.383742e-04 |  0.0009692790 |  2.804358e-03 | ⋯ |  8.960770e-04 |  1.632106e-04 | -2.834815e-04 | -3.162787e-04 |  5.215410e-04 |  3.194968e-04 | -5.909414e-06 |  1.145586e-04 |  2.266450e-04 |  1.079102e-04 |\n",
       "| -0.7074081 |  0.7069864577 | -1.214048e-03 | -1.754880e-03 | -1.896284e-03 | -3.713106e-03 |  1.051925e-03 |  5.528142e-04 |  0.0002034001 |  1.341005e-03 | ⋯ | -2.217076e-04 |  3.625892e-04 |  8.042774e-04 |  5.562554e-04 | -8.530460e-05 |  2.384282e-04 |  1.999072e-04 | -4.207719e-05 | -1.740948e-04 |  5.880534e-05 |\n",
       "| -0.7074770 |  0.7070569866 | -1.193354e-04 | -2.341476e-03 |  3.718166e-03 |  2.880799e-03 | -1.602854e-03 |  2.004579e-03 |  0.0011448754 | -2.072327e-04 | ⋯ |  1.472418e-04 | -1.755092e-04 |  1.186990e-04 |  1.492236e-04 |  1.469874e-04 | -2.321268e-04 | -4.504284e-04 |  2.557555e-04 |  8.095954e-05 |  4.655718e-05 |\n",
       "| -0.7079057 |  0.7074812089 | -3.057240e-04 |  4.157069e-04 |  2.207019e-04 |  2.125143e-03 | -8.826146e-05 | -2.630333e-03 |  0.0001692731 |  1.988394e-03 | ⋯ | -6.520961e-04 | -2.694549e-04 | -6.520501e-04 | -2.442753e-04 | -7.679601e-06 | -3.392636e-04 |  2.764351e-04 |  2.554680e-04 | -2.072312e-04 | -2.756223e-05 |\n",
       "| -0.7072647 |  0.7068465757 |  3.373940e-03 |  9.163094e-04 |  7.778088e-04 | -1.369471e-03 |  2.278801e-03 |  2.059645e-03 | -0.0001730863 |  1.019944e-03 | ⋯ | -3.168821e-04 |  2.704744e-04 | -3.026988e-04 | -2.410060e-04 | -2.389056e-04 | -3.217953e-05 | -1.561539e-04 | -1.899904e-04 | -1.054939e-05 | -5.122827e-05 |\n",
       "| -0.7077880 |  0.7073689812 | -7.876772e-04 |  2.081292e-04 | -1.714177e-05 |  8.228268e-04 |  1.464891e-03 |  1.985747e-04 | -0.0008707702 | -1.281021e-03 | ⋯ |  9.563143e-05 | -4.564865e-04 | -2.419595e-05 |  3.872250e-04 | -1.041919e-04 |  5.693665e-05 | -3.016858e-04 |  1.113463e-04 |  2.248188e-05 |  4.679825e-05 |\n",
       "| -0.7084134 |  0.7079909255 | -1.124931e-03 |  2.492731e-03 | -4.428474e-04 | -5.692797e-04 | -2.719166e-04 |  1.861520e-03 | -0.0002291520 | -3.893666e-04 | ⋯ | -3.373524e-04 | -2.712496e-04 |  6.776637e-04 | -1.409218e-04 | -3.598176e-04 | -4.042577e-04 | -1.308816e-04 |  1.982491e-04 | -1.661573e-04 |  1.543929e-05 |\n",
       "| -0.7075026 |  0.7070842706 |  1.691373e-03 | -2.506553e-03 | -5.405684e-04 | -7.118455e-04 |  2.475491e-03 |  8.231588e-04 |  0.0002331869 | -1.127092e-03 | ⋯ | -1.548997e-04 | -1.916510e-04 | -5.998937e-04 | -4.196034e-04 | -4.893747e-04 | -3.832160e-04 |  4.098054e-04 | -7.709943e-06 |  1.382104e-05 |  1.877673e-04 |\n",
       "| -0.7065831 |  0.7061632066 | -2.206117e-03 |  1.771957e-03 |  2.517390e-04 |  1.606613e-04 |  2.664754e-04 |  3.675111e-04 | -0.0009186744 | -1.647105e-03 | ⋯ | -5.000271e-04 | -2.154202e-04 | -3.611234e-04 | -6.504572e-04 |  9.097386e-05 |  3.416429e-04 | -8.187415e-06 |  1.666622e-04 | -2.445788e-04 | -2.139031e-05 |\n",
       "| -0.7076392 |  0.7072183339 | -2.976458e-03 |  1.395644e-03 |  3.699997e-03 | -3.938687e-03 | -3.352927e-03 | -1.984929e-03 |  0.0005357629 | -1.021634e-03 | ⋯ | -2.607929e-04 |  2.111977e-04 | -1.114714e-04 |  1.857235e-04 |  7.328122e-05 | -3.171283e-05 |  1.612671e-04 | -6.145763e-05 |  1.964547e-04 |  3.180141e-05 |\n",
       "| -0.7068029 |  0.7063848634 |  4.568354e-03 |  1.494425e-03 | -4.004524e-04 |  2.499599e-04 | -6.132632e-05 | -1.957787e-03 |  0.0003226336 | -8.369470e-04 | ⋯ |  2.777774e-04 |  8.844751e-04 |  2.367363e-05 | -1.280806e-04 |  2.359707e-04 |  6.310550e-05 | -1.835746e-04 | -2.547537e-04 | -4.871083e-05 |  2.749939e-05 |\n",
       "| -0.7083757 |  0.7079550666 |  1.614928e-03 | -1.583995e-03 | -2.744297e-04 |  2.205387e-03 |  1.320465e-03 | -1.758306e-03 |  0.0003164735 |  1.007922e-03 | ⋯ | -1.025483e-04 | -5.643442e-04 |  4.217580e-04 | -4.140630e-04 |  1.751274e-04 |  1.580089e-04 |  3.745336e-04 | -6.287657e-05 |  8.293452e-05 | -3.841375e-05 |\n",
       "| -0.7072706 |  0.7068517854 |  1.115709e-03 | -2.118858e-03 |  2.248036e-04 |  6.426832e-04 | -4.613869e-03 |  1.086134e-03 | -0.0005421176 |  1.315821e-04 | ⋯ |  3.022912e-04 |  3.585364e-04 |  1.578702e-05 |  1.040349e-04 | -3.274297e-04 |  4.017519e-04 |  3.792169e-04 | -7.530062e-05 | -2.791392e-04 |  1.781404e-05 |\n",
       "| -0.7068658 |  0.7064450453 |  5.601825e-04 |  2.380263e-03 | -1.154364e-03 |  2.092242e-03 |  4.270561e-04 | -1.660274e-03 |  0.0017421978 | -1.714985e-03 | ⋯ | -2.871229e-04 | -2.476246e-04 |  1.796437e-05 |  5.675717e-04 |  9.800116e-05 |  2.307538e-05 | -1.909847e-04 |  1.070281e-04 |  9.700500e-05 |  2.087490e-04 |\n",
       "| -0.7070201 |  0.7065987689 | -1.469032e-03 |  1.149860e-03 | -7.746266e-04 | -2.140311e-03 |  1.574156e-03 | -1.134650e-03 | -0.0003154135 |  1.510704e-03 | ⋯ |  2.215410e-04 | -2.362203e-04 |  1.079405e-04 |  8.129640e-05 | -2.268082e-04 | -5.261484e-04 | -8.099643e-06 |  3.397043e-05 |  2.707151e-05 | -3.309248e-05 |\n",
       "| -0.7071582 |  0.7067391322 | -9.143986e-04 |  1.737261e-03 | -8.931178e-04 |  1.088357e-03 |  5.650607e-04 |  6.229631e-04 |  0.0016810176 | -1.144446e-03 | ⋯ |  5.241355e-04 | -5.681561e-05 |  3.423016e-04 | -5.025915e-04 |  4.962341e-04 |  1.650612e-04 | -6.953831e-05 | -2.934440e-04 | -8.552909e-05 | -3.691138e-05 |\n",
       "| -0.7076857 |  0.7072651837 |  1.061490e-03 | -3.248730e-03 |  6.864840e-04 |  1.346530e-04 |  1.569630e-03 | -1.868506e-05 | -0.0020152837 | -4.605226e-04 | ⋯ |  1.472816e-04 | -4.526003e-04 | -1.387410e-04 |  4.433937e-04 |  4.968581e-04 |  1.665975e-04 | -3.466649e-04 |  5.779903e-05 | -3.848591e-06 | -2.658123e-04 |\n",
       "| -0.7078337 |  0.7074123257 |  2.146229e-03 | -8.834530e-04 |  1.635876e-03 | -1.022449e-03 |  1.059066e-03 | -4.608572e-04 | -0.0016724025 | -3.204060e-04 | ⋯ |  4.115150e-04 |  2.689047e-04 | -2.443501e-04 |  6.245374e-04 | -2.964654e-04 |  1.829873e-05 | -2.130193e-04 | -4.154978e-05 | -2.274360e-05 |  4.164723e-05 |\n",
       "| -0.7079568 |  0.7075354503 | -9.695288e-04 |  1.997216e-03 | -1.287586e-03 |  5.454023e-04 | -3.369800e-03 |  4.675238e-04 | -0.0002368269 | -3.132076e-04 | ⋯ | -4.370823e-04 |  9.403522e-05 |  2.232474e-04 |  1.936523e-04 | -8.129294e-05 |  1.158408e-04 |  1.768561e-04 | -9.856468e-05 |  4.354663e-05 | -1.790741e-04 |\n",
       "\n"
      ],
      "text/plain": [
       "      PC1        PC2           PC3           PC4           PC5          \n",
       " [1,] -0.7072765 -0.7077973111  1.073820e-03  9.286418e-04  3.788533e-04\n",
       " [2,] -0.7070423 -0.7075635227  2.616540e-03  6.078814e-04 -5.516618e-04\n",
       " [3,] -0.7057782 -0.7062989686  1.270168e-03  1.414063e-03 -3.455995e-03\n",
       " [4,] -0.7068289 -0.7073522551 -1.013248e-03  7.904093e-04 -1.228239e-03\n",
       " [5,] -0.7067869 -0.7073106792  1.959060e-03 -8.610101e-04  2.664295e-04\n",
       " [6,] -0.7056648 -0.7061882344 -1.334355e-03  9.128829e-04  4.975109e-04\n",
       " [7,] -0.7065528 -0.7070769936 -8.433488e-04 -3.995280e-04  9.012291e-04\n",
       " [8,] -0.7077727 -0.7082985534 -1.398747e-04 -1.226182e-03  4.003060e-04\n",
       " [9,] -0.7073645 -0.7078895228 -1.067179e-03  1.464265e-03  1.260948e-03\n",
       "[10,] -0.7071933 -0.7077174737 -2.343243e-03 -1.557701e-04 -7.881484e-04\n",
       "[11,] -0.7060133 -0.7065385993  5.846108e-04 -2.568159e-03 -1.835246e-03\n",
       "[12,] -0.7066247 -0.7071483080 -3.553334e-03 -4.133337e-04 -2.206244e-04\n",
       "[13,] -0.7065959 -0.7071185833  3.526630e-03  3.507284e-04  2.362292e-03\n",
       "[14,] -0.7068000 -0.7073254996  1.610531e-03 -5.363733e-05 -6.065996e-04\n",
       "[15,] -0.7072704 -0.7077967690  2.335574e-03  3.194603e-03 -5.689155e-04\n",
       "[16,] -0.7056147 -0.7061392451 -1.738410e-03 -3.270775e-03  5.224189e-04\n",
       "[17,] -0.7065260 -0.7070512046 -2.448454e-03  7.170245e-04  9.528319e-04\n",
       "[18,] -0.7082690 -0.7087921434  2.395599e-03  3.588328e-04  9.078043e-04\n",
       "[19,] -0.7063819 -0.7069072642 -1.639959e-03 -3.288117e-03  1.355662e-03\n",
       "[20,] -0.7072127 -0.7077376550 -1.257821e-03  1.488720e-03 -5.538106e-04\n",
       "[21,]  1.4142667  0.0002373104  1.490530e-03 -1.267672e-03  3.755973e-04\n",
       "[22,]  1.4142645  0.0002366385  6.730440e-04 -2.312112e-03 -7.346101e-04\n",
       "[23,]  1.4142646  0.0002334468 -8.822977e-04  3.356227e-03  3.305263e-04\n",
       "[24,]  1.4142646  0.0002362316 -1.124532e-03 -5.715772e-06 -3.569842e-03\n",
       "[25,]  1.4142657  0.0002370195  4.260098e-04  2.055249e-03 -3.123026e-03\n",
       "[26,]  1.4142657  0.0002350949  1.259175e-03  1.364814e-03  1.641407e-03\n",
       "[27,]  1.4142664  0.0002355967 -1.320749e-03  2.730860e-03  3.137166e-03\n",
       "[28,]  1.4142657  0.0002353294  1.013569e-03 -2.107419e-03  7.548405e-04\n",
       "[29,]  1.4142644  0.0002359969 -2.913616e-03 -3.147444e-03 -3.775251e-03\n",
       "[30,]  1.4142662  0.0002380780  3.027297e-03  5.988841e-04 -4.231335e-03\n",
       "[31,]  1.4142662  0.0002346925 -2.116846e-03  3.002838e-04  2.810127e-03\n",
       "[32,]  1.4142647  0.0002384790  4.983762e-05 -3.793150e-04  1.930794e-03\n",
       "[33,]  1.4142639  0.0002370604 -9.311889e-04  2.809301e-04 -1.852013e-04\n",
       "[34,]  1.4142658  0.0002348066 -5.679929e-04  1.629497e-03 -2.567559e-04\n",
       "[35,]  1.4142654  0.0002359457 -5.186697e-04 -1.285951e-03  6.184012e-04\n",
       "[36,]  1.4142664  0.0002353647  3.042939e-03 -1.965812e-03  7.846029e-04\n",
       "[37,]  1.4142648  0.0002379650  7.447394e-04  1.576046e-03  2.184120e-03\n",
       "[38,]  1.4142661  0.0002362209  1.152821e-03 -1.067644e-03  3.049795e-04\n",
       "[39,]  1.4142654  0.0002357503  4.627857e-04  4.536787e-04  6.947140e-04\n",
       "[40,]  1.4142647  0.0002343127 -2.963969e-03 -8.051877e-04  3.113560e-04\n",
       "[41,] -0.7077367  0.7073119184 -1.693155e-03 -5.525716e-05 -1.934063e-03\n",
       "[42,] -0.7070506  0.7066309591 -2.347992e-03 -1.460040e-03 -1.599751e-03\n",
       "[43,] -0.7074081  0.7069864577 -1.214048e-03 -1.754880e-03 -1.896284e-03\n",
       "[44,] -0.7074770  0.7070569866 -1.193354e-04 -2.341476e-03  3.718166e-03\n",
       "[45,] -0.7079057  0.7074812089 -3.057240e-04  4.157069e-04  2.207019e-04\n",
       "[46,] -0.7072647  0.7068465757  3.373940e-03  9.163094e-04  7.778088e-04\n",
       "[47,] -0.7077880  0.7073689812 -7.876772e-04  2.081292e-04 -1.714177e-05\n",
       "[48,] -0.7084134  0.7079909255 -1.124931e-03  2.492731e-03 -4.428474e-04\n",
       "[49,] -0.7075026  0.7070842706  1.691373e-03 -2.506553e-03 -5.405684e-04\n",
       "[50,] -0.7065831  0.7061632066 -2.206117e-03  1.771957e-03  2.517390e-04\n",
       "[51,] -0.7076392  0.7072183339 -2.976458e-03  1.395644e-03  3.699997e-03\n",
       "[52,] -0.7068029  0.7063848634  4.568354e-03  1.494425e-03 -4.004524e-04\n",
       "[53,] -0.7083757  0.7079550666  1.614928e-03 -1.583995e-03 -2.744297e-04\n",
       "[54,] -0.7072706  0.7068517854  1.115709e-03 -2.118858e-03  2.248036e-04\n",
       "[55,] -0.7068658  0.7064450453  5.601825e-04  2.380263e-03 -1.154364e-03\n",
       "[56,] -0.7070201  0.7065987689 -1.469032e-03  1.149860e-03 -7.746266e-04\n",
       "[57,] -0.7071582  0.7067391322 -9.143986e-04  1.737261e-03 -8.931178e-04\n",
       "[58,] -0.7076857  0.7072651837  1.061490e-03 -3.248730e-03  6.864840e-04\n",
       "[59,] -0.7078337  0.7074123257  2.146229e-03 -8.834530e-04  1.635876e-03\n",
       "[60,] -0.7079568  0.7075354503 -9.695288e-04  1.997216e-03 -1.287586e-03\n",
       "      PC6           PC7           PC8           PC9           PC10         \n",
       " [1,] -3.272551e-03  1.931387e-04  3.001716e-04 -0.0010222195 -6.837075e-04\n",
       " [2,] -2.790691e-03 -2.197537e-03  1.312596e-04 -0.0010130438 -3.111630e-03\n",
       " [3,] -5.000372e-04  1.809437e-03  1.223335e-03  0.0004421023  7.528689e-05\n",
       " [4,]  1.028921e-04 -6.082778e-04  3.576527e-03 -0.0008364986  8.896895e-05\n",
       " [5,]  1.347226e-03 -5.572109e-04 -2.086358e-04  0.0009536144  1.960147e-03\n",
       " [6,]  5.059075e-04  5.745936e-04 -4.643950e-04  0.0045671959  6.207230e-04\n",
       " [7,]  5.787085e-04  2.268421e-03  1.553814e-03 -0.0009830668 -1.547811e-03\n",
       " [8,]  4.661362e-04  2.171016e-03  1.388052e-03  0.0011815174 -1.419475e-03\n",
       " [9,]  1.006357e-03 -8.175357e-04  1.682717e-03  0.0009934442 -7.636169e-05\n",
       "[10,]  5.673832e-04 -2.580313e-04 -3.230571e-03  0.0028481293 -1.091285e-03\n",
       "[11,]  6.491967e-04 -3.539766e-03  7.194627e-04 -0.0018535034  6.443302e-04\n",
       "[12,] -1.372289e-04  2.327712e-03  1.456843e-03 -0.0004310189  3.650126e-04\n",
       "[13,]  3.756594e-04  1.051876e-04 -2.343545e-04 -0.0003238283 -3.584456e-06\n",
       "[14,] -1.152517e-03  3.873523e-04 -3.310202e-03 -0.0009495149  3.213836e-03\n",
       "[15,]  9.669144e-04 -1.045452e-03  3.686634e-04 -0.0001605887 -5.613072e-06\n",
       "[16,] -5.372437e-04 -1.526235e-03 -3.105383e-03 -0.0012709897 -9.972802e-04\n",
       "[17,]  1.318033e-03  1.078951e-03 -1.090305e-03 -0.0010764695 -2.443072e-04\n",
       "[18,] -4.257106e-04  7.462215e-04 -2.344739e-04 -0.0002033831  1.138648e-03\n",
       "[19,]  9.341376e-04 -9.430634e-04 -1.176016e-03  0.0005112549  1.268879e-03\n",
       "[20,]  8.624498e-07 -1.722982e-04  6.498806e-04 -0.0013732223 -1.924118e-04\n",
       "[21,] -1.276636e-03 -2.464012e-03 -1.123152e-03 -0.0002020130 -5.071380e-04\n",
       "[22,]  7.910312e-04  2.130838e-03  1.707983e-03 -0.0013780940 -8.342095e-04\n",
       "[23,]  1.911008e-03  1.939952e-03 -1.240572e-03 -0.0030253356  1.403322e-03\n",
       "[24,] -8.892082e-04 -5.053735e-04 -1.376393e-03 -0.0014225854  5.286538e-04\n",
       "[25,] -1.179207e-03 -1.034161e-03 -1.866745e-03  0.0008491038  6.242098e-04\n",
       "[26,]  2.094150e-03 -2.373886e-03  9.216040e-04  0.0016638671 -2.172680e-03\n",
       "[27,]  1.747146e-03  7.162720e-04 -2.417996e-03 -0.0027353790  1.076704e-03\n",
       "[28,] -1.145079e-03 -1.840438e-03  1.163170e-03 -0.0021878360  1.624039e-03\n",
       "[29,]  1.997934e-03 -1.423863e-05 -1.925594e-03 -0.0012116509 -3.534560e-03\n",
       "[30,]  4.048790e-04 -1.455169e-03  1.513519e-03  0.0018990874  1.573160e-03\n",
       "[31,]  6.413359e-04  3.494774e-04  1.939383e-03  0.0003715109  2.515793e-03\n",
       "[32,] -3.236481e-03  1.375383e-03 -1.598079e-03  0.0032119916 -8.383572e-04\n",
       "[33,] -2.414945e-03  1.988247e-03 -2.343046e-04 -0.0004538453 -2.669847e-03\n",
       "[34,]  1.339341e-03 -4.805959e-04  7.995502e-04 -0.0006201568  1.326930e-03\n",
       "[35,] -1.509371e-03  5.474378e-04  1.489701e-03  0.0024956175  4.678269e-04\n",
       "[36,]  1.301434e-03  1.578558e-03 -1.985148e-03  0.0021399900  5.541992e-04\n",
       "[37,] -1.500082e-03 -1.639216e-04  6.771356e-04 -0.0019220588 -1.940458e-05\n",
       "[38,]  2.619275e-03  1.686853e-03  6.166651e-04  0.0001550234 -1.455620e-03\n",
       "[39,] -1.430902e-03 -1.183842e-03  1.175491e-03  0.0008438008 -1.520007e-03\n",
       "[40,] -2.650631e-04 -7.967552e-04  1.765812e-03  0.0015273229  1.857084e-03\n",
       "[41,]  3.115214e-03 -1.173551e-03  7.246030e-04 -0.0003426444  6.575939e-04\n",
       "[42,] -2.602173e-03  4.842380e-04  8.383742e-04  0.0009692790  2.804358e-03\n",
       "[43,] -3.713106e-03  1.051925e-03  5.528142e-04  0.0002034001  1.341005e-03\n",
       "[44,]  2.880799e-03 -1.602854e-03  2.004579e-03  0.0011448754 -2.072327e-04\n",
       "[45,]  2.125143e-03 -8.826146e-05 -2.630333e-03  0.0001692731  1.988394e-03\n",
       "[46,] -1.369471e-03  2.278801e-03  2.059645e-03 -0.0001730863  1.019944e-03\n",
       "[47,]  8.228268e-04  1.464891e-03  1.985747e-04 -0.0008707702 -1.281021e-03\n",
       "[48,] -5.692797e-04 -2.719166e-04  1.861520e-03 -0.0002291520 -3.893666e-04\n",
       "[49,] -7.118455e-04  2.475491e-03  8.231588e-04  0.0002331869 -1.127092e-03\n",
       "[50,]  1.606613e-04  2.664754e-04  3.675111e-04 -0.0009186744 -1.647105e-03\n",
       "[51,] -3.938687e-03 -3.352927e-03 -1.984929e-03  0.0005357629 -1.021634e-03\n",
       "[52,]  2.499599e-04 -6.132632e-05 -1.957787e-03  0.0003226336 -8.369470e-04\n",
       "[53,]  2.205387e-03  1.320465e-03 -1.758306e-03  0.0003164735  1.007922e-03\n",
       "[54,]  6.426832e-04 -4.613869e-03  1.086134e-03 -0.0005421176  1.315821e-04\n",
       "[55,]  2.092242e-03  4.270561e-04 -1.660274e-03  0.0017421978 -1.714985e-03\n",
       "[56,] -2.140311e-03  1.574156e-03 -1.134650e-03 -0.0003154135  1.510704e-03\n",
       "[57,]  1.088357e-03  5.650607e-04  6.229631e-04  0.0016810176 -1.144446e-03\n",
       "[58,]  1.346530e-04  1.569630e-03 -1.868506e-05 -0.0020152837 -4.605226e-04\n",
       "[59,] -1.022449e-03  1.059066e-03 -4.608572e-04 -0.0016724025 -3.204060e-04\n",
       "[60,]  5.454023e-04 -3.369800e-03  4.675238e-04 -0.0002368269 -3.132076e-04\n",
       "      <U+22EF>        PC41          PC42          PC43          PC44         \n",
       " [1,] <U+22EF>  6.564052e-04 -2.481211e-04 -2.121890e-05 -1.835757e-04\n",
       " [2,] <U+22EF>  1.957561e-04 -2.795378e-04  2.868274e-04 -2.990738e-04\n",
       " [3,] <U+22EF>  3.568500e-04  1.327630e-04  1.517588e-04 -4.668780e-05\n",
       " [4,] <U+22EF>  4.837722e-05  2.029646e-04 -3.796372e-05  2.963058e-04\n",
       " [5,] <U+22EF>  9.012757e-05  2.822849e-04  2.168647e-04 -3.114659e-04\n",
       " [6,] <U+22EF>  6.649967e-05  3.363141e-04 -6.901410e-04  2.969470e-04\n",
       " [7,] <U+22EF>  7.686873e-05 -4.322864e-04  6.736434e-05 -1.390600e-04\n",
       " [8,] <U+22EF>  6.471904e-04 -7.703763e-05 -4.467657e-04  3.093093e-04\n",
       " [9,] <U+22EF>  5.553009e-04 -5.775013e-04 -3.321971e-04 -1.726997e-04\n",
       "[10,] <U+22EF> -4.876973e-04 -3.890131e-05  1.447062e-04  5.167895e-05\n",
       "[11,] <U+22EF> -1.070596e-04  1.616211e-04 -7.617671e-05  1.270413e-04\n",
       "[12,] <U+22EF> -5.640485e-04  6.639366e-05  1.601436e-04 -4.193349e-05\n",
       "[13,] <U+22EF> -6.687565e-04  8.064277e-05  2.915855e-04  1.809546e-04\n",
       "[14,] <U+22EF>  3.104536e-04  1.120909e-04  2.658053e-04 -7.306959e-05\n",
       "[15,] <U+22EF> -2.612009e-04  9.355196e-05 -1.847349e-05 -3.304417e-04\n",
       "[16,] <U+22EF> -2.582326e-04  2.186712e-04  4.150824e-06 -4.707370e-04\n",
       "[17,] <U+22EF>  7.729009e-05  7.714497e-04 -4.015735e-04  3.415853e-06\n",
       "[18,] <U+22EF> -5.395447e-04 -5.143914e-05 -1.195698e-04  5.587979e-04\n",
       "[19,] <U+22EF> -2.583036e-04 -7.213657e-04  2.471280e-04 -9.568660e-05\n",
       "[20,] <U+22EF>  6.286983e-05 -3.180515e-05  3.081707e-04  3.391593e-04\n",
       "[21,] <U+22EF>  3.219704e-04 -2.541025e-04 -1.316452e-04 -3.357983e-04\n",
       "[22,] <U+22EF> -7.978329e-04  2.560154e-04 -4.100196e-04  1.012541e-04\n",
       "[23,] <U+22EF>  3.698436e-04 -1.371536e-04  7.216166e-05 -2.000378e-04\n",
       "[24,] <U+22EF> -3.114373e-04  3.770140e-05 -2.612939e-04 -1.139142e-04\n",
       "[25,] <U+22EF> -1.744137e-05 -3.410658e-04 -4.973116e-04  2.169225e-04\n",
       "[26,] <U+22EF>  2.017402e-04 -1.398129e-04 -5.985920e-05  1.611856e-04\n",
       "[27,] <U+22EF>  8.608089e-04 -1.193950e-05 -8.151157e-06  3.427864e-04\n",
       "[28,] <U+22EF> -6.250724e-05 -1.793417e-04 -3.115086e-04 -9.359010e-05\n",
       "[29,] <U+22EF>  5.337148e-04 -2.457282e-05  2.418555e-04  2.736819e-04\n",
       "[30,] <U+22EF> -6.754365e-05 -7.152854e-04  2.044440e-05  3.082529e-04\n",
       "[31,] <U+22EF>  1.487785e-04 -2.211730e-05  4.687078e-04 -6.612062e-05\n",
       "[32,] <U+22EF>  8.351801e-05 -5.667314e-05  5.381837e-04  1.490277e-05\n",
       "[33,] <U+22EF> -4.773560e-04  2.321647e-04 -2.023376e-04 -7.595754e-05\n",
       "[34,] <U+22EF> -3.657516e-04  2.162258e-04  8.950094e-05  2.957048e-05\n",
       "[35,] <U+22EF> -4.716418e-06 -3.766536e-05  1.096783e-04 -3.046764e-04\n",
       "[36,] <U+22EF>  1.003533e-04  7.068677e-05  8.003913e-05  5.093607e-05\n",
       "[37,] <U+22EF> -5.154353e-04 -2.784886e-04  7.568122e-05 -3.172517e-05\n",
       "[38,] <U+22EF> -8.186361e-05  7.735304e-04  7.263148e-04 -2.886236e-04\n",
       "[39,] <U+22EF>  3.527394e-04  3.161502e-04 -3.327730e-04 -1.151251e-04\n",
       "[40,] <U+22EF> -2.717670e-04  2.945480e-04 -2.072168e-04  1.268035e-04\n",
       "[41,] <U+22EF>  2.480593e-04  5.243967e-04 -3.618282e-05 -2.355426e-04\n",
       "[42,] <U+22EF>  8.960770e-04  1.632106e-04 -2.834815e-04 -3.162787e-04\n",
       "[43,] <U+22EF> -2.217076e-04  3.625892e-04  8.042774e-04  5.562554e-04\n",
       "[44,] <U+22EF>  1.472418e-04 -1.755092e-04  1.186990e-04  1.492236e-04\n",
       "[45,] <U+22EF> -6.520961e-04 -2.694549e-04 -6.520501e-04 -2.442753e-04\n",
       "[46,] <U+22EF> -3.168821e-04  2.704744e-04 -3.026988e-04 -2.410060e-04\n",
       "[47,] <U+22EF>  9.563143e-05 -4.564865e-04 -2.419595e-05  3.872250e-04\n",
       "[48,] <U+22EF> -3.373524e-04 -2.712496e-04  6.776637e-04 -1.409218e-04\n",
       "[49,] <U+22EF> -1.548997e-04 -1.916510e-04 -5.998937e-04 -4.196034e-04\n",
       "[50,] <U+22EF> -5.000271e-04 -2.154202e-04 -3.611234e-04 -6.504572e-04\n",
       "[51,] <U+22EF> -2.607929e-04  2.111977e-04 -1.114714e-04  1.857235e-04\n",
       "[52,] <U+22EF>  2.777774e-04  8.844751e-04  2.367363e-05 -1.280806e-04\n",
       "[53,] <U+22EF> -1.025483e-04 -5.643442e-04  4.217580e-04 -4.140630e-04\n",
       "[54,] <U+22EF>  3.022912e-04  3.585364e-04  1.578702e-05  1.040349e-04\n",
       "[55,] <U+22EF> -2.871229e-04 -2.476246e-04  1.796437e-05  5.675717e-04\n",
       "[56,] <U+22EF>  2.215410e-04 -2.362203e-04  1.079405e-04  8.129640e-05\n",
       "[57,] <U+22EF>  5.241355e-04 -5.681561e-05  3.423016e-04 -5.025915e-04\n",
       "[58,] <U+22EF>  1.472816e-04 -4.526003e-04 -1.387410e-04  4.433937e-04\n",
       "[59,] <U+22EF>  4.115150e-04  2.689047e-04 -2.443501e-04  6.245374e-04\n",
       "[60,] <U+22EF> -4.370823e-04  9.403522e-05  2.232474e-04  1.936523e-04\n",
       "      PC45          PC46          PC47          PC48          PC49         \n",
       " [1,] -1.790601e-04  8.260529e-05 -7.307455e-05  6.568269e-05 -9.436681e-05\n",
       " [2,] -2.040504e-04 -2.567564e-04  8.718131e-05  1.654917e-04  1.058088e-04\n",
       " [3,]  2.066690e-04  1.944731e-04  1.779595e-04  2.597855e-04 -7.466150e-05\n",
       " [4,]  1.806793e-04  1.482938e-04  6.491234e-05  3.656872e-05  2.790720e-05\n",
       " [5,] -7.378118e-05  3.724612e-04 -4.385685e-05  1.976724e-04  2.926599e-05\n",
       " [6,] -2.729668e-05 -3.445206e-04  2.932074e-04 -7.378392e-06 -7.440223e-05\n",
       " [7,] -1.810279e-04 -4.572617e-05 -1.691294e-04 -3.263722e-04  8.555209e-05\n",
       " [8,]  3.102162e-04 -5.199040e-05  1.731293e-04  2.410885e-05  1.832211e-04\n",
       " [9,] -2.340077e-05 -8.202195e-05 -3.061642e-05 -5.007951e-06 -1.662971e-04\n",
       "[10,]  1.879210e-04  5.659791e-04 -3.195145e-04  8.191019e-05  6.876340e-05\n",
       "[11,]  9.288942e-05 -6.867889e-05 -7.430139e-05  1.689649e-04  4.761071e-05\n",
       "[12,] -3.448957e-04 -1.332503e-04 -1.743464e-04 -1.872179e-04  2.005201e-05\n",
       "[13,]  3.306779e-04 -1.655201e-04  1.206049e-04  7.854941e-05  7.811666e-05\n",
       "[14,]  9.738455e-05 -6.614209e-04 -2.645153e-04 -2.694360e-04 -3.155517e-05\n",
       "[15,]  6.876730e-05  8.904166e-05 -1.559756e-04 -1.702595e-04  6.049723e-05\n",
       "[16,] -1.914834e-04 -8.034423e-06 -1.535151e-04 -6.383921e-06  4.359662e-05\n",
       "[17,] -1.435480e-04 -1.030040e-07 -1.595113e-04  1.859455e-04 -3.784868e-04\n",
       "[18,]  3.631053e-04  1.169448e-04  3.649147e-04  4.411608e-05 -6.113010e-05\n",
       "[19,] -2.699465e-04  2.156387e-04  1.602875e-04 -3.988848e-04  8.937685e-05\n",
       "[20,] -2.009976e-04  3.171925e-05  1.760905e-04  6.228064e-05  4.107857e-05\n",
       "[21,]  8.250531e-06 -8.136772e-05 -1.057496e-04  1.442877e-04 -5.170771e-05\n",
       "[22,] -4.528159e-04  4.764902e-04 -2.459877e-05  2.368707e-05  1.333874e-04\n",
       "[23,] -1.745100e-04  5.981169e-04  1.129080e-04  1.006835e-05 -2.627405e-05\n",
       "[24,] -1.107070e-04  1.024922e-04 -3.002534e-04  1.457530e-04  1.133832e-04\n",
       "[25,] -1.356303e-04 -1.153707e-04 -1.022696e-04  1.389845e-04  2.715901e-04\n",
       "[26,] -8.742259e-05  3.706852e-05 -4.673818e-06 -2.714444e-04 -7.879415e-05\n",
       "[27,] -3.308367e-04  1.286992e-04  2.955685e-04 -4.831481e-05  6.961325e-05\n",
       "[28,]  4.029143e-04 -4.554147e-05 -1.362471e-04 -1.323935e-04 -1.956637e-04\n",
       "[29,]  3.441078e-04 -4.443802e-04  2.683270e-04 -5.017309e-05 -2.283566e-04\n",
       "[30,] -3.593165e-04 -1.310320e-05 -4.541742e-05 -1.522700e-04 -1.068578e-04\n",
       "[31,]  2.609707e-05 -2.038862e-04  7.625883e-06  1.870708e-04  4.135978e-05\n",
       "[32,] -3.732096e-04  2.969432e-04 -1.196817e-04  7.788726e-05 -1.021643e-04\n",
       "[33,]  5.321853e-04 -6.689473e-05  1.285911e-04 -3.419358e-04 -3.036353e-05\n",
       "[34,]  5.422404e-04 -2.855012e-04 -2.737001e-04 -1.016201e-04 -1.730586e-04\n",
       "[35,]  3.803866e-04  7.810014e-05  1.028708e-04  1.349493e-04 -8.298832e-05\n",
       "[36,] -1.807359e-04  1.478561e-04 -4.090156e-05  3.933783e-05 -5.720673e-05\n",
       "[37,]  6.456340e-04 -3.873756e-05  2.985754e-04  9.860541e-05  2.242471e-04\n",
       "[38,] -1.487880e-04 -4.285765e-04  1.294292e-04  2.607621e-04  1.676608e-04\n",
       "[39,] -3.412931e-04  2.204338e-06 -5.018772e-05  5.205084e-05  1.340083e-04\n",
       "[40,] -1.864839e-04 -1.446827e-04 -1.398607e-04 -2.152093e-04 -2.166054e-05\n",
       "[41,] -1.165932e-04 -1.184022e-04  8.682137e-05 -1.733317e-04  4.515616e-04\n",
       "[42,]  5.215410e-04  3.194968e-04 -5.909414e-06  1.145586e-04  2.266450e-04\n",
       "[43,] -8.530460e-05  2.384282e-04  1.999072e-04 -4.207719e-05 -1.740948e-04\n",
       "[44,]  1.469874e-04 -2.321268e-04 -4.504284e-04  2.557555e-04  8.095954e-05\n",
       "[45,] -7.679601e-06 -3.392636e-04  2.764351e-04  2.554680e-04 -2.072312e-04\n",
       "[46,] -2.389056e-04 -3.217953e-05 -1.561539e-04 -1.899904e-04 -1.054939e-05\n",
       "[47,] -1.041919e-04  5.693665e-05 -3.016858e-04  1.113463e-04  2.248188e-05\n",
       "[48,] -3.598176e-04 -4.042577e-04 -1.308816e-04  1.982491e-04 -1.661573e-04\n",
       "[49,] -4.893747e-04 -3.832160e-04  4.098054e-04 -7.709943e-06  1.382104e-05\n",
       "[50,]  9.097386e-05  3.416429e-04 -8.187415e-06  1.666622e-04 -2.445788e-04\n",
       "[51,]  7.328122e-05 -3.171283e-05  1.612671e-04 -6.145763e-05  1.964547e-04\n",
       "[52,]  2.359707e-04  6.310550e-05 -1.835746e-04 -2.547537e-04 -4.871083e-05\n",
       "[53,]  1.751274e-04  1.580089e-04  3.745336e-04 -6.287657e-05  8.293452e-05\n",
       "[54,] -3.274297e-04  4.017519e-04  3.792169e-04 -7.530062e-05 -2.791392e-04\n",
       "[55,]  9.800116e-05  2.307538e-05 -1.909847e-04  1.070281e-04  9.700500e-05\n",
       "[56,] -2.268082e-04 -5.261484e-04 -8.099643e-06  3.397043e-05  2.707151e-05\n",
       "[57,]  4.962341e-04  1.650612e-04 -6.953831e-05 -2.934440e-04 -8.552909e-05\n",
       "[58,]  4.968581e-04  1.665975e-04 -3.466649e-04  5.779903e-05 -3.848591e-06\n",
       "[59,] -2.964654e-04  1.829873e-05 -2.130193e-04 -4.154978e-05 -2.274360e-05\n",
       "[60,] -8.129294e-05  1.158408e-04  1.768561e-04 -9.856468e-05  4.354663e-05\n",
       "      PC50         \n",
       " [1,] -1.859924e-04\n",
       " [2,] -3.026212e-05\n",
       " [3,]  2.348449e-05\n",
       " [4,]  8.573952e-05\n",
       " [5,] -2.350991e-05\n",
       " [6,] -2.068140e-04\n",
       " [7,]  1.489272e-05\n",
       " [8,] -5.202283e-07\n",
       " [9,]  9.596395e-05\n",
       "[10,] -7.347719e-06\n",
       "[11,]  9.480495e-05\n",
       "[12,] -1.000038e-04\n",
       "[13,]  1.558657e-04\n",
       "[14,] -1.559934e-05\n",
       "[15,]  9.661461e-05\n",
       "[16,] -2.164349e-05\n",
       "[17,] -5.418287e-05\n",
       "[18,] -3.309283e-05\n",
       "[19,]  1.710656e-04\n",
       "[20,] -5.962636e-05\n",
       "[21,]  4.379647e-05\n",
       "[22,]  4.553071e-05\n",
       "[23,]  1.090209e-05\n",
       "[24,] -1.203932e-04\n",
       "[25,]  4.579567e-05\n",
       "[26,] -2.094552e-04\n",
       "[27,]  1.622372e-04\n",
       "[28,] -4.979125e-05\n",
       "[29,]  2.140314e-05\n",
       "[30,] -5.137612e-05\n",
       "[31,] -1.083923e-04\n",
       "[32,]  2.674175e-05\n",
       "[33,]  3.104182e-05\n",
       "[34,]  2.851668e-04\n",
       "[35,]  1.112397e-04\n",
       "[36,] -1.408828e-04\n",
       "[37,] -1.956250e-04\n",
       "[38,] -3.897217e-05\n",
       "[39,]  1.373858e-04\n",
       "[40,] -6.492359e-06\n",
       "[41,] -1.370011e-04\n",
       "[42,]  1.079102e-04\n",
       "[43,]  5.880534e-05\n",
       "[44,]  4.655718e-05\n",
       "[45,] -2.756223e-05\n",
       "[46,] -5.122827e-05\n",
       "[47,]  4.679825e-05\n",
       "[48,]  1.543929e-05\n",
       "[49,]  1.877673e-04\n",
       "[50,] -2.139031e-05\n",
       "[51,]  3.180141e-05\n",
       "[52,]  2.749939e-05\n",
       "[53,] -3.841375e-05\n",
       "[54,]  1.781404e-05\n",
       "[55,]  2.087490e-04\n",
       "[56,] -3.309248e-05\n",
       "[57,] -3.691138e-05\n",
       "[58,] -2.658123e-04\n",
       "[59,]  4.164723e-05\n",
       "[60,] -1.790741e-04"
      ]
     },
     "metadata": {},
     "output_type": "display_data"
    }
   ],
   "source": [
    "pca.out$x"
   ]
  },
  {
   "cell_type": "code",
   "execution_count": 78,
   "id": "7f4f6972",
   "metadata": {},
   "outputs": [
    {
     "data": {
      "image/png": "[encoded data removed]",
      "text/plain": [
       "plot without title"
      ]
     },
     "metadata": {
      "image/png": {
       "height": 420,
       "width": 420
      }
     },
     "output_type": "display_data"
    }
   ],
   "source": [
    "plot(pca.out$x[,1:2], col=2:4, xlab=\"Z1\", ylab=\"Z2\", pch=19)"
   ]
  },
  {
   "cell_type": "code",
   "execution_count": 79,
   "id": "d55546a7",
   "metadata": {},
   "outputs": [
    {
     "data": {
      "text/html": [
       "<table class=\"dataframe\">\n",
       "<caption>A data.frame: 9 × 3</caption>\n",
       "<thead>\n",
       "\t<tr><th scope=col>Var1</th><th scope=col>Var2</th><th scope=col>Freq</th></tr>\n",
       "\t<tr><th scope=col>&lt;fct&gt;</th><th scope=col>&lt;fct&gt;</th><th scope=col>&lt;int&gt;</th></tr>\n",
       "</thead>\n",
       "<tbody>\n",
       "\t<tr><td>1</td><td>1</td><td> 0</td></tr>\n",
       "\t<tr><td>2</td><td>1</td><td>20</td></tr>\n",
       "\t<tr><td>3</td><td>1</td><td> 0</td></tr>\n",
       "\t<tr><td>1</td><td>2</td><td>20</td></tr>\n",
       "\t<tr><td>2</td><td>2</td><td> 0</td></tr>\n",
       "\t<tr><td>3</td><td>2</td><td> 0</td></tr>\n",
       "\t<tr><td>1</td><td>3</td><td> 0</td></tr>\n",
       "\t<tr><td>2</td><td>3</td><td> 0</td></tr>\n",
       "\t<tr><td>3</td><td>3</td><td>20</td></tr>\n",
       "</tbody>\n",
       "</table>\n"
      ],
      "text/latex": [
       "A data.frame: 9 × 3\n",
       "\\begin{tabular}{lll}\n",
       " Var1 & Var2 & Freq\\\\\n",
       " <fct> & <fct> & <int>\\\\\n",
       "\\hline\n",
       "\t 1 & 1 &  0\\\\\n",
       "\t 2 & 1 & 20\\\\\n",
       "\t 3 & 1 &  0\\\\\n",
       "\t 1 & 2 & 20\\\\\n",
       "\t 2 & 2 &  0\\\\\n",
       "\t 3 & 2 &  0\\\\\n",
       "\t 1 & 3 &  0\\\\\n",
       "\t 2 & 3 &  0\\\\\n",
       "\t 3 & 3 & 20\\\\\n",
       "\\end{tabular}\n"
      ],
      "text/markdown": [
       "\n",
       "A data.frame: 9 × 3\n",
       "\n",
       "| Var1 &lt;fct&gt; | Var2 &lt;fct&gt; | Freq &lt;int&gt; |\n",
       "|---|---|---|\n",
       "| 1 | 1 |  0 |\n",
       "| 2 | 1 | 20 |\n",
       "| 3 | 1 |  0 |\n",
       "| 1 | 2 | 20 |\n",
       "| 2 | 2 |  0 |\n",
       "| 3 | 2 |  0 |\n",
       "| 1 | 3 |  0 |\n",
       "| 2 | 3 |  0 |\n",
       "| 3 | 3 | 20 |\n",
       "\n"
      ],
      "text/plain": [
       "  Var1 Var2 Freq\n",
       "1 1    1     0  \n",
       "2 2    1    20  \n",
       "3 3    1     0  \n",
       "4 1    2    20  \n",
       "5 2    2     0  \n",
       "6 3    2     0  \n",
       "7 1    3     0  \n",
       "8 2    3     0  \n",
       "9 3    3    20  "
      ]
     },
     "metadata": {},
     "output_type": "display_data"
    }
   ],
   "source": [
    "#c.\n",
    "km.out = kmeans(x, 3, nstart=20)\n",
    "data.frame(table(km.out$cluster, c(rep(1,20), rep(2,20), rep(3,20))))"
   ]
  },
  {
   "cell_type": "code",
   "execution_count": 80,
   "id": "5452f724",
   "metadata": {},
   "outputs": [
    {
     "data": {
      "text/html": [
       "<style>\n",
       ".list-inline {list-style: none; margin:0; padding: 0}\n",
       ".list-inline>li {display: inline-block}\n",
       ".list-inline>li:not(:last-child)::after {content: \"\\00b7\"; padding: 0 .5ex}\n",
       "</style>\n",
       "<ol class=list-inline><li>2</li><li>2</li><li>2</li><li>2</li><li>2</li><li>2</li><li>2</li><li>2</li><li>2</li><li>2</li><li>2</li><li>2</li><li>2</li><li>2</li><li>2</li><li>2</li><li>2</li><li>2</li><li>2</li><li>2</li><li>1</li><li>1</li><li>1</li><li>1</li><li>1</li><li>1</li><li>1</li><li>1</li><li>1</li><li>1</li><li>1</li><li>1</li><li>1</li><li>1</li><li>1</li><li>1</li><li>1</li><li>1</li><li>1</li><li>1</li><li>2</li><li>2</li><li>2</li><li>2</li><li>2</li><li>2</li><li>2</li><li>2</li><li>2</li><li>2</li><li>2</li><li>2</li><li>2</li><li>2</li><li>2</li><li>2</li><li>2</li><li>2</li><li>2</li><li>2</li></ol>\n"
      ],
      "text/latex": [
       "\\begin{enumerate*}\n",
       "\\item 2\n",
       "\\item 2\n",
       "\\item 2\n",
       "\\item 2\n",
       "\\item 2\n",
       "\\item 2\n",
       "\\item 2\n",
       "\\item 2\n",
       "\\item 2\n",
       "\\item 2\n",
       "\\item 2\n",
       "\\item 2\n",
       "\\item 2\n",
       "\\item 2\n",
       "\\item 2\n",
       "\\item 2\n",
       "\\item 2\n",
       "\\item 2\n",
       "\\item 2\n",
       "\\item 2\n",
       "\\item 1\n",
       "\\item 1\n",
       "\\item 1\n",
       "\\item 1\n",
       "\\item 1\n",
       "\\item 1\n",
       "\\item 1\n",
       "\\item 1\n",
       "\\item 1\n",
       "\\item 1\n",
       "\\item 1\n",
       "\\item 1\n",
       "\\item 1\n",
       "\\item 1\n",
       "\\item 1\n",
       "\\item 1\n",
       "\\item 1\n",
       "\\item 1\n",
       "\\item 1\n",
       "\\item 1\n",
       "\\item 2\n",
       "\\item 2\n",
       "\\item 2\n",
       "\\item 2\n",
       "\\item 2\n",
       "\\item 2\n",
       "\\item 2\n",
       "\\item 2\n",
       "\\item 2\n",
       "\\item 2\n",
       "\\item 2\n",
       "\\item 2\n",
       "\\item 2\n",
       "\\item 2\n",
       "\\item 2\n",
       "\\item 2\n",
       "\\item 2\n",
       "\\item 2\n",
       "\\item 2\n",
       "\\item 2\n",
       "\\end{enumerate*}\n"
      ],
      "text/markdown": [
       "1. 2\n",
       "2. 2\n",
       "3. 2\n",
       "4. 2\n",
       "5. 2\n",
       "6. 2\n",
       "7. 2\n",
       "8. 2\n",
       "9. 2\n",
       "10. 2\n",
       "11. 2\n",
       "12. 2\n",
       "13. 2\n",
       "14. 2\n",
       "15. 2\n",
       "16. 2\n",
       "17. 2\n",
       "18. 2\n",
       "19. 2\n",
       "20. 2\n",
       "21. 1\n",
       "22. 1\n",
       "23. 1\n",
       "24. 1\n",
       "25. 1\n",
       "26. 1\n",
       "27. 1\n",
       "28. 1\n",
       "29. 1\n",
       "30. 1\n",
       "31. 1\n",
       "32. 1\n",
       "33. 1\n",
       "34. 1\n",
       "35. 1\n",
       "36. 1\n",
       "37. 1\n",
       "38. 1\n",
       "39. 1\n",
       "40. 1\n",
       "41. 2\n",
       "42. 2\n",
       "43. 2\n",
       "44. 2\n",
       "45. 2\n",
       "46. 2\n",
       "47. 2\n",
       "48. 2\n",
       "49. 2\n",
       "50. 2\n",
       "51. 2\n",
       "52. 2\n",
       "53. 2\n",
       "54. 2\n",
       "55. 2\n",
       "56. 2\n",
       "57. 2\n",
       "58. 2\n",
       "59. 2\n",
       "60. 2\n",
       "\n",
       "\n"
      ],
      "text/plain": [
       " [1] 2 2 2 2 2 2 2 2 2 2 2 2 2 2 2 2 2 2 2 2 1 1 1 1 1 1 1 1 1 1 1 1 1 1 1 1 1 1\n",
       "[39] 1 1 2 2 2 2 2 2 2 2 2 2 2 2 2 2 2 2 2 2 2 2"
      ]
     },
     "metadata": {},
     "output_type": "display_data"
    }
   ],
   "source": [
    "#d.\n",
    "km.out = kmeans(x, 2, nstart=20)\n",
    "km.out$cluster"
   ]
  },
  {
   "cell_type": "code",
   "execution_count": 81,
   "id": "2f82a42d",
   "metadata": {},
   "outputs": [
    {
     "data": {
      "text/html": [
       "<style>\n",
       ".list-inline {list-style: none; margin:0; padding: 0}\n",
       ".list-inline>li {display: inline-block}\n",
       ".list-inline>li:not(:last-child)::after {content: \"\\00b7\"; padding: 0 .5ex}\n",
       "</style>\n",
       "<ol class=list-inline><li>1</li><li>1</li><li>1</li><li>1</li><li>1</li><li>1</li><li>1</li><li>1</li><li>1</li><li>1</li><li>1</li><li>1</li><li>1</li><li>1</li><li>1</li><li>1</li><li>1</li><li>1</li><li>1</li><li>1</li><li>2</li><li>2</li><li>2</li><li>2</li><li>2</li><li>2</li><li>2</li><li>2</li><li>2</li><li>2</li><li>2</li><li>2</li><li>2</li><li>2</li><li>2</li><li>2</li><li>2</li><li>2</li><li>2</li><li>2</li><li>3</li><li>4</li><li>4</li><li>3</li><li>3</li><li>4</li><li>4</li><li>3</li><li>4</li><li>3</li><li>3</li><li>3</li><li>4</li><li>3</li><li>3</li><li>4</li><li>3</li><li>4</li><li>4</li><li>3</li></ol>\n"
      ],
      "text/latex": [
       "\\begin{enumerate*}\n",
       "\\item 1\n",
       "\\item 1\n",
       "\\item 1\n",
       "\\item 1\n",
       "\\item 1\n",
       "\\item 1\n",
       "\\item 1\n",
       "\\item 1\n",
       "\\item 1\n",
       "\\item 1\n",
       "\\item 1\n",
       "\\item 1\n",
       "\\item 1\n",
       "\\item 1\n",
       "\\item 1\n",
       "\\item 1\n",
       "\\item 1\n",
       "\\item 1\n",
       "\\item 1\n",
       "\\item 1\n",
       "\\item 2\n",
       "\\item 2\n",
       "\\item 2\n",
       "\\item 2\n",
       "\\item 2\n",
       "\\item 2\n",
       "\\item 2\n",
       "\\item 2\n",
       "\\item 2\n",
       "\\item 2\n",
       "\\item 2\n",
       "\\item 2\n",
       "\\item 2\n",
       "\\item 2\n",
       "\\item 2\n",
       "\\item 2\n",
       "\\item 2\n",
       "\\item 2\n",
       "\\item 2\n",
       "\\item 2\n",
       "\\item 3\n",
       "\\item 4\n",
       "\\item 4\n",
       "\\item 3\n",
       "\\item 3\n",
       "\\item 4\n",
       "\\item 4\n",
       "\\item 3\n",
       "\\item 4\n",
       "\\item 3\n",
       "\\item 3\n",
       "\\item 3\n",
       "\\item 4\n",
       "\\item 3\n",
       "\\item 3\n",
       "\\item 4\n",
       "\\item 3\n",
       "\\item 4\n",
       "\\item 4\n",
       "\\item 3\n",
       "\\end{enumerate*}\n"
      ],
      "text/markdown": [
       "1. 1\n",
       "2. 1\n",
       "3. 1\n",
       "4. 1\n",
       "5. 1\n",
       "6. 1\n",
       "7. 1\n",
       "8. 1\n",
       "9. 1\n",
       "10. 1\n",
       "11. 1\n",
       "12. 1\n",
       "13. 1\n",
       "14. 1\n",
       "15. 1\n",
       "16. 1\n",
       "17. 1\n",
       "18. 1\n",
       "19. 1\n",
       "20. 1\n",
       "21. 2\n",
       "22. 2\n",
       "23. 2\n",
       "24. 2\n",
       "25. 2\n",
       "26. 2\n",
       "27. 2\n",
       "28. 2\n",
       "29. 2\n",
       "30. 2\n",
       "31. 2\n",
       "32. 2\n",
       "33. 2\n",
       "34. 2\n",
       "35. 2\n",
       "36. 2\n",
       "37. 2\n",
       "38. 2\n",
       "39. 2\n",
       "40. 2\n",
       "41. 3\n",
       "42. 4\n",
       "43. 4\n",
       "44. 3\n",
       "45. 3\n",
       "46. 4\n",
       "47. 4\n",
       "48. 3\n",
       "49. 4\n",
       "50. 3\n",
       "51. 3\n",
       "52. 3\n",
       "53. 4\n",
       "54. 3\n",
       "55. 3\n",
       "56. 4\n",
       "57. 3\n",
       "58. 4\n",
       "59. 4\n",
       "60. 3\n",
       "\n",
       "\n"
      ],
      "text/plain": [
       " [1] 1 1 1 1 1 1 1 1 1 1 1 1 1 1 1 1 1 1 1 1 2 2 2 2 2 2 2 2 2 2 2 2 2 2 2 2 2 2\n",
       "[39] 2 2 3 4 4 3 3 4 4 3 4 3 3 3 4 3 3 4 3 4 4 3"
      ]
     },
     "metadata": {},
     "output_type": "display_data"
    }
   ],
   "source": [
    "#e.\n",
    "km.out = kmeans(x, 4, nstart=20)\n",
    "km.out$cluster"
   ]
  },
  {
   "cell_type": "code",
   "execution_count": 82,
   "id": "87986f46",
   "metadata": {},
   "outputs": [
    {
     "data": {
      "text/html": [
       "<table class=\"dataframe\">\n",
       "<caption>A data.frame: 9 × 3</caption>\n",
       "<thead>\n",
       "\t<tr><th scope=col>Var1</th><th scope=col>Var2</th><th scope=col>Freq</th></tr>\n",
       "\t<tr><th scope=col>&lt;fct&gt;</th><th scope=col>&lt;fct&gt;</th><th scope=col>&lt;int&gt;</th></tr>\n",
       "</thead>\n",
       "<tbody>\n",
       "\t<tr><td>1</td><td>1</td><td>20</td></tr>\n",
       "\t<tr><td>2</td><td>1</td><td> 0</td></tr>\n",
       "\t<tr><td>3</td><td>1</td><td> 0</td></tr>\n",
       "\t<tr><td>1</td><td>2</td><td> 0</td></tr>\n",
       "\t<tr><td>2</td><td>2</td><td> 0</td></tr>\n",
       "\t<tr><td>3</td><td>2</td><td>20</td></tr>\n",
       "\t<tr><td>1</td><td>3</td><td> 0</td></tr>\n",
       "\t<tr><td>2</td><td>3</td><td>20</td></tr>\n",
       "\t<tr><td>3</td><td>3</td><td> 0</td></tr>\n",
       "</tbody>\n",
       "</table>\n"
      ],
      "text/latex": [
       "A data.frame: 9 × 3\n",
       "\\begin{tabular}{lll}\n",
       " Var1 & Var2 & Freq\\\\\n",
       " <fct> & <fct> & <int>\\\\\n",
       "\\hline\n",
       "\t 1 & 1 & 20\\\\\n",
       "\t 2 & 1 &  0\\\\\n",
       "\t 3 & 1 &  0\\\\\n",
       "\t 1 & 2 &  0\\\\\n",
       "\t 2 & 2 &  0\\\\\n",
       "\t 3 & 2 & 20\\\\\n",
       "\t 1 & 3 &  0\\\\\n",
       "\t 2 & 3 & 20\\\\\n",
       "\t 3 & 3 &  0\\\\\n",
       "\\end{tabular}\n"
      ],
      "text/markdown": [
       "\n",
       "A data.frame: 9 × 3\n",
       "\n",
       "| Var1 &lt;fct&gt; | Var2 &lt;fct&gt; | Freq &lt;int&gt; |\n",
       "|---|---|---|\n",
       "| 1 | 1 | 20 |\n",
       "| 2 | 1 |  0 |\n",
       "| 3 | 1 |  0 |\n",
       "| 1 | 2 |  0 |\n",
       "| 2 | 2 |  0 |\n",
       "| 3 | 2 | 20 |\n",
       "| 1 | 3 |  0 |\n",
       "| 2 | 3 | 20 |\n",
       "| 3 | 3 |  0 |\n",
       "\n"
      ],
      "text/plain": [
       "  Var1 Var2 Freq\n",
       "1 1    1    20  \n",
       "2 2    1     0  \n",
       "3 3    1     0  \n",
       "4 1    2     0  \n",
       "5 2    2     0  \n",
       "6 3    2    20  \n",
       "7 1    3     0  \n",
       "8 2    3    20  \n",
       "9 3    3     0  "
      ]
     },
     "metadata": {},
     "output_type": "display_data"
    }
   ],
   "source": [
    "#f.\n",
    "km.out = kmeans(pca.out$x[,1:2], 3, nstart=20)\n",
    "data.frame(table(km.out$cluster, c(rep(1,20), rep(2,20), rep(3,20))))"
   ]
  },
  {
   "cell_type": "code",
   "execution_count": 83,
   "id": "d9ecd5ea",
   "metadata": {},
   "outputs": [
    {
     "data": {
      "text/html": [
       "<style>\n",
       ".list-inline {list-style: none; margin:0; padding: 0}\n",
       ".list-inline>li {display: inline-block}\n",
       ".list-inline>li:not(:last-child)::after {content: \"\\00b7\"; padding: 0 .5ex}\n",
       "</style>\n",
       "<ol class=list-inline><li>3</li><li>3</li><li>1</li><li>1</li><li>3</li><li>1</li><li>1</li><li>1</li><li>1</li><li>1</li><li>3</li><li>1</li><li>3</li><li>3</li><li>3</li><li>2</li><li>1</li><li>3</li><li>2</li><li>1</li><li>2</li><li>3</li><li>1</li><li>1</li><li>1</li><li>2</li><li>2</li><li>2</li><li>1</li><li>3</li><li>2</li><li>2</li><li>1</li><li>2</li><li>2</li><li>3</li><li>2</li><li>3</li><li>2</li><li>2</li><li>1</li><li>1</li><li>1</li><li>2</li><li>1</li><li>3</li><li>1</li><li>1</li><li>3</li><li>1</li><li>2</li><li>3</li><li>3</li><li>2</li><li>1</li><li>1</li><li>1</li><li>3</li><li>3</li><li>1</li></ol>\n"
      ],
      "text/latex": [
       "\\begin{enumerate*}\n",
       "\\item 3\n",
       "\\item 3\n",
       "\\item 1\n",
       "\\item 1\n",
       "\\item 3\n",
       "\\item 1\n",
       "\\item 1\n",
       "\\item 1\n",
       "\\item 1\n",
       "\\item 1\n",
       "\\item 3\n",
       "\\item 1\n",
       "\\item 3\n",
       "\\item 3\n",
       "\\item 3\n",
       "\\item 2\n",
       "\\item 1\n",
       "\\item 3\n",
       "\\item 2\n",
       "\\item 1\n",
       "\\item 2\n",
       "\\item 3\n",
       "\\item 1\n",
       "\\item 1\n",
       "\\item 1\n",
       "\\item 2\n",
       "\\item 2\n",
       "\\item 2\n",
       "\\item 1\n",
       "\\item 3\n",
       "\\item 2\n",
       "\\item 2\n",
       "\\item 1\n",
       "\\item 2\n",
       "\\item 2\n",
       "\\item 3\n",
       "\\item 2\n",
       "\\item 3\n",
       "\\item 2\n",
       "\\item 2\n",
       "\\item 1\n",
       "\\item 1\n",
       "\\item 1\n",
       "\\item 2\n",
       "\\item 1\n",
       "\\item 3\n",
       "\\item 1\n",
       "\\item 1\n",
       "\\item 3\n",
       "\\item 1\n",
       "\\item 2\n",
       "\\item 3\n",
       "\\item 3\n",
       "\\item 2\n",
       "\\item 1\n",
       "\\item 1\n",
       "\\item 1\n",
       "\\item 3\n",
       "\\item 3\n",
       "\\item 1\n",
       "\\end{enumerate*}\n"
      ],
      "text/markdown": [
       "1. 3\n",
       "2. 3\n",
       "3. 1\n",
       "4. 1\n",
       "5. 3\n",
       "6. 1\n",
       "7. 1\n",
       "8. 1\n",
       "9. 1\n",
       "10. 1\n",
       "11. 3\n",
       "12. 1\n",
       "13. 3\n",
       "14. 3\n",
       "15. 3\n",
       "16. 2\n",
       "17. 1\n",
       "18. 3\n",
       "19. 2\n",
       "20. 1\n",
       "21. 2\n",
       "22. 3\n",
       "23. 1\n",
       "24. 1\n",
       "25. 1\n",
       "26. 2\n",
       "27. 2\n",
       "28. 2\n",
       "29. 1\n",
       "30. 3\n",
       "31. 2\n",
       "32. 2\n",
       "33. 1\n",
       "34. 2\n",
       "35. 2\n",
       "36. 3\n",
       "37. 2\n",
       "38. 3\n",
       "39. 2\n",
       "40. 2\n",
       "41. 1\n",
       "42. 1\n",
       "43. 1\n",
       "44. 2\n",
       "45. 1\n",
       "46. 3\n",
       "47. 1\n",
       "48. 1\n",
       "49. 3\n",
       "50. 1\n",
       "51. 2\n",
       "52. 3\n",
       "53. 3\n",
       "54. 2\n",
       "55. 1\n",
       "56. 1\n",
       "57. 1\n",
       "58. 3\n",
       "59. 3\n",
       "60. 1\n",
       "\n",
       "\n"
      ],
      "text/plain": [
       " [1] 3 3 1 1 3 1 1 1 1 1 3 1 3 3 3 2 1 3 2 1 2 3 1 1 1 2 2 2 1 3 2 2 1 2 2 3 2 3\n",
       "[39] 2 2 1 1 1 2 1 3 1 1 3 1 2 3 3 2 1 1 1 3 3 1"
      ]
     },
     "metadata": {},
     "output_type": "display_data"
    }
   ],
   "source": [
    "#g.\n",
    "km.out = kmeans(scale(x), 3, nstart=20)\n",
    "km.out$cluster"
   ]
  }
 ],
 "metadata": {
  "kernelspec": {
   "display_name": "R",
   "language": "R",
   "name": "ir"
  },
  "language_info": {
   "codemirror_mode": "r",
   "file_extension": ".r",
   "mimetype": "text/x-r-source",
   "name": "R",
   "pygments_lexer": "r",
   "version": "4.0.5"
  }
 },
 "nbformat": 4,
 "nbformat_minor": 5
}
