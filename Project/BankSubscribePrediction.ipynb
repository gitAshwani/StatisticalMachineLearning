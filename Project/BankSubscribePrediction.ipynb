{
 "cells": [
  {
   "cell_type": "markdown",
   "id": "5739816a",
   "metadata": {},
   "source": [
    "# Statistical and Machine Learning"
   ]
  },
  {
   "cell_type": "markdown",
   "id": "e15164fd",
   "metadata": {},
   "source": [
    "## Individual Project"
   ]
  },
  {
   "cell_type": "markdown",
   "id": "8bb7b5d9",
   "metadata": {},
   "source": [
    " Ashwani Nitharwal"
   ]
  },
  {
   "cell_type": "markdown",
   "id": "a2cfc6ad",
   "metadata": {},
   "source": [
    "### Importing necessary libraries"
   ]
  },
  {
   "cell_type": "code",
   "execution_count": 104,
   "id": "3614b72c",
   "metadata": {},
   "outputs": [
    {
     "name": "stderr",
     "output_type": "stream",
     "text": [
      "\n",
      "Attaching package: 'kknn'\n",
      "\n",
      "\n",
      "The following object is masked from 'package:caret':\n",
      "\n",
      "    contr.dummy\n",
      "\n",
      "\n"
     ]
    },
    {
     "data": {
      "text/html": [
       "'R version 4.0.5 (2021-03-31)'"
      ],
      "text/latex": [
       "'R version 4.0.5 (2021-03-31)'"
      ],
      "text/markdown": [
       "'R version 4.0.5 (2021-03-31)'"
      ],
      "text/plain": [
       "[1] \"R version 4.0.5 (2021-03-31)\""
      ]
     },
     "metadata": {},
     "output_type": "display_data"
    }
   ],
   "source": [
    "# Set environment params\n",
    "Sys.setenv(LANG='en')  # English\n",
    "\n",
    "# Import libraries\n",
    "library(data.table)  # Data manipulate\n",
    "library(plotrix)     # Draw circle\n",
    "library(tree)\n",
    "library(e1071)\n",
    "library(dplyr)\n",
    "library(kknn)\n",
    "\n",
    "# Import libraries\n",
    "library(mlr)           # ML toolkit\n",
    "library(caret)         # ML toolkit\n",
    "library(nnet)          # class.ind() function\n",
    "library(neuralnet)     # Deep Neural Networks\n",
    "library(LiblineaR)     # LR Lasso (l1)\n",
    "library(randomForest)  # Random Forest\n",
    "library(adabag)        # Boosting\n",
    "library(e1071)         # SVM\n",
    "library(ggplot2)       # Visualization\n",
    "library(plotly)        # 3D visualization\n",
    "library(cvAUC)\n",
    "\n",
    "library(repr)  # String and binary representations\n",
    "library(caret) \t\t\t# for general data preparation and model fitting\n",
    "library(rpart.plot)\n",
    "library(xgboost)\n",
    "library(tidyverse)\n",
    "# options(repr.plot.width=4, repr.plot.height=4)\n",
    "\n",
    "R.version.string"
   ]
  },
  {
   "cell_type": "code",
   "execution_count": 103,
   "id": "93e15460",
   "metadata": {},
   "outputs": [
    {
     "name": "stderr",
     "output_type": "stream",
     "text": [
      "also installing the dependency 'igraph'\n",
      "\n",
      "\n"
     ]
    },
    {
     "name": "stdout",
     "output_type": "stream",
     "text": [
      "package 'igraph' successfully unpacked and MD5 sums checked\n",
      "package 'kknn' successfully unpacked and MD5 sums checked\n",
      "\n",
      "The downloaded binary packages are in\n",
      "\tC:\\Users\\anitharwal\\AppData\\Local\\Temp\\Rtmpe4CEFM\\downloaded_packages\n"
     ]
    }
   ],
   "source": [
    "#install.packages('kknn')\n",
    "library(fastDummies)"
   ]
  },
  {
   "cell_type": "code",
   "execution_count": 11,
   "id": "73336d7d",
   "metadata": {},
   "outputs": [],
   "source": [
    "options(repr.matrix.max.cols=150)"
   ]
  },
  {
   "cell_type": "markdown",
   "id": "6cdfb847",
   "metadata": {},
   "source": [
    "### Data Importing"
   ]
  },
  {
   "cell_type": "code",
   "execution_count": 12,
   "id": "caf2058d",
   "metadata": {},
   "outputs": [],
   "source": [
    "# Input variables\n",
    "# Group 1 - Bank client data:\n",
    "\n",
    "# 1 - client_id : unique ID of the client (numeric)\n",
    "# 2 - age : client age (numeric)\n",
    "# 3 - job : type of job (categorical: 'admin.', 'blue-collar', 'entrepreneur', 'housemaid', 'management', 'retired', 'self-employed', 'services', 'student', 'technician', 'unemployed', 'unknown')\n",
    "# 4 - marital : marital status (categorical: 'divorced', 'married', 'single', 'unknown'; note: 'divorced' means divorced or widowed)\n",
    "# 5 - education (categorical: 'basic.4y', 'basic.6y', 'basic.9y', 'high.school', 'illiterate', 'professional.course', 'university.degree', 'unknown')\n",
    "# 6 - default : has credit in default? (categorical: 'no', 'yes', 'unknown')\n",
    "# 7 - housing : has housing loan? (categorical: 'no', 'yes', 'unknown')\n",
    "# 8 - loan : has personal loan? (categorical: 'no', 'yes', 'unknown')\n",
    "\n",
    "# Group 2: Related with the last contact of the current campaign:\n",
    "# 9 - contact : contact communication type (categorical: 'cellular', 'telephone')\n",
    "# 10 - month: last contact month of year (categorical: 'jan', 'feb', 'mar', …, 'nov', 'dec')\n",
    "# 11 - dayofweek : last contact day of the week (categorical: 'mon', 'tue', 'wed', 'thu', 'fri')\n",
    "\n",
    "# Group 3: Other attributes:\n",
    "# 12 - campaign : number of contacts performed during this campaign and for this client (numeric, includes last contact)\n",
    "# 13 - pdays : number of days that passed by after the client was last contacted from a previous campaign (numeric; 999 means client was not previously contacted)\n",
    "# 14 - previous : number of contacts performed before this campaign and for this client (numeric)\n",
    "# 15 - poutcome : outcome of the previous marketing campaign (categorical: 'failure', 'nonexistent', 'success')\n",
    "\n",
    "# Group 4: Social and economic context attributes\n",
    "# 16 - emp.var.rate : employment variation rate - quarterly indicator (numeric)\n",
    "# 17 - cons.price.idx : consumer price index - monthly indicator (numeric)\n",
    "# 18 - cons.conf.idx : consumer confidence index - monthly indicator (numeric)\n",
    "# 19 - euribor3m : euribor 3 month rate - daily indicator (numeric)\n",
    "# 20 - nr.employed : number of employees - quarterly indicator (numeric)\n",
    "\n",
    "# Target variable\n",
    "# 21 - subscribe : has the client subscribed a term deposit? (numeric: 1='yes', 0='no')"
   ]
  },
  {
   "cell_type": "code",
   "execution_count": 13,
   "id": "00ea30a7",
   "metadata": {
    "scrolled": true
   },
   "outputs": [
    {
     "data": {
      "text/html": [
       "<table class=\"dataframe\">\n",
       "<caption>A data.frame: 6 × 21</caption>\n",
       "<thead>\n",
       "\t<tr><th></th><th scope=col>client_id</th><th scope=col>age</th><th scope=col>job</th><th scope=col>marital</th><th scope=col>education</th><th scope=col>default</th><th scope=col>housing</th><th scope=col>loan</th><th scope=col>contact</th><th scope=col>month</th><th scope=col>day_of_week</th><th scope=col>campaign</th><th scope=col>pdays</th><th scope=col>previous</th><th scope=col>poutcome</th><th scope=col>emp.var.rate</th><th scope=col>cons.price.idx</th><th scope=col>cons.conf.idx</th><th scope=col>euribor3m</th><th scope=col>nr.employed</th><th scope=col>subscribe</th></tr>\n",
       "\t<tr><th></th><th scope=col>&lt;int&gt;</th><th scope=col>&lt;int&gt;</th><th scope=col>&lt;chr&gt;</th><th scope=col>&lt;chr&gt;</th><th scope=col>&lt;chr&gt;</th><th scope=col>&lt;chr&gt;</th><th scope=col>&lt;chr&gt;</th><th scope=col>&lt;chr&gt;</th><th scope=col>&lt;chr&gt;</th><th scope=col>&lt;chr&gt;</th><th scope=col>&lt;chr&gt;</th><th scope=col>&lt;int&gt;</th><th scope=col>&lt;int&gt;</th><th scope=col>&lt;int&gt;</th><th scope=col>&lt;chr&gt;</th><th scope=col>&lt;dbl&gt;</th><th scope=col>&lt;dbl&gt;</th><th scope=col>&lt;dbl&gt;</th><th scope=col>&lt;dbl&gt;</th><th scope=col>&lt;dbl&gt;</th><th scope=col>&lt;int&gt;</th></tr>\n",
       "</thead>\n",
       "<tbody>\n",
       "\t<tr><th scope=row>1</th><td>29925</td><td>42</td><td>management</td><td>married</td><td>basic.9y           </td><td>no     </td><td>no     </td><td>no     </td><td>cellular </td><td>jul</td><td>thu</td><td>1</td><td>999</td><td>0</td><td>nonexistent</td><td> 1.4</td><td>93.918</td><td>-42.7</td><td>4.968</td><td>5228.1</td><td>0</td></tr>\n",
       "\t<tr><th scope=row>2</th><td>37529</td><td>35</td><td>unemployed</td><td>married</td><td>university.degree  </td><td>no     </td><td>yes    </td><td>no     </td><td>telephone</td><td>jun</td><td>mon</td><td>4</td><td>999</td><td>0</td><td>nonexistent</td><td> 1.4</td><td>94.465</td><td>-41.8</td><td>4.960</td><td>5228.1</td><td>0</td></tr>\n",
       "\t<tr><th scope=row>3</th><td> 2757</td><td>44</td><td>technician</td><td>married</td><td>basic.9y           </td><td>no     </td><td>yes    </td><td>yes    </td><td>cellular </td><td>may</td><td>mon</td><td>1</td><td>999</td><td>0</td><td>nonexistent</td><td>-1.8</td><td>92.893</td><td>-46.2</td><td>1.264</td><td>5099.1</td><td>0</td></tr>\n",
       "\t<tr><th scope=row>4</th><td> 9642</td><td>45</td><td>services  </td><td>married</td><td>high.school        </td><td>no     </td><td>yes    </td><td>no     </td><td>cellular </td><td>apr</td><td>tue</td><td>1</td><td>999</td><td>0</td><td>nonexistent</td><td>-1.8</td><td>93.075</td><td>-47.1</td><td>1.453</td><td>5099.1</td><td>0</td></tr>\n",
       "\t<tr><th scope=row>5</th><td>14183</td><td>45</td><td>unknown   </td><td>married</td><td>unknown            </td><td>unknown</td><td>unknown</td><td>unknown</td><td>telephone</td><td>may</td><td>wed</td><td>1</td><td>999</td><td>0</td><td>nonexistent</td><td> 1.1</td><td>93.994</td><td>-36.4</td><td>4.859</td><td>5191.0</td><td>0</td></tr>\n",
       "\t<tr><th scope=row>6</th><td>15180</td><td>38</td><td>technician</td><td>married</td><td>professional.course</td><td>no     </td><td>no     </td><td>no     </td><td>telephone</td><td>may</td><td>wed</td><td>2</td><td>999</td><td>0</td><td>nonexistent</td><td> 1.1</td><td>93.994</td><td>-36.4</td><td>4.858</td><td>5191.0</td><td>0</td></tr>\n",
       "</tbody>\n",
       "</table>\n"
      ],
      "text/latex": [
       "A data.frame: 6 × 21\n",
       "\\begin{tabular}{r|lllllllllllllllllllll}\n",
       "  & client\\_id & age & job & marital & education & default & housing & loan & contact & month & day\\_of\\_week & campaign & pdays & previous & poutcome & emp.var.rate & cons.price.idx & cons.conf.idx & euribor3m & nr.employed & subscribe\\\\\n",
       "  & <int> & <int> & <chr> & <chr> & <chr> & <chr> & <chr> & <chr> & <chr> & <chr> & <chr> & <int> & <int> & <int> & <chr> & <dbl> & <dbl> & <dbl> & <dbl> & <dbl> & <int>\\\\\n",
       "\\hline\n",
       "\t1 & 29925 & 42 & management & married & basic.9y            & no      & no      & no      & cellular  & jul & thu & 1 & 999 & 0 & nonexistent &  1.4 & 93.918 & -42.7 & 4.968 & 5228.1 & 0\\\\\n",
       "\t2 & 37529 & 35 & unemployed & married & university.degree   & no      & yes     & no      & telephone & jun & mon & 4 & 999 & 0 & nonexistent &  1.4 & 94.465 & -41.8 & 4.960 & 5228.1 & 0\\\\\n",
       "\t3 &  2757 & 44 & technician & married & basic.9y            & no      & yes     & yes     & cellular  & may & mon & 1 & 999 & 0 & nonexistent & -1.8 & 92.893 & -46.2 & 1.264 & 5099.1 & 0\\\\\n",
       "\t4 &  9642 & 45 & services   & married & high.school         & no      & yes     & no      & cellular  & apr & tue & 1 & 999 & 0 & nonexistent & -1.8 & 93.075 & -47.1 & 1.453 & 5099.1 & 0\\\\\n",
       "\t5 & 14183 & 45 & unknown    & married & unknown             & unknown & unknown & unknown & telephone & may & wed & 1 & 999 & 0 & nonexistent &  1.1 & 93.994 & -36.4 & 4.859 & 5191.0 & 0\\\\\n",
       "\t6 & 15180 & 38 & technician & married & professional.course & no      & no      & no      & telephone & may & wed & 2 & 999 & 0 & nonexistent &  1.1 & 93.994 & -36.4 & 4.858 & 5191.0 & 0\\\\\n",
       "\\end{tabular}\n"
      ],
      "text/markdown": [
       "\n",
       "A data.frame: 6 × 21\n",
       "\n",
       "| <!--/--> | client_id &lt;int&gt; | age &lt;int&gt; | job &lt;chr&gt; | marital &lt;chr&gt; | education &lt;chr&gt; | default &lt;chr&gt; | housing &lt;chr&gt; | loan &lt;chr&gt; | contact &lt;chr&gt; | month &lt;chr&gt; | day_of_week &lt;chr&gt; | campaign &lt;int&gt; | pdays &lt;int&gt; | previous &lt;int&gt; | poutcome &lt;chr&gt; | emp.var.rate &lt;dbl&gt; | cons.price.idx &lt;dbl&gt; | cons.conf.idx &lt;dbl&gt; | euribor3m &lt;dbl&gt; | nr.employed &lt;dbl&gt; | subscribe &lt;int&gt; |\n",
       "|---|---|---|---|---|---|---|---|---|---|---|---|---|---|---|---|---|---|---|---|---|---|\n",
       "| 1 | 29925 | 42 | management | married | basic.9y            | no      | no      | no      | cellular  | jul | thu | 1 | 999 | 0 | nonexistent |  1.4 | 93.918 | -42.7 | 4.968 | 5228.1 | 0 |\n",
       "| 2 | 37529 | 35 | unemployed | married | university.degree   | no      | yes     | no      | telephone | jun | mon | 4 | 999 | 0 | nonexistent |  1.4 | 94.465 | -41.8 | 4.960 | 5228.1 | 0 |\n",
       "| 3 |  2757 | 44 | technician | married | basic.9y            | no      | yes     | yes     | cellular  | may | mon | 1 | 999 | 0 | nonexistent | -1.8 | 92.893 | -46.2 | 1.264 | 5099.1 | 0 |\n",
       "| 4 |  9642 | 45 | services   | married | high.school         | no      | yes     | no      | cellular  | apr | tue | 1 | 999 | 0 | nonexistent | -1.8 | 93.075 | -47.1 | 1.453 | 5099.1 | 0 |\n",
       "| 5 | 14183 | 45 | unknown    | married | unknown             | unknown | unknown | unknown | telephone | may | wed | 1 | 999 | 0 | nonexistent |  1.1 | 93.994 | -36.4 | 4.859 | 5191.0 | 0 |\n",
       "| 6 | 15180 | 38 | technician | married | professional.course | no      | no      | no      | telephone | may | wed | 2 | 999 | 0 | nonexistent |  1.1 | 93.994 | -36.4 | 4.858 | 5191.0 | 0 |\n",
       "\n"
      ],
      "text/plain": [
       "  client_id age job        marital education           default housing loan   \n",
       "1 29925     42  management married basic.9y            no      no      no     \n",
       "2 37529     35  unemployed married university.degree   no      yes     no     \n",
       "3  2757     44  technician married basic.9y            no      yes     yes    \n",
       "4  9642     45  services   married high.school         no      yes     no     \n",
       "5 14183     45  unknown    married unknown             unknown unknown unknown\n",
       "6 15180     38  technician married professional.course no      no      no     \n",
       "  contact   month day_of_week campaign pdays previous poutcome    emp.var.rate\n",
       "1 cellular  jul   thu         1        999   0        nonexistent  1.4        \n",
       "2 telephone jun   mon         4        999   0        nonexistent  1.4        \n",
       "3 cellular  may   mon         1        999   0        nonexistent -1.8        \n",
       "4 cellular  apr   tue         1        999   0        nonexistent -1.8        \n",
       "5 telephone may   wed         1        999   0        nonexistent  1.1        \n",
       "6 telephone may   wed         2        999   0        nonexistent  1.1        \n",
       "  cons.price.idx cons.conf.idx euribor3m nr.employed subscribe\n",
       "1 93.918         -42.7         4.968     5228.1      0        \n",
       "2 94.465         -41.8         4.960     5228.1      0        \n",
       "3 92.893         -46.2         1.264     5099.1      0        \n",
       "4 93.075         -47.1         1.453     5099.1      0        \n",
       "5 93.994         -36.4         4.859     5191.0      0        \n",
       "6 93.994         -36.4         4.858     5191.0      0        "
      ]
     },
     "metadata": {},
     "output_type": "display_data"
    }
   ],
   "source": [
    "bank_data <- read.csv('bank_mkt_train.csv')\n",
    "head(bank_data)"
   ]
  },
  {
   "cell_type": "markdown",
   "id": "09c82798",
   "metadata": {},
   "source": [
    "### Checking NAs"
   ]
  },
  {
   "cell_type": "code",
   "execution_count": 14,
   "id": "ba00e345",
   "metadata": {
    "scrolled": true
   },
   "outputs": [
    {
     "data": {
      "text/html": [
       "0"
      ],
      "text/latex": [
       "0"
      ],
      "text/markdown": [
       "0"
      ],
      "text/plain": [
       "[1] 0"
      ]
     },
     "metadata": {},
     "output_type": "display_data"
    },
    {
     "data": {
      "text/html": [
       "202"
      ],
      "text/latex": [
       "202"
      ],
      "text/markdown": [
       "202"
      ],
      "text/plain": [
       "[1] 202"
      ]
     },
     "metadata": {},
     "output_type": "display_data"
    },
    {
     "data": {
      "text/html": [
       "161"
      ],
      "text/latex": [
       "161"
      ],
      "text/markdown": [
       "161"
      ],
      "text/plain": [
       "[1] 161"
      ]
     },
     "metadata": {},
     "output_type": "display_data"
    },
    {
     "data": {
      "text/html": [
       "199"
      ],
      "text/latex": [
       "199"
      ],
      "text/markdown": [
       "199"
      ],
      "text/plain": [
       "[1] 199"
      ]
     },
     "metadata": {},
     "output_type": "display_data"
    },
    {
     "data": {
      "text/html": [
       "170"
      ],
      "text/latex": [
       "170"
      ],
      "text/markdown": [
       "170"
      ],
      "text/plain": [
       "[1] 170"
      ]
     },
     "metadata": {},
     "output_type": "display_data"
    },
    {
     "data": {
      "text/html": [
       "214"
      ],
      "text/latex": [
       "214"
      ],
      "text/markdown": [
       "214"
      ],
      "text/plain": [
       "[1] 214"
      ]
     },
     "metadata": {},
     "output_type": "display_data"
    },
    {
     "data": {
      "text/html": [
       "195"
      ],
      "text/latex": [
       "195"
      ],
      "text/markdown": [
       "195"
      ],
      "text/plain": [
       "[1] 195"
      ]
     },
     "metadata": {},
     "output_type": "display_data"
    },
    {
     "data": {
      "text/html": [
       "219"
      ],
      "text/latex": [
       "219"
      ],
      "text/markdown": [
       "219"
      ],
      "text/plain": [
       "[1] 219"
      ]
     },
     "metadata": {},
     "output_type": "display_data"
    },
    {
     "data": {
      "text/html": [
       "217"
      ],
      "text/latex": [
       "217"
      ],
      "text/markdown": [
       "217"
      ],
      "text/plain": [
       "[1] 217"
      ]
     },
     "metadata": {},
     "output_type": "display_data"
    },
    {
     "data": {
      "text/html": [
       "199"
      ],
      "text/latex": [
       "199"
      ],
      "text/markdown": [
       "199"
      ],
      "text/plain": [
       "[1] 199"
      ]
     },
     "metadata": {},
     "output_type": "display_data"
    },
    {
     "data": {
      "text/html": [
       "185"
      ],
      "text/latex": [
       "185"
      ],
      "text/markdown": [
       "185"
      ],
      "text/plain": [
       "[1] 185"
      ]
     },
     "metadata": {},
     "output_type": "display_data"
    },
    {
     "data": {
      "text/html": [
       "203"
      ],
      "text/latex": [
       "203"
      ],
      "text/markdown": [
       "203"
      ],
      "text/plain": [
       "[1] 203"
      ]
     },
     "metadata": {},
     "output_type": "display_data"
    },
    {
     "data": {
      "text/html": [
       "185"
      ],
      "text/latex": [
       "185"
      ],
      "text/markdown": [
       "185"
      ],
      "text/plain": [
       "[1] 185"
      ]
     },
     "metadata": {},
     "output_type": "display_data"
    },
    {
     "data": {
      "text/html": [
       "209"
      ],
      "text/latex": [
       "209"
      ],
      "text/markdown": [
       "209"
      ],
      "text/plain": [
       "[1] 209"
      ]
     },
     "metadata": {},
     "output_type": "display_data"
    },
    {
     "data": {
      "text/html": [
       "175"
      ],
      "text/latex": [
       "175"
      ],
      "text/markdown": [
       "175"
      ],
      "text/plain": [
       "[1] 175"
      ]
     },
     "metadata": {},
     "output_type": "display_data"
    },
    {
     "data": {
      "text/html": [
       "165"
      ],
      "text/latex": [
       "165"
      ],
      "text/markdown": [
       "165"
      ],
      "text/plain": [
       "[1] 165"
      ]
     },
     "metadata": {},
     "output_type": "display_data"
    },
    {
     "data": {
      "text/html": [
       "181"
      ],
      "text/latex": [
       "181"
      ],
      "text/markdown": [
       "181"
      ],
      "text/plain": [
       "[1] 181"
      ]
     },
     "metadata": {},
     "output_type": "display_data"
    },
    {
     "data": {
      "text/html": [
       "197"
      ],
      "text/latex": [
       "197"
      ],
      "text/markdown": [
       "197"
      ],
      "text/plain": [
       "[1] 197"
      ]
     },
     "metadata": {},
     "output_type": "display_data"
    },
    {
     "data": {
      "text/html": [
       "204"
      ],
      "text/latex": [
       "204"
      ],
      "text/markdown": [
       "204"
      ],
      "text/plain": [
       "[1] 204"
      ]
     },
     "metadata": {},
     "output_type": "display_data"
    },
    {
     "data": {
      "text/html": [
       "184"
      ],
      "text/latex": [
       "184"
      ],
      "text/markdown": [
       "184"
      ],
      "text/plain": [
       "[1] 184"
      ]
     },
     "metadata": {},
     "output_type": "display_data"
    }
   ],
   "source": [
    "sum(is.na(bank_data$client_id))\n",
    "sum(is.na(bank_data$age))\n",
    "sum(is.na(bank_data$job))\n",
    "sum(is.na(bank_data$marital))\n",
    "sum(is.na(bank_data$education))\n",
    "sum(is.na(bank_data$default))\n",
    "sum(is.na(bank_data$housing))\n",
    "sum(is.na(bank_data$loan))\n",
    "sum(is.na(bank_data$contact))\n",
    "sum(is.na(bank_data$month))\n",
    "sum(is.na(bank_data$day_of_week))\n",
    "sum(is.na(bank_data$campaign))\n",
    "sum(is.na(bank_data$pdays))\n",
    "sum(is.na(bank_data$previous))\n",
    "sum(is.na(bank_data$poutcome))\n",
    "sum(is.na(bank_data$emp.var.rate))\n",
    "sum(is.na(bank_data$cons.price.idx))\n",
    "sum(is.na(bank_data$cons.conf.idx))\n",
    "sum(is.na(bank_data$euribor3m))\n",
    "sum(is.na(bank_data$nr.employed))"
   ]
  },
  {
   "cell_type": "markdown",
   "id": "8ff7914a",
   "metadata": {},
   "source": [
    "### Resolving NAs\n",
    "\n",
    "Removed NAs by replacing them with:\n",
    "\n",
    "-  mean (for numerical columns) or \n",
    "\n",
    "-  most occuring values (for categorical features)"
   ]
  },
  {
   "cell_type": "code",
   "execution_count": 15,
   "id": "c9470a3f",
   "metadata": {},
   "outputs": [],
   "source": [
    "#age NA resolve\n",
    "bank_data[is.na(bank_data$age),]$age <- round(mean(bank_data$age, na.rm = TRUE))"
   ]
  },
  {
   "cell_type": "code",
   "execution_count": 16,
   "id": "2ff48311",
   "metadata": {},
   "outputs": [],
   "source": [
    "#job NA resolve\n",
    "temp <- bank_data %>% count(job)\n",
    "bank_data[is.na(bank_data$job)|bank_data$job=='unknown',]$job <- temp[order(-temp$n),][1,1]"
   ]
  },
  {
   "cell_type": "code",
   "execution_count": 17,
   "id": "38ea29cd",
   "metadata": {
    "scrolled": true
   },
   "outputs": [],
   "source": [
    "#marital NA resolve\n",
    "temp <- bank_data %>% count(marital)\n",
    "bank_data[is.na(bank_data$marital)|bank_data$marital=='unknown',]$marital <- temp[order(-temp$n),][1,1]"
   ]
  },
  {
   "cell_type": "code",
   "execution_count": 18,
   "id": "2f57f7f7",
   "metadata": {},
   "outputs": [],
   "source": [
    "#education NA resolve\n",
    "temp <- bank_data %>% count(education)\n",
    "bank_data[is.na(bank_data$education)|bank_data$education=='unknown',]$education <- temp[order(-temp$n),][1,1]"
   ]
  },
  {
   "cell_type": "code",
   "execution_count": 19,
   "id": "01d6884c",
   "metadata": {},
   "outputs": [],
   "source": [
    "#default NA resolve\n",
    "temp <- bank_data %>% count(default)\n",
    "bank_data[is.na(bank_data$default)|bank_data$default=='unknown',]$default <- temp[order(-temp$n),][1,1]"
   ]
  },
  {
   "cell_type": "code",
   "execution_count": 20,
   "id": "5b9cf128",
   "metadata": {},
   "outputs": [],
   "source": [
    "#housing NA resolve\n",
    "temp <- bank_data %>% count(housing)\n",
    "bank_data[is.na(bank_data$housing)|bank_data$housing=='unknown',]$housing <- temp[order(-temp$n),][1,1]"
   ]
  },
  {
   "cell_type": "code",
   "execution_count": 21,
   "id": "8bd341cc",
   "metadata": {},
   "outputs": [],
   "source": [
    "#loan NA resolve\n",
    "temp <- bank_data %>% count(loan)\n",
    "bank_data[is.na(bank_data$loan)|bank_data$loan=='unknown',]$loan <- temp[order(-temp$n),][1,1]"
   ]
  },
  {
   "cell_type": "code",
   "execution_count": 22,
   "id": "a8f7326d",
   "metadata": {},
   "outputs": [],
   "source": [
    "#contact NA resolve\n",
    "temp <- bank_data %>% count(contact)\n",
    "bank_data[is.na(bank_data$contact)|bank_data$contact=='unknown',]$contact <- temp[order(-temp$n),][1,1]"
   ]
  },
  {
   "cell_type": "code",
   "execution_count": 23,
   "id": "0e574143",
   "metadata": {},
   "outputs": [],
   "source": [
    "#month NA resolve\n",
    "temp <- bank_data %>% count(month)\n",
    "bank_data[is.na(bank_data$month)|bank_data$month=='unknown',]$month <- temp[order(-temp$n),][1,1]"
   ]
  },
  {
   "cell_type": "code",
   "execution_count": 24,
   "id": "246b80ea",
   "metadata": {},
   "outputs": [],
   "source": [
    "#day_of_week NA resolve\n",
    "temp <- bank_data %>% count(day_of_week)\n",
    "bank_data[is.na(bank_data$day_of_week)|bank_data$day_of_week=='unknown',]$day_of_week <- temp[order(-temp$n),][1,1]"
   ]
  },
  {
   "cell_type": "code",
   "execution_count": 25,
   "id": "f87ffb0c",
   "metadata": {},
   "outputs": [],
   "source": [
    "#campaign NA resolve\n",
    "temp <- bank_data %>% count(campaign)\n",
    "bank_data[is.na(bank_data$campaign)|bank_data$campaign=='unknown',]$campaign <- temp[order(-temp$n),][1,1]"
   ]
  },
  {
   "cell_type": "code",
   "execution_count": 26,
   "id": "8a29c7c9",
   "metadata": {},
   "outputs": [],
   "source": [
    "#pdays NA resolve\n",
    "temp <- bank_data %>% count(pdays)\n",
    "bank_data[is.na(bank_data$pdays)|bank_data$pdays=='unknown',]$pdays <- temp[order(-temp$n),][1,1]"
   ]
  },
  {
   "cell_type": "code",
   "execution_count": 27,
   "id": "d7b7d48c",
   "metadata": {},
   "outputs": [],
   "source": [
    "#previous NA resolve\n",
    "temp <- bank_data %>% count(previous)\n",
    "bank_data[is.na(bank_data$previous)|bank_data$previous=='unknown',]$previous <- temp[order(-temp$n),][1,1]"
   ]
  },
  {
   "cell_type": "code",
   "execution_count": 28,
   "id": "256118f0",
   "metadata": {},
   "outputs": [],
   "source": [
    "#poutcome NA resolve\n",
    "temp <- bank_data %>% count(poutcome)\n",
    "bank_data[is.na(bank_data$poutcome)|bank_data$poutcome=='unknown',]$poutcome <- temp[order(-temp$n),][1,1]"
   ]
  },
  {
   "cell_type": "code",
   "execution_count": 29,
   "id": "74531058",
   "metadata": {},
   "outputs": [],
   "source": [
    "#emp.var.rate NA resolve\n",
    "temp <- bank_data %>% count(emp.var.rate)\n",
    "bank_data[is.na(bank_data$emp.var.rate),]$emp.var.rate <- temp[order(-temp$n),][1,1]"
   ]
  },
  {
   "cell_type": "code",
   "execution_count": 30,
   "id": "1d511210",
   "metadata": {},
   "outputs": [],
   "source": [
    "#cons.price.idx NA resolve\n",
    "temp <- bank_data %>% count(cons.price.idx)\n",
    "bank_data[is.na(bank_data$cons.price.idx),]$cons.price.idx <- temp[order(-temp$n),][1,1]"
   ]
  },
  {
   "cell_type": "code",
   "execution_count": 31,
   "id": "0d3b23d7",
   "metadata": {},
   "outputs": [],
   "source": [
    "#cons.conf.idx NA resolve\n",
    "temp <- bank_data %>% count(cons.conf.idx)\n",
    "bank_data[is.na(bank_data$cons.conf.idx),]$cons.conf.idx <- temp[order(-temp$n),][1,1]"
   ]
  },
  {
   "cell_type": "code",
   "execution_count": 32,
   "id": "5d09fd14",
   "metadata": {},
   "outputs": [],
   "source": [
    "#euribor3m NA resolve\n",
    "temp <- bank_data %>% count(euribor3m)\n",
    "bank_data[is.na(bank_data$euribor3m),]$euribor3m <- temp[order(-temp$n),][1,1]"
   ]
  },
  {
   "cell_type": "code",
   "execution_count": 33,
   "id": "b08d740f",
   "metadata": {},
   "outputs": [],
   "source": [
    "#nr.employed NA resolve\n",
    "temp <- bank_data %>% count(nr.employed)\n",
    "bank_data[is.na(bank_data$nr.employed),]$nr.employed <- temp[order(-temp$n),][1,1]"
   ]
  },
  {
   "cell_type": "code",
   "execution_count": 34,
   "id": "3ec7af9e",
   "metadata": {
    "scrolled": true
   },
   "outputs": [
    {
     "data": {
      "text/html": [
       "0"
      ],
      "text/latex": [
       "0"
      ],
      "text/markdown": [
       "0"
      ],
      "text/plain": [
       "[1] 0"
      ]
     },
     "metadata": {},
     "output_type": "display_data"
    }
   ],
   "source": [
    "#confirming the NA values\n",
    "sum(is.na(bank_data))"
   ]
  },
  {
   "cell_type": "markdown",
   "id": "9688e72c",
   "metadata": {},
   "source": [
    "### Table with no Null Values"
   ]
  },
  {
   "cell_type": "code",
   "execution_count": 35,
   "id": "1ef6611d",
   "metadata": {},
   "outputs": [
    {
     "data": {
      "text/html": [
       "<table class=\"dataframe\">\n",
       "<caption>A data.frame: 6 × 21</caption>\n",
       "<thead>\n",
       "\t<tr><th></th><th scope=col>client_id</th><th scope=col>age</th><th scope=col>job</th><th scope=col>marital</th><th scope=col>education</th><th scope=col>default</th><th scope=col>housing</th><th scope=col>loan</th><th scope=col>contact</th><th scope=col>month</th><th scope=col>day_of_week</th><th scope=col>campaign</th><th scope=col>pdays</th><th scope=col>previous</th><th scope=col>poutcome</th><th scope=col>emp.var.rate</th><th scope=col>cons.price.idx</th><th scope=col>cons.conf.idx</th><th scope=col>euribor3m</th><th scope=col>nr.employed</th><th scope=col>subscribe</th></tr>\n",
       "\t<tr><th></th><th scope=col>&lt;int&gt;</th><th scope=col>&lt;dbl&gt;</th><th scope=col>&lt;chr&gt;</th><th scope=col>&lt;chr&gt;</th><th scope=col>&lt;chr&gt;</th><th scope=col>&lt;chr&gt;</th><th scope=col>&lt;chr&gt;</th><th scope=col>&lt;chr&gt;</th><th scope=col>&lt;chr&gt;</th><th scope=col>&lt;chr&gt;</th><th scope=col>&lt;chr&gt;</th><th scope=col>&lt;int&gt;</th><th scope=col>&lt;int&gt;</th><th scope=col>&lt;int&gt;</th><th scope=col>&lt;chr&gt;</th><th scope=col>&lt;dbl&gt;</th><th scope=col>&lt;dbl&gt;</th><th scope=col>&lt;dbl&gt;</th><th scope=col>&lt;dbl&gt;</th><th scope=col>&lt;dbl&gt;</th><th scope=col>&lt;int&gt;</th></tr>\n",
       "</thead>\n",
       "<tbody>\n",
       "\t<tr><th scope=row>1</th><td>29925</td><td>42</td><td>management</td><td>married</td><td>basic.9y           </td><td>no</td><td>no </td><td>no </td><td>cellular </td><td>jul</td><td>thu</td><td>1</td><td>999</td><td>0</td><td>nonexistent</td><td> 1.4</td><td>93.918</td><td>-42.7</td><td>4.968</td><td>5228.1</td><td>0</td></tr>\n",
       "\t<tr><th scope=row>2</th><td>37529</td><td>35</td><td>unemployed</td><td>married</td><td>university.degree  </td><td>no</td><td>yes</td><td>no </td><td>telephone</td><td>jun</td><td>mon</td><td>4</td><td>999</td><td>0</td><td>nonexistent</td><td> 1.4</td><td>94.465</td><td>-41.8</td><td>4.960</td><td>5228.1</td><td>0</td></tr>\n",
       "\t<tr><th scope=row>3</th><td> 2757</td><td>44</td><td>technician</td><td>married</td><td>basic.9y           </td><td>no</td><td>yes</td><td>yes</td><td>cellular </td><td>may</td><td>mon</td><td>1</td><td>999</td><td>0</td><td>nonexistent</td><td>-1.8</td><td>92.893</td><td>-46.2</td><td>1.264</td><td>5099.1</td><td>0</td></tr>\n",
       "\t<tr><th scope=row>4</th><td> 9642</td><td>45</td><td>services  </td><td>married</td><td>high.school        </td><td>no</td><td>yes</td><td>no </td><td>cellular </td><td>apr</td><td>tue</td><td>1</td><td>999</td><td>0</td><td>nonexistent</td><td>-1.8</td><td>93.075</td><td>-47.1</td><td>1.453</td><td>5099.1</td><td>0</td></tr>\n",
       "\t<tr><th scope=row>5</th><td>14183</td><td>45</td><td>admin.    </td><td>married</td><td>university.degree  </td><td>no</td><td>yes</td><td>no </td><td>telephone</td><td>may</td><td>wed</td><td>1</td><td>999</td><td>0</td><td>nonexistent</td><td> 1.1</td><td>93.994</td><td>-36.4</td><td>4.859</td><td>5191.0</td><td>0</td></tr>\n",
       "\t<tr><th scope=row>6</th><td>15180</td><td>38</td><td>technician</td><td>married</td><td>professional.course</td><td>no</td><td>no </td><td>no </td><td>telephone</td><td>may</td><td>wed</td><td>2</td><td>999</td><td>0</td><td>nonexistent</td><td> 1.1</td><td>93.994</td><td>-36.4</td><td>4.858</td><td>5191.0</td><td>0</td></tr>\n",
       "</tbody>\n",
       "</table>\n"
      ],
      "text/latex": [
       "A data.frame: 6 × 21\n",
       "\\begin{tabular}{r|lllllllllllllllllllll}\n",
       "  & client\\_id & age & job & marital & education & default & housing & loan & contact & month & day\\_of\\_week & campaign & pdays & previous & poutcome & emp.var.rate & cons.price.idx & cons.conf.idx & euribor3m & nr.employed & subscribe\\\\\n",
       "  & <int> & <dbl> & <chr> & <chr> & <chr> & <chr> & <chr> & <chr> & <chr> & <chr> & <chr> & <int> & <int> & <int> & <chr> & <dbl> & <dbl> & <dbl> & <dbl> & <dbl> & <int>\\\\\n",
       "\\hline\n",
       "\t1 & 29925 & 42 & management & married & basic.9y            & no & no  & no  & cellular  & jul & thu & 1 & 999 & 0 & nonexistent &  1.4 & 93.918 & -42.7 & 4.968 & 5228.1 & 0\\\\\n",
       "\t2 & 37529 & 35 & unemployed & married & university.degree   & no & yes & no  & telephone & jun & mon & 4 & 999 & 0 & nonexistent &  1.4 & 94.465 & -41.8 & 4.960 & 5228.1 & 0\\\\\n",
       "\t3 &  2757 & 44 & technician & married & basic.9y            & no & yes & yes & cellular  & may & mon & 1 & 999 & 0 & nonexistent & -1.8 & 92.893 & -46.2 & 1.264 & 5099.1 & 0\\\\\n",
       "\t4 &  9642 & 45 & services   & married & high.school         & no & yes & no  & cellular  & apr & tue & 1 & 999 & 0 & nonexistent & -1.8 & 93.075 & -47.1 & 1.453 & 5099.1 & 0\\\\\n",
       "\t5 & 14183 & 45 & admin.     & married & university.degree   & no & yes & no  & telephone & may & wed & 1 & 999 & 0 & nonexistent &  1.1 & 93.994 & -36.4 & 4.859 & 5191.0 & 0\\\\\n",
       "\t6 & 15180 & 38 & technician & married & professional.course & no & no  & no  & telephone & may & wed & 2 & 999 & 0 & nonexistent &  1.1 & 93.994 & -36.4 & 4.858 & 5191.0 & 0\\\\\n",
       "\\end{tabular}\n"
      ],
      "text/markdown": [
       "\n",
       "A data.frame: 6 × 21\n",
       "\n",
       "| <!--/--> | client_id &lt;int&gt; | age &lt;dbl&gt; | job &lt;chr&gt; | marital &lt;chr&gt; | education &lt;chr&gt; | default &lt;chr&gt; | housing &lt;chr&gt; | loan &lt;chr&gt; | contact &lt;chr&gt; | month &lt;chr&gt; | day_of_week &lt;chr&gt; | campaign &lt;int&gt; | pdays &lt;int&gt; | previous &lt;int&gt; | poutcome &lt;chr&gt; | emp.var.rate &lt;dbl&gt; | cons.price.idx &lt;dbl&gt; | cons.conf.idx &lt;dbl&gt; | euribor3m &lt;dbl&gt; | nr.employed &lt;dbl&gt; | subscribe &lt;int&gt; |\n",
       "|---|---|---|---|---|---|---|---|---|---|---|---|---|---|---|---|---|---|---|---|---|---|\n",
       "| 1 | 29925 | 42 | management | married | basic.9y            | no | no  | no  | cellular  | jul | thu | 1 | 999 | 0 | nonexistent |  1.4 | 93.918 | -42.7 | 4.968 | 5228.1 | 0 |\n",
       "| 2 | 37529 | 35 | unemployed | married | university.degree   | no | yes | no  | telephone | jun | mon | 4 | 999 | 0 | nonexistent |  1.4 | 94.465 | -41.8 | 4.960 | 5228.1 | 0 |\n",
       "| 3 |  2757 | 44 | technician | married | basic.9y            | no | yes | yes | cellular  | may | mon | 1 | 999 | 0 | nonexistent | -1.8 | 92.893 | -46.2 | 1.264 | 5099.1 | 0 |\n",
       "| 4 |  9642 | 45 | services   | married | high.school         | no | yes | no  | cellular  | apr | tue | 1 | 999 | 0 | nonexistent | -1.8 | 93.075 | -47.1 | 1.453 | 5099.1 | 0 |\n",
       "| 5 | 14183 | 45 | admin.     | married | university.degree   | no | yes | no  | telephone | may | wed | 1 | 999 | 0 | nonexistent |  1.1 | 93.994 | -36.4 | 4.859 | 5191.0 | 0 |\n",
       "| 6 | 15180 | 38 | technician | married | professional.course | no | no  | no  | telephone | may | wed | 2 | 999 | 0 | nonexistent |  1.1 | 93.994 | -36.4 | 4.858 | 5191.0 | 0 |\n",
       "\n"
      ],
      "text/plain": [
       "  client_id age job        marital education           default housing loan\n",
       "1 29925     42  management married basic.9y            no      no      no  \n",
       "2 37529     35  unemployed married university.degree   no      yes     no  \n",
       "3  2757     44  technician married basic.9y            no      yes     yes \n",
       "4  9642     45  services   married high.school         no      yes     no  \n",
       "5 14183     45  admin.     married university.degree   no      yes     no  \n",
       "6 15180     38  technician married professional.course no      no      no  \n",
       "  contact   month day_of_week campaign pdays previous poutcome    emp.var.rate\n",
       "1 cellular  jul   thu         1        999   0        nonexistent  1.4        \n",
       "2 telephone jun   mon         4        999   0        nonexistent  1.4        \n",
       "3 cellular  may   mon         1        999   0        nonexistent -1.8        \n",
       "4 cellular  apr   tue         1        999   0        nonexistent -1.8        \n",
       "5 telephone may   wed         1        999   0        nonexistent  1.1        \n",
       "6 telephone may   wed         2        999   0        nonexistent  1.1        \n",
       "  cons.price.idx cons.conf.idx euribor3m nr.employed subscribe\n",
       "1 93.918         -42.7         4.968     5228.1      0        \n",
       "2 94.465         -41.8         4.960     5228.1      0        \n",
       "3 92.893         -46.2         1.264     5099.1      0        \n",
       "4 93.075         -47.1         1.453     5099.1      0        \n",
       "5 93.994         -36.4         4.859     5191.0      0        \n",
       "6 93.994         -36.4         4.858     5191.0      0        "
      ]
     },
     "metadata": {},
     "output_type": "display_data"
    }
   ],
   "source": [
    "head(bank_data)"
   ]
  },
  {
   "cell_type": "markdown",
   "id": "b2ae4d89",
   "metadata": {},
   "source": [
    "### Dealing with non-numerical columns\n",
    "\n",
    "- converting to {0,1} if binary column\n",
    "- creating dummy columns for other categorical non-numeric columns"
   ]
  },
  {
   "cell_type": "code",
   "execution_count": 36,
   "id": "db96cf46",
   "metadata": {},
   "outputs": [],
   "source": [
    "#Dealing with non-numerical columns\n",
    "bank_data$default <- ifelse(bank_data$default=='yes',1,0)\n",
    "bank_data$housing <- ifelse(bank_data$housing=='yes',1,0)\n",
    "bank_data$loan <- ifelse(bank_data$loan=='yes',1,0)\n",
    "bank_data$contact <- ifelse(bank_data$contact=='cellular',1,0)"
   ]
  },
  {
   "cell_type": "code",
   "execution_count": 37,
   "id": "a2c65333",
   "metadata": {},
   "outputs": [],
   "source": [
    "#creating dummy variables for categorical data\n",
    "data <- fastDummies::dummy_cols(bank_data)"
   ]
  },
  {
   "cell_type": "code",
   "execution_count": 38,
   "id": "09abff3c",
   "metadata": {},
   "outputs": [],
   "source": [
    "#removing the categorical data columns\n",
    "data <- subset(data, select = -c(job,marital,education,month,day_of_week,poutcome))"
   ]
  },
  {
   "cell_type": "markdown",
   "id": "e98c5e35",
   "metadata": {},
   "source": [
    "### Basetable "
   ]
  },
  {
   "cell_type": "code",
   "execution_count": 39,
   "id": "6660949b",
   "metadata": {},
   "outputs": [
    {
     "data": {
      "text/html": [
       "<table class=\"dataframe\">\n",
       "<caption>A data.frame: 6 × 54</caption>\n",
       "<thead>\n",
       "\t<tr><th></th><th scope=col>client_id</th><th scope=col>age</th><th scope=col>default</th><th scope=col>housing</th><th scope=col>loan</th><th scope=col>contact</th><th scope=col>campaign</th><th scope=col>pdays</th><th scope=col>previous</th><th scope=col>emp.var.rate</th><th scope=col>cons.price.idx</th><th scope=col>cons.conf.idx</th><th scope=col>euribor3m</th><th scope=col>nr.employed</th><th scope=col>subscribe</th><th scope=col>job_admin.</th><th scope=col>job_blue-collar</th><th scope=col>job_entrepreneur</th><th scope=col>job_housemaid</th><th scope=col>job_management</th><th scope=col>job_retired</th><th scope=col>job_self-employed</th><th scope=col>job_services</th><th scope=col>job_student</th><th scope=col>job_technician</th><th scope=col>job_unemployed</th><th scope=col>marital_divorced</th><th scope=col>marital_married</th><th scope=col>marital_single</th><th scope=col>education_basic.4y</th><th scope=col>education_basic.6y</th><th scope=col>education_basic.9y</th><th scope=col>education_high.school</th><th scope=col>education_illiterate</th><th scope=col>education_professional.course</th><th scope=col>education_university.degree</th><th scope=col>month_apr</th><th scope=col>month_aug</th><th scope=col>month_dec</th><th scope=col>month_jul</th><th scope=col>month_jun</th><th scope=col>month_mar</th><th scope=col>month_may</th><th scope=col>month_nov</th><th scope=col>month_oct</th><th scope=col>month_sep</th><th scope=col>day_of_week_fri</th><th scope=col>day_of_week_mon</th><th scope=col>day_of_week_thu</th><th scope=col>day_of_week_tue</th><th scope=col>day_of_week_wed</th><th scope=col>poutcome_failure</th><th scope=col>poutcome_nonexistent</th><th scope=col>poutcome_success</th></tr>\n",
       "\t<tr><th></th><th scope=col>&lt;int&gt;</th><th scope=col>&lt;dbl&gt;</th><th scope=col>&lt;dbl&gt;</th><th scope=col>&lt;dbl&gt;</th><th scope=col>&lt;dbl&gt;</th><th scope=col>&lt;dbl&gt;</th><th scope=col>&lt;int&gt;</th><th scope=col>&lt;int&gt;</th><th scope=col>&lt;int&gt;</th><th scope=col>&lt;dbl&gt;</th><th scope=col>&lt;dbl&gt;</th><th scope=col>&lt;dbl&gt;</th><th scope=col>&lt;dbl&gt;</th><th scope=col>&lt;dbl&gt;</th><th scope=col>&lt;int&gt;</th><th scope=col>&lt;int&gt;</th><th scope=col>&lt;int&gt;</th><th scope=col>&lt;int&gt;</th><th scope=col>&lt;int&gt;</th><th scope=col>&lt;int&gt;</th><th scope=col>&lt;int&gt;</th><th scope=col>&lt;int&gt;</th><th scope=col>&lt;int&gt;</th><th scope=col>&lt;int&gt;</th><th scope=col>&lt;int&gt;</th><th scope=col>&lt;int&gt;</th><th scope=col>&lt;int&gt;</th><th scope=col>&lt;int&gt;</th><th scope=col>&lt;int&gt;</th><th scope=col>&lt;int&gt;</th><th scope=col>&lt;int&gt;</th><th scope=col>&lt;int&gt;</th><th scope=col>&lt;int&gt;</th><th scope=col>&lt;int&gt;</th><th scope=col>&lt;int&gt;</th><th scope=col>&lt;int&gt;</th><th scope=col>&lt;int&gt;</th><th scope=col>&lt;int&gt;</th><th scope=col>&lt;int&gt;</th><th scope=col>&lt;int&gt;</th><th scope=col>&lt;int&gt;</th><th scope=col>&lt;int&gt;</th><th scope=col>&lt;int&gt;</th><th scope=col>&lt;int&gt;</th><th scope=col>&lt;int&gt;</th><th scope=col>&lt;int&gt;</th><th scope=col>&lt;int&gt;</th><th scope=col>&lt;int&gt;</th><th scope=col>&lt;int&gt;</th><th scope=col>&lt;int&gt;</th><th scope=col>&lt;int&gt;</th><th scope=col>&lt;int&gt;</th><th scope=col>&lt;int&gt;</th><th scope=col>&lt;int&gt;</th></tr>\n",
       "</thead>\n",
       "<tbody>\n",
       "\t<tr><th scope=row>1</th><td>29925</td><td>42</td><td>0</td><td>0</td><td>0</td><td>1</td><td>1</td><td>999</td><td>0</td><td> 1.4</td><td>93.918</td><td>-42.7</td><td>4.968</td><td>5228.1</td><td>0</td><td>0</td><td>0</td><td>0</td><td>0</td><td>1</td><td>0</td><td>0</td><td>0</td><td>0</td><td>0</td><td>0</td><td>0</td><td>1</td><td>0</td><td>0</td><td>0</td><td>1</td><td>0</td><td>0</td><td>0</td><td>0</td><td>0</td><td>0</td><td>0</td><td>1</td><td>0</td><td>0</td><td>0</td><td>0</td><td>0</td><td>0</td><td>0</td><td>0</td><td>1</td><td>0</td><td>0</td><td>0</td><td>1</td><td>0</td></tr>\n",
       "\t<tr><th scope=row>2</th><td>37529</td><td>35</td><td>0</td><td>1</td><td>0</td><td>0</td><td>4</td><td>999</td><td>0</td><td> 1.4</td><td>94.465</td><td>-41.8</td><td>4.960</td><td>5228.1</td><td>0</td><td>0</td><td>0</td><td>0</td><td>0</td><td>0</td><td>0</td><td>0</td><td>0</td><td>0</td><td>0</td><td>1</td><td>0</td><td>1</td><td>0</td><td>0</td><td>0</td><td>0</td><td>0</td><td>0</td><td>0</td><td>1</td><td>0</td><td>0</td><td>0</td><td>0</td><td>1</td><td>0</td><td>0</td><td>0</td><td>0</td><td>0</td><td>0</td><td>1</td><td>0</td><td>0</td><td>0</td><td>0</td><td>1</td><td>0</td></tr>\n",
       "\t<tr><th scope=row>3</th><td> 2757</td><td>44</td><td>0</td><td>1</td><td>1</td><td>1</td><td>1</td><td>999</td><td>0</td><td>-1.8</td><td>92.893</td><td>-46.2</td><td>1.264</td><td>5099.1</td><td>0</td><td>0</td><td>0</td><td>0</td><td>0</td><td>0</td><td>0</td><td>0</td><td>0</td><td>0</td><td>1</td><td>0</td><td>0</td><td>1</td><td>0</td><td>0</td><td>0</td><td>1</td><td>0</td><td>0</td><td>0</td><td>0</td><td>0</td><td>0</td><td>0</td><td>0</td><td>0</td><td>0</td><td>1</td><td>0</td><td>0</td><td>0</td><td>0</td><td>1</td><td>0</td><td>0</td><td>0</td><td>0</td><td>1</td><td>0</td></tr>\n",
       "\t<tr><th scope=row>4</th><td> 9642</td><td>45</td><td>0</td><td>1</td><td>0</td><td>1</td><td>1</td><td>999</td><td>0</td><td>-1.8</td><td>93.075</td><td>-47.1</td><td>1.453</td><td>5099.1</td><td>0</td><td>0</td><td>0</td><td>0</td><td>0</td><td>0</td><td>0</td><td>0</td><td>1</td><td>0</td><td>0</td><td>0</td><td>0</td><td>1</td><td>0</td><td>0</td><td>0</td><td>0</td><td>1</td><td>0</td><td>0</td><td>0</td><td>1</td><td>0</td><td>0</td><td>0</td><td>0</td><td>0</td><td>0</td><td>0</td><td>0</td><td>0</td><td>0</td><td>0</td><td>0</td><td>1</td><td>0</td><td>0</td><td>1</td><td>0</td></tr>\n",
       "\t<tr><th scope=row>5</th><td>14183</td><td>45</td><td>0</td><td>1</td><td>0</td><td>0</td><td>1</td><td>999</td><td>0</td><td> 1.1</td><td>93.994</td><td>-36.4</td><td>4.859</td><td>5191.0</td><td>0</td><td>1</td><td>0</td><td>0</td><td>0</td><td>0</td><td>0</td><td>0</td><td>0</td><td>0</td><td>0</td><td>0</td><td>0</td><td>1</td><td>0</td><td>0</td><td>0</td><td>0</td><td>0</td><td>0</td><td>0</td><td>1</td><td>0</td><td>0</td><td>0</td><td>0</td><td>0</td><td>0</td><td>1</td><td>0</td><td>0</td><td>0</td><td>0</td><td>0</td><td>0</td><td>0</td><td>1</td><td>0</td><td>1</td><td>0</td></tr>\n",
       "\t<tr><th scope=row>6</th><td>15180</td><td>38</td><td>0</td><td>0</td><td>0</td><td>0</td><td>2</td><td>999</td><td>0</td><td> 1.1</td><td>93.994</td><td>-36.4</td><td>4.858</td><td>5191.0</td><td>0</td><td>0</td><td>0</td><td>0</td><td>0</td><td>0</td><td>0</td><td>0</td><td>0</td><td>0</td><td>1</td><td>0</td><td>0</td><td>1</td><td>0</td><td>0</td><td>0</td><td>0</td><td>0</td><td>0</td><td>1</td><td>0</td><td>0</td><td>0</td><td>0</td><td>0</td><td>0</td><td>0</td><td>1</td><td>0</td><td>0</td><td>0</td><td>0</td><td>0</td><td>0</td><td>0</td><td>1</td><td>0</td><td>1</td><td>0</td></tr>\n",
       "</tbody>\n",
       "</table>\n"
      ],
      "text/latex": [
       "A data.frame: 6 × 54\n",
       "\\begin{tabular}{r|llllllllllllllllllllllllllllllllllllllllllllllllllllll}\n",
       "  & client\\_id & age & default & housing & loan & contact & campaign & pdays & previous & emp.var.rate & cons.price.idx & cons.conf.idx & euribor3m & nr.employed & subscribe & job\\_admin. & job\\_blue-collar & job\\_entrepreneur & job\\_housemaid & job\\_management & job\\_retired & job\\_self-employed & job\\_services & job\\_student & job\\_technician & job\\_unemployed & marital\\_divorced & marital\\_married & marital\\_single & education\\_basic.4y & education\\_basic.6y & education\\_basic.9y & education\\_high.school & education\\_illiterate & education\\_professional.course & education\\_university.degree & month\\_apr & month\\_aug & month\\_dec & month\\_jul & month\\_jun & month\\_mar & month\\_may & month\\_nov & month\\_oct & month\\_sep & day\\_of\\_week\\_fri & day\\_of\\_week\\_mon & day\\_of\\_week\\_thu & day\\_of\\_week\\_tue & day\\_of\\_week\\_wed & poutcome\\_failure & poutcome\\_nonexistent & poutcome\\_success\\\\\n",
       "  & <int> & <dbl> & <dbl> & <dbl> & <dbl> & <dbl> & <int> & <int> & <int> & <dbl> & <dbl> & <dbl> & <dbl> & <dbl> & <int> & <int> & <int> & <int> & <int> & <int> & <int> & <int> & <int> & <int> & <int> & <int> & <int> & <int> & <int> & <int> & <int> & <int> & <int> & <int> & <int> & <int> & <int> & <int> & <int> & <int> & <int> & <int> & <int> & <int> & <int> & <int> & <int> & <int> & <int> & <int> & <int> & <int> & <int> & <int>\\\\\n",
       "\\hline\n",
       "\t1 & 29925 & 42 & 0 & 0 & 0 & 1 & 1 & 999 & 0 &  1.4 & 93.918 & -42.7 & 4.968 & 5228.1 & 0 & 0 & 0 & 0 & 0 & 1 & 0 & 0 & 0 & 0 & 0 & 0 & 0 & 1 & 0 & 0 & 0 & 1 & 0 & 0 & 0 & 0 & 0 & 0 & 0 & 1 & 0 & 0 & 0 & 0 & 0 & 0 & 0 & 0 & 1 & 0 & 0 & 0 & 1 & 0\\\\\n",
       "\t2 & 37529 & 35 & 0 & 1 & 0 & 0 & 4 & 999 & 0 &  1.4 & 94.465 & -41.8 & 4.960 & 5228.1 & 0 & 0 & 0 & 0 & 0 & 0 & 0 & 0 & 0 & 0 & 0 & 1 & 0 & 1 & 0 & 0 & 0 & 0 & 0 & 0 & 0 & 1 & 0 & 0 & 0 & 0 & 1 & 0 & 0 & 0 & 0 & 0 & 0 & 1 & 0 & 0 & 0 & 0 & 1 & 0\\\\\n",
       "\t3 &  2757 & 44 & 0 & 1 & 1 & 1 & 1 & 999 & 0 & -1.8 & 92.893 & -46.2 & 1.264 & 5099.1 & 0 & 0 & 0 & 0 & 0 & 0 & 0 & 0 & 0 & 0 & 1 & 0 & 0 & 1 & 0 & 0 & 0 & 1 & 0 & 0 & 0 & 0 & 0 & 0 & 0 & 0 & 0 & 0 & 1 & 0 & 0 & 0 & 0 & 1 & 0 & 0 & 0 & 0 & 1 & 0\\\\\n",
       "\t4 &  9642 & 45 & 0 & 1 & 0 & 1 & 1 & 999 & 0 & -1.8 & 93.075 & -47.1 & 1.453 & 5099.1 & 0 & 0 & 0 & 0 & 0 & 0 & 0 & 0 & 1 & 0 & 0 & 0 & 0 & 1 & 0 & 0 & 0 & 0 & 1 & 0 & 0 & 0 & 1 & 0 & 0 & 0 & 0 & 0 & 0 & 0 & 0 & 0 & 0 & 0 & 0 & 1 & 0 & 0 & 1 & 0\\\\\n",
       "\t5 & 14183 & 45 & 0 & 1 & 0 & 0 & 1 & 999 & 0 &  1.1 & 93.994 & -36.4 & 4.859 & 5191.0 & 0 & 1 & 0 & 0 & 0 & 0 & 0 & 0 & 0 & 0 & 0 & 0 & 0 & 1 & 0 & 0 & 0 & 0 & 0 & 0 & 0 & 1 & 0 & 0 & 0 & 0 & 0 & 0 & 1 & 0 & 0 & 0 & 0 & 0 & 0 & 0 & 1 & 0 & 1 & 0\\\\\n",
       "\t6 & 15180 & 38 & 0 & 0 & 0 & 0 & 2 & 999 & 0 &  1.1 & 93.994 & -36.4 & 4.858 & 5191.0 & 0 & 0 & 0 & 0 & 0 & 0 & 0 & 0 & 0 & 0 & 1 & 0 & 0 & 1 & 0 & 0 & 0 & 0 & 0 & 0 & 1 & 0 & 0 & 0 & 0 & 0 & 0 & 0 & 1 & 0 & 0 & 0 & 0 & 0 & 0 & 0 & 1 & 0 & 1 & 0\\\\\n",
       "\\end{tabular}\n"
      ],
      "text/markdown": [
       "\n",
       "A data.frame: 6 × 54\n",
       "\n",
       "| <!--/--> | client_id &lt;int&gt; | age &lt;dbl&gt; | default &lt;dbl&gt; | housing &lt;dbl&gt; | loan &lt;dbl&gt; | contact &lt;dbl&gt; | campaign &lt;int&gt; | pdays &lt;int&gt; | previous &lt;int&gt; | emp.var.rate &lt;dbl&gt; | cons.price.idx &lt;dbl&gt; | cons.conf.idx &lt;dbl&gt; | euribor3m &lt;dbl&gt; | nr.employed &lt;dbl&gt; | subscribe &lt;int&gt; | job_admin. &lt;int&gt; | job_blue-collar &lt;int&gt; | job_entrepreneur &lt;int&gt; | job_housemaid &lt;int&gt; | job_management &lt;int&gt; | job_retired &lt;int&gt; | job_self-employed &lt;int&gt; | job_services &lt;int&gt; | job_student &lt;int&gt; | job_technician &lt;int&gt; | job_unemployed &lt;int&gt; | marital_divorced &lt;int&gt; | marital_married &lt;int&gt; | marital_single &lt;int&gt; | education_basic.4y &lt;int&gt; | education_basic.6y &lt;int&gt; | education_basic.9y &lt;int&gt; | education_high.school &lt;int&gt; | education_illiterate &lt;int&gt; | education_professional.course &lt;int&gt; | education_university.degree &lt;int&gt; | month_apr &lt;int&gt; | month_aug &lt;int&gt; | month_dec &lt;int&gt; | month_jul &lt;int&gt; | month_jun &lt;int&gt; | month_mar &lt;int&gt; | month_may &lt;int&gt; | month_nov &lt;int&gt; | month_oct &lt;int&gt; | month_sep &lt;int&gt; | day_of_week_fri &lt;int&gt; | day_of_week_mon &lt;int&gt; | day_of_week_thu &lt;int&gt; | day_of_week_tue &lt;int&gt; | day_of_week_wed &lt;int&gt; | poutcome_failure &lt;int&gt; | poutcome_nonexistent &lt;int&gt; | poutcome_success &lt;int&gt; |\n",
       "|---|---|---|---|---|---|---|---|---|---|---|---|---|---|---|---|---|---|---|---|---|---|---|---|---|---|---|---|---|---|---|---|---|---|---|---|---|---|---|---|---|---|---|---|---|---|---|---|---|---|---|---|---|---|---|\n",
       "| 1 | 29925 | 42 | 0 | 0 | 0 | 1 | 1 | 999 | 0 |  1.4 | 93.918 | -42.7 | 4.968 | 5228.1 | 0 | 0 | 0 | 0 | 0 | 1 | 0 | 0 | 0 | 0 | 0 | 0 | 0 | 1 | 0 | 0 | 0 | 1 | 0 | 0 | 0 | 0 | 0 | 0 | 0 | 1 | 0 | 0 | 0 | 0 | 0 | 0 | 0 | 0 | 1 | 0 | 0 | 0 | 1 | 0 |\n",
       "| 2 | 37529 | 35 | 0 | 1 | 0 | 0 | 4 | 999 | 0 |  1.4 | 94.465 | -41.8 | 4.960 | 5228.1 | 0 | 0 | 0 | 0 | 0 | 0 | 0 | 0 | 0 | 0 | 0 | 1 | 0 | 1 | 0 | 0 | 0 | 0 | 0 | 0 | 0 | 1 | 0 | 0 | 0 | 0 | 1 | 0 | 0 | 0 | 0 | 0 | 0 | 1 | 0 | 0 | 0 | 0 | 1 | 0 |\n",
       "| 3 |  2757 | 44 | 0 | 1 | 1 | 1 | 1 | 999 | 0 | -1.8 | 92.893 | -46.2 | 1.264 | 5099.1 | 0 | 0 | 0 | 0 | 0 | 0 | 0 | 0 | 0 | 0 | 1 | 0 | 0 | 1 | 0 | 0 | 0 | 1 | 0 | 0 | 0 | 0 | 0 | 0 | 0 | 0 | 0 | 0 | 1 | 0 | 0 | 0 | 0 | 1 | 0 | 0 | 0 | 0 | 1 | 0 |\n",
       "| 4 |  9642 | 45 | 0 | 1 | 0 | 1 | 1 | 999 | 0 | -1.8 | 93.075 | -47.1 | 1.453 | 5099.1 | 0 | 0 | 0 | 0 | 0 | 0 | 0 | 0 | 1 | 0 | 0 | 0 | 0 | 1 | 0 | 0 | 0 | 0 | 1 | 0 | 0 | 0 | 1 | 0 | 0 | 0 | 0 | 0 | 0 | 0 | 0 | 0 | 0 | 0 | 0 | 1 | 0 | 0 | 1 | 0 |\n",
       "| 5 | 14183 | 45 | 0 | 1 | 0 | 0 | 1 | 999 | 0 |  1.1 | 93.994 | -36.4 | 4.859 | 5191.0 | 0 | 1 | 0 | 0 | 0 | 0 | 0 | 0 | 0 | 0 | 0 | 0 | 0 | 1 | 0 | 0 | 0 | 0 | 0 | 0 | 0 | 1 | 0 | 0 | 0 | 0 | 0 | 0 | 1 | 0 | 0 | 0 | 0 | 0 | 0 | 0 | 1 | 0 | 1 | 0 |\n",
       "| 6 | 15180 | 38 | 0 | 0 | 0 | 0 | 2 | 999 | 0 |  1.1 | 93.994 | -36.4 | 4.858 | 5191.0 | 0 | 0 | 0 | 0 | 0 | 0 | 0 | 0 | 0 | 0 | 1 | 0 | 0 | 1 | 0 | 0 | 0 | 0 | 0 | 0 | 1 | 0 | 0 | 0 | 0 | 0 | 0 | 0 | 1 | 0 | 0 | 0 | 0 | 0 | 0 | 0 | 1 | 0 | 1 | 0 |\n",
       "\n"
      ],
      "text/plain": [
       "  client_id age default housing loan contact campaign pdays previous\n",
       "1 29925     42  0       0       0    1       1        999   0       \n",
       "2 37529     35  0       1       0    0       4        999   0       \n",
       "3  2757     44  0       1       1    1       1        999   0       \n",
       "4  9642     45  0       1       0    1       1        999   0       \n",
       "5 14183     45  0       1       0    0       1        999   0       \n",
       "6 15180     38  0       0       0    0       2        999   0       \n",
       "  emp.var.rate cons.price.idx cons.conf.idx euribor3m nr.employed subscribe\n",
       "1  1.4         93.918         -42.7         4.968     5228.1      0        \n",
       "2  1.4         94.465         -41.8         4.960     5228.1      0        \n",
       "3 -1.8         92.893         -46.2         1.264     5099.1      0        \n",
       "4 -1.8         93.075         -47.1         1.453     5099.1      0        \n",
       "5  1.1         93.994         -36.4         4.859     5191.0      0        \n",
       "6  1.1         93.994         -36.4         4.858     5191.0      0        \n",
       "  job_admin. job_blue-collar job_entrepreneur job_housemaid job_management\n",
       "1 0          0               0                0             1             \n",
       "2 0          0               0                0             0             \n",
       "3 0          0               0                0             0             \n",
       "4 0          0               0                0             0             \n",
       "5 1          0               0                0             0             \n",
       "6 0          0               0                0             0             \n",
       "  job_retired job_self-employed job_services job_student job_technician\n",
       "1 0           0                 0            0           0             \n",
       "2 0           0                 0            0           0             \n",
       "3 0           0                 0            0           1             \n",
       "4 0           0                 1            0           0             \n",
       "5 0           0                 0            0           0             \n",
       "6 0           0                 0            0           1             \n",
       "  job_unemployed marital_divorced marital_married marital_single\n",
       "1 0              0                1               0             \n",
       "2 1              0                1               0             \n",
       "3 0              0                1               0             \n",
       "4 0              0                1               0             \n",
       "5 0              0                1               0             \n",
       "6 0              0                1               0             \n",
       "  education_basic.4y education_basic.6y education_basic.9y\n",
       "1 0                  0                  1                 \n",
       "2 0                  0                  0                 \n",
       "3 0                  0                  1                 \n",
       "4 0                  0                  0                 \n",
       "5 0                  0                  0                 \n",
       "6 0                  0                  0                 \n",
       "  education_high.school education_illiterate education_professional.course\n",
       "1 0                     0                    0                            \n",
       "2 0                     0                    0                            \n",
       "3 0                     0                    0                            \n",
       "4 1                     0                    0                            \n",
       "5 0                     0                    0                            \n",
       "6 0                     0                    1                            \n",
       "  education_university.degree month_apr month_aug month_dec month_jul month_jun\n",
       "1 0                           0         0         0         1         0        \n",
       "2 1                           0         0         0         0         1        \n",
       "3 0                           0         0         0         0         0        \n",
       "4 0                           1         0         0         0         0        \n",
       "5 1                           0         0         0         0         0        \n",
       "6 0                           0         0         0         0         0        \n",
       "  month_mar month_may month_nov month_oct month_sep day_of_week_fri\n",
       "1 0         0         0         0         0         0              \n",
       "2 0         0         0         0         0         0              \n",
       "3 0         1         0         0         0         0              \n",
       "4 0         0         0         0         0         0              \n",
       "5 0         1         0         0         0         0              \n",
       "6 0         1         0         0         0         0              \n",
       "  day_of_week_mon day_of_week_thu day_of_week_tue day_of_week_wed\n",
       "1 0               1               0               0              \n",
       "2 1               0               0               0              \n",
       "3 1               0               0               0              \n",
       "4 0               0               1               0              \n",
       "5 0               0               0               1              \n",
       "6 0               0               0               1              \n",
       "  poutcome_failure poutcome_nonexistent poutcome_success\n",
       "1 0                1                    0               \n",
       "2 0                1                    0               \n",
       "3 0                1                    0               \n",
       "4 0                1                    0               \n",
       "5 0                1                    0               \n",
       "6 0                1                    0               "
      ]
     },
     "metadata": {},
     "output_type": "display_data"
    }
   ],
   "source": [
    "head(data)"
   ]
  },
  {
   "cell_type": "code",
   "execution_count": 40,
   "id": "5be98087",
   "metadata": {},
   "outputs": [],
   "source": [
    "#saving basetable to a file\n",
    "write.csv(data,\"basetable.csv\", row.names = FALSE)"
   ]
  },
  {
   "cell_type": "code",
   "execution_count": null,
   "id": "ff93415f",
   "metadata": {},
   "outputs": [],
   "source": []
  },
  {
   "cell_type": "markdown",
   "id": "52beab4f",
   "metadata": {},
   "source": [
    "## Data Overview"
   ]
  },
  {
   "cell_type": "code",
   "execution_count": 41,
   "id": "48129699",
   "metadata": {},
   "outputs": [],
   "source": [
    "data <- read.csv(\"basetable.csv\")"
   ]
  },
  {
   "cell_type": "code",
   "execution_count": 42,
   "id": "b8dd0c00",
   "metadata": {},
   "outputs": [
    {
     "name": "stdout",
     "output_type": "stream",
     "text": [
      "'data.frame':\t20000 obs. of  54 variables:\n",
      " $ client_id                    : int  29925 37529 2757 9642 14183 15180 27168 9097 30538 28981 ...\n",
      " $ age                          : int  42 35 44 45 45 38 33 38 29 34 ...\n",
      " $ default                      : int  0 0 0 0 0 0 0 0 0 0 ...\n",
      " $ housing                      : int  0 1 1 1 1 0 0 1 1 1 ...\n",
      " $ loan                         : int  0 0 1 0 0 0 1 0 0 1 ...\n",
      " $ contact                      : int  1 0 1 1 0 0 1 0 1 1 ...\n",
      " $ campaign                     : int  1 4 1 1 1 2 1 1 1 1 ...\n",
      " $ pdays                        : int  999 999 999 999 999 999 999 999 999 999 ...\n",
      " $ previous                     : int  0 0 0 0 0 0 1 0 1 0 ...\n",
      " $ emp.var.rate                 : num  1.4 1.4 -1.8 -1.8 1.1 1.1 -1.8 1.1 -1.8 1.4 ...\n",
      " $ cons.price.idx               : num  93.9 94.5 92.9 93.1 94 ...\n",
      " $ cons.conf.idx                : num  -42.7 -41.8 -46.2 -47.1 -36.4 -36.4 -47.1 -36.4 -46.2 -36.1 ...\n",
      " $ euribor3m                    : num  4.97 4.96 1.26 1.45 4.86 ...\n",
      " $ nr.employed                  : num  5228 5228 5099 5099 5191 ...\n",
      " $ subscribe                    : int  0 0 0 0 0 0 1 0 0 0 ...\n",
      " $ job_admin.                   : int  0 0 0 0 1 0 0 0 0 1 ...\n",
      " $ job_blue.collar              : int  0 0 0 0 0 0 0 1 1 0 ...\n",
      " $ job_entrepreneur             : int  0 0 0 0 0 0 0 0 0 0 ...\n",
      " $ job_housemaid                : int  0 0 0 0 0 0 0 0 0 0 ...\n",
      " $ job_management               : int  1 0 0 0 0 0 0 0 0 0 ...\n",
      " $ job_retired                  : int  0 0 0 0 0 0 0 0 0 0 ...\n",
      " $ job_self.employed            : int  0 0 0 0 0 0 0 0 0 0 ...\n",
      " $ job_services                 : int  0 0 0 1 0 0 0 0 0 0 ...\n",
      " $ job_student                  : int  0 0 0 0 0 0 0 0 0 0 ...\n",
      " $ job_technician               : int  0 0 1 0 0 1 1 0 0 0 ...\n",
      " $ job_unemployed               : int  0 1 0 0 0 0 0 0 0 0 ...\n",
      " $ marital_divorced             : int  0 0 0 0 0 0 0 0 0 1 ...\n",
      " $ marital_married              : int  1 1 1 1 1 1 1 0 0 0 ...\n",
      " $ marital_single               : int  0 0 0 0 0 0 0 1 1 0 ...\n",
      " $ education_basic.4y           : int  0 0 0 0 0 0 0 0 0 0 ...\n",
      " $ education_basic.6y           : int  0 0 0 0 0 0 0 0 0 0 ...\n",
      " $ education_basic.9y           : int  1 0 1 0 0 0 0 1 0 0 ...\n",
      " $ education_high.school        : int  0 0 0 1 0 0 0 0 0 0 ...\n",
      " $ education_illiterate         : int  0 0 0 0 0 0 0 0 0 0 ...\n",
      " $ education_professional.course: int  0 0 0 0 0 1 1 0 0 0 ...\n",
      " $ education_university.degree  : int  0 1 0 0 1 0 0 0 1 1 ...\n",
      " $ month_apr                    : int  0 0 0 1 0 0 1 0 0 0 ...\n",
      " $ month_aug                    : int  0 0 0 0 0 0 0 0 0 1 ...\n",
      " $ month_dec                    : int  0 0 0 0 0 0 0 0 0 0 ...\n",
      " $ month_jul                    : int  1 0 0 0 0 0 0 0 0 0 ...\n",
      " $ month_jun                    : int  0 1 0 0 0 0 0 0 0 0 ...\n",
      " $ month_mar                    : int  0 0 0 0 0 0 0 0 0 0 ...\n",
      " $ month_may                    : int  0 0 1 0 1 1 0 1 1 0 ...\n",
      " $ month_nov                    : int  0 0 0 0 0 0 0 0 0 0 ...\n",
      " $ month_oct                    : int  0 0 0 0 0 0 0 0 0 0 ...\n",
      " $ month_sep                    : int  0 0 0 0 0 0 0 0 0 0 ...\n",
      " $ day_of_week_fri              : int  0 0 0 0 0 0 1 0 1 0 ...\n",
      " $ day_of_week_mon              : int  0 1 1 0 0 0 0 0 0 0 ...\n",
      " $ day_of_week_thu              : int  1 0 0 0 0 0 0 0 0 0 ...\n",
      " $ day_of_week_tue              : int  0 0 0 1 0 0 0 0 0 0 ...\n",
      " $ day_of_week_wed              : int  0 0 0 0 1 1 0 1 0 1 ...\n",
      " $ poutcome_failure             : int  0 0 0 0 0 0 1 0 1 0 ...\n",
      " $ poutcome_nonexistent         : int  1 1 1 1 1 1 0 1 0 1 ...\n",
      " $ poutcome_success             : int  0 0 0 0 0 0 0 0 0 0 ...\n"
     ]
    }
   ],
   "source": [
    "str(data)"
   ]
  },
  {
   "cell_type": "markdown",
   "id": "a5f1b73a",
   "metadata": {},
   "source": [
    "### Feature selection\n",
    "- Linear Regression Model"
   ]
  },
  {
   "cell_type": "code",
   "execution_count": 43,
   "id": "e1e979e2",
   "metadata": {
    "scrolled": true
   },
   "outputs": [
    {
     "data": {
      "text/plain": [
       "\n",
       "Call:\n",
       "lm(formula = subscribe ~ ., data = data)\n",
       "\n",
       "Residuals:\n",
       "     Min       1Q   Median       3Q      Max \n",
       "-0.94582 -0.08220 -0.05354 -0.02808  1.03873 \n",
       "\n",
       "Coefficients: (6 not defined because of singularities)\n",
       "                                Estimate Std. Error t value Pr(>|t|)    \n",
       "(Intercept)                   -1.666e+00  1.829e+00  -0.911  0.36226    \n",
       "client_id                     -7.909e-08  1.679e-07  -0.471  0.63761    \n",
       "age                            2.773e-04  2.449e-04   1.132  0.25748    \n",
       "default                       -3.320e-02  1.998e-01  -0.166  0.86803    \n",
       "housing                       -1.217e-03  4.036e-03  -0.302  0.76295    \n",
       "loan                           7.038e-04  5.589e-03   0.126  0.89979    \n",
       "contact                        3.872e-02  7.281e-03   5.318 1.06e-07 ***\n",
       "campaign                      -2.007e-03  7.325e-04  -2.740  0.00615 ** \n",
       "pdays                         -2.235e-04  3.446e-05  -6.485 9.10e-11 ***\n",
       "previous                      -2.722e-03  9.356e-03  -0.291  0.77113    \n",
       "emp.var.rate                  -3.973e-02  8.020e-03  -4.953 7.36e-07 ***\n",
       "cons.price.idx                 7.659e-02  1.317e-02   5.815 6.16e-09 ***\n",
       "cons.conf.idx                  6.407e-03  7.355e-04   8.712  < 2e-16 ***\n",
       "euribor3m                      1.893e-03  6.912e-03   0.274  0.78415    \n",
       "nr.employed                   -9.351e-04  1.469e-04  -6.366 1.98e-10 ***\n",
       "job_admin.                    -6.001e-03  1.379e-02  -0.435  0.66339    \n",
       "job_blue.collar               -1.847e-02  1.402e-02  -1.317  0.18793    \n",
       "job_entrepreneur              -2.917e-03  1.689e-02  -0.173  0.86291    \n",
       "job_housemaid                 -6.675e-03  1.821e-02  -0.367  0.71386    \n",
       "job_management                -2.088e-04  1.530e-02  -0.014  0.98911    \n",
       "job_retired                    2.155e-02  1.721e-02   1.252  0.21060    \n",
       "job_self.employed             -1.926e-02  1.699e-02  -1.134  0.25696    \n",
       "job_services                  -1.545e-02  1.480e-02  -1.043  0.29680    \n",
       "job_student                    3.788e-02  1.983e-02   1.910  0.05610 .  \n",
       "job_technician                -4.719e-03  1.428e-02  -0.331  0.74099    \n",
       "job_unemployed                        NA         NA      NA       NA    \n",
       "marital_divorced              -1.308e-02  7.532e-03  -1.736  0.08250 .  \n",
       "marital_married               -9.626e-03  5.146e-03  -1.871  0.06141 .  \n",
       "marital_single                        NA         NA      NA       NA    \n",
       "education_basic.4y            -1.145e-02  8.425e-03  -1.359  0.17408    \n",
       "education_basic.6y            -3.474e-03  1.005e-02  -0.346  0.72968    \n",
       "education_basic.9y            -5.219e-03  7.337e-03  -0.711  0.47691    \n",
       "education_high.school         -3.045e-03  5.920e-03  -0.514  0.60700    \n",
       "education_illiterate          -9.331e-04  9.427e-02  -0.010  0.99210    \n",
       "education_professional.course -7.289e-03  7.442e-03  -0.979  0.32736    \n",
       "education_university.degree           NA         NA      NA       NA    \n",
       "month_apr                      2.583e-02  2.141e-02   1.207  0.22763    \n",
       "month_aug                      3.077e-02  2.003e-02   1.536  0.12446    \n",
       "month_dec                      9.411e-02  3.414e-02   2.756  0.00585 ** \n",
       "month_jul                      6.140e-02  2.083e-02   2.948  0.00320 ** \n",
       "month_jun                      3.540e-02  2.287e-02   1.548  0.12175    \n",
       "month_mar                      2.422e-01  2.583e-02   9.378  < 2e-16 ***\n",
       "month_may                     -3.246e-02  1.937e-02  -1.676  0.09374 .  \n",
       "month_nov                      1.630e-02  2.069e-02   0.788  0.43089    \n",
       "month_oct                      2.774e-02  2.301e-02   1.206  0.22786    \n",
       "month_sep                             NA         NA      NA       NA    \n",
       "day_of_week_fri               -5.525e-03  6.496e-03  -0.850  0.39508    \n",
       "day_of_week_mon               -2.624e-02  6.313e-03  -4.157 3.24e-05 ***\n",
       "day_of_week_thu               -3.227e-03  6.224e-03  -0.518  0.60413    \n",
       "day_of_week_tue               -5.808e-03  6.421e-03  -0.905  0.36573    \n",
       "day_of_week_wed                       NA         NA      NA       NA    \n",
       "poutcome_failure              -1.563e-01  3.403e-02  -4.592 4.41e-06 ***\n",
       "poutcome_nonexistent          -9.865e-02  3.405e-02  -2.897  0.00377 ** \n",
       "poutcome_success                      NA         NA      NA       NA    \n",
       "---\n",
       "Signif. codes:  0 '***' 0.001 '**' 0.01 '*' 0.05 '.' 0.1 ' ' 1\n",
       "\n",
       "Residual standard error: 0.2822 on 19952 degrees of freedom\n",
       "Multiple R-squared:  0.2109,\tAdjusted R-squared:  0.2091 \n",
       "F-statistic: 113.5 on 47 and 19952 DF,  p-value: < 2.2e-16\n"
      ]
     },
     "metadata": {},
     "output_type": "display_data"
    }
   ],
   "source": [
    "# Running a linear Regression Model to know the contribution of variable to the target variable\n",
    "md_full <- lm(subscribe ~ ., data=data)\n",
    "summary(md_full)"
   ]
  },
  {
   "cell_type": "code",
   "execution_count": null,
   "id": "a13fef0f",
   "metadata": {},
   "outputs": [],
   "source": []
  },
  {
   "cell_type": "code",
   "execution_count": 44,
   "id": "9e177e34",
   "metadata": {
    "scrolled": true
   },
   "outputs": [
    {
     "data": {
      "text/plain": [
       "\n",
       "Call:\n",
       "lm(formula = subscribe ~ contact + pdays + emp.var.rate + cons.price.idx + \n",
       "    cons.conf.idx + month_dec + month_jul + month_mar + day_of_week_mon + \n",
       "    poutcome_failure + poutcome_nonexistent, data = data)\n",
       "\n",
       "Residuals:\n",
       "     Min       1Q   Median       3Q      Max \n",
       "-0.94283 -0.08325 -0.05617 -0.03361  1.16101 \n",
       "\n",
       "Coefficients:\n",
       "                       Estimate Std. Error t value Pr(>|t|)    \n",
       "(Intercept)          -1.365e+01  6.384e-01 -21.377  < 2e-16 ***\n",
       "contact               8.701e-02  5.963e-03  14.593  < 2e-16 ***\n",
       "pdays                -2.457e-04  3.297e-05  -7.453 9.47e-14 ***\n",
       "emp.var.rate         -9.223e-02  2.380e-03 -38.758  < 2e-16 ***\n",
       "cons.price.idx        1.542e-01  6.823e-03  22.604  < 2e-16 ***\n",
       "cons.conf.idx         9.711e-03  4.908e-04  19.788  < 2e-16 ***\n",
       "month_dec             9.682e-02  2.984e-02   3.244  0.00118 ** \n",
       "month_jul             4.063e-02  6.249e-03   6.502 8.10e-11 ***\n",
       "month_mar             2.752e-01  1.885e-02  14.596  < 2e-16 ***\n",
       "day_of_week_mon      -2.197e-02  4.952e-03  -4.437 9.17e-06 ***\n",
       "poutcome_failure     -1.533e-01  3.337e-02  -4.593 4.40e-06 ***\n",
       "poutcome_nonexistent -9.310e-02  3.395e-02  -2.743  0.00610 ** \n",
       "---\n",
       "Signif. codes:  0 '***' 0.001 '**' 0.01 '*' 0.05 '.' 0.1 ' ' 1\n",
       "\n",
       "Residual standard error: 0.2836 on 19988 degrees of freedom\n",
       "Multiple R-squared:  0.2016,\tAdjusted R-squared:  0.2011 \n",
       "F-statistic: 458.7 on 11 and 19988 DF,  p-value: < 2.2e-16\n"
      ]
     },
     "metadata": {},
     "output_type": "display_data"
    }
   ],
   "source": [
    "# Running again with only important features selected\n",
    "md_full <- lm(subscribe ~ contact  + pdays + emp.var.rate + cons.price.idx + cons.conf.idx + month_dec + month_jul + month_mar + day_of_week_mon + poutcome_failure + poutcome_nonexistent, data=data)\n",
    "summary(md_full)"
   ]
  },
  {
   "cell_type": "code",
   "execution_count": 45,
   "id": "16ba5324",
   "metadata": {
    "scrolled": true
   },
   "outputs": [
    {
     "data": {
      "image/png": "[encoded data removed]",
      "text/plain": [
       "plot without title"
      ]
     },
     "metadata": {
      "image/png": {
       "height": 900,
       "width": 900
      }
     },
     "output_type": "display_data"
    }
   ],
   "source": [
    "#Checking out the relation between features and target\n",
    "options(repr.plot.width=15, repr.plot.height=15)\n",
    "pairs(subscribe ~ contact + campaign + pdays + emp.var.rate + cons.price.idx + cons.conf.idx + month_dec + month_jul + month_mar + day_of_week_mon + poutcome_failure + poutcome_nonexistent, data=data)"
   ]
  },
  {
   "cell_type": "code",
   "execution_count": 46,
   "id": "5906d6bb",
   "metadata": {},
   "outputs": [],
   "source": [
    "#feature selected by linear regression \n",
    "f_by_lg <- c('contact', 'pdays', 'emp.var.rate', 'cons.price.idx', 'cons.conf.idx', 'month_dec', 'month_jul', 'month_mar', 'day_of_week_mon', 'poutcome_failure', 'poutcome_nonexistent')"
   ]
  },
  {
   "cell_type": "markdown",
   "id": "929fd21f",
   "metadata": {},
   "source": [
    "- Boruta method"
   ]
  },
  {
   "cell_type": "code",
   "execution_count": 47,
   "id": "3d9eb89c",
   "metadata": {
    "scrolled": true
   },
   "outputs": [
    {
     "name": "stdout",
     "output_type": "stream",
     "text": [
      "Computing permutation importance.. Progress: 94%. Estimated remaining time: 1 seconds.\n",
      "Computing permutation importance.. Progress: 68%. Estimated remaining time: 14 seconds.\n",
      "Computing permutation importance.. Progress: 91%. Estimated remaining time: 2 seconds.\n",
      "Computing permutation importance.. Progress: 94%. Estimated remaining time: 2 seconds.\n",
      "Computing permutation importance.. Progress: 85%. Estimated remaining time: 5 seconds.\n",
      "Computing permutation importance.. Progress: 93%. Estimated remaining time: 2 seconds.\n",
      "Computing permutation importance.. Progress: 82%. Estimated remaining time: 6 seconds.\n",
      "Computing permutation importance.. Progress: 88%. Estimated remaining time: 4 seconds.\n",
      "Computing permutation importance.. Progress: 83%. Estimated remaining time: 6 seconds.\n",
      "Computing permutation importance.. Progress: 84%. Estimated remaining time: 5 seconds.\n",
      "Computing permutation importance.. Progress: 80%. Estimated remaining time: 7 seconds.\n",
      "Computing permutation importance.. Progress: 69%. Estimated remaining time: 13 seconds.\n",
      "Computing permutation importance.. Progress: 98%. Estimated remaining time: 0 seconds.\n",
      "Computing permutation importance.. Progress: 85%. Estimated remaining time: 5 seconds.\n",
      "Computing permutation importance.. Progress: 84%. Estimated remaining time: 5 seconds.\n",
      "Computing permutation importance.. Progress: 85%. Estimated remaining time: 5 seconds.\n",
      "Computing permutation importance.. Progress: 80%. Estimated remaining time: 7 seconds.\n",
      "Computing permutation importance.. Progress: 83%. Estimated remaining time: 6 seconds.\n",
      "Computing permutation importance.. Progress: 84%. Estimated remaining time: 5 seconds.\n",
      "Computing permutation importance.. Progress: 82%. Estimated remaining time: 6 seconds.\n",
      "Computing permutation importance.. Progress: 84%. Estimated remaining time: 6 seconds.\n",
      "Computing permutation importance.. Progress: 98%. Estimated remaining time: 0 seconds.\n"
     ]
    }
   ],
   "source": [
    "#to know the contribution of variable to the target variable\n",
    "#install.packages('Boruta')\n",
    "library(Boruta)\n",
    "boruta_output <- Boruta(subscribe ~ ., data=data, doTrace=0) "
   ]
  },
  {
   "cell_type": "code",
   "execution_count": 48,
   "id": "f0bbd552",
   "metadata": {},
   "outputs": [
    {
     "data": {
      "text/html": [
       "<style>\n",
       ".list-inline {list-style: none; margin:0; padding: 0}\n",
       ".list-inline>li {display: inline-block}\n",
       ".list-inline>li:not(:last-child)::after {content: \"\\00b7\"; padding: 0 .5ex}\n",
       "</style>\n",
       "<ol class=list-inline><li>'finalDecision'</li><li>'ImpHistory'</li><li>'pValue'</li><li>'maxRuns'</li><li>'light'</li><li>'mcAdj'</li><li>'timeTaken'</li><li>'roughfixed'</li><li>'call'</li><li>'impSource'</li></ol>\n"
      ],
      "text/latex": [
       "\\begin{enumerate*}\n",
       "\\item 'finalDecision'\n",
       "\\item 'ImpHistory'\n",
       "\\item 'pValue'\n",
       "\\item 'maxRuns'\n",
       "\\item 'light'\n",
       "\\item 'mcAdj'\n",
       "\\item 'timeTaken'\n",
       "\\item 'roughfixed'\n",
       "\\item 'call'\n",
       "\\item 'impSource'\n",
       "\\end{enumerate*}\n"
      ],
      "text/markdown": [
       "1. 'finalDecision'\n",
       "2. 'ImpHistory'\n",
       "3. 'pValue'\n",
       "4. 'maxRuns'\n",
       "5. 'light'\n",
       "6. 'mcAdj'\n",
       "7. 'timeTaken'\n",
       "8. 'roughfixed'\n",
       "9. 'call'\n",
       "10. 'impSource'\n",
       "\n",
       "\n"
      ],
      "text/plain": [
       " [1] \"finalDecision\" \"ImpHistory\"    \"pValue\"        \"maxRuns\"      \n",
       " [5] \"light\"         \"mcAdj\"         \"timeTaken\"     \"roughfixed\"   \n",
       " [9] \"call\"          \"impSource\"    "
      ]
     },
     "metadata": {},
     "output_type": "display_data"
    }
   ],
   "source": [
    "names(boruta_output)"
   ]
  },
  {
   "cell_type": "code",
   "execution_count": 49,
   "id": "91666281",
   "metadata": {},
   "outputs": [
    {
     "name": "stdout",
     "output_type": "stream",
     "text": [
      " [1] \"age\"                         \"contact\"                    \n",
      " [3] \"campaign\"                    \"pdays\"                      \n",
      " [5] \"previous\"                    \"emp.var.rate\"               \n",
      " [7] \"cons.price.idx\"              \"cons.conf.idx\"              \n",
      " [9] \"euribor3m\"                   \"nr.employed\"                \n",
      "[11] \"job_blue.collar\"             \"job_retired\"                \n",
      "[13] \"job_student\"                 \"marital_married\"            \n",
      "[15] \"marital_single\"              \"education_basic.9y\"         \n",
      "[17] \"education_university.degree\" \"month_apr\"                  \n",
      "[19] \"month_aug\"                   \"month_dec\"                  \n",
      "[21] \"month_jul\"                   \"month_jun\"                  \n",
      "[23] \"month_mar\"                   \"month_may\"                  \n",
      "[25] \"month_nov\"                   \"month_oct\"                  \n",
      "[27] \"month_sep\"                   \"day_of_week_fri\"            \n",
      "[29] \"day_of_week_mon\"             \"day_of_week_thu\"            \n",
      "[31] \"day_of_week_tue\"             \"day_of_week_wed\"            \n",
      "[33] \"poutcome_failure\"            \"poutcome_nonexistent\"       \n",
      "[35] \"poutcome_success\"           \n"
     ]
    }
   ],
   "source": [
    "# Get significant variables including tentatives\n",
    "boruta_signif <- getSelectedAttributes(boruta_output, withTentative = TRUE)\n",
    "print(boruta_signif)"
   ]
  },
  {
   "cell_type": "code",
   "execution_count": 50,
   "id": "1f92d5ae",
   "metadata": {},
   "outputs": [
    {
     "name": "stdout",
     "output_type": "stream",
     "text": [
      " [1] \"age\"                         \"contact\"                    \n",
      " [3] \"campaign\"                    \"pdays\"                      \n",
      " [5] \"previous\"                    \"emp.var.rate\"               \n",
      " [7] \"cons.price.idx\"              \"cons.conf.idx\"              \n",
      " [9] \"euribor3m\"                   \"nr.employed\"                \n",
      "[11] \"job_blue.collar\"             \"job_retired\"                \n",
      "[13] \"marital_married\"             \"marital_single\"             \n",
      "[15] \"education_university.degree\" \"month_apr\"                  \n",
      "[17] \"month_aug\"                   \"month_jul\"                  \n",
      "[19] \"month_jun\"                   \"month_mar\"                  \n",
      "[21] \"month_may\"                   \"month_nov\"                  \n",
      "[23] \"month_oct\"                   \"month_sep\"                  \n",
      "[25] \"day_of_week_fri\"             \"day_of_week_mon\"            \n",
      "[27] \"day_of_week_thu\"             \"day_of_week_tue\"            \n",
      "[29] \"day_of_week_wed\"             \"poutcome_failure\"           \n",
      "[31] \"poutcome_nonexistent\"        \"poutcome_success\"           \n"
     ]
    }
   ],
   "source": [
    "# Do a tentative rough fix\n",
    "roughFixMod <- TentativeRoughFix(boruta_output)\n",
    "boruta_signif <- getSelectedAttributes(roughFixMod)\n",
    "print(boruta_signif)"
   ]
  },
  {
   "cell_type": "code",
   "execution_count": 51,
   "id": "9bfd94cf",
   "metadata": {},
   "outputs": [
    {
     "data": {
      "text/html": [
       "<table class=\"dataframe\">\n",
       "<caption>A data.frame: 6 × 2</caption>\n",
       "<thead>\n",
       "\t<tr><th></th><th scope=col>meanImp</th><th scope=col>decision</th></tr>\n",
       "\t<tr><th></th><th scope=col>&lt;dbl&gt;</th><th scope=col>&lt;fct&gt;</th></tr>\n",
       "</thead>\n",
       "<tbody>\n",
       "\t<tr><th scope=row>euribor3m</th><td>35.58161</td><td>Confirmed</td></tr>\n",
       "\t<tr><th scope=row>nr.employed</th><td>27.46978</td><td>Confirmed</td></tr>\n",
       "\t<tr><th scope=row>cons.price.idx</th><td>26.48141</td><td>Confirmed</td></tr>\n",
       "\t<tr><th scope=row>cons.conf.idx</th><td>25.02289</td><td>Confirmed</td></tr>\n",
       "\t<tr><th scope=row>month_oct</th><td>24.50419</td><td>Confirmed</td></tr>\n",
       "\t<tr><th scope=row>emp.var.rate</th><td>23.39050</td><td>Confirmed</td></tr>\n",
       "</tbody>\n",
       "</table>\n"
      ],
      "text/latex": [
       "A data.frame: 6 × 2\n",
       "\\begin{tabular}{r|ll}\n",
       "  & meanImp & decision\\\\\n",
       "  & <dbl> & <fct>\\\\\n",
       "\\hline\n",
       "\teuribor3m & 35.58161 & Confirmed\\\\\n",
       "\tnr.employed & 27.46978 & Confirmed\\\\\n",
       "\tcons.price.idx & 26.48141 & Confirmed\\\\\n",
       "\tcons.conf.idx & 25.02289 & Confirmed\\\\\n",
       "\tmonth\\_oct & 24.50419 & Confirmed\\\\\n",
       "\temp.var.rate & 23.39050 & Confirmed\\\\\n",
       "\\end{tabular}\n"
      ],
      "text/markdown": [
       "\n",
       "A data.frame: 6 × 2\n",
       "\n",
       "| <!--/--> | meanImp &lt;dbl&gt; | decision &lt;fct&gt; |\n",
       "|---|---|---|\n",
       "| euribor3m | 35.58161 | Confirmed |\n",
       "| nr.employed | 27.46978 | Confirmed |\n",
       "| cons.price.idx | 26.48141 | Confirmed |\n",
       "| cons.conf.idx | 25.02289 | Confirmed |\n",
       "| month_oct | 24.50419 | Confirmed |\n",
       "| emp.var.rate | 23.39050 | Confirmed |\n",
       "\n"
      ],
      "text/plain": [
       "               meanImp  decision \n",
       "euribor3m      35.58161 Confirmed\n",
       "nr.employed    27.46978 Confirmed\n",
       "cons.price.idx 26.48141 Confirmed\n",
       "cons.conf.idx  25.02289 Confirmed\n",
       "month_oct      24.50419 Confirmed\n",
       "emp.var.rate   23.39050 Confirmed"
      ]
     },
     "metadata": {},
     "output_type": "display_data"
    }
   ],
   "source": [
    "# Variable Importance Scores\n",
    "imps <- attStats(roughFixMod)\n",
    "imps2 = imps[imps$decision != 'Rejected', c('meanImp', 'decision')]\n",
    "head(imps2[order(-imps2$meanImp), ])  # descending sort"
   ]
  },
  {
   "cell_type": "code",
   "execution_count": 52,
   "id": "bac53827",
   "metadata": {
    "scrolled": true
   },
   "outputs": [
    {
     "data": {
      "image/png": "[encoded data removed]",
      "text/plain": [
       "Plot with title \"Variable Importance\""
      ]
     },
     "metadata": {
      "image/png": {
       "height": 900,
       "width": 900
      }
     },
     "output_type": "display_data"
    }
   ],
   "source": [
    "# Plot variable importance\n",
    "plot(boruta_output, cex.axis=.7, las=2, xlab=\"\", main=\"Variable Importance\") "
   ]
  },
  {
   "cell_type": "code",
   "execution_count": 53,
   "id": "c57dadfb",
   "metadata": {},
   "outputs": [],
   "source": [
    "#features selected by Boruto method\n",
    "f_by_boruto <- rownames(imps2[order(-imps2$meanImp), ])"
   ]
  },
  {
   "cell_type": "markdown",
   "id": "e0b39dc3",
   "metadata": {},
   "source": [
    "- Rpart model"
   ]
  },
  {
   "cell_type": "code",
   "execution_count": 54,
   "id": "43ecae84",
   "metadata": {
    "scrolled": true
   },
   "outputs": [
    {
     "name": "stderr",
     "output_type": "stream",
     "text": [
      "Warning message in train.default(x, y, weights = w, ...):\n",
      "\"You are trying to do regression and your outcome only has two possible values Are you trying to do classification? If so, use a 2 level factor as your outcome column.\"\n",
      "Warning message in nominalTrainWorkflow(x = x, y = y, wts = weights, info = trainInfo, :\n",
      "\"There were missing values in resampled performance measures.\"\n"
     ]
    },
    {
     "name": "stdout",
     "output_type": "stream",
     "text": [
      "rpart variable importance\n",
      "\n",
      "  only 20 most important variables shown (out of 53)\n",
      "\n",
      "                      Overall\n",
      "pdays                 100.000\n",
      "poutcome_success       95.983\n",
      "nr.employed            80.897\n",
      "euribor3m              65.254\n",
      "emp.var.rate           40.471\n",
      "poutcome_nonexistent   10.034\n",
      "previous                9.657\n",
      "job_retired             0.000\n",
      "day_of_week_fri         0.000\n",
      "education_high.school   0.000\n",
      "default                 0.000\n",
      "job_blue.collar         0.000\n",
      "day_of_week_mon         0.000\n",
      "education_basic.6y      0.000\n",
      "cons.price.idx          0.000\n",
      "month_oct               0.000\n",
      "day_of_week_wed         0.000\n",
      "day_of_week_tue         0.000\n",
      "contact                 0.000\n",
      "education_illiterate    0.000\n"
     ]
    }
   ],
   "source": [
    "# Train an rpart method model and compute variable importance.\n",
    "library(caret)\n",
    "set.seed(123)\n",
    "rPartMod <- train(subscribe ~ ., data=data, method=\"rpart\")\n",
    "rpartImp <- varImp(rPartMod)\n",
    "print(rpartImp)"
   ]
  },
  {
   "cell_type": "code",
   "execution_count": 55,
   "id": "bd146e7c",
   "metadata": {},
   "outputs": [],
   "source": [
    "#features selected by the rpart model\n",
    "f_by_rpart <- c('pdays','poutcome_success','nr.employed','euribor3m','emp.var.rate','poutcome_nonexistent','previous')"
   ]
  },
  {
   "cell_type": "markdown",
   "id": "45eef2ed",
   "metadata": {},
   "source": [
    "- XG Boost"
   ]
  },
  {
   "cell_type": "code",
   "execution_count": 57,
   "id": "eeabbf8c",
   "metadata": {},
   "outputs": [],
   "source": [
    "# createDataPartition() function from the caret package to split the original dataset into a training and testing set and split data into training (80%) and testing set (20%)\n",
    "parts = createDataPartition(data$subscribe, p = .8, list = F)\n",
    "train = data[parts, ]\n",
    "test = data[-parts, ]\n",
    "\n",
    "#define predictor and response variables in training set\n",
    "train_x = data.matrix(train[, -1])\n",
    "train_y = train[,1]\n",
    "\n",
    "#define predictor and response variables in testing set\n",
    "test_x = data.matrix(test[, -1])\n",
    "test_y = test[, 1]\n",
    "\n",
    "#define final training and testing sets\n",
    "xgb_train = xgb.DMatrix(data = train_x, label = train_y)\n",
    "xgb_test = xgb.DMatrix(data = test_x, label = test_y)"
   ]
  },
  {
   "cell_type": "code",
   "execution_count": 58,
   "id": "721b72c7",
   "metadata": {
    "scrolled": true
   },
   "outputs": [
    {
     "name": "stdout",
     "output_type": "stream",
     "text": [
      "[1]\ttrain-rmse:18757.736328\ttest-rmse:18595.638672 \n",
      "[2]\ttrain-rmse:15627.829102\ttest-rmse:15510.141602 \n",
      "[3]\ttrain-rmse:13833.873047\ttest-rmse:13760.433594 \n",
      "[4]\ttrain-rmse:12862.960938\ttest-rmse:12832.257812 \n",
      "[5]\ttrain-rmse:12355.136719\ttest-rmse:12360.914062 \n",
      "[6]\ttrain-rmse:12095.232422\ttest-rmse:12130.606445 \n",
      "[7]\ttrain-rmse:11963.181641\ttest-rmse:12020.831055 \n",
      "[8]\ttrain-rmse:11896.802734\ttest-rmse:11972.571289 \n",
      "[9]\ttrain-rmse:11862.331055\ttest-rmse:11950.452148 \n",
      "[10]\ttrain-rmse:11844.495117\ttest-rmse:11942.876953 \n",
      "[11]\ttrain-rmse:11832.647461\ttest-rmse:11940.883789 \n",
      "[12]\ttrain-rmse:11822.879883\ttest-rmse:11942.484375 \n",
      "[13]\ttrain-rmse:11816.888672\ttest-rmse:11946.744141 \n",
      "[14]\ttrain-rmse:11809.332031\ttest-rmse:11945.276367 \n",
      "[15]\ttrain-rmse:11807.820312\ttest-rmse:11946.684570 \n",
      "[16]\ttrain-rmse:11803.928711\ttest-rmse:11944.680664 \n",
      "[17]\ttrain-rmse:11799.630859\ttest-rmse:11949.247070 \n",
      "[18]\ttrain-rmse:11793.750000\ttest-rmse:11948.900391 \n",
      "[19]\ttrain-rmse:11790.622070\ttest-rmse:11949.285156 \n",
      "[20]\ttrain-rmse:11788.372070\ttest-rmse:11950.964844 \n",
      "[21]\ttrain-rmse:11786.029297\ttest-rmse:11953.445312 \n",
      "[22]\ttrain-rmse:11781.831055\ttest-rmse:11955.359375 \n",
      "[23]\ttrain-rmse:11779.983398\ttest-rmse:11954.559570 \n",
      "[24]\ttrain-rmse:11775.394531\ttest-rmse:11954.844727 \n",
      "[25]\ttrain-rmse:11772.467773\ttest-rmse:11957.634766 \n",
      "[26]\ttrain-rmse:11771.888672\ttest-rmse:11956.718750 \n",
      "[27]\ttrain-rmse:11768.613281\ttest-rmse:11958.573242 \n",
      "[28]\ttrain-rmse:11764.494141\ttest-rmse:11955.704102 \n",
      "[29]\ttrain-rmse:11759.108398\ttest-rmse:11956.953125 \n",
      "[30]\ttrain-rmse:11755.510742\ttest-rmse:11959.214844 \n",
      "[31]\ttrain-rmse:11751.269531\ttest-rmse:11959.892578 \n",
      "[32]\ttrain-rmse:11747.964844\ttest-rmse:11958.586914 \n",
      "[33]\ttrain-rmse:11743.522461\ttest-rmse:11965.455078 \n",
      "[34]\ttrain-rmse:11738.915039\ttest-rmse:11968.723633 \n",
      "[35]\ttrain-rmse:11737.559570\ttest-rmse:11970.199219 \n",
      "[36]\ttrain-rmse:11732.808594\ttest-rmse:11971.852539 \n",
      "[37]\ttrain-rmse:11726.964844\ttest-rmse:11969.621094 \n",
      "[38]\ttrain-rmse:11725.649414\ttest-rmse:11971.358398 \n",
      "[39]\ttrain-rmse:11719.193359\ttest-rmse:11978.655273 \n",
      "[40]\ttrain-rmse:11715.930664\ttest-rmse:11978.671875 \n",
      "[41]\ttrain-rmse:11711.948242\ttest-rmse:11976.707031 \n",
      "[42]\ttrain-rmse:11707.137695\ttest-rmse:11979.186523 \n",
      "[43]\ttrain-rmse:11702.679688\ttest-rmse:11978.330078 \n",
      "[44]\ttrain-rmse:11698.568359\ttest-rmse:11981.130859 \n",
      "[45]\ttrain-rmse:11694.884766\ttest-rmse:11982.584961 \n",
      "[46]\ttrain-rmse:11691.431641\ttest-rmse:11982.701172 \n",
      "[47]\ttrain-rmse:11688.541016\ttest-rmse:11981.348633 \n",
      "[48]\ttrain-rmse:11685.308594\ttest-rmse:11980.609375 \n",
      "[49]\ttrain-rmse:11684.942383\ttest-rmse:11980.486328 \n",
      "[50]\ttrain-rmse:11680.945312\ttest-rmse:11980.420898 \n",
      "[51]\ttrain-rmse:11680.587891\ttest-rmse:11979.527344 \n",
      "[52]\ttrain-rmse:11678.455078\ttest-rmse:11978.885742 \n",
      "[53]\ttrain-rmse:11675.399414\ttest-rmse:11979.797852 \n",
      "[54]\ttrain-rmse:11672.451172\ttest-rmse:11980.911133 \n",
      "[55]\ttrain-rmse:11667.632812\ttest-rmse:11982.689453 \n",
      "[56]\ttrain-rmse:11663.704102\ttest-rmse:11984.407227 \n",
      "[57]\ttrain-rmse:11660.241211\ttest-rmse:11984.551758 \n",
      "[58]\ttrain-rmse:11657.257812\ttest-rmse:11985.594727 \n",
      "[59]\ttrain-rmse:11655.386719\ttest-rmse:11988.077148 \n",
      "[60]\ttrain-rmse:11654.711914\ttest-rmse:11987.125000 \n",
      "[61]\ttrain-rmse:11652.078125\ttest-rmse:11989.222656 \n",
      "[62]\ttrain-rmse:11650.041016\ttest-rmse:11990.118164 \n",
      "[63]\ttrain-rmse:11646.621094\ttest-rmse:11989.933594 \n",
      "[64]\ttrain-rmse:11643.544922\ttest-rmse:11990.319336 \n",
      "[65]\ttrain-rmse:11639.965820\ttest-rmse:11988.755859 \n",
      "[66]\ttrain-rmse:11636.533203\ttest-rmse:11989.044922 \n",
      "[67]\ttrain-rmse:11634.179688\ttest-rmse:11991.929688 \n",
      "[68]\ttrain-rmse:11632.470703\ttest-rmse:11993.986328 \n",
      "[69]\ttrain-rmse:11629.033203\ttest-rmse:11997.052734 \n",
      "[70]\ttrain-rmse:11626.676758\ttest-rmse:12000.047852 \n",
      "[71]\ttrain-rmse:11623.425781\ttest-rmse:12000.413086 \n",
      "[72]\ttrain-rmse:11620.191406\ttest-rmse:12000.331055 \n",
      "[73]\ttrain-rmse:11618.913086\ttest-rmse:12002.196289 \n",
      "[74]\ttrain-rmse:11618.361328\ttest-rmse:12000.802734 \n",
      "[75]\ttrain-rmse:11615.024414\ttest-rmse:12001.813477 \n",
      "[76]\ttrain-rmse:11612.193359\ttest-rmse:12005.068359 \n",
      "[77]\ttrain-rmse:11607.964844\ttest-rmse:12007.141602 \n",
      "[78]\ttrain-rmse:11605.281250\ttest-rmse:12008.595703 \n",
      "[79]\ttrain-rmse:11602.044922\ttest-rmse:12009.470703 \n",
      "[80]\ttrain-rmse:11601.620117\ttest-rmse:12009.362305 \n",
      "[81]\ttrain-rmse:11599.309570\ttest-rmse:12010.491211 \n",
      "[82]\ttrain-rmse:11596.419922\ttest-rmse:12009.296875 \n",
      "[83]\ttrain-rmse:11592.828125\ttest-rmse:12011.270508 \n",
      "[84]\ttrain-rmse:11589.230469\ttest-rmse:12013.536133 \n",
      "[85]\ttrain-rmse:11587.327148\ttest-rmse:12015.192383 \n",
      "[86]\ttrain-rmse:11583.874023\ttest-rmse:12014.517578 \n",
      "[87]\ttrain-rmse:11582.924805\ttest-rmse:12016.717773 \n",
      "[88]\ttrain-rmse:11580.977539\ttest-rmse:12017.126953 \n",
      "[89]\ttrain-rmse:11578.716797\ttest-rmse:12016.777344 \n",
      "[90]\ttrain-rmse:11576.716797\ttest-rmse:12017.780273 \n",
      "[91]\ttrain-rmse:11572.984375\ttest-rmse:12020.185547 \n",
      "[92]\ttrain-rmse:11570.165039\ttest-rmse:12023.706055 \n",
      "[93]\ttrain-rmse:11569.627930\ttest-rmse:12024.036133 \n",
      "[94]\ttrain-rmse:11568.427734\ttest-rmse:12026.365234 \n",
      "[95]\ttrain-rmse:11567.668945\ttest-rmse:12026.620117 \n",
      "[96]\ttrain-rmse:11567.495117\ttest-rmse:12026.609375 \n",
      "[97]\ttrain-rmse:11563.975586\ttest-rmse:12028.456055 \n",
      "[98]\ttrain-rmse:11562.215820\ttest-rmse:12029.705078 \n",
      "[99]\ttrain-rmse:11560.328125\ttest-rmse:12028.949219 \n",
      "[100]\ttrain-rmse:11557.778320\ttest-rmse:12031.426758 \n"
     ]
    }
   ],
   "source": [
    "#defining a watchlist\n",
    "watchlist = list(train=xgb_train, test=xgb_test)\n",
    "\n",
    "#fit XGBoost model and display training and testing data at each iteartion\n",
    "model = xgb.train(data = xgb_train, max.depth = 3, watchlist=watchlist, nrounds = 100)"
   ]
  },
  {
   "cell_type": "code",
   "execution_count": 59,
   "id": "f5f19a6f",
   "metadata": {},
   "outputs": [
    {
     "data": {
      "text/plain": [
       "               Length Class              Mode       \n",
       "handle             1  xgb.Booster.handle externalptr\n",
       "raw            16418  -none-             raw        \n",
       "niter              1  -none-             numeric    \n",
       "evaluation_log     2  data.table         list       \n",
       "call              14  -none-             call       \n",
       "params             2  -none-             list       \n",
       "callbacks          1  -none-             list       \n",
       "feature_names     53  -none-             character  \n",
       "nfeatures          1  -none-             numeric    "
      ]
     },
     "metadata": {},
     "output_type": "display_data"
    }
   ],
   "source": [
    "#define final model\n",
    "model_xgboost = xgboost(data = xgb_train, max.depth = 3, nrounds = 12, verbose = 0)\n",
    "summary(model_xgboost)"
   ]
  },
  {
   "cell_type": "code",
   "execution_count": 60,
   "id": "73d598c9",
   "metadata": {
    "scrolled": true
   },
   "outputs": [
    {
     "data": {
      "text/html": [
       "<table class=\"dataframe\">\n",
       "<caption>A data.table: 30 × 4</caption>\n",
       "<thead>\n",
       "\t<tr><th scope=col>Feature</th><th scope=col>Gain</th><th scope=col>Cover</th><th scope=col>Frequency</th></tr>\n",
       "\t<tr><th scope=col>&lt;chr&gt;</th><th scope=col>&lt;dbl&gt;</th><th scope=col>&lt;dbl&gt;</th><th scope=col>&lt;dbl&gt;</th></tr>\n",
       "</thead>\n",
       "<tbody>\n",
       "\t<tr><td>euribor3m                  </td><td>0.223021938</td><td>2.800692e-01</td><td>0.19277108</td></tr>\n",
       "\t<tr><td>age                        </td><td>0.149362636</td><td>2.305220e-01</td><td>0.19277108</td></tr>\n",
       "\t<tr><td>nr.employed                </td><td>0.075293019</td><td>2.510777e-02</td><td>0.04819277</td></tr>\n",
       "\t<tr><td>month_jul                  </td><td>0.074381245</td><td>1.918413e-03</td><td>0.02409639</td></tr>\n",
       "\t<tr><td>campaign                   </td><td>0.045443581</td><td>6.149858e-02</td><td>0.04819277</td></tr>\n",
       "\t<tr><td>cons.price.idx             </td><td>0.040317389</td><td>2.872064e-02</td><td>0.04819277</td></tr>\n",
       "\t<tr><td>job_technician             </td><td>0.033517164</td><td>8.316189e-02</td><td>0.03614458</td></tr>\n",
       "\t<tr><td>previous                   </td><td>0.032741484</td><td>5.103672e-02</td><td>0.04819277</td></tr>\n",
       "\t<tr><td>loan                       </td><td>0.031668613</td><td>7.083370e-04</td><td>0.02409639</td></tr>\n",
       "\t<tr><td>day_of_week_mon            </td><td>0.028762885</td><td>4.548635e-04</td><td>0.02409639</td></tr>\n",
       "\t<tr><td>pdays                      </td><td>0.025612051</td><td>2.701403e-02</td><td>0.02409639</td></tr>\n",
       "\t<tr><td>cons.conf.idx              </td><td>0.025308855</td><td>8.285113e-02</td><td>0.03614458</td></tr>\n",
       "\t<tr><td>month_may                  </td><td>0.022514316</td><td>5.173638e-03</td><td>0.01204819</td></tr>\n",
       "\t<tr><td>contact                    </td><td>0.020341515</td><td>2.788556e-02</td><td>0.03614458</td></tr>\n",
       "\t<tr><td>education_basic.9y         </td><td>0.018573481</td><td>6.076421e-04</td><td>0.01204819</td></tr>\n",
       "\t<tr><td>job_self.employed          </td><td>0.018259873</td><td>5.550203e-02</td><td>0.02409639</td></tr>\n",
       "\t<tr><td>housing                    </td><td>0.018196232</td><td>5.118082e-03</td><td>0.01204819</td></tr>\n",
       "\t<tr><td>job_admin.                 </td><td>0.016718064</td><td>1.642891e-02</td><td>0.01204819</td></tr>\n",
       "\t<tr><td>education_university.degree</td><td>0.014815100</td><td>2.326401e-04</td><td>0.01204819</td></tr>\n",
       "\t<tr><td>marital_single             </td><td>0.013607446</td><td>1.718759e-04</td><td>0.01204819</td></tr>\n",
       "\t<tr><td>month_apr                  </td><td>0.012833630</td><td>9.974010e-03</td><td>0.01204819</td></tr>\n",
       "\t<tr><td>day_of_week_thu            </td><td>0.011926188</td><td>2.447929e-04</td><td>0.01204819</td></tr>\n",
       "\t<tr><td>job_student                </td><td>0.011210233</td><td>1.104172e-03</td><td>0.01204819</td></tr>\n",
       "\t<tr><td>education_basic.6y         </td><td>0.010540985</td><td>4.300370e-03</td><td>0.01204819</td></tr>\n",
       "\t<tr><td>poutcome_nonexistent       </td><td>0.007691003</td><td>5.381972e-05</td><td>0.01204819</td></tr>\n",
       "\t<tr><td>job_blue.collar            </td><td>0.005720911</td><td>4.687524e-05</td><td>0.01204819</td></tr>\n",
       "\t<tr><td>marital_divorced           </td><td>0.004693021</td><td>1.041672e-05</td><td>0.01204819</td></tr>\n",
       "\t<tr><td>poutcome_failure           </td><td>0.003372158</td><td>4.687524e-05</td><td>0.01204819</td></tr>\n",
       "\t<tr><td>day_of_week_tue            </td><td>0.002008916</td><td>1.909732e-05</td><td>0.01204819</td></tr>\n",
       "\t<tr><td>subscribe                  </td><td>0.001546066</td><td>1.562508e-05</td><td>0.01204819</td></tr>\n",
       "</tbody>\n",
       "</table>\n"
      ],
      "text/latex": [
       "A data.table: 30 × 4\n",
       "\\begin{tabular}{llll}\n",
       " Feature & Gain & Cover & Frequency\\\\\n",
       " <chr> & <dbl> & <dbl> & <dbl>\\\\\n",
       "\\hline\n",
       "\t euribor3m                   & 0.223021938 & 2.800692e-01 & 0.19277108\\\\\n",
       "\t age                         & 0.149362636 & 2.305220e-01 & 0.19277108\\\\\n",
       "\t nr.employed                 & 0.075293019 & 2.510777e-02 & 0.04819277\\\\\n",
       "\t month\\_jul                   & 0.074381245 & 1.918413e-03 & 0.02409639\\\\\n",
       "\t campaign                    & 0.045443581 & 6.149858e-02 & 0.04819277\\\\\n",
       "\t cons.price.idx              & 0.040317389 & 2.872064e-02 & 0.04819277\\\\\n",
       "\t job\\_technician              & 0.033517164 & 8.316189e-02 & 0.03614458\\\\\n",
       "\t previous                    & 0.032741484 & 5.103672e-02 & 0.04819277\\\\\n",
       "\t loan                        & 0.031668613 & 7.083370e-04 & 0.02409639\\\\\n",
       "\t day\\_of\\_week\\_mon             & 0.028762885 & 4.548635e-04 & 0.02409639\\\\\n",
       "\t pdays                       & 0.025612051 & 2.701403e-02 & 0.02409639\\\\\n",
       "\t cons.conf.idx               & 0.025308855 & 8.285113e-02 & 0.03614458\\\\\n",
       "\t month\\_may                   & 0.022514316 & 5.173638e-03 & 0.01204819\\\\\n",
       "\t contact                     & 0.020341515 & 2.788556e-02 & 0.03614458\\\\\n",
       "\t education\\_basic.9y          & 0.018573481 & 6.076421e-04 & 0.01204819\\\\\n",
       "\t job\\_self.employed           & 0.018259873 & 5.550203e-02 & 0.02409639\\\\\n",
       "\t housing                     & 0.018196232 & 5.118082e-03 & 0.01204819\\\\\n",
       "\t job\\_admin.                  & 0.016718064 & 1.642891e-02 & 0.01204819\\\\\n",
       "\t education\\_university.degree & 0.014815100 & 2.326401e-04 & 0.01204819\\\\\n",
       "\t marital\\_single              & 0.013607446 & 1.718759e-04 & 0.01204819\\\\\n",
       "\t month\\_apr                   & 0.012833630 & 9.974010e-03 & 0.01204819\\\\\n",
       "\t day\\_of\\_week\\_thu             & 0.011926188 & 2.447929e-04 & 0.01204819\\\\\n",
       "\t job\\_student                 & 0.011210233 & 1.104172e-03 & 0.01204819\\\\\n",
       "\t education\\_basic.6y          & 0.010540985 & 4.300370e-03 & 0.01204819\\\\\n",
       "\t poutcome\\_nonexistent        & 0.007691003 & 5.381972e-05 & 0.01204819\\\\\n",
       "\t job\\_blue.collar             & 0.005720911 & 4.687524e-05 & 0.01204819\\\\\n",
       "\t marital\\_divorced            & 0.004693021 & 1.041672e-05 & 0.01204819\\\\\n",
       "\t poutcome\\_failure            & 0.003372158 & 4.687524e-05 & 0.01204819\\\\\n",
       "\t day\\_of\\_week\\_tue             & 0.002008916 & 1.909732e-05 & 0.01204819\\\\\n",
       "\t subscribe                   & 0.001546066 & 1.562508e-05 & 0.01204819\\\\\n",
       "\\end{tabular}\n"
      ],
      "text/markdown": [
       "\n",
       "A data.table: 30 × 4\n",
       "\n",
       "| Feature &lt;chr&gt; | Gain &lt;dbl&gt; | Cover &lt;dbl&gt; | Frequency &lt;dbl&gt; |\n",
       "|---|---|---|---|\n",
       "| euribor3m                   | 0.223021938 | 2.800692e-01 | 0.19277108 |\n",
       "| age                         | 0.149362636 | 2.305220e-01 | 0.19277108 |\n",
       "| nr.employed                 | 0.075293019 | 2.510777e-02 | 0.04819277 |\n",
       "| month_jul                   | 0.074381245 | 1.918413e-03 | 0.02409639 |\n",
       "| campaign                    | 0.045443581 | 6.149858e-02 | 0.04819277 |\n",
       "| cons.price.idx              | 0.040317389 | 2.872064e-02 | 0.04819277 |\n",
       "| job_technician              | 0.033517164 | 8.316189e-02 | 0.03614458 |\n",
       "| previous                    | 0.032741484 | 5.103672e-02 | 0.04819277 |\n",
       "| loan                        | 0.031668613 | 7.083370e-04 | 0.02409639 |\n",
       "| day_of_week_mon             | 0.028762885 | 4.548635e-04 | 0.02409639 |\n",
       "| pdays                       | 0.025612051 | 2.701403e-02 | 0.02409639 |\n",
       "| cons.conf.idx               | 0.025308855 | 8.285113e-02 | 0.03614458 |\n",
       "| month_may                   | 0.022514316 | 5.173638e-03 | 0.01204819 |\n",
       "| contact                     | 0.020341515 | 2.788556e-02 | 0.03614458 |\n",
       "| education_basic.9y          | 0.018573481 | 6.076421e-04 | 0.01204819 |\n",
       "| job_self.employed           | 0.018259873 | 5.550203e-02 | 0.02409639 |\n",
       "| housing                     | 0.018196232 | 5.118082e-03 | 0.01204819 |\n",
       "| job_admin.                  | 0.016718064 | 1.642891e-02 | 0.01204819 |\n",
       "| education_university.degree | 0.014815100 | 2.326401e-04 | 0.01204819 |\n",
       "| marital_single              | 0.013607446 | 1.718759e-04 | 0.01204819 |\n",
       "| month_apr                   | 0.012833630 | 9.974010e-03 | 0.01204819 |\n",
       "| day_of_week_thu             | 0.011926188 | 2.447929e-04 | 0.01204819 |\n",
       "| job_student                 | 0.011210233 | 1.104172e-03 | 0.01204819 |\n",
       "| education_basic.6y          | 0.010540985 | 4.300370e-03 | 0.01204819 |\n",
       "| poutcome_nonexistent        | 0.007691003 | 5.381972e-05 | 0.01204819 |\n",
       "| job_blue.collar             | 0.005720911 | 4.687524e-05 | 0.01204819 |\n",
       "| marital_divorced            | 0.004693021 | 1.041672e-05 | 0.01204819 |\n",
       "| poutcome_failure            | 0.003372158 | 4.687524e-05 | 0.01204819 |\n",
       "| day_of_week_tue             | 0.002008916 | 1.909732e-05 | 0.01204819 |\n",
       "| subscribe                   | 0.001546066 | 1.562508e-05 | 0.01204819 |\n",
       "\n"
      ],
      "text/plain": [
       "   Feature                     Gain        Cover        Frequency \n",
       "1  euribor3m                   0.223021938 2.800692e-01 0.19277108\n",
       "2  age                         0.149362636 2.305220e-01 0.19277108\n",
       "3  nr.employed                 0.075293019 2.510777e-02 0.04819277\n",
       "4  month_jul                   0.074381245 1.918413e-03 0.02409639\n",
       "5  campaign                    0.045443581 6.149858e-02 0.04819277\n",
       "6  cons.price.idx              0.040317389 2.872064e-02 0.04819277\n",
       "7  job_technician              0.033517164 8.316189e-02 0.03614458\n",
       "8  previous                    0.032741484 5.103672e-02 0.04819277\n",
       "9  loan                        0.031668613 7.083370e-04 0.02409639\n",
       "10 day_of_week_mon             0.028762885 4.548635e-04 0.02409639\n",
       "11 pdays                       0.025612051 2.701403e-02 0.02409639\n",
       "12 cons.conf.idx               0.025308855 8.285113e-02 0.03614458\n",
       "13 month_may                   0.022514316 5.173638e-03 0.01204819\n",
       "14 contact                     0.020341515 2.788556e-02 0.03614458\n",
       "15 education_basic.9y          0.018573481 6.076421e-04 0.01204819\n",
       "16 job_self.employed           0.018259873 5.550203e-02 0.02409639\n",
       "17 housing                     0.018196232 5.118082e-03 0.01204819\n",
       "18 job_admin.                  0.016718064 1.642891e-02 0.01204819\n",
       "19 education_university.degree 0.014815100 2.326401e-04 0.01204819\n",
       "20 marital_single              0.013607446 1.718759e-04 0.01204819\n",
       "21 month_apr                   0.012833630 9.974010e-03 0.01204819\n",
       "22 day_of_week_thu             0.011926188 2.447929e-04 0.01204819\n",
       "23 job_student                 0.011210233 1.104172e-03 0.01204819\n",
       "24 education_basic.6y          0.010540985 4.300370e-03 0.01204819\n",
       "25 poutcome_nonexistent        0.007691003 5.381972e-05 0.01204819\n",
       "26 job_blue.collar             0.005720911 4.687524e-05 0.01204819\n",
       "27 marital_divorced            0.004693021 1.041672e-05 0.01204819\n",
       "28 poutcome_failure            0.003372158 4.687524e-05 0.01204819\n",
       "29 day_of_week_tue             0.002008916 1.909732e-05 0.01204819\n",
       "30 subscribe                   0.001546066 1.562508e-05 0.01204819"
      ]
     },
     "metadata": {},
     "output_type": "display_data"
    }
   ],
   "source": [
    "# Compute feature importance matrix\n",
    "importance_matrix = xgb.importance(colnames(xgb_train), model = model_xgboost)\n",
    "importance_matrix"
   ]
  },
  {
   "cell_type": "code",
   "execution_count": 61,
   "id": "a3fc18f3",
   "metadata": {
    "scrolled": true
   },
   "outputs": [
    {
     "data": {
      "image/png": "[encoded data removed]",
      "text/plain": [
       "plot without title"
      ]
     },
     "metadata": {
      "image/png": {
       "height": 900,
       "width": 900
      }
     },
     "output_type": "display_data"
    }
   ],
   "source": [
    "# Nice graph\n",
    "xgb.plot.importance(importance_matrix[1:5,])"
   ]
  },
  {
   "cell_type": "code",
   "execution_count": 62,
   "id": "36c3a41d",
   "metadata": {},
   "outputs": [],
   "source": [
    "f_by_xgboost <- importance_matrix[1:15,'Feature']"
   ]
  },
  {
   "cell_type": "code",
   "execution_count": 63,
   "id": "ef3efb83",
   "metadata": {},
   "outputs": [],
   "source": [
    "#features selected by xg boost method\n",
    "f_by_xgboost <- as.matrix(f_by_xgboost)[,1]"
   ]
  },
  {
   "cell_type": "code",
   "execution_count": 64,
   "id": "aefb963f",
   "metadata": {
    "scrolled": true
   },
   "outputs": [
    {
     "name": "stdout",
     "output_type": "stream",
     "text": [
      " chr [1:15] \"euribor3m\" \"age\" \"nr.employed\" \"month_jul\" \"campaign\" ...\n"
     ]
    }
   ],
   "source": [
    "str(f_by_xgboost)"
   ]
  },
  {
   "cell_type": "code",
   "execution_count": null,
   "id": "65f8f62d",
   "metadata": {},
   "outputs": [],
   "source": []
  },
  {
   "cell_type": "markdown",
   "id": "bb4c060e",
   "metadata": {},
   "source": [
    "- Step-wise Forward and Backward Selection"
   ]
  },
  {
   "cell_type": "code",
   "execution_count": 65,
   "id": "9660f209",
   "metadata": {},
   "outputs": [
    {
     "name": "stdout",
     "output_type": "stream",
     "text": [
      " [1] \"nr.employed\"          \"pdays\"                \"month_may\"           \n",
      " [4] \"poutcome_failure\"     \"month_mar\"            \"cons.conf.idx\"       \n",
      " [7] \"month_jul\"            \"day_of_week_mon\"      \"contact\"             \n",
      "[10] \"job_student\"          \"job_blue.collar\"      \"job_retired\"         \n",
      "[13] \"poutcome_nonexistent\" \"cons.price.idx\"       \"emp.var.rate\"        \n"
     ]
    }
   ],
   "source": [
    "# Step 1: Define base intercept only model\n",
    "base.mod <- lm(subscribe ~ 1 , data=data)  \n",
    "\n",
    "# Step 2: Full model with all predictors\n",
    "all.mod <- lm(subscribe ~ . , data= data) \n",
    "\n",
    "# Step 3: Perform step-wise algorithm. direction='both' implies both forward and backward stepwise\n",
    "stepMod <- step(base.mod, scope = list(lower = base.mod, upper = all.mod), direction = \"both\", trace = 0, steps = 1000)  \n",
    "\n",
    "# Step 4: Get the shortlisted variable.\n",
    "shortlistedVars <- names(unlist(stepMod[[1]])) \n",
    "shortlistedVars <- shortlistedVars[!shortlistedVars %in% \"(Intercept)\"] # remove intercept\n",
    "\n",
    "# Show\n",
    "print(shortlistedVars[1:15])"
   ]
  },
  {
   "cell_type": "code",
   "execution_count": 66,
   "id": "9c133eee",
   "metadata": {},
   "outputs": [],
   "source": [
    "#features selected by stepwise forward aand backward selection\n",
    "f_by_stepwise <- shortlistedVars[1:15]"
   ]
  },
  {
   "cell_type": "code",
   "execution_count": null,
   "id": "cb1655d0",
   "metadata": {},
   "outputs": [],
   "source": []
  },
  {
   "cell_type": "markdown",
   "id": "75249d51",
   "metadata": {},
   "source": [
    "### Selecting the final features which are common to all the models"
   ]
  },
  {
   "cell_type": "code",
   "execution_count": 67,
   "id": "c868f9ae",
   "metadata": {
    "scrolled": true
   },
   "outputs": [
    {
     "name": "stdout",
     "output_type": "stream",
     "text": [
      " [1] \"contact\"              \"pdays\"                \"emp.var.rate\"        \n",
      " [4] \"cons.price.idx\"       \"cons.conf.idx\"        \"month_dec\"           \n",
      " [7] \"month_jul\"            \"month_mar\"            \"day_of_week_mon\"     \n",
      "[10] \"poutcome_failure\"     \"poutcome_nonexistent\"\n",
      " [1] \"euribor3m\"                   \"nr.employed\"                \n",
      " [3] \"cons.price.idx\"              \"cons.conf.idx\"              \n",
      " [5] \"month_oct\"                   \"emp.var.rate\"               \n",
      " [7] \"pdays\"                       \"age\"                        \n",
      " [9] \"contact\"                     \"poutcome_success\"           \n",
      "[11] \"month_may\"                   \"month_mar\"                  \n",
      "[13] \"month_apr\"                   \"poutcome_failure\"           \n",
      "[15] \"previous\"                    \"month_jun\"                  \n",
      "[17] \"poutcome_nonexistent\"        \"day_of_week_mon\"            \n",
      "[19] \"month_aug\"                   \"month_jul\"                  \n",
      "[21] \"month_sep\"                   \"month_nov\"                  \n",
      "[23] \"campaign\"                    \"day_of_week_fri\"            \n",
      "[25] \"marital_single\"              \"job_retired\"                \n",
      "[27] \"education_university.degree\" \"job_blue.collar\"            \n",
      "[29] \"day_of_week_tue\"             \"day_of_week_wed\"            \n",
      "[31] \"day_of_week_thu\"             \"marital_married\"            \n",
      "[1] \"pdays\"                \"poutcome_success\"     \"nr.employed\"         \n",
      "[4] \"euribor3m\"            \"emp.var.rate\"         \"poutcome_nonexistent\"\n",
      "[7] \"previous\"            \n",
      " [1] \"nr.employed\"          \"pdays\"                \"month_may\"           \n",
      " [4] \"poutcome_failure\"     \"month_mar\"            \"cons.conf.idx\"       \n",
      " [7] \"month_jul\"            \"day_of_week_mon\"      \"contact\"             \n",
      "[10] \"job_student\"          \"job_blue.collar\"      \"job_retired\"         \n",
      "[13] \"poutcome_nonexistent\" \"cons.price.idx\"       \"emp.var.rate\"        \n",
      " [1] \"euribor3m\"          \"age\"                \"nr.employed\"       \n",
      " [4] \"month_jul\"          \"campaign\"           \"cons.price.idx\"    \n",
      " [7] \"job_technician\"     \"previous\"           \"loan\"              \n",
      "[10] \"day_of_week_mon\"    \"pdays\"              \"cons.conf.idx\"     \n",
      "[13] \"month_may\"          \"contact\"            \"education_basic.9y\"\n"
     ]
    }
   ],
   "source": [
    "#exploring the features by all methods\n",
    "print(f_by_lg)\n",
    "print(f_by_boruto)\n",
    "print(f_by_rpart)\n",
    "print(f_by_stepwise)\n",
    "print(f_by_xgboost)"
   ]
  },
  {
   "cell_type": "code",
   "execution_count": 68,
   "id": "3bd95c5f",
   "metadata": {},
   "outputs": [],
   "source": [
    "# selecting the common features in all methods\n",
    "features <- intersect(c(f_by_lg, f_by_boruto, f_by_rpart, f_by_stepwise), f_by_xgboost)"
   ]
  },
  {
   "cell_type": "code",
   "execution_count": 164,
   "id": "b28e7400",
   "metadata": {},
   "outputs": [
    {
     "data": {
      "text/html": [
       "12"
      ],
      "text/latex": [
       "12"
      ],
      "text/markdown": [
       "12"
      ],
      "text/plain": [
       "[1] 12"
      ]
     },
     "metadata": {},
     "output_type": "display_data"
    }
   ],
   "source": [
    "#number of features\n",
    "length(features)"
   ]
  },
  {
   "cell_type": "code",
   "execution_count": 70,
   "id": "9213313d",
   "metadata": {},
   "outputs": [],
   "source": [
    "#features <- c('contact', 'cons.price.idx', 'cons.conf.idx', 'month_jul', 'month_mar', 'day_of_week_mon', 'euribor3m', 'age', 'previous', 'campaign', 'job_student')"
   ]
  },
  {
   "cell_type": "markdown",
   "id": "a81f618a",
   "metadata": {},
   "source": [
    "## Models"
   ]
  },
  {
   "cell_type": "code",
   "execution_count": 71,
   "id": "beec769b",
   "metadata": {},
   "outputs": [],
   "source": [
    "#reduced data by keeping only the important features\n",
    "data_reduced <-data[,c(features,'subscribe')]"
   ]
  },
  {
   "cell_type": "code",
   "execution_count": 198,
   "id": "d0e0cd65",
   "metadata": {},
   "outputs": [],
   "source": [
    "#selecting the dependent variables and independent variables\n",
    "id_var <- colnames(data_reduced)[1:12]\n",
    "d_var <- 'subscribe'\n",
    "var_all <- c(features,'subscribe')"
   ]
  },
  {
   "cell_type": "markdown",
   "id": "72e611ee",
   "metadata": {},
   "source": [
    "- Logistic Regression"
   ]
  },
  {
   "cell_type": "code",
   "execution_count": 74,
   "id": "01f957d4",
   "metadata": {
    "scrolled": true
   },
   "outputs": [
    {
     "data": {
      "text/plain": [
       "\n",
       "Call:\n",
       "glm(formula = subscribe ~ ., family = \"binomial\", data = data_reduced)\n",
       "\n",
       "Deviance Residuals: \n",
       "    Min       1Q   Median       3Q      Max  \n",
       "-1.9614  -0.3998  -0.3388  -0.2614   2.9021  \n",
       "\n",
       "Coefficients:\n",
       "                  Estimate Std. Error z value Pr(>|z|)    \n",
       "(Intercept)     24.2880536 11.9019660   2.041 0.041283 *  \n",
       "contact          0.2494093  0.0771212   3.234 0.001221 ** \n",
       "pdays           -0.0018414  0.0001115 -16.517  < 2e-16 ***\n",
       "cons.price.idx   0.1480886  0.0784341   1.888 0.059017 .  \n",
       "cons.conf.idx    0.0208879  0.0061374   3.403 0.000666 ***\n",
       "month_jul        0.2730753  0.0805866   3.389 0.000703 ***\n",
       "day_of_week_mon -0.2498941  0.0635248  -3.934 8.36e-05 ***\n",
       "euribor3m       -0.2275643  0.0606235  -3.754 0.000174 ***\n",
       "nr.employed     -0.0071540  0.0011519  -6.211 5.27e-10 ***\n",
       "age              0.0011572  0.0020972   0.552 0.581089    \n",
       "month_may       -0.7168834  0.0645546 -11.105  < 2e-16 ***\n",
       "previous        -0.2758512  0.0502170  -5.493 3.95e-08 ***\n",
       "campaign        -0.0386657  0.0127348  -3.036 0.002396 ** \n",
       "---\n",
       "Signif. codes:  0 '***' 0.001 '**' 0.01 '*' 0.05 '.' 0.1 ' ' 1\n",
       "\n",
       "(Dispersion parameter for binomial family taken to be 1)\n",
       "\n",
       "    Null deviance: 14155  on 19999  degrees of freedom\n",
       "Residual deviance: 11317  on 19987  degrees of freedom\n",
       "AIC: 11343\n",
       "\n",
       "Number of Fisher Scoring iterations: 6\n"
      ]
     },
     "metadata": {},
     "output_type": "display_data"
    }
   ],
   "source": [
    "# Fit logistic regression model on whole reduced data\n",
    "md_logreg <- glm(subscribe ~ ., data=data_reduced, family='binomial')\n",
    "summary(md_logreg)"
   ]
  },
  {
   "cell_type": "code",
   "execution_count": null,
   "id": "6807f767",
   "metadata": {},
   "outputs": [],
   "source": []
  },
  {
   "cell_type": "code",
   "execution_count": 186,
   "id": "3a66c938",
   "metadata": {},
   "outputs": [],
   "source": [
    "# Train test separate with stratified\n",
    "set.seed(123)\n",
    "train_idx <- createDataPartition(data_reduced$subscribe, p=.7, list=FALSE)\n",
    "train <- data_reduced[train_idx, ]\n",
    "test <- data_reduced[-train_idx, ]"
   ]
  },
  {
   "cell_type": "code",
   "execution_count": 187,
   "id": "06019c46",
   "metadata": {},
   "outputs": [
    {
     "data": {
      "text/html": [
       "<style>\n",
       ".dl-inline {width: auto; margin:0; padding: 0}\n",
       ".dl-inline>dt, .dl-inline>dd {float: none; width: auto; display: inline-block}\n",
       ".dl-inline>dt::after {content: \":\\0020\"; padding-right: .5ex}\n",
       ".dl-inline>dt:not(:first-of-type) {padding-left: .5ex}\n",
       "</style><dl class=dl-inline><dt>1</dt><dd>0.0754187337040568</dd><dt>2</dt><dd>0.0379310418589244</dd><dt>4</dt><dd>0.219610029231174</dd><dt>5</dt><dd>0.0343192365117164</dd><dt>6</dt><dd>0.0329810876387189</dd><dt>7</dt><dd>0.176205871287706</dd></dl>\n"
      ],
      "text/latex": [
       "\\begin{description*}\n",
       "\\item[1] 0.0754187337040568\n",
       "\\item[2] 0.0379310418589244\n",
       "\\item[4] 0.219610029231174\n",
       "\\item[5] 0.0343192365117164\n",
       "\\item[6] 0.0329810876387189\n",
       "\\item[7] 0.176205871287706\n",
       "\\end{description*}\n"
      ],
      "text/markdown": [
       "1\n",
       ":   0.07541873370405682\n",
       ":   0.03793104185892444\n",
       ":   0.2196100292311745\n",
       ":   0.03431923651171646\n",
       ":   0.03298108763871897\n",
       ":   0.176205871287706\n",
       "\n"
      ],
      "text/plain": [
       "         1          2          4          5          6          7 \n",
       "0.07541873 0.03793104 0.21961003 0.03431924 0.03298109 0.17620587 "
      ]
     },
     "metadata": {},
     "output_type": "display_data"
    },
    {
     "data": {
      "text/html": [
       "<style>\n",
       ".dl-inline {width: auto; margin:0; padding: 0}\n",
       ".dl-inline>dt, .dl-inline>dd {float: none; width: auto; display: inline-block}\n",
       ".dl-inline>dt::after {content: \":\\0020\"; padding-right: .5ex}\n",
       ".dl-inline>dt:not(:first-of-type) {padding-left: .5ex}\n",
       "</style><dl class=dl-inline><dt>3</dt><dd>0.0977751166452196</dd><dt>8</dt><dd>0.0339805537194547</dd><dt>12</dt><dd>0.074223081417046</dd><dt>19</dt><dd>0.033823650421839</dd><dt>23</dt><dd>0.1168811409441</dd><dt>24</dt><dd>0.0345432210473534</dd></dl>\n"
      ],
      "text/latex": [
       "\\begin{description*}\n",
       "\\item[3] 0.0977751166452196\n",
       "\\item[8] 0.0339805537194547\n",
       "\\item[12] 0.074223081417046\n",
       "\\item[19] 0.033823650421839\n",
       "\\item[23] 0.1168811409441\n",
       "\\item[24] 0.0345432210473534\n",
       "\\end{description*}\n"
      ],
      "text/markdown": [
       "3\n",
       ":   0.09777511664521968\n",
       ":   0.033980553719454712\n",
       ":   0.07422308141704619\n",
       ":   0.03382365042183923\n",
       ":   0.116881140944124\n",
       ":   0.0345432210473534\n",
       "\n"
      ],
      "text/plain": [
       "         3          8         12         19         23         24 \n",
       "0.09777512 0.03398055 0.07422308 0.03382365 0.11688114 0.03454322 "
      ]
     },
     "metadata": {},
     "output_type": "display_data"
    }
   ],
   "source": [
    "# Make prediction on both train and test data\n",
    "pred_train_prob <- predict(md_logreg, newdata=train, type='response')\n",
    "head(pred_train_prob)\n",
    "\n",
    "pred_test_prob <- predict(md_logreg, newdata=test, type='response')\n",
    "head(pred_test_prob)"
   ]
  },
  {
   "cell_type": "code",
   "execution_count": 303,
   "id": "c8995ea5",
   "metadata": {
    "scrolled": true
   },
   "outputs": [
    {
     "name": "stderr",
     "output_type": "stream",
     "text": [
      "Warning message in predict.lm(object, newdata, se.fit, scale = 1, type = if (type == :\n",
      "\"prediction from a rank-deficient fit may be misleading\"\n"
     ]
    },
    {
     "data": {
      "text/html": [
       "<style>\n",
       ".dl-inline {width: auto; margin:0; padding: 0}\n",
       ".dl-inline>dt, .dl-inline>dd {float: none; width: auto; display: inline-block}\n",
       ".dl-inline>dt::after {content: \":\\0020\"; padding-right: .5ex}\n",
       ".dl-inline>dt:not(:first-of-type) {padding-left: .5ex}\n",
       "</style><dl class=dl-inline><dt>3</dt><dd>0.0981190419844064</dd><dt>8</dt><dd>0.0382221369768608</dd><dt>12</dt><dd>0.0723667298376001</dd><dt>24</dt><dd>0.0341888117541812</dd><dt>34</dt><dd>0.0282804638523468</dd><dt>35</dt><dd>0.0605292329864678</dd></dl>\n"
      ],
      "text/latex": [
       "\\begin{description*}\n",
       "\\item[3] 0.0981190419844064\n",
       "\\item[8] 0.0382221369768608\n",
       "\\item[12] 0.0723667298376001\n",
       "\\item[24] 0.0341888117541812\n",
       "\\item[34] 0.0282804638523468\n",
       "\\item[35] 0.0605292329864678\n",
       "\\end{description*}\n"
      ],
      "text/markdown": [
       "3\n",
       ":   0.09811904198440648\n",
       ":   0.038222136976860812\n",
       ":   0.072366729837600124\n",
       ":   0.034188811754181234\n",
       ":   0.028280463852346835\n",
       ":   0.0605292329864678\n",
       "\n"
      ],
      "text/plain": [
       "         3          8         12         24         34         35 \n",
       "0.09811904 0.03822214 0.07236673 0.03418881 0.02828046 0.06052923 "
      ]
     },
     "metadata": {},
     "output_type": "display_data"
    },
    {
     "data": {
      "text/plain": [
       "     \n",
       "pred     0    1\n",
       "  No  3525  329\n",
       "  Yes   38  108"
      ]
     },
     "metadata": {},
     "output_type": "display_data"
    },
    {
     "name": "stdout",
     "output_type": "stream",
     "text": [
      "[1] \"Accuracy = 0.91\"\n",
      "[1] \"Precision = 0.74\"\n",
      "[1] \"Sensitivity (TPR) = 0.25\"\n",
      "[1] \"Specificity (TNR) = 0.99\"\n",
      "[1] \"AUC of Logistic Regression = 0.795359886861597\"\n"
     ]
    }
   ],
   "source": [
    "# Fit Logistic Regression model\n",
    "md_logreg <- glm(subscribe ~ ., data=train, family='binomial')\n",
    "\n",
    "# Make prediction\n",
    "pred_logreg <- predict(md_logreg, newdata=test, type='response')\n",
    "head(pred_logreg)\n",
    "\n",
    "# Decision threshold = 0.5\n",
    "threshold <- 0.5\n",
    "pred <- rep('No', nrow(test))\n",
    "pred[pred_logreg > threshold] <- 'Yes'\n",
    "\n",
    "# Evaluation\n",
    "table(pred, test$subscribe)\n",
    "acc <- mean(pred == test$subscribe)\n",
    "TP <- table(pred, test$subscribe)[2, 2]\n",
    "TN <- table(pred, test$subscribe)[1, 1]\n",
    "FP <- table(pred, test$subscribe)[2, 1]\n",
    "FN <- table(pred, test$subscribe)[1, 2]\n",
    "\n",
    "print(paste('Accuracy =', round((TP + TN) / (TP + TN + FP + FN),2)))\n",
    "print(paste('Precision =', round(TP / (TP + FP), 2)))\n",
    "print(paste('Sensitivity (TPR) =', round(TP / (TP + FN), 2)))\n",
    "print(paste('Specificity (TNR) =', round(TN / (TN + FP), 2)))\n",
    "\n",
    "\n",
    "#AUC\n",
    "auc_logreg <- AUC(pred_logreg, test$subscribe, label.ordering = NULL)\n",
    "print(paste('AUC of Logistic Regression =',auc_logreg ))"
   ]
  },
  {
   "cell_type": "code",
   "execution_count": 189,
   "id": "f5e1fd4b",
   "metadata": {},
   "outputs": [
    {
     "data": {
      "text/plain": [
       "     \n",
       "pred     0    1\n",
       "  No  4952  351\n",
       "  Yes  387  310"
      ]
     },
     "metadata": {},
     "output_type": "display_data"
    },
    {
     "name": "stdout",
     "output_type": "stream",
     "text": [
      "[1] \"Accuracy = 0.88\"\n",
      "[1] \"Precision = 0.44\"\n",
      "[1] \"Sensitivity (TPR) = 0.47\"\n",
      "[1] \"Specificity (TNR) = 0.93\"\n"
     ]
    }
   ],
   "source": [
    "# Decision threshold = 0.25\n",
    "threshold <- 0.25\n",
    "pred <- rep('No', nrow(test))\n",
    "pred[pred_logreg > threshold] <- 'Yes'\n",
    "\n",
    "# Evaluation\n",
    "table(pred, test$subscribe)\n",
    "acc <- mean(pred == test$subscribe)\n",
    "TP <- table(pred, test$subscribe)[2, 2]\n",
    "TN <- table(pred, test$subscribe)[1, 1]\n",
    "FP <- table(pred, test$subscribe)[2, 1]\n",
    "FN <- table(pred, test$subscribe)[1, 2]\n",
    "\n",
    "print(paste('Accuracy =', round((TP + TN) / (TP + TN + FP + FN),2)))\n",
    "print(paste('Precision =', round(TP / (TP + FP), 2)))\n",
    "print(paste('Sensitivity (TPR) =', round(TP / (TP + FN), 2)))\n",
    "print(paste('Specificity (TNR) =', round(TN / (TN + FP), 2)))\n",
    "\n"
   ]
  },
  {
   "cell_type": "code",
   "execution_count": 190,
   "id": "b693e290",
   "metadata": {},
   "outputs": [
    {
     "name": "stderr",
     "output_type": "stream",
     "text": [
      "Resampling: cross-validation\n",
      "\n",
      "Measures:             auc       \n",
      "\n",
      "[Resample] iter 1:    0.7861082 \n",
      "\n",
      "[Resample] iter 2:    0.7695998 \n",
      "\n",
      "[Resample] iter 3:    0.8087605 \n",
      "\n",
      "[Resample] iter 4:    0.7636485 \n",
      "\n",
      "[Resample] iter 5:    0.8016504 \n",
      "\n",
      "[Resample] iter 6:    0.8055812 \n",
      "\n",
      "[Resample] iter 7:    0.7695757 \n",
      "\n",
      "[Resample] iter 8:    0.7564028 \n",
      "\n",
      "[Resample] iter 9:    0.7942954 \n",
      "\n",
      "[Resample] iter 10:   0.7866110 \n",
      "\n",
      "\n",
      "\n",
      "\n",
      "Aggregated Result: auc.test.mean=0.7842233\n",
      "\n",
      "\n",
      "\n",
      "\n"
     ]
    },
    {
     "data": {
      "text/plain": [
       "Resample Result\n",
       "Task: data_reduced\n",
       "Learner: classif.logreg\n",
       "Aggr perf: auc.test.mean=0.7842233\n",
       "Runtime: 1.05708"
      ]
     },
     "metadata": {},
     "output_type": "display_data"
    }
   ],
   "source": [
    "# Set up cross-validation\n",
    "rdesc = makeResampleDesc(\"CV\", iters=10)\n",
    "\n",
    "# Define the model\n",
    "lnr_logreg <- makeLearner(\"classif.logreg\", predict.type=\"prob\", fix.factors.prediction=T)\n",
    "\n",
    "# Define the model\n",
    "task_logreg <- makeClassifTask( data=data_reduced, target=\"subscribe\")\n",
    "\n",
    "# Run the k-fold CV\n",
    "resample(lnr_logreg, task_logreg, rdesc, measures=list(mlr::auc))"
   ]
  },
  {
   "cell_type": "code",
   "execution_count": 305,
   "id": "ebca4f43",
   "metadata": {},
   "outputs": [
    {
     "name": "stdout",
     "output_type": "stream",
     "text": [
      "[1] \"AUC of Logistic Regression after cross-validation = 0.7842233\"\n"
     ]
    }
   ],
   "source": [
    "#iter=3 is the best parameter selected by the cross validation\n",
    "auc_logreg <- 0.7842233 #for iter=3, maximum auc is generated\n",
    "\n",
    "#AUC\n",
    "print(paste('AUC of Logistic Regression after cross-validation =',auc_logreg ))"
   ]
  },
  {
   "cell_type": "markdown",
   "id": "df2d7d51",
   "metadata": {},
   "source": [
    "- Decision Tree"
   ]
  },
  {
   "cell_type": "code",
   "execution_count": null,
   "id": "47767964",
   "metadata": {},
   "outputs": [],
   "source": []
  },
  {
   "cell_type": "code",
   "execution_count": 204,
   "id": "2435a89a",
   "metadata": {},
   "outputs": [],
   "source": [
    "# Build simple decision tree model on full dataset\n",
    "md_tree <- tree(subscribe ~ . , data=data)"
   ]
  },
  {
   "cell_type": "code",
   "execution_count": 205,
   "id": "1186ada9",
   "metadata": {},
   "outputs": [
    {
     "data": {
      "text/plain": [
       "\n",
       "Regression tree:\n",
       "tree(formula = subscribe ~ ., data = data)\n",
       "Variables actually used in tree construction:\n",
       "[1] \"nr.employed\"   \"pdays\"         \"cons.conf.idx\"\n",
       "Number of terminal nodes:  4 \n",
       "Residual mean deviance:  0.0814 = 1628 / 20000 \n",
       "Distribution of residuals:\n",
       "    Min.  1st Qu.   Median     Mean  3rd Qu.     Max. \n",
       "-0.71550 -0.05788 -0.05788  0.00000 -0.05788  0.94210 "
      ]
     },
     "metadata": {},
     "output_type": "display_data"
    }
   ],
   "source": [
    "summary(md_tree)"
   ]
  },
  {
   "cell_type": "code",
   "execution_count": 207,
   "id": "a1f2486e",
   "metadata": {},
   "outputs": [
    {
     "data": {
      "image/png": "[encoded data removed]",
      "text/plain": [
       "plot without title"
      ]
     },
     "metadata": {
      "image/png": {
       "height": 360,
       "width": 900
      }
     },
     "output_type": "display_data"
    }
   ],
   "source": [
    "# Plot the classification tree\n",
    "options(repr.plot.width=15, repr.plot.height=6)\n",
    "plot(md_tree, type='uniform')\n",
    "text(md_tree, pretty=0)"
   ]
  },
  {
   "cell_type": "code",
   "execution_count": 212,
   "id": "89b163a6",
   "metadata": {},
   "outputs": [],
   "source": [
    "# Build simple decision tree model  on reduced dataset\n",
    "md_tree <- tree(subscribe ~ . , data=train)"
   ]
  },
  {
   "cell_type": "code",
   "execution_count": 213,
   "id": "35eb2ae0",
   "metadata": {
    "scrolled": false
   },
   "outputs": [
    {
     "data": {
      "text/plain": [
       "\n",
       "Regression tree:\n",
       "tree(formula = subscribe ~ ., data = train)\n",
       "Variables actually used in tree construction:\n",
       "[1] \"nr.employed\"   \"pdays\"         \"cons.conf.idx\"\n",
       "Number of terminal nodes:  4 \n",
       "Residual mean deviance:  0.08261 = 1156 / 14000 \n",
       "Distribution of residuals:\n",
       "    Min.  1st Qu.   Median     Mean  3rd Qu.     Max. \n",
       "-0.71390 -0.05903 -0.05903  0.00000 -0.05903  0.94100 "
      ]
     },
     "metadata": {},
     "output_type": "display_data"
    }
   ],
   "source": [
    "summary(md_tree)"
   ]
  },
  {
   "cell_type": "code",
   "execution_count": 215,
   "id": "8c68e64f",
   "metadata": {},
   "outputs": [
    {
     "data": {
      "text/html": [
       "5815"
      ],
      "text/latex": [
       "5815"
      ],
      "text/markdown": [
       "5815"
      ],
      "text/plain": [
       "[1] 5815"
      ]
     },
     "metadata": {},
     "output_type": "display_data"
    },
    {
     "data": {
      "text/html": [
       "185"
      ],
      "text/latex": [
       "185"
      ],
      "text/markdown": [
       "185"
      ],
      "text/plain": [
       "[1] 185"
      ]
     },
     "metadata": {},
     "output_type": "display_data"
    }
   ],
   "source": [
    "#having a look at predicted values\n",
    "pred_tree <- predict(md_tree, newdata = test[,id_var],\n",
    "type = \"vector\",\n",
    "split = FALSE)\n",
    "length(pred_tree[pred_tree<0.5])\n",
    "length(pred_tree[pred_tree>0.5])"
   ]
  },
  {
   "cell_type": "code",
   "execution_count": 227,
   "id": "fdfdce8a",
   "metadata": {},
   "outputs": [
    {
     "name": "stdout",
     "output_type": "stream",
     "text": [
      "[1] \"AUC of Decision Tree = 0.744511811721982\"\n"
     ]
    }
   ],
   "source": [
    "#AUC\n",
    "auc_tree <- AUC(pred_tree, test$subscribe, label.ordering = NULL)\n",
    "print(paste('AUC of Decision Tree =',auc_tree ))"
   ]
  },
  {
   "cell_type": "code",
   "execution_count": null,
   "id": "90301cde",
   "metadata": {},
   "outputs": [],
   "source": []
  },
  {
   "cell_type": "code",
   "execution_count": 217,
   "id": "41a1e15a",
   "metadata": {},
   "outputs": [
    {
     "data": {
      "text/plain": [
       "$size\n",
       "[1] 4 3 2 1\n",
       "\n",
       "$dev\n",
       "[1] 1157.518 1175.168 1215.299 1424.979\n",
       "\n",
       "$k\n",
       "[1]      -Inf  17.99825  40.64150 210.02108\n",
       "\n",
       "$method\n",
       "[1] \"deviance\"\n",
       "\n",
       "attr(,\"class\")\n",
       "[1] \"prune\"         \"tree.sequence\""
      ]
     },
     "metadata": {},
     "output_type": "display_data"
    }
   ],
   "source": [
    "# Prune the Regression Tree\n",
    "set.seed(1)\n",
    "cv_tree <- cv.tree(md_tree)\n",
    "cv_tree"
   ]
  },
  {
   "cell_type": "code",
   "execution_count": 218,
   "id": "a1727bd7",
   "metadata": {},
   "outputs": [
    {
     "name": "stdout",
     "output_type": "stream",
     "text": [
      "[1] \"Best tree size = 4\"\n",
      "[1] \"Best RSS = 1157.51791226218\"\n",
      "[1] \"Best alpha = -Inf\"\n"
     ]
    }
   ],
   "source": [
    "# Best tree size\n",
    "min_idx <- which.min(cv_tree$dev)\n",
    "tree_size <- cv_tree$size[min_idx]\n",
    "tree_dev <- cv_tree$dev[min_idx]\n",
    "tree_k <- cv_tree$k[min_idx]\n",
    "\n",
    "print(paste0('Best tree size = ', tree_size))\n",
    "print(paste0('Best RSS = ', tree_dev))\n",
    "print(paste0('Best alpha = ', tree_k))"
   ]
  },
  {
   "cell_type": "code",
   "execution_count": 219,
   "id": "b9047028",
   "metadata": {},
   "outputs": [
    {
     "data": {
      "image/png": "[encoded data removed]",
      "text/plain": [
       "Plot with title \"Best alpha = -Inf\""
      ]
     },
     "metadata": {
      "image/png": {
       "height": 600,
       "width": 480
      }
     },
     "output_type": "display_data"
    }
   ],
   "source": [
    "# Show the Decision Tree\n",
    "options(repr.plot.width=8, repr.plot.height=10)\n",
    "par(mfrow=c(2, 1))\n",
    "\n",
    "# Tree size, number of nodes\n",
    "plot(cv_tree$size, cv_tree$dev, type='b', cex=0.7,\n",
    "     xlab='Tree size', ylab='RSS', main=paste0('Best tree size = ', tree_size)\n",
    "    )\n",
    "abline(v=tree_size, col='red')  # Best tree size\n",
    "\n",
    "# Cost-complexity param, alpha\n",
    "plot(cv_tree$k, cv_tree$dev, type='b', cex=0.7,\n",
    "     xlab='Cost-complexity parameter', ylab='RSS',\n",
    "     main=paste0('Best alpha = ', round(tree_k, 3))\n",
    "    )\n",
    "abline(v=tree_k, col='red')  # Best tree size"
   ]
  },
  {
   "cell_type": "code",
   "execution_count": 220,
   "id": "a1bca09f",
   "metadata": {},
   "outputs": [
    {
     "name": "stderr",
     "output_type": "stream",
     "text": [
      "Warning message in prune.tree(md_tree, best = 5):\n",
      "\"best is bigger than tree size\"\n"
     ]
    },
    {
     "data": {
      "image/png": "[encoded data removed]",
      "text/plain": [
       "plot without title"
      ]
     },
     "metadata": {
      "image/png": {
       "height": 360,
       "width": 900
      }
     },
     "output_type": "display_data"
    }
   ],
   "source": [
    "#Pruning here is not working as the tree is already in the best size\n",
    "# Prune the tree\n",
    "prune_regtree <- prune.tree(md_tree, best=5)\n",
    "\n",
    "# Show the tree\n",
    "options(repr.plot.width=15, repr.plot.height=6)\n",
    "plot(prune_regtree, type='uniform')\n",
    "text(prune_regtree, pretty=0)"
   ]
  },
  {
   "cell_type": "code",
   "execution_count": 221,
   "id": "358aae28",
   "metadata": {
    "scrolled": true
   },
   "outputs": [
    {
     "data": {
      "image/png": "[encoded data removed]",
      "text/plain": [
       "Plot with title \"Tree size = 4, alpha = -Inf\""
      ]
     },
     "metadata": {
      "image/png": {
       "height": 360,
       "width": 900
      }
     },
     "output_type": "display_data"
    },
    {
     "data": {
      "image/png": "[encoded data removed]",
      "text/plain": [
       "Plot with title \"Tree size = 3, alpha = 17.998\""
      ]
     },
     "metadata": {
      "image/png": {
       "height": 360,
       "width": 900
      }
     },
     "output_type": "display_data"
    },
    {
     "data": {
      "image/png": "[encoded data removed]",
      "text/plain": [
       "Plot with title \"Tree size = 2, alpha = 40.641\""
      ]
     },
     "metadata": {
      "image/png": {
       "height": 360,
       "width": 900
      }
     },
     "output_type": "display_data"
    }
   ],
   "source": [
    "for (i in 1:(length(cv_tree$size)-1)) {\n",
    "    \n",
    "    # Prune the tree\n",
    "    tree_size = cv_tree$size[i]\n",
    "    alpha = cv_tree$k[i]\n",
    "    prune_regtree_temp <- prune.tree(md_tree, best=tree_size)\n",
    "\n",
    "    # Show the tree\n",
    "    plot(prune_regtree_temp, type='uniform')\n",
    "    text(prune_regtree_temp, pretty=0)\n",
    "    title(main=paste0('Tree size = ', tree_size, ', alpha = ', round(alpha, 3)))\n",
    "    }"
   ]
  },
  {
   "cell_type": "code",
   "execution_count": null,
   "id": "7e02f3fa",
   "metadata": {},
   "outputs": [],
   "source": []
  },
  {
   "cell_type": "markdown",
   "id": "ba533a05",
   "metadata": {},
   "source": [
    "- SVM"
   ]
  },
  {
   "cell_type": "code",
   "execution_count": 91,
   "id": "28968989",
   "metadata": {},
   "outputs": [],
   "source": [
    "# Prepare data to fit the model\n",
    "dat <- data.frame(x=train[,id_var], y=train$subscribe)\n",
    "\n",
    "# Fit Support Vector Classifier (SVM with linear kernel) with high cost 10\n",
    "md_svc <- svm(y ~ ., data=dat, kernel='linear', cost=10, scale=F)"
   ]
  },
  {
   "cell_type": "code",
   "execution_count": 93,
   "id": "edf40702",
   "metadata": {},
   "outputs": [
    {
     "data": {
      "text/plain": [
       "\n",
       "Call:\n",
       "svm(formula = y ~ ., data = dat, kernel = \"linear\", cost = 10, scale = F)\n",
       "\n",
       "\n",
       "Parameters:\n",
       "   SVM-Type:  eps-regression \n",
       " SVM-Kernel:  linear \n",
       "       cost:  10 \n",
       "      gamma:  0.09090909 \n",
       "    epsilon:  0.1 \n",
       "\n",
       "\n",
       "Number of Support Vectors:  19477\n",
       "\n",
       "\n",
       "\n",
       "\n"
      ]
     },
     "metadata": {},
     "output_type": "display_data"
    }
   ],
   "source": [
    "# Summary the model\n",
    "summary(md_svc)"
   ]
  },
  {
   "cell_type": "code",
   "execution_count": 95,
   "id": "7c78307a",
   "metadata": {},
   "outputs": [],
   "source": [
    "# Fit Support Vector Classifier (SVM with linear kernel) with smaller cost 0.1\n",
    "md_svc <- svm(y ~ ., data=dat, kernel='linear', cost=0.1, scale=F)"
   ]
  },
  {
   "cell_type": "code",
   "execution_count": 184,
   "id": "5e695cb6",
   "metadata": {},
   "outputs": [
    {
     "data": {
      "text/plain": [
       "\n",
       "Call:\n",
       "svm(formula = y ~ ., data = dat, kernel = \"linear\", cost = 0.1, scale = F)\n",
       "\n",
       "\n",
       "Parameters:\n",
       "   SVM-Type:  eps-regression \n",
       " SVM-Kernel:  linear \n",
       "       cost:  0.1 \n",
       "      gamma:  0.09090909 \n",
       "    epsilon:  0.1 \n",
       "\n",
       "\n",
       "Number of Support Vectors:  19971\n",
       "\n",
       "\n",
       "\n",
       "\n"
      ]
     },
     "metadata": {},
     "output_type": "display_data"
    }
   ],
   "source": [
    "# Summary the model\n",
    "summary(md_svc)"
   ]
  },
  {
   "cell_type": "code",
   "execution_count": 96,
   "id": "f0f5cb91",
   "metadata": {},
   "outputs": [],
   "source": []
  },
  {
   "cell_type": "code",
   "execution_count": 97,
   "id": "c0dd76f1",
   "metadata": {},
   "outputs": [],
   "source": [
    "# Tuning parameter: cost\n",
    "set.seed(1)\n",
    "tune_svc <- tune(svm, subscribe ~ ., data=data_reduced, kernel='linear',\n",
    "                 ranges=list(cost=c(0.001, 0.01, 0.1, 1.5, 10, 100)))"
   ]
  },
  {
   "cell_type": "code",
   "execution_count": 98,
   "id": "744b4bcd",
   "metadata": {},
   "outputs": [
    {
     "data": {
      "text/plain": [
       "\n",
       "Parameter tuning of 'svm':\n",
       "\n",
       "- sampling method: 10-fold cross validation \n",
       "\n",
       "- best parameters:\n",
       "  cost\n",
       " 0.001\n",
       "\n",
       "- best performance: 0.09688437 \n",
       "\n",
       "- Detailed performance results:\n",
       "     cost      error  dispersion\n",
       "1   0.001 0.09688437 0.006087837\n",
       "2   0.010 0.09690754 0.006088760\n",
       "3   0.100 0.09692360 0.006093428\n",
       "4   1.500 0.09692503 0.006094220\n",
       "5  10.000 0.09692389 0.006093701\n",
       "6 100.000 0.09694296 0.006135048\n"
      ]
     },
     "metadata": {},
     "output_type": "display_data"
    }
   ],
   "source": [
    "# Summary the tuned models\n",
    "summary(tune_svc)"
   ]
  },
  {
   "cell_type": "code",
   "execution_count": 225,
   "id": "5333b651",
   "metadata": {},
   "outputs": [],
   "source": [
    "# Fit Support Vector Classifier (SVM with linear kernel) with best parameter 0.001\n",
    "md_svc <- svm(y ~ ., data=dat, kernel='linear', cost=0.001, scale=F)"
   ]
  },
  {
   "cell_type": "code",
   "execution_count": 229,
   "id": "49f4bc00",
   "metadata": {},
   "outputs": [],
   "source": [
    "# Prepare data to fit the model\n",
    "dat_test <- data.frame(x=test[,id_var], y=test$subscribe)\n",
    "pred_svm <- predict(md_svc, dat_test, decision.values = FALSE)"
   ]
  },
  {
   "cell_type": "code",
   "execution_count": 286,
   "id": "259a2941",
   "metadata": {},
   "outputs": [
    {
     "name": "stdout",
     "output_type": "stream",
     "text": [
      "[1] \"AUC of SVM = 0.686186820980773\"\n"
     ]
    }
   ],
   "source": [
    "#AUC\n",
    "auc_svm <- AUC(pred_svm, test$subscribe)\n",
    "print(paste('AUC of SVM =',auc_svm ))"
   ]
  },
  {
   "cell_type": "code",
   "execution_count": null,
   "id": "bd804ff5",
   "metadata": {},
   "outputs": [],
   "source": []
  },
  {
   "cell_type": "markdown",
   "id": "b754805c",
   "metadata": {},
   "source": [
    "- KNN"
   ]
  },
  {
   "cell_type": "code",
   "execution_count": null,
   "id": "ff608be2",
   "metadata": {},
   "outputs": [],
   "source": []
  },
  {
   "cell_type": "code",
   "execution_count": 105,
   "id": "f5bb2ed2",
   "metadata": {},
   "outputs": [
    {
     "name": "stdout",
     "output_type": "stream",
     "text": [
      "[1] \"Confusion matrix:\"\n"
     ]
    },
    {
     "data": {
      "text/plain": [
       "         \n",
       "knn1_pred     0     1\n",
       "        0 17605   845\n",
       "        1   124  1426"
      ]
     },
     "metadata": {},
     "output_type": "display_data"
    },
    {
     "name": "stdout",
     "output_type": "stream",
     "text": [
      "[1] \"Accuracy = 0.95 %\"\n"
     ]
    }
   ],
   "source": [
    "# k = 1\n",
    "set.seed(123)\n",
    "knn1_pred <- knn(train=data_reduced[,id_var],\n",
    "                 test=data_reduced[,id_var],\n",
    "                 cl=data_reduced$subscribe,\n",
    "                 k=1)\n",
    "\n",
    "# Confusion matrix\n",
    "print('Confusion matrix:')\n",
    "table(knn1_pred, data_reduced$subscribe)\n",
    "\n",
    "# Accuracy\n",
    "acc <- mean(knn1_pred == data_reduced$subscribe)\n",
    "print(paste('Accuracy =', round(acc, 2), '%'))"
   ]
  },
  {
   "cell_type": "code",
   "execution_count": 106,
   "id": "e6d75aeb",
   "metadata": {},
   "outputs": [
    {
     "name": "stdout",
     "output_type": "stream",
     "text": [
      "[1] \"Confusion matrix:\"\n"
     ]
    },
    {
     "data": {
      "text/plain": [
       "         \n",
       "knn1_pred     0     1\n",
       "        0 17389  1317\n",
       "        1   340   954"
      ]
     },
     "metadata": {},
     "output_type": "display_data"
    },
    {
     "name": "stdout",
     "output_type": "stream",
     "text": [
      "[1] \"Accuracy = 0.92 %\"\n"
     ]
    }
   ],
   "source": [
    "library(class)\n",
    "\n",
    "# k = 3\n",
    "set.seed(123)\n",
    "knn1_pred <- knn(train=data_reduced[,id_var],\n",
    "                 test=data_reduced[,id_var],\n",
    "                 cl=data_reduced$subscribe,\n",
    "                 k=3)\n",
    "\n",
    "# Confusion matrix\n",
    "print('Confusion matrix:')\n",
    "table(knn1_pred, data_reduced$subscribe)\n",
    "\n",
    "# Accuracy\n",
    "acc <- mean(knn1_pred == data_reduced$subscribe)\n",
    "print(paste('Accuracy =', round(acc, 2), '%'))"
   ]
  },
  {
   "cell_type": "code",
   "execution_count": 108,
   "id": "b1dfe769",
   "metadata": {
    "scrolled": true
   },
   "outputs": [
    {
     "name": "stderr",
     "output_type": "stream",
     "text": [
      "Resampling: cross-validation\n",
      "\n",
      "Measures:             auc       \n",
      "\n",
      "[Resample] iter 1:    0.6206411 \n",
      "\n",
      "[Resample] iter 2:    0.6124426 \n",
      "\n",
      "[Resample] iter 3:    0.6384626 \n",
      "\n",
      "[Resample] iter 4:    0.6231146 \n",
      "\n",
      "[Resample] iter 5:    0.6007124 \n",
      "\n",
      "[Resample] iter 6:    0.6076833 \n",
      "\n",
      "[Resample] iter 7:    0.6011979 \n",
      "\n",
      "[Resample] iter 8:    0.6221888 \n",
      "\n",
      "[Resample] iter 9:    0.6327345 \n",
      "\n",
      "[Resample] iter 10:   0.5982253 \n",
      "\n",
      "\n",
      "\n",
      "\n",
      "Aggregated Result: auc.test.mean=0.6157403\n",
      "\n",
      "\n",
      "\n",
      "\n"
     ]
    },
    {
     "data": {
      "text/plain": [
       "Resample Result\n",
       "Task: subscribe\n",
       "Learner: classif.kknn\n",
       "Aggr perf: auc.test.mean=0.6157403\n",
       "Runtime: 4.2675"
      ]
     },
     "metadata": {},
     "output_type": "display_data"
    }
   ],
   "source": [
    "# cross validation for k=1\n",
    "# Set up cross-validation\n",
    "rdesc = makeResampleDesc(\"CV\", iters=10)\n",
    "\n",
    "# Define the model\n",
    "lnr_knn <- makeLearner(\"classif.kknn\", predict.type=\"prob\", fix.factors.prediction=T, k=1)\n",
    "\n",
    "# Define the task\n",
    "task_logreg <- makeClassifTask(id=\"subscribe\", data=data_reduced, target=\"subscribe\")\n",
    "\n",
    "# Run the k-fold CV\n",
    "resample(lnr_knn, task_logreg, rdesc, measures=list(mlr::auc))"
   ]
  },
  {
   "cell_type": "code",
   "execution_count": 109,
   "id": "5d6e1634",
   "metadata": {
    "scrolled": true
   },
   "outputs": [
    {
     "name": "stderr",
     "output_type": "stream",
     "text": [
      "Resampling: cross-validation\n",
      "\n",
      "Measures:             auc       \n",
      "\n",
      "[Resample] iter 1:    0.7919820 \n",
      "\n",
      "[Resample] iter 2:    0.7352758 \n",
      "\n",
      "[Resample] iter 3:    0.7575773 \n",
      "\n",
      "[Resample] iter 4:    0.7631944 \n",
      "\n",
      "[Resample] iter 5:    0.7681406 \n",
      "\n",
      "[Resample] iter 6:    0.7859541 \n",
      "\n",
      "[Resample] iter 7:    0.8130209 \n",
      "\n",
      "[Resample] iter 8:    0.7948273 \n",
      "\n",
      "[Resample] iter 9:    0.7889840 \n",
      "\n",
      "[Resample] iter 10:   0.7491797 \n",
      "\n",
      "\n",
      "\n",
      "\n",
      "Aggregated Result: auc.test.mean=0.7748136\n",
      "\n",
      "\n",
      "\n",
      "\n"
     ]
    },
    {
     "data": {
      "text/plain": [
       "Resample Result\n",
       "Task: subscribe\n",
       "Learner: classif.kknn\n",
       "Aggr perf: auc.test.mean=0.7748136\n",
       "Runtime: 8.0139"
      ]
     },
     "metadata": {},
     "output_type": "display_data"
    }
   ],
   "source": [
    "# cross validation for k=100\n",
    "# Set up cross-validation\n",
    "rdesc = makeResampleDesc(\"CV\", iters=10)\n",
    "\n",
    "# Define the model\n",
    "lnr_knn <- makeLearner(\"classif.kknn\", predict.type=\"prob\", fix.factors.prediction=T, k=100)\n",
    "\n",
    "# Define the task\n",
    "task_logreg <- makeClassifTask(id=\"subscribe\", data=data_reduced, target=\"subscribe\")\n",
    "\n",
    "# Run the k-fold CV\n",
    "resample(lnr_knn, task_logreg, rdesc, measures=list(mlr::auc))"
   ]
  },
  {
   "cell_type": "code",
   "execution_count": 110,
   "id": "209b3dd2",
   "metadata": {
    "scrolled": true
   },
   "outputs": [
    {
     "name": "stderr",
     "output_type": "stream",
     "text": [
      "[Tune] Started tuning learner classif.kknn for parameter set:\n",
      "\n",
      "      Type len Def                   Constr Req Tunable Trafo\n",
      "k discrete   -   - 1,5,10,20,50,100,200,300   -    TRUE     -\n",
      "\n",
      "With control class: TuneControlGrid\n",
      "\n",
      "Imputation value: -0\n",
      "\n",
      "[Tune-x] 1: k=1\n",
      "\n",
      "[Tune-y] 1: acc.test.mean=0.8499500; time: 0.1 min\n",
      "\n",
      "[Tune-x] 2: k=5\n",
      "\n",
      "[Tune-y] 2: acc.test.mean=0.8829500; time: 0.1 min\n",
      "\n",
      "[Tune-x] 3: k=10\n",
      "\n",
      "[Tune-y] 3: acc.test.mean=0.8922500; time: 0.1 min\n",
      "\n",
      "[Tune-x] 4: k=20\n",
      "\n",
      "[Tune-y] 4: acc.test.mean=0.8972500; time: 0.1 min\n",
      "\n",
      "[Tune-x] 5: k=50\n",
      "\n",
      "[Tune-y] 5: acc.test.mean=0.8987000; time: 0.1 min\n",
      "\n",
      "[Tune-x] 6: k=100\n",
      "\n",
      "[Tune-y] 6: acc.test.mean=0.9011000; time: 0.1 min\n",
      "\n",
      "[Tune-x] 7: k=200\n",
      "\n",
      "[Tune-y] 7: acc.test.mean=0.9007500; time: 0.2 min\n",
      "\n",
      "[Tune-x] 8: k=300\n",
      "\n",
      "[Tune-y] 8: acc.test.mean=0.9003000; time: 0.2 min\n",
      "\n",
      "[Tune] Result: k=100 : acc.test.mean=0.9011000\n",
      "\n"
     ]
    }
   ],
   "source": [
    "# to find the best k for KNN model\n",
    "# Set up cross-validation\n",
    "rdesc = makeResampleDesc(\"CV\", iters=10)\n",
    "\n",
    "# Define the model\n",
    "lnr_knn <- makeLearner(\"classif.kknn\", predict.type=\"prob\", fix.factors.prediction=T)\n",
    "\n",
    "# Define the task\n",
    "task_logreg <- makeClassifTask(id=\"subscribe\", data=data_reduced, target=\"subscribe\")\n",
    "\n",
    "# Set hyper parameter tuning\n",
    "discrete_ps = makeParamSet(\n",
    "  makeDiscreteParam(\"k\", values = c(1, 5, 10, 20, 50, 100, 200, 300))\n",
    ")\n",
    "ctrl = makeTuneControlGrid()\n",
    "\n",
    "# Run the hyper parameter tuning with k-fold CV\n",
    "res <- tuneParams(lnr_knn, task=task_logreg, resampling=rdesc,\n",
    "  par.set=discrete_ps, control=ctrl, measures=list(mlr::acc))"
   ]
  },
  {
   "cell_type": "code",
   "execution_count": 295,
   "id": "f1aed178",
   "metadata": {},
   "outputs": [],
   "source": [
    "auc_knn <- 0.9011000 #for the value of k=100"
   ]
  },
  {
   "cell_type": "markdown",
   "id": "bc333fdb",
   "metadata": {},
   "source": [
    "- random forest"
   ]
  },
  {
   "cell_type": "code",
   "execution_count": 289,
   "id": "c56d8ca7",
   "metadata": {},
   "outputs": [],
   "source": [
    "#split the data \n",
    "parts = createDataPartition(data_reduced$subscribe, p = .8, list = F)\n",
    "train = data[parts, ]\n",
    "test = data[-parts, ]"
   ]
  },
  {
   "cell_type": "code",
   "execution_count": 290,
   "id": "ea202539",
   "metadata": {},
   "outputs": [
    {
     "name": "stderr",
     "output_type": "stream",
     "text": [
      "Warning message in randomForest.default(m, y, ...):\n",
      "\"The response has five or fewer unique values.  Are you sure you want to do regression?\"\n"
     ]
    },
    {
     "data": {
      "text/plain": [
       "\n",
       "Call:\n",
       " randomForest(formula = subscribe ~ ., data = train, mtry = 6,      importance = T) \n",
       "               Type of random forest: regression\n",
       "                     Number of trees: 500\n",
       "No. of variables tried at each split: 6\n",
       "\n",
       "          Mean of squared residuals: 0.08077844\n",
       "                    % Var explained: 20.4"
      ]
     },
     "metadata": {},
     "output_type": "display_data"
    }
   ],
   "source": [
    "# Fit random forests model\n",
    "set.seed(1)\n",
    "md_rf <- randomForest(subscribe ~ ., data=train, mtry=6, importance=T) \n",
    "md_rf"
   ]
  },
  {
   "cell_type": "code",
   "execution_count": 291,
   "id": "d7e77be8",
   "metadata": {},
   "outputs": [
    {
     "data": {
      "text/html": [
       "0.0736654850817458"
      ],
      "text/latex": [
       "0.0736654850817458"
      ],
      "text/markdown": [
       "0.0736654850817458"
      ],
      "text/plain": [
       "[1] 0.07366549"
      ]
     },
     "metadata": {},
     "output_type": "display_data"
    }
   ],
   "source": [
    "# Make prediction\n",
    "pred_rf <- predict(md_rf, newdata=test)\n",
    "\n",
    "# Evaluation: MSE\n",
    "mean((pred_rf - test$subscribe) ^ 2)"
   ]
  },
  {
   "cell_type": "code",
   "execution_count": 292,
   "id": "413144c4",
   "metadata": {},
   "outputs": [
    {
     "name": "stdout",
     "output_type": "stream",
     "text": [
      "[1] \"AUC of Random Forest = 0.793158903066153\"\n"
     ]
    }
   ],
   "source": [
    "#AUC\n",
    "auc_rforest <- AUC(pred_rf, test$subscribe)\n",
    "print(paste('AUC of Random Forest =',auc_rforest ))\n"
   ]
  },
  {
   "cell_type": "code",
   "execution_count": 293,
   "id": "37fcb14b",
   "metadata": {},
   "outputs": [
    {
     "name": "stderr",
     "output_type": "stream",
     "text": [
      "Resampling: cross-validation\n",
      "\n",
      "Measures:             auc       \n",
      "\n",
      "[Resample] iter 1:    0.7519803 \n",
      "\n",
      "[Resample] iter 2:    0.7570958 \n",
      "\n",
      "[Resample] iter 3:    0.7101961 \n",
      "\n",
      "[Resample] iter 4:    0.6862542 \n",
      "\n",
      "[Resample] iter 5:    0.8138815 \n",
      "\n",
      "[Resample] iter 6:    0.7256944 \n",
      "\n",
      "[Resample] iter 7:    0.7373611 \n",
      "\n",
      "[Resample] iter 8:    0.8563429 \n",
      "\n",
      "[Resample] iter 9:    0.7307988 \n",
      "\n",
      "[Resample] iter 10:   0.7730287 \n",
      "\n",
      "[Resample] iter 11:   0.8241554 \n",
      "\n",
      "[Resample] iter 12:   0.7534167 \n",
      "\n",
      "[Resample] iter 13:   0.7905983 \n",
      "\n",
      "[Resample] iter 14:   0.8314394 \n",
      "\n",
      "[Resample] iter 15:   0.7368981 \n",
      "\n",
      "[Resample] iter 16:   0.7690286 \n",
      "\n",
      "[Resample] iter 17:   0.7369013 \n",
      "\n",
      "[Resample] iter 18:   0.7393162 \n",
      "\n",
      "[Resample] iter 19:   0.7786645 \n",
      "\n",
      "[Resample] iter 20:   0.8238893 \n",
      "\n",
      "[Resample] iter 21:   0.7568058 \n",
      "\n",
      "[Resample] iter 22:   0.8028571 \n",
      "\n",
      "[Resample] iter 23:   0.8149020 \n",
      "\n",
      "[Resample] iter 24:   0.8455497 \n",
      "\n",
      "[Resample] iter 25:   0.7763042 \n",
      "\n",
      "[Resample] iter 26:   0.8623596 \n",
      "\n",
      "[Resample] iter 27:   0.7547429 \n",
      "\n",
      "[Resample] iter 28:   0.8355812 \n",
      "\n",
      "[Resample] iter 29:   0.8615164 \n",
      "\n",
      "[Resample] iter 30:   0.7675189 \n",
      "\n",
      "[Resample] iter 31:   0.8117714 \n",
      "\n",
      "[Resample] iter 32:   0.6965606 \n",
      "\n",
      "[Resample] iter 33:   0.6279169 \n",
      "\n",
      "[Resample] iter 34:   0.7759193 \n",
      "\n",
      "[Resample] iter 35:   0.8470892 \n",
      "\n",
      "[Resample] iter 36:   0.7457434 \n",
      "\n",
      "[Resample] iter 37:   0.7616004 \n",
      "\n",
      "[Resample] iter 38:   0.6878192 \n",
      "\n",
      "[Resample] iter 39:   0.8225806 \n",
      "\n",
      "[Resample] iter 40:   0.7364059 \n",
      "\n",
      "[Resample] iter 41:   0.7334722 \n",
      "\n",
      "[Resample] iter 42:   0.5823611 \n",
      "\n",
      "[Resample] iter 43:   0.6827566 \n",
      "\n",
      "[Resample] iter 44:   0.7311111 \n",
      "\n",
      "[Resample] iter 45:   0.7696496 \n",
      "\n",
      "[Resample] iter 46:   0.7742857 \n",
      "\n",
      "[Resample] iter 47:   0.8380343 \n",
      "\n",
      "[Resample] iter 48:   0.7582860 \n",
      "\n",
      "[Resample] iter 49:   0.7166857 \n",
      "\n",
      "[Resample] iter 50:   0.8610286 \n",
      "\n",
      "[Resample] iter 51:   0.7943056 \n",
      "\n",
      "[Resample] iter 52:   0.7015628 \n",
      "\n",
      "[Resample] iter 53:   0.8070735 \n",
      "\n",
      "[Resample] iter 54:   0.8414394 \n",
      "\n",
      "[Resample] iter 55:   0.7774725 \n",
      "\n",
      "[Resample] iter 56:   0.8198497 \n",
      "\n",
      "[Resample] iter 57:   0.8212291 \n",
      "\n",
      "[Resample] iter 58:   0.7627778 \n",
      "\n",
      "[Resample] iter 59:   0.6852125 \n",
      "\n",
      "[Resample] iter 60:   0.7390857 \n",
      "\n",
      "[Resample] iter 61:   0.8036001 \n",
      "\n",
      "[Resample] iter 62:   0.8042646 \n",
      "\n",
      "[Resample] iter 63:   0.7429792 \n",
      "\n",
      "[Resample] iter 64:   0.6602778 \n",
      "\n",
      "[Resample] iter 65:   0.6418189 \n",
      "\n",
      "[Resample] iter 66:   0.7113731 \n",
      "\n",
      "[Resample] iter 67:   0.8093501 \n",
      "\n",
      "[Resample] iter 68:   0.7512248 \n",
      "\n",
      "[Resample] iter 69:   0.7552083 \n",
      "\n",
      "[Resample] iter 70:   0.8191168 \n",
      "\n",
      "[Resample] iter 71:   0.7070991 \n",
      "\n",
      "[Resample] iter 72:   0.6754286 \n",
      "\n",
      "[Resample] iter 73:   0.8454376 \n",
      "\n",
      "[Resample] iter 74:   0.8646409 \n",
      "\n",
      "[Resample] iter 75:   0.9114468 \n",
      "\n",
      "[Resample] iter 76:   0.6380208 \n",
      "\n",
      "[Resample] iter 77:   0.8113860 \n",
      "\n",
      "[Resample] iter 78:   0.7982964 \n",
      "\n",
      "[Resample] iter 79:   0.8911111 \n",
      "\n",
      "[Resample] iter 80:   0.7026155 \n",
      "\n",
      "[Resample] iter 81:   0.7440432 \n",
      "\n",
      "[Resample] iter 82:   0.7745098 \n",
      "\n",
      "[Resample] iter 83:   0.7779415 \n",
      "\n",
      "[Resample] iter 84:   0.6859612 \n",
      "\n",
      "[Resample] iter 85:   0.8469101 \n",
      "\n",
      "[Resample] iter 86:   0.7783784 \n",
      "\n",
      "[Resample] iter 87:   0.7711951 \n",
      "\n",
      "[Resample] iter 88:   0.8724920 \n",
      "\n",
      "[Resample] iter 89:   0.7601878 \n",
      "\n",
      "[Resample] iter 90:   0.8451389 \n",
      "\n",
      "[Resample] iter 91:   0.7168700 \n",
      "\n",
      "[Resample] iter 92:   0.7709096 \n",
      "\n",
      "[Resample] iter 93:   0.7461312 \n",
      "\n",
      "[Resample] iter 94:   0.8382461 \n",
      "\n",
      "[Resample] iter 95:   0.8026283 \n",
      "\n",
      "[Resample] iter 96:   0.9596396 \n",
      "\n",
      "[Resample] iter 97:   0.8563179 \n",
      "\n",
      "[Resample] iter 98:   0.6624000 \n",
      "\n",
      "[Resample] iter 99:   0.8199751 \n",
      "\n",
      "[Resample] iter 100:  0.6504000 \n",
      "\n",
      "\n",
      "\n",
      "\n",
      "Aggregated Result: auc.test.mean=0.7714114\n",
      "\n",
      "\n",
      "\n",
      "\n"
     ]
    },
    {
     "data": {
      "text/plain": [
       "Resample Result\n",
       "Task: data_reduced\n",
       "Learner: classif.randomForest\n",
       "Aggr perf: auc.test.mean=0.7714114\n",
       "Runtime: 1105.82"
      ]
     },
     "metadata": {},
     "output_type": "display_data"
    }
   ],
   "source": [
    "# Set up cross-validation\n",
    "rdesc = makeResampleDesc(\"CV\", iters=100)\n",
    "\n",
    "# Define the model\n",
    "lnr_logreg <- makeLearner(\"classif.randomForest\", predict.type=\"prob\", fix.factors.prediction=T)\n",
    "\n",
    "# Define the model\n",
    "task_logreg <- makeClassifTask( data=data_reduced, target='subscribe')\n",
    "\n",
    "# Run the k-fold CV\n",
    "resample(lnr_logreg, task_logreg, rdesc, measures=list(mlr::auc))"
   ]
  },
  {
   "cell_type": "code",
   "execution_count": 294,
   "id": "fcb76da4",
   "metadata": {
    "scrolled": true
   },
   "outputs": [
    {
     "name": "stderr",
     "output_type": "stream",
     "text": [
      "Resampling: cross-validation\n",
      "\n",
      "Measures:             auc       \n",
      "\n",
      "[Resample] iter 1:    0.7726876 \n",
      "\n",
      "[Resample] iter 2:    0.7867837 \n",
      "\n",
      "[Resample] iter 3:    0.7681209 \n",
      "\n",
      "[Resample] iter 4:    0.8140111 \n",
      "\n",
      "[Resample] iter 5:    0.7667272 \n",
      "\n",
      "[Resample] iter 6:    0.7604788 \n",
      "\n",
      "[Resample] iter 7:    0.7462352 \n",
      "\n",
      "[Resample] iter 8:    0.7595831 \n",
      "\n",
      "[Resample] iter 9:    0.7728304 \n",
      "\n",
      "[Resample] iter 10:   0.7454116 \n",
      "\n",
      "\n",
      "\n",
      "\n",
      "Aggregated Result: auc.test.mean=0.7692870\n",
      "\n",
      "\n",
      "\n",
      "\n"
     ]
    },
    {
     "data": {
      "text/plain": [
       "Resample Result\n",
       "Task: data_reduced\n",
       "Learner: classif.randomForest\n",
       "Aggr perf: auc.test.mean=0.7692870\n",
       "Runtime: 108.035"
      ]
     },
     "metadata": {},
     "output_type": "display_data"
    }
   ],
   "source": [
    "# Set up cross-validation\n",
    "rdesc = makeResampleDesc(\"CV\", iters=10)\n",
    "\n",
    "# Define the model\n",
    "lnr_logreg <- makeLearner(\"classif.randomForest\", predict.type=\"prob\", fix.factors.prediction=T)\n",
    "\n",
    "# Define the model\n",
    "task_logreg <- makeClassifTask( data=data_reduced, target='subscribe')\n",
    "\n",
    "# Run the k-fold CV\n",
    "resample(lnr_logreg, task_logreg, rdesc, measures=list(mlr::auc))"
   ]
  },
  {
   "cell_type": "code",
   "execution_count": 306,
   "id": "5cd883a3",
   "metadata": {},
   "outputs": [
    {
     "name": "stdout",
     "output_type": "stream",
     "text": [
      "[1] \"AUC of Logistic Regression = 0.7842233\"\n",
      "[1] \"AUC of Decision Tree = 0.744511811721982\"\n",
      "[1] \"AUC of Random Forest = 0.793158903066153\"\n",
      "[1] \"AUC of KNN = 0.9011\"\n",
      "[1] \"AUC of SVM = 0.686186820980773\"\n"
     ]
    }
   ],
   "source": [
    "#AUC of all the models \n",
    "print(paste('AUC of Logistic Regression =',auc_logreg ))\n",
    "print(paste('AUC of Decision Tree =',auc_tree ))\n",
    "print(paste('AUC of Random Forest =',auc_rforest ))\n",
    "print(paste('AUC of KNN =',auc_knn ))\n",
    "print(paste('AUC of SVM =',auc_svm ))"
   ]
  },
  {
   "cell_type": "code",
   "execution_count": null,
   "id": "6abb6224",
   "metadata": {},
   "outputs": [],
   "source": []
  }
 ],
 "metadata": {
  "kernelspec": {
   "display_name": "R",
   "language": "R",
   "name": "ir"
  },
  "language_info": {
   "codemirror_mode": "r",
   "file_extension": ".r",
   "mimetype": "text/x-r-source",
   "name": "R",
   "pygments_lexer": "r",
   "version": "4.0.5"
  }
 },
 "nbformat": 4,
 "nbformat_minor": 5
}
